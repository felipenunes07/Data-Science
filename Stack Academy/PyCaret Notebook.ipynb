{
 "cells": [
  {
   "cell_type": "markdown",
   "metadata": {
    "application/vnd.databricks.v1+cell": {
     "cellMetadata": {
      "byteLimit": 2048000,
      "rowLimit": 10000
     },
     "inputWidgets": {},
     "nuid": "1c900521-738a-4c84-8572-e707032ad0ba",
     "showTitle": false,
     "title": ""
    }
   },
   "source": [
    "# PyCaret\n",
    "Objetivo instalação do Pycaret e seguir um Pipeline de Machine Learning passando pelas principais funções para modelagem.\n",
    "\n",
    "  \n",
    "* **Carga dos dados:**  Como importar dados para utilizar o Pycaret.\n",
    "* **Configuração do ambiente:**  Como configurar um experimento no Pycaret e iniciar a construção de modelos de classificação.\n",
    "* **Criação de um modelo:**  Como criar um modelo, realizar cross validation e avaliar as métricas de classificação.\n",
    "* **Otimização do modelo:**  Como automaticamente ajustar os hiperparametros de um modelo de classificação.\n",
    "* **Análise de performance do modelo:**  Como analisar a performance do modelo utilizando gráficos.\n",
    "* **Finalizar o modelo:** Como finalizar o melhor modelo e concluir o experimento.\n",
    "* **Realizar predições:**  Como fazer predições para novos dados.\n",
    "* **Salvar e Carregar o modelo:**  Como Salvar e Carregar o modelo para uso futuro.\n",
    "\n",
    "## 1.1 Instalando o PyCaret\n",
    "\n",
    "#### Instalando o PyCaret em um Jupyter Notebook Local.\n",
    "`pip install pycaret`  <br />\n",
    "\n",
    "#### Instalando o PyCaret utilizando o Google Colab ou Azure Notebooks.\n",
    "`!pip install pycaret`\n",
    "\n",
    "\n",
    "## 1.2 Pré-Requisitos\n",
    "- Python 3.6 ou superior\n",
    "- Conexão com a internet para carregar dados a partir do repositório do Pycaret.\n",
    "\n",
    "## 1.3 No Google colab execute:\n",
    "`from pycaret.utils import enable_colab` <br/>\n",
    "`enable_colab()`"
   ]
  },
  {
   "cell_type": "markdown",
   "metadata": {
    "application/vnd.databricks.v1+cell": {
     "cellMetadata": {
      "byteLimit": 2048000,
      "rowLimit": 10000
     },
     "inputWidgets": {},
     "nuid": "13a458d9-e90a-4869-b8e2-ba263ff0072e",
     "showTitle": false,
     "title": ""
    }
   },
   "source": [
    "#### Instalando o Pycaret."
   ]
  },
  {
   "cell_type": "code",
   "execution_count": null,
   "metadata": {},
   "outputs": [],
   "source": [
    "pip install pycaret"
   ]
  },
  {
   "cell_type": "markdown",
   "metadata": {
    "application/vnd.databricks.v1+cell": {
     "cellMetadata": {
      "byteLimit": 2048000,
      "rowLimit": 10000
     },
     "inputWidgets": {},
     "nuid": "8a5f1eb6-aa86-40fd-a9c0-217ad1dbc161",
     "showTitle": false,
     "title": ""
    }
   },
   "source": [
    "#### Carregando o módulo de classificação e a função para buscar dados."
   ]
  },
  {
   "cell_type": "code",
   "execution_count": 2,
   "metadata": {
    "application/vnd.databricks.v1+cell": {
     "cellMetadata": {
      "byteLimit": 2048000,
      "rowLimit": 10000
     },
     "inputWidgets": {},
     "nuid": "013babdb-da34-44f9-8079-002a4c5c9702",
     "showTitle": false,
     "title": ""
    }
   },
   "outputs": [],
   "source": [
    "from pycaret.classification import *\n",
    "from pycaret.datasets import get_data\n",
    "import pandas as pd"
   ]
  },
  {
   "cell_type": "markdown",
   "metadata": {
    "application/vnd.databricks.v1+cell": {
     "cellMetadata": {
      "byteLimit": 2048000,
      "rowLimit": 10000
     },
     "inputWidgets": {},
     "nuid": "0f0d0ee9-82a2-4c71-9e1d-0f23706cf6b4",
     "showTitle": false,
     "title": ""
    }
   },
   "source": [
    "# Conjunto de dados utilizado."
   ]
  },
  {
   "cell_type": "markdown",
   "metadata": {
    "application/vnd.databricks.v1+cell": {
     "cellMetadata": {
      "byteLimit": 2048000,
      "rowLimit": 10000
     },
     "inputWidgets": {},
     "nuid": "37fd8e82-d5af-45ce-8b43-afed6f180947",
     "showTitle": false,
     "title": ""
    }
   },
   "source": [
    "O dataset **Income** disponível no repositório do Pycaret.\n",
    "\n",
    "Este conjunto de dados contém dados de pessoas e o objetivo é estimar se uma determinada pessoa recebe um salário anual maior que 50 mil ou não. Segue abaixo os atributos do conjunto de dados.\n",
    "\n",
    "- **age**: continuous.\n",
    "- **workclass**: Private, Self-emp-not-inc, Self-emp-inc, Federal-gov, Local-gov, State-gov, Without-pay, Never-worked.\n",
    "- **education**: Bachelors, Some-college, 11th, HS-grad, Prof-school, Assoc-acdm, Assoc-voc, 9th, 7th-8th, 12th, Masters, 1st-4th, 10th, Doctorate, 5th-6th, Preschool.\n",
    "- **education-num**: continuous.\n",
    "- **marital-status**: Married-civ-spouse, Divorced, Never-married, Separated, Widowed, Married-spouse-absent, Married-AF-spouse.\n",
    "- **occupation**: Tech-support, Craft-repair, Other-service, Sales, Exec-managerial, Prof-specialty, Handlers-cleaners, Machine-op-inspct, Adm-clerical, Farming-fishing, Transport-moving, Priv-house-serv, Protective-serv, Armed-Forces.\n",
    "- **relationship**: Wife, Own-child, Husband, Not-in-family, Other-relative, Unmarried.\n",
    "- **race**: White, Asian-Pac-Islander, Amer-Indian-Eskimo, Other, Black.\n",
    "- **sex**: Female, Male.\n",
    "- **capital-gain**: continuous.\n",
    "- **capital-loss**: continuous.\n",
    "- **hours-per-week**: continuous.\n",
    "- **native-country**: United-States, Cambodia, England, Puerto-Rico, Canada, Germany, Outlying-US(Guam-USVI-etc), India, Japan, Greece, South, China, Cuba, Iran, Honduras, Philippines, Italy, Poland, Jamaica, Vietnam, Mexico, Portugal, Ireland, France, Dominican-Republic, Laos, Ecuador, Taiwan, Haiti, Columbia, Hungary, Guatemala, Nicaragua, Scotland, Thailand, Yugoslavia, El-Salvador, Trinadad&Tobago, Peru, Hong, Holand-Netherlands.\n",
    "\n",
    "#### Documentação do Pycaret para os conjuntos de dados.\n",
    "A listagem de conjuntos de dados disponíveis no repositório do Pycaret __[aqui](https://pycaret.org/get-data/)__"
   ]
  },
  {
   "cell_type": "markdown",
   "metadata": {
    "application/vnd.databricks.v1+cell": {
     "cellMetadata": {
      "byteLimit": 2048000,
      "rowLimit": 10000
     },
     "inputWidgets": {},
     "nuid": "d7831840-9a58-4eb7-87a0-1e920053adf8",
     "showTitle": false,
     "title": ""
    }
   },
   "source": [
    "#### Carregando os dados."
   ]
  },
  {
   "cell_type": "code",
   "execution_count": 3,
   "metadata": {
    "application/vnd.databricks.v1+cell": {
     "cellMetadata": {
      "byteLimit": 2048000,
      "rowLimit": 10000
     },
     "inputWidgets": {},
     "nuid": "234ca8dc-0fdb-49cf-a1f9-8145bcb120e9",
     "showTitle": false,
     "title": ""
    }
   },
   "outputs": [
    {
     "data": {
      "text/html": [
       "<div>\n",
       "<style scoped>\n",
       "    .dataframe tbody tr th:only-of-type {\n",
       "        vertical-align: middle;\n",
       "    }\n",
       "\n",
       "    .dataframe tbody tr th {\n",
       "        vertical-align: top;\n",
       "    }\n",
       "\n",
       "    .dataframe thead th {\n",
       "        text-align: right;\n",
       "    }\n",
       "</style>\n",
       "<table border=\"1\" class=\"dataframe\">\n",
       "  <thead>\n",
       "    <tr style=\"text-align: right;\">\n",
       "      <th></th>\n",
       "      <th>age</th>\n",
       "      <th>workclass</th>\n",
       "      <th>education</th>\n",
       "      <th>education-num</th>\n",
       "      <th>marital-status</th>\n",
       "      <th>occupation</th>\n",
       "      <th>relationship</th>\n",
       "      <th>race</th>\n",
       "      <th>sex</th>\n",
       "      <th>capital-gain</th>\n",
       "      <th>capital-loss</th>\n",
       "      <th>hours-per-week</th>\n",
       "      <th>native-country</th>\n",
       "      <th>income &gt;50K</th>\n",
       "    </tr>\n",
       "  </thead>\n",
       "  <tbody>\n",
       "    <tr>\n",
       "      <th>0</th>\n",
       "      <td>39</td>\n",
       "      <td>State-gov</td>\n",
       "      <td>Bachelors</td>\n",
       "      <td>13</td>\n",
       "      <td>Never-married</td>\n",
       "      <td>Adm-clerical</td>\n",
       "      <td>Not-in-family</td>\n",
       "      <td>White</td>\n",
       "      <td>Male</td>\n",
       "      <td>2174</td>\n",
       "      <td>0</td>\n",
       "      <td>40</td>\n",
       "      <td>United-States</td>\n",
       "      <td>0</td>\n",
       "    </tr>\n",
       "    <tr>\n",
       "      <th>1</th>\n",
       "      <td>50</td>\n",
       "      <td>Self-emp-not-inc</td>\n",
       "      <td>Bachelors</td>\n",
       "      <td>13</td>\n",
       "      <td>Married-civ-spouse</td>\n",
       "      <td>Exec-managerial</td>\n",
       "      <td>Husband</td>\n",
       "      <td>White</td>\n",
       "      <td>Male</td>\n",
       "      <td>0</td>\n",
       "      <td>0</td>\n",
       "      <td>13</td>\n",
       "      <td>United-States</td>\n",
       "      <td>0</td>\n",
       "    </tr>\n",
       "    <tr>\n",
       "      <th>2</th>\n",
       "      <td>38</td>\n",
       "      <td>Private</td>\n",
       "      <td>HS-grad</td>\n",
       "      <td>9</td>\n",
       "      <td>Divorced</td>\n",
       "      <td>Handlers-cleaners</td>\n",
       "      <td>Not-in-family</td>\n",
       "      <td>White</td>\n",
       "      <td>Male</td>\n",
       "      <td>0</td>\n",
       "      <td>0</td>\n",
       "      <td>40</td>\n",
       "      <td>United-States</td>\n",
       "      <td>0</td>\n",
       "    </tr>\n",
       "    <tr>\n",
       "      <th>3</th>\n",
       "      <td>53</td>\n",
       "      <td>Private</td>\n",
       "      <td>11th</td>\n",
       "      <td>7</td>\n",
       "      <td>Married-civ-spouse</td>\n",
       "      <td>Handlers-cleaners</td>\n",
       "      <td>Husband</td>\n",
       "      <td>Black</td>\n",
       "      <td>Male</td>\n",
       "      <td>0</td>\n",
       "      <td>0</td>\n",
       "      <td>40</td>\n",
       "      <td>United-States</td>\n",
       "      <td>0</td>\n",
       "    </tr>\n",
       "    <tr>\n",
       "      <th>4</th>\n",
       "      <td>28</td>\n",
       "      <td>Private</td>\n",
       "      <td>Bachelors</td>\n",
       "      <td>13</td>\n",
       "      <td>Married-civ-spouse</td>\n",
       "      <td>Prof-specialty</td>\n",
       "      <td>Wife</td>\n",
       "      <td>Black</td>\n",
       "      <td>Female</td>\n",
       "      <td>0</td>\n",
       "      <td>0</td>\n",
       "      <td>40</td>\n",
       "      <td>Cuba</td>\n",
       "      <td>0</td>\n",
       "    </tr>\n",
       "  </tbody>\n",
       "</table>\n",
       "</div>"
      ],
      "text/plain": [
       "   age         workclass  education  education-num      marital-status  \\\n",
       "0   39         State-gov  Bachelors             13       Never-married   \n",
       "1   50  Self-emp-not-inc  Bachelors             13  Married-civ-spouse   \n",
       "2   38           Private    HS-grad              9            Divorced   \n",
       "3   53           Private       11th              7  Married-civ-spouse   \n",
       "4   28           Private  Bachelors             13  Married-civ-spouse   \n",
       "\n",
       "          occupation   relationship   race     sex  capital-gain  \\\n",
       "0       Adm-clerical  Not-in-family  White    Male          2174   \n",
       "1    Exec-managerial        Husband  White    Male             0   \n",
       "2  Handlers-cleaners  Not-in-family  White    Male             0   \n",
       "3  Handlers-cleaners        Husband  Black    Male             0   \n",
       "4     Prof-specialty           Wife  Black  Female             0   \n",
       "\n",
       "   capital-loss  hours-per-week native-country  income >50K  \n",
       "0             0              40  United-States            0  \n",
       "1             0              13  United-States            0  \n",
       "2             0              40  United-States            0  \n",
       "3             0              40  United-States            0  \n",
       "4             0              40           Cuba            0  "
      ]
     },
     "metadata": {},
     "output_type": "display_data"
    }
   ],
   "source": [
    "dataset = get_data('income')"
   ]
  },
  {
   "cell_type": "markdown",
   "metadata": {
    "application/vnd.databricks.v1+cell": {
     "cellMetadata": {
      "byteLimit": 2048000,
      "rowLimit": 10000
     },
     "inputWidgets": {},
     "nuid": "fb03a376-d0e8-461e-ba9b-c65c7150201d",
     "showTitle": false,
     "title": ""
    }
   },
   "source": [
    "#### Verificando o objeto."
   ]
  },
  {
   "cell_type": "code",
   "execution_count": 4,
   "metadata": {
    "application/vnd.databricks.v1+cell": {
     "cellMetadata": {
      "byteLimit": 2048000,
      "rowLimit": 10000
     },
     "inputWidgets": {},
     "nuid": "4e0786c9-f9f3-494f-ba02-ac6e8cf1d929",
     "showTitle": false,
     "title": ""
    }
   },
   "outputs": [
    {
     "data": {
      "text/plain": [
       "pandas.core.frame.DataFrame"
      ]
     },
     "execution_count": 4,
     "metadata": {},
     "output_type": "execute_result"
    }
   ],
   "source": [
    "type(dataset)"
   ]
  },
  {
   "cell_type": "markdown",
   "metadata": {
    "application/vnd.databricks.v1+cell": {
     "cellMetadata": {
      "byteLimit": 2048000,
      "rowLimit": 10000
     },
     "inputWidgets": {},
     "nuid": "dad0db0a-dbf5-404d-871c-3caf754a3919",
     "showTitle": false,
     "title": ""
    }
   },
   "source": [
    "#### Verificando a forma dos dados."
   ]
  },
  {
   "cell_type": "code",
   "execution_count": 5,
   "metadata": {
    "application/vnd.databricks.v1+cell": {
     "cellMetadata": {
      "byteLimit": 2048000,
      "rowLimit": 10000
     },
     "inputWidgets": {},
     "nuid": "c1c34f10-f347-44c6-bc88-cfbf22d174f5",
     "showTitle": false,
     "title": ""
    }
   },
   "outputs": [
    {
     "data": {
      "text/plain": [
       "(32561, 14)"
      ]
     },
     "execution_count": 5,
     "metadata": {},
     "output_type": "execute_result"
    }
   ],
   "source": [
    "dataset.shape"
   ]
  },
  {
   "cell_type": "markdown",
   "metadata": {
    "application/vnd.databricks.v1+cell": {
     "cellMetadata": {
      "byteLimit": 2048000,
      "rowLimit": 10000
     },
     "inputWidgets": {},
     "nuid": "d8a08565-4db8-48e6-b1b5-fe07b9008daa",
     "showTitle": false,
     "title": ""
    }
   },
   "source": [
    "#### Verificando as informações dos atributos."
   ]
  },
  {
   "cell_type": "code",
   "execution_count": 6,
   "metadata": {
    "application/vnd.databricks.v1+cell": {
     "cellMetadata": {
      "byteLimit": 2048000,
      "rowLimit": 10000
     },
     "inputWidgets": {},
     "nuid": "25344b8f-273e-4d70-8cd1-ed1c38bbb006",
     "showTitle": false,
     "title": ""
    }
   },
   "outputs": [
    {
     "data": {
      "text/html": [
       "<div>\n",
       "<style scoped>\n",
       "    .dataframe tbody tr th:only-of-type {\n",
       "        vertical-align: middle;\n",
       "    }\n",
       "\n",
       "    .dataframe tbody tr th {\n",
       "        vertical-align: top;\n",
       "    }\n",
       "\n",
       "    .dataframe thead th {\n",
       "        text-align: right;\n",
       "    }\n",
       "</style>\n",
       "<table border=\"1\" class=\"dataframe\">\n",
       "  <thead>\n",
       "    <tr style=\"text-align: right;\">\n",
       "      <th></th>\n",
       "      <th>age</th>\n",
       "      <th>education-num</th>\n",
       "      <th>capital-gain</th>\n",
       "      <th>capital-loss</th>\n",
       "      <th>hours-per-week</th>\n",
       "      <th>income &gt;50K</th>\n",
       "    </tr>\n",
       "  </thead>\n",
       "  <tbody>\n",
       "    <tr>\n",
       "      <th>count</th>\n",
       "      <td>32561.000000</td>\n",
       "      <td>32561.000000</td>\n",
       "      <td>32561.000000</td>\n",
       "      <td>32561.000000</td>\n",
       "      <td>32561.000000</td>\n",
       "      <td>32561.000000</td>\n",
       "    </tr>\n",
       "    <tr>\n",
       "      <th>mean</th>\n",
       "      <td>38.581647</td>\n",
       "      <td>10.080679</td>\n",
       "      <td>1077.648844</td>\n",
       "      <td>87.303830</td>\n",
       "      <td>40.437456</td>\n",
       "      <td>0.240810</td>\n",
       "    </tr>\n",
       "    <tr>\n",
       "      <th>std</th>\n",
       "      <td>13.640433</td>\n",
       "      <td>2.572720</td>\n",
       "      <td>7385.292085</td>\n",
       "      <td>402.960219</td>\n",
       "      <td>12.347429</td>\n",
       "      <td>0.427581</td>\n",
       "    </tr>\n",
       "    <tr>\n",
       "      <th>min</th>\n",
       "      <td>17.000000</td>\n",
       "      <td>1.000000</td>\n",
       "      <td>0.000000</td>\n",
       "      <td>0.000000</td>\n",
       "      <td>1.000000</td>\n",
       "      <td>0.000000</td>\n",
       "    </tr>\n",
       "    <tr>\n",
       "      <th>25%</th>\n",
       "      <td>28.000000</td>\n",
       "      <td>9.000000</td>\n",
       "      <td>0.000000</td>\n",
       "      <td>0.000000</td>\n",
       "      <td>40.000000</td>\n",
       "      <td>0.000000</td>\n",
       "    </tr>\n",
       "    <tr>\n",
       "      <th>50%</th>\n",
       "      <td>37.000000</td>\n",
       "      <td>10.000000</td>\n",
       "      <td>0.000000</td>\n",
       "      <td>0.000000</td>\n",
       "      <td>40.000000</td>\n",
       "      <td>0.000000</td>\n",
       "    </tr>\n",
       "    <tr>\n",
       "      <th>75%</th>\n",
       "      <td>48.000000</td>\n",
       "      <td>12.000000</td>\n",
       "      <td>0.000000</td>\n",
       "      <td>0.000000</td>\n",
       "      <td>45.000000</td>\n",
       "      <td>0.000000</td>\n",
       "    </tr>\n",
       "    <tr>\n",
       "      <th>max</th>\n",
       "      <td>90.000000</td>\n",
       "      <td>16.000000</td>\n",
       "      <td>99999.000000</td>\n",
       "      <td>4356.000000</td>\n",
       "      <td>99.000000</td>\n",
       "      <td>1.000000</td>\n",
       "    </tr>\n",
       "  </tbody>\n",
       "</table>\n",
       "</div>"
      ],
      "text/plain": [
       "                age  education-num  capital-gain  capital-loss  \\\n",
       "count  32561.000000   32561.000000  32561.000000  32561.000000   \n",
       "mean      38.581647      10.080679   1077.648844     87.303830   \n",
       "std       13.640433       2.572720   7385.292085    402.960219   \n",
       "min       17.000000       1.000000      0.000000      0.000000   \n",
       "25%       28.000000       9.000000      0.000000      0.000000   \n",
       "50%       37.000000      10.000000      0.000000      0.000000   \n",
       "75%       48.000000      12.000000      0.000000      0.000000   \n",
       "max       90.000000      16.000000  99999.000000   4356.000000   \n",
       "\n",
       "       hours-per-week   income >50K  \n",
       "count    32561.000000  32561.000000  \n",
       "mean        40.437456      0.240810  \n",
       "std         12.347429      0.427581  \n",
       "min          1.000000      0.000000  \n",
       "25%         40.000000      0.000000  \n",
       "50%         40.000000      0.000000  \n",
       "75%         45.000000      0.000000  \n",
       "max         99.000000      1.000000  "
      ]
     },
     "execution_count": 6,
     "metadata": {},
     "output_type": "execute_result"
    }
   ],
   "source": [
    "dataset.describe()"
   ]
  },
  {
   "cell_type": "code",
   "execution_count": 7,
   "metadata": {
    "application/vnd.databricks.v1+cell": {
     "cellMetadata": {
      "byteLimit": 2048000,
      "rowLimit": 10000
     },
     "inputWidgets": {},
     "nuid": "a5b2adab-d118-4fd7-a807-02be705da1df",
     "showTitle": false,
     "title": ""
    }
   },
   "outputs": [
    {
     "data": {
      "text/html": [
       "<div>\n",
       "<style scoped>\n",
       "    .dataframe tbody tr th:only-of-type {\n",
       "        vertical-align: middle;\n",
       "    }\n",
       "\n",
       "    .dataframe tbody tr th {\n",
       "        vertical-align: top;\n",
       "    }\n",
       "\n",
       "    .dataframe thead th {\n",
       "        text-align: right;\n",
       "    }\n",
       "</style>\n",
       "<table border=\"1\" class=\"dataframe\">\n",
       "  <thead>\n",
       "    <tr style=\"text-align: right;\">\n",
       "      <th></th>\n",
       "      <th>age</th>\n",
       "      <th>workclass</th>\n",
       "      <th>education</th>\n",
       "      <th>education-num</th>\n",
       "      <th>marital-status</th>\n",
       "      <th>occupation</th>\n",
       "      <th>relationship</th>\n",
       "      <th>race</th>\n",
       "      <th>sex</th>\n",
       "      <th>capital-gain</th>\n",
       "      <th>capital-loss</th>\n",
       "      <th>hours-per-week</th>\n",
       "      <th>native-country</th>\n",
       "      <th>income &gt;50K</th>\n",
       "    </tr>\n",
       "  </thead>\n",
       "  <tbody>\n",
       "    <tr>\n",
       "      <th>count</th>\n",
       "      <td>32561.000000</td>\n",
       "      <td>30725</td>\n",
       "      <td>32561</td>\n",
       "      <td>32561.000000</td>\n",
       "      <td>32561</td>\n",
       "      <td>30718</td>\n",
       "      <td>32561</td>\n",
       "      <td>32561</td>\n",
       "      <td>32561</td>\n",
       "      <td>32561.000000</td>\n",
       "      <td>32561.000000</td>\n",
       "      <td>32561.000000</td>\n",
       "      <td>31978</td>\n",
       "      <td>32561.000000</td>\n",
       "    </tr>\n",
       "    <tr>\n",
       "      <th>unique</th>\n",
       "      <td>NaN</td>\n",
       "      <td>8</td>\n",
       "      <td>16</td>\n",
       "      <td>NaN</td>\n",
       "      <td>7</td>\n",
       "      <td>14</td>\n",
       "      <td>6</td>\n",
       "      <td>5</td>\n",
       "      <td>2</td>\n",
       "      <td>NaN</td>\n",
       "      <td>NaN</td>\n",
       "      <td>NaN</td>\n",
       "      <td>41</td>\n",
       "      <td>NaN</td>\n",
       "    </tr>\n",
       "    <tr>\n",
       "      <th>top</th>\n",
       "      <td>NaN</td>\n",
       "      <td>Private</td>\n",
       "      <td>HS-grad</td>\n",
       "      <td>NaN</td>\n",
       "      <td>Married-civ-spouse</td>\n",
       "      <td>Prof-specialty</td>\n",
       "      <td>Husband</td>\n",
       "      <td>White</td>\n",
       "      <td>Male</td>\n",
       "      <td>NaN</td>\n",
       "      <td>NaN</td>\n",
       "      <td>NaN</td>\n",
       "      <td>United-States</td>\n",
       "      <td>NaN</td>\n",
       "    </tr>\n",
       "    <tr>\n",
       "      <th>freq</th>\n",
       "      <td>NaN</td>\n",
       "      <td>22696</td>\n",
       "      <td>10501</td>\n",
       "      <td>NaN</td>\n",
       "      <td>14976</td>\n",
       "      <td>4140</td>\n",
       "      <td>13193</td>\n",
       "      <td>27816</td>\n",
       "      <td>21790</td>\n",
       "      <td>NaN</td>\n",
       "      <td>NaN</td>\n",
       "      <td>NaN</td>\n",
       "      <td>29170</td>\n",
       "      <td>NaN</td>\n",
       "    </tr>\n",
       "    <tr>\n",
       "      <th>mean</th>\n",
       "      <td>38.581647</td>\n",
       "      <td>NaN</td>\n",
       "      <td>NaN</td>\n",
       "      <td>10.080679</td>\n",
       "      <td>NaN</td>\n",
       "      <td>NaN</td>\n",
       "      <td>NaN</td>\n",
       "      <td>NaN</td>\n",
       "      <td>NaN</td>\n",
       "      <td>1077.648844</td>\n",
       "      <td>87.303830</td>\n",
       "      <td>40.437456</td>\n",
       "      <td>NaN</td>\n",
       "      <td>0.240810</td>\n",
       "    </tr>\n",
       "    <tr>\n",
       "      <th>std</th>\n",
       "      <td>13.640433</td>\n",
       "      <td>NaN</td>\n",
       "      <td>NaN</td>\n",
       "      <td>2.572720</td>\n",
       "      <td>NaN</td>\n",
       "      <td>NaN</td>\n",
       "      <td>NaN</td>\n",
       "      <td>NaN</td>\n",
       "      <td>NaN</td>\n",
       "      <td>7385.292085</td>\n",
       "      <td>402.960219</td>\n",
       "      <td>12.347429</td>\n",
       "      <td>NaN</td>\n",
       "      <td>0.427581</td>\n",
       "    </tr>\n",
       "    <tr>\n",
       "      <th>min</th>\n",
       "      <td>17.000000</td>\n",
       "      <td>NaN</td>\n",
       "      <td>NaN</td>\n",
       "      <td>1.000000</td>\n",
       "      <td>NaN</td>\n",
       "      <td>NaN</td>\n",
       "      <td>NaN</td>\n",
       "      <td>NaN</td>\n",
       "      <td>NaN</td>\n",
       "      <td>0.000000</td>\n",
       "      <td>0.000000</td>\n",
       "      <td>1.000000</td>\n",
       "      <td>NaN</td>\n",
       "      <td>0.000000</td>\n",
       "    </tr>\n",
       "    <tr>\n",
       "      <th>25%</th>\n",
       "      <td>28.000000</td>\n",
       "      <td>NaN</td>\n",
       "      <td>NaN</td>\n",
       "      <td>9.000000</td>\n",
       "      <td>NaN</td>\n",
       "      <td>NaN</td>\n",
       "      <td>NaN</td>\n",
       "      <td>NaN</td>\n",
       "      <td>NaN</td>\n",
       "      <td>0.000000</td>\n",
       "      <td>0.000000</td>\n",
       "      <td>40.000000</td>\n",
       "      <td>NaN</td>\n",
       "      <td>0.000000</td>\n",
       "    </tr>\n",
       "    <tr>\n",
       "      <th>50%</th>\n",
       "      <td>37.000000</td>\n",
       "      <td>NaN</td>\n",
       "      <td>NaN</td>\n",
       "      <td>10.000000</td>\n",
       "      <td>NaN</td>\n",
       "      <td>NaN</td>\n",
       "      <td>NaN</td>\n",
       "      <td>NaN</td>\n",
       "      <td>NaN</td>\n",
       "      <td>0.000000</td>\n",
       "      <td>0.000000</td>\n",
       "      <td>40.000000</td>\n",
       "      <td>NaN</td>\n",
       "      <td>0.000000</td>\n",
       "    </tr>\n",
       "    <tr>\n",
       "      <th>75%</th>\n",
       "      <td>48.000000</td>\n",
       "      <td>NaN</td>\n",
       "      <td>NaN</td>\n",
       "      <td>12.000000</td>\n",
       "      <td>NaN</td>\n",
       "      <td>NaN</td>\n",
       "      <td>NaN</td>\n",
       "      <td>NaN</td>\n",
       "      <td>NaN</td>\n",
       "      <td>0.000000</td>\n",
       "      <td>0.000000</td>\n",
       "      <td>45.000000</td>\n",
       "      <td>NaN</td>\n",
       "      <td>0.000000</td>\n",
       "    </tr>\n",
       "    <tr>\n",
       "      <th>max</th>\n",
       "      <td>90.000000</td>\n",
       "      <td>NaN</td>\n",
       "      <td>NaN</td>\n",
       "      <td>16.000000</td>\n",
       "      <td>NaN</td>\n",
       "      <td>NaN</td>\n",
       "      <td>NaN</td>\n",
       "      <td>NaN</td>\n",
       "      <td>NaN</td>\n",
       "      <td>99999.000000</td>\n",
       "      <td>4356.000000</td>\n",
       "      <td>99.000000</td>\n",
       "      <td>NaN</td>\n",
       "      <td>1.000000</td>\n",
       "    </tr>\n",
       "  </tbody>\n",
       "</table>\n",
       "</div>"
      ],
      "text/plain": [
       "                 age workclass education  education-num      marital-status  \\\n",
       "count   32561.000000     30725     32561   32561.000000               32561   \n",
       "unique           NaN         8        16            NaN                   7   \n",
       "top              NaN   Private   HS-grad            NaN  Married-civ-spouse   \n",
       "freq             NaN     22696     10501            NaN               14976   \n",
       "mean       38.581647       NaN       NaN      10.080679                 NaN   \n",
       "std        13.640433       NaN       NaN       2.572720                 NaN   \n",
       "min        17.000000       NaN       NaN       1.000000                 NaN   \n",
       "25%        28.000000       NaN       NaN       9.000000                 NaN   \n",
       "50%        37.000000       NaN       NaN      10.000000                 NaN   \n",
       "75%        48.000000       NaN       NaN      12.000000                 NaN   \n",
       "max        90.000000       NaN       NaN      16.000000                 NaN   \n",
       "\n",
       "            occupation relationship   race    sex  capital-gain  capital-loss  \\\n",
       "count            30718        32561  32561  32561  32561.000000  32561.000000   \n",
       "unique              14            6      5      2           NaN           NaN   \n",
       "top     Prof-specialty      Husband  White   Male           NaN           NaN   \n",
       "freq              4140        13193  27816  21790           NaN           NaN   \n",
       "mean               NaN          NaN    NaN    NaN   1077.648844     87.303830   \n",
       "std                NaN          NaN    NaN    NaN   7385.292085    402.960219   \n",
       "min                NaN          NaN    NaN    NaN      0.000000      0.000000   \n",
       "25%                NaN          NaN    NaN    NaN      0.000000      0.000000   \n",
       "50%                NaN          NaN    NaN    NaN      0.000000      0.000000   \n",
       "75%                NaN          NaN    NaN    NaN      0.000000      0.000000   \n",
       "max                NaN          NaN    NaN    NaN  99999.000000   4356.000000   \n",
       "\n",
       "        hours-per-week native-country   income >50K  \n",
       "count     32561.000000          31978  32561.000000  \n",
       "unique             NaN             41           NaN  \n",
       "top                NaN  United-States           NaN  \n",
       "freq               NaN          29170           NaN  \n",
       "mean         40.437456            NaN      0.240810  \n",
       "std          12.347429            NaN      0.427581  \n",
       "min           1.000000            NaN      0.000000  \n",
       "25%          40.000000            NaN      0.000000  \n",
       "50%          40.000000            NaN      0.000000  \n",
       "75%          45.000000            NaN      0.000000  \n",
       "max          99.000000            NaN      1.000000  "
      ]
     },
     "execution_count": 7,
     "metadata": {},
     "output_type": "execute_result"
    }
   ],
   "source": [
    "dataset.describe(include='all')"
   ]
  },
  {
   "cell_type": "code",
   "execution_count": 8,
   "metadata": {
    "application/vnd.databricks.v1+cell": {
     "cellMetadata": {
      "byteLimit": 2048000,
      "rowLimit": 10000
     },
     "inputWidgets": {},
     "nuid": "8aa3b0e6-8016-4923-939b-b91c1b9edaa0",
     "showTitle": false,
     "title": ""
    }
   },
   "outputs": [
    {
     "name": "stdout",
     "output_type": "stream",
     "text": [
      "<class 'pandas.core.frame.DataFrame'>\n",
      "RangeIndex: 32561 entries, 0 to 32560\n",
      "Data columns (total 14 columns):\n",
      " #   Column          Non-Null Count  Dtype \n",
      "---  ------          --------------  ----- \n",
      " 0   age             32561 non-null  int64 \n",
      " 1   workclass       30725 non-null  object\n",
      " 2   education       32561 non-null  object\n",
      " 3   education-num   32561 non-null  int64 \n",
      " 4   marital-status  32561 non-null  object\n",
      " 5   occupation      30718 non-null  object\n",
      " 6   relationship    32561 non-null  object\n",
      " 7   race            32561 non-null  object\n",
      " 8   sex             32561 non-null  object\n",
      " 9   capital-gain    32561 non-null  int64 \n",
      " 10  capital-loss    32561 non-null  int64 \n",
      " 11  hours-per-week  32561 non-null  int64 \n",
      " 12  native-country  31978 non-null  object\n",
      " 13  income >50K     32561 non-null  int64 \n",
      "dtypes: int64(6), object(8)\n",
      "memory usage: 3.5+ MB\n"
     ]
    }
   ],
   "source": [
    "dataset.info()"
   ]
  },
  {
   "cell_type": "markdown",
   "metadata": {
    "application/vnd.databricks.v1+cell": {
     "cellMetadata": {
      "byteLimit": 2048000,
      "rowLimit": 10000
     },
     "inputWidgets": {},
     "nuid": "16832cce-db20-4257-9e02-70704115a199",
     "showTitle": false,
     "title": ""
    }
   },
   "source": [
    "#### Listando registros missing por atributo."
   ]
  },
  {
   "cell_type": "code",
   "execution_count": 9,
   "metadata": {
    "application/vnd.databricks.v1+cell": {
     "cellMetadata": {
      "byteLimit": 2048000,
      "rowLimit": 10000
     },
     "inputWidgets": {},
     "nuid": "d42591b6-e66e-4658-9dd4-69c86e692f9d",
     "showTitle": false,
     "title": ""
    }
   },
   "outputs": [
    {
     "data": {
      "text/plain": [
       "age                  0\n",
       "workclass         1836\n",
       "education            0\n",
       "education-num        0\n",
       "marital-status       0\n",
       "occupation        1843\n",
       "relationship         0\n",
       "race                 0\n",
       "sex                  0\n",
       "capital-gain         0\n",
       "capital-loss         0\n",
       "hours-per-week       0\n",
       "native-country     583\n",
       "income >50K          0\n",
       "dtype: int64"
      ]
     },
     "execution_count": 9,
     "metadata": {},
     "output_type": "execute_result"
    }
   ],
   "source": [
    "dataset.isnull().sum()"
   ]
  },
  {
   "cell_type": "code",
   "execution_count": 10,
   "metadata": {
    "application/vnd.databricks.v1+cell": {
     "cellMetadata": {
      "byteLimit": 2048000,
      "rowLimit": 10000
     },
     "inputWidgets": {},
     "nuid": "339c82f8-161a-4c14-aec6-7cf822573f41",
     "showTitle": false,
     "title": ""
    }
   },
   "outputs": [
    {
     "data": {
      "text/plain": [
       "age                  0\n",
       "workclass         1836\n",
       "education            0\n",
       "education-num        0\n",
       "marital-status       0\n",
       "occupation        1843\n",
       "relationship         0\n",
       "race                 0\n",
       "sex                  0\n",
       "capital-gain         0\n",
       "capital-loss         0\n",
       "hours-per-week       0\n",
       "native-country     583\n",
       "income >50K          0\n",
       "dtype: int64"
      ]
     },
     "execution_count": 10,
     "metadata": {},
     "output_type": "execute_result"
    }
   ],
   "source": [
    "dataset.isnull().sum()"
   ]
  },
  {
   "cell_type": "markdown",
   "metadata": {
    "application/vnd.databricks.v1+cell": {
     "cellMetadata": {
      "byteLimit": 2048000,
      "rowLimit": 10000
     },
     "inputWidgets": {},
     "nuid": "bd64ded3-b8aa-4f24-ad06-db7251bda16d",
     "showTitle": false,
     "title": ""
    }
   },
   "source": [
    "#### Separando os dados de validação."
   ]
  },
  {
   "cell_type": "markdown",
   "metadata": {
    "application/vnd.databricks.v1+cell": {
     "cellMetadata": {
      "byteLimit": 2048000,
      "rowLimit": 10000
     },
     "inputWidgets": {},
     "nuid": "afdb1907-1f0c-4e67-ba38-693c94cf6188",
     "showTitle": false,
     "title": ""
    }
   },
   "source": [
    "##### Selecionando 95% dos dados dados de forma aleatória."
   ]
  },
  {
   "cell_type": "code",
   "execution_count": 11,
   "metadata": {
    "application/vnd.databricks.v1+cell": {
     "cellMetadata": {
      "byteLimit": 2048000,
      "rowLimit": 10000
     },
     "inputWidgets": {},
     "nuid": "f6587198-030d-4d35-9fbe-688bda417209",
     "showTitle": false,
     "title": ""
    }
   },
   "outputs": [],
   "source": [
    "data = dataset.sample(frac=0.95 , random_state=42)"
   ]
  },
  {
   "cell_type": "markdown",
   "metadata": {
    "application/vnd.databricks.v1+cell": {
     "cellMetadata": {
      "byteLimit": 2048000,
      "rowLimit": 10000
     },
     "inputWidgets": {},
     "nuid": "61043f5e-7b74-4fdf-bc93-69e18108c427",
     "showTitle": false,
     "title": ""
    }
   },
   "source": [
    "##### Atribuindo os 5% restante para o dataframe de validação."
   ]
  },
  {
   "cell_type": "code",
   "execution_count": 12,
   "metadata": {
    "application/vnd.databricks.v1+cell": {
     "cellMetadata": {
      "byteLimit": 2048000,
      "rowLimit": 10000
     },
     "inputWidgets": {},
     "nuid": "545199b9-f0eb-4540-ad54-fc585a317f75",
     "showTitle": false,
     "title": ""
    }
   },
   "outputs": [],
   "source": [
    "data_validation = dataset.drop(data.index)"
   ]
  },
  {
   "cell_type": "markdown",
   "metadata": {
    "application/vnd.databricks.v1+cell": {
     "cellMetadata": {
      "byteLimit": 2048000,
      "rowLimit": 10000
     },
     "inputWidgets": {},
     "nuid": "0edc1af0-4807-4061-83e0-6bd9b9cb8240",
     "showTitle": false,
     "title": ""
    }
   },
   "source": [
    "##### Excluindo os demais registros."
   ]
  },
  {
   "cell_type": "code",
   "execution_count": 13,
   "metadata": {
    "application/vnd.databricks.v1+cell": {
     "cellMetadata": {
      "byteLimit": 2048000,
      "rowLimit": 10000
     },
     "inputWidgets": {},
     "nuid": "437c4979-5654-4d38-9e9a-b22b311688d0",
     "showTitle": false,
     "title": ""
    }
   },
   "outputs": [],
   "source": [
    "data.reset_index(inplace=True, drop=True)\n",
    "data_validation.reset_index(inplace=True, drop=True)"
   ]
  },
  {
   "cell_type": "markdown",
   "metadata": {
    "application/vnd.databricks.v1+cell": {
     "cellMetadata": {
      "byteLimit": 2048000,
      "rowLimit": 10000
     },
     "inputWidgets": {},
     "nuid": "fc3b3e95-ef65-486c-998b-4e97c2b50f17",
     "showTitle": false,
     "title": ""
    }
   },
   "source": [
    "##### Dados utilizados para modelagem e validação."
   ]
  },
  {
   "cell_type": "code",
   "execution_count": 14,
   "metadata": {
    "application/vnd.databricks.v1+cell": {
     "cellMetadata": {
      "byteLimit": 2048000,
      "rowLimit": 10000
     },
     "inputWidgets": {},
     "nuid": "32f83be7-f704-41b2-afcc-d6bdfd8d9fdf",
     "showTitle": false,
     "title": ""
    }
   },
   "outputs": [
    {
     "name": "stdout",
     "output_type": "stream",
     "text": [
      "Dados para modelagem: (30933, 14)\n",
      "Dados reservados para a validação: (1628, 14)\n"
     ]
    }
   ],
   "source": [
    "print('Dados para modelagem: ' + str(data.shape))\n",
    "print('Dados reservados para a validação: ' + str(data_validation.shape))"
   ]
  },
  {
   "cell_type": "markdown",
   "metadata": {
    "application/vnd.databricks.v1+cell": {
     "cellMetadata": {
      "byteLimit": 2048000,
      "rowLimit": 10000
     },
     "inputWidgets": {},
     "nuid": "0cf0936f-4400-4ee4-ba73-418ff2cd925f",
     "showTitle": false,
     "title": ""
    }
   },
   "source": [
    "# Configurando o ambiente com a função Setup."
   ]
  },
  {
   "cell_type": "markdown",
   "metadata": {
    "application/vnd.databricks.v1+cell": {
     "cellMetadata": {
      "byteLimit": 2048000,
      "rowLimit": 10000
     },
     "inputWidgets": {},
     "nuid": "e6e7ba15-c628-42db-bc14-6d55346d1e91",
     "showTitle": false,
     "title": ""
    }
   },
   "source": [
    "Função Setup inicializa o ambiente no Pycaret e cria o pipeline de transformação e prepara os dados para modelagem e deploy."
   ]
  },
  {
   "cell_type": "code",
   "execution_count": 15,
   "metadata": {
    "application/vnd.databricks.v1+cell": {
     "cellMetadata": {
      "byteLimit": 2048000,
      "rowLimit": 10000
     },
     "inputWidgets": {},
     "nuid": "2ef84764-bd78-4386-b326-fa6837f905a2",
     "showTitle": false,
     "title": ""
    }
   },
   "outputs": [
    {
     "data": {
      "text/html": [
       "<style type=\"text/css\">\n",
       "#T_a0353_row11_col1 {\n",
       "  background-color: lightgreen;\n",
       "}\n",
       "</style>\n",
       "<table id=\"T_a0353\">\n",
       "  <thead>\n",
       "    <tr>\n",
       "      <th class=\"blank level0\" >&nbsp;</th>\n",
       "      <th id=\"T_a0353_level0_col0\" class=\"col_heading level0 col0\" >Description</th>\n",
       "      <th id=\"T_a0353_level0_col1\" class=\"col_heading level0 col1\" >Value</th>\n",
       "    </tr>\n",
       "  </thead>\n",
       "  <tbody>\n",
       "    <tr>\n",
       "      <th id=\"T_a0353_level0_row0\" class=\"row_heading level0 row0\" >0</th>\n",
       "      <td id=\"T_a0353_row0_col0\" class=\"data row0 col0\" >Session id</td>\n",
       "      <td id=\"T_a0353_row0_col1\" class=\"data row0 col1\" >123</td>\n",
       "    </tr>\n",
       "    <tr>\n",
       "      <th id=\"T_a0353_level0_row1\" class=\"row_heading level0 row1\" >1</th>\n",
       "      <td id=\"T_a0353_row1_col0\" class=\"data row1 col0\" >Target</td>\n",
       "      <td id=\"T_a0353_row1_col1\" class=\"data row1 col1\" >income >50K</td>\n",
       "    </tr>\n",
       "    <tr>\n",
       "      <th id=\"T_a0353_level0_row2\" class=\"row_heading level0 row2\" >2</th>\n",
       "      <td id=\"T_a0353_row2_col0\" class=\"data row2 col0\" >Target type</td>\n",
       "      <td id=\"T_a0353_row2_col1\" class=\"data row2 col1\" >Binary</td>\n",
       "    </tr>\n",
       "    <tr>\n",
       "      <th id=\"T_a0353_level0_row3\" class=\"row_heading level0 row3\" >3</th>\n",
       "      <td id=\"T_a0353_row3_col0\" class=\"data row3 col0\" >Original data shape</td>\n",
       "      <td id=\"T_a0353_row3_col1\" class=\"data row3 col1\" >(30933, 14)</td>\n",
       "    </tr>\n",
       "    <tr>\n",
       "      <th id=\"T_a0353_level0_row4\" class=\"row_heading level0 row4\" >4</th>\n",
       "      <td id=\"T_a0353_row4_col0\" class=\"data row4 col0\" >Transformed data shape</td>\n",
       "      <td id=\"T_a0353_row4_col1\" class=\"data row4 col1\" >(30933, 64)</td>\n",
       "    </tr>\n",
       "    <tr>\n",
       "      <th id=\"T_a0353_level0_row5\" class=\"row_heading level0 row5\" >5</th>\n",
       "      <td id=\"T_a0353_row5_col0\" class=\"data row5 col0\" >Transformed train set shape</td>\n",
       "      <td id=\"T_a0353_row5_col1\" class=\"data row5 col1\" >(21653, 64)</td>\n",
       "    </tr>\n",
       "    <tr>\n",
       "      <th id=\"T_a0353_level0_row6\" class=\"row_heading level0 row6\" >6</th>\n",
       "      <td id=\"T_a0353_row6_col0\" class=\"data row6 col0\" >Transformed test set shape</td>\n",
       "      <td id=\"T_a0353_row6_col1\" class=\"data row6 col1\" >(9280, 64)</td>\n",
       "    </tr>\n",
       "    <tr>\n",
       "      <th id=\"T_a0353_level0_row7\" class=\"row_heading level0 row7\" >7</th>\n",
       "      <td id=\"T_a0353_row7_col0\" class=\"data row7 col0\" >Ordinal features</td>\n",
       "      <td id=\"T_a0353_row7_col1\" class=\"data row7 col1\" >1</td>\n",
       "    </tr>\n",
       "    <tr>\n",
       "      <th id=\"T_a0353_level0_row8\" class=\"row_heading level0 row8\" >8</th>\n",
       "      <td id=\"T_a0353_row8_col0\" class=\"data row8 col0\" >Numeric features</td>\n",
       "      <td id=\"T_a0353_row8_col1\" class=\"data row8 col1\" >5</td>\n",
       "    </tr>\n",
       "    <tr>\n",
       "      <th id=\"T_a0353_level0_row9\" class=\"row_heading level0 row9\" >9</th>\n",
       "      <td id=\"T_a0353_row9_col0\" class=\"data row9 col0\" >Categorical features</td>\n",
       "      <td id=\"T_a0353_row9_col1\" class=\"data row9 col1\" >8</td>\n",
       "    </tr>\n",
       "    <tr>\n",
       "      <th id=\"T_a0353_level0_row10\" class=\"row_heading level0 row10\" >10</th>\n",
       "      <td id=\"T_a0353_row10_col0\" class=\"data row10 col0\" >Rows with missing values</td>\n",
       "      <td id=\"T_a0353_row10_col1\" class=\"data row10 col1\" >7.4%</td>\n",
       "    </tr>\n",
       "    <tr>\n",
       "      <th id=\"T_a0353_level0_row11\" class=\"row_heading level0 row11\" >11</th>\n",
       "      <td id=\"T_a0353_row11_col0\" class=\"data row11 col0\" >Preprocess</td>\n",
       "      <td id=\"T_a0353_row11_col1\" class=\"data row11 col1\" >True</td>\n",
       "    </tr>\n",
       "    <tr>\n",
       "      <th id=\"T_a0353_level0_row12\" class=\"row_heading level0 row12\" >12</th>\n",
       "      <td id=\"T_a0353_row12_col0\" class=\"data row12 col0\" >Imputation type</td>\n",
       "      <td id=\"T_a0353_row12_col1\" class=\"data row12 col1\" >simple</td>\n",
       "    </tr>\n",
       "    <tr>\n",
       "      <th id=\"T_a0353_level0_row13\" class=\"row_heading level0 row13\" >13</th>\n",
       "      <td id=\"T_a0353_row13_col0\" class=\"data row13 col0\" >Numeric imputation</td>\n",
       "      <td id=\"T_a0353_row13_col1\" class=\"data row13 col1\" >mean</td>\n",
       "    </tr>\n",
       "    <tr>\n",
       "      <th id=\"T_a0353_level0_row14\" class=\"row_heading level0 row14\" >14</th>\n",
       "      <td id=\"T_a0353_row14_col0\" class=\"data row14 col0\" >Categorical imputation</td>\n",
       "      <td id=\"T_a0353_row14_col1\" class=\"data row14 col1\" >mode</td>\n",
       "    </tr>\n",
       "    <tr>\n",
       "      <th id=\"T_a0353_level0_row15\" class=\"row_heading level0 row15\" >15</th>\n",
       "      <td id=\"T_a0353_row15_col0\" class=\"data row15 col0\" >Maximum one-hot encoding</td>\n",
       "      <td id=\"T_a0353_row15_col1\" class=\"data row15 col1\" >25</td>\n",
       "    </tr>\n",
       "    <tr>\n",
       "      <th id=\"T_a0353_level0_row16\" class=\"row_heading level0 row16\" >16</th>\n",
       "      <td id=\"T_a0353_row16_col0\" class=\"data row16 col0\" >Encoding method</td>\n",
       "      <td id=\"T_a0353_row16_col1\" class=\"data row16 col1\" >None</td>\n",
       "    </tr>\n",
       "    <tr>\n",
       "      <th id=\"T_a0353_level0_row17\" class=\"row_heading level0 row17\" >17</th>\n",
       "      <td id=\"T_a0353_row17_col0\" class=\"data row17 col0\" >Fold Generator</td>\n",
       "      <td id=\"T_a0353_row17_col1\" class=\"data row17 col1\" >StratifiedKFold</td>\n",
       "    </tr>\n",
       "    <tr>\n",
       "      <th id=\"T_a0353_level0_row18\" class=\"row_heading level0 row18\" >18</th>\n",
       "      <td id=\"T_a0353_row18_col0\" class=\"data row18 col0\" >Fold Number</td>\n",
       "      <td id=\"T_a0353_row18_col1\" class=\"data row18 col1\" >10</td>\n",
       "    </tr>\n",
       "    <tr>\n",
       "      <th id=\"T_a0353_level0_row19\" class=\"row_heading level0 row19\" >19</th>\n",
       "      <td id=\"T_a0353_row19_col0\" class=\"data row19 col0\" >CPU Jobs</td>\n",
       "      <td id=\"T_a0353_row19_col1\" class=\"data row19 col1\" >-1</td>\n",
       "    </tr>\n",
       "    <tr>\n",
       "      <th id=\"T_a0353_level0_row20\" class=\"row_heading level0 row20\" >20</th>\n",
       "      <td id=\"T_a0353_row20_col0\" class=\"data row20 col0\" >Use GPU</td>\n",
       "      <td id=\"T_a0353_row20_col1\" class=\"data row20 col1\" >False</td>\n",
       "    </tr>\n",
       "    <tr>\n",
       "      <th id=\"T_a0353_level0_row21\" class=\"row_heading level0 row21\" >21</th>\n",
       "      <td id=\"T_a0353_row21_col0\" class=\"data row21 col0\" >Log Experiment</td>\n",
       "      <td id=\"T_a0353_row21_col1\" class=\"data row21 col1\" >False</td>\n",
       "    </tr>\n",
       "    <tr>\n",
       "      <th id=\"T_a0353_level0_row22\" class=\"row_heading level0 row22\" >22</th>\n",
       "      <td id=\"T_a0353_row22_col0\" class=\"data row22 col0\" >Experiment Name</td>\n",
       "      <td id=\"T_a0353_row22_col1\" class=\"data row22 col1\" >clf-default-name</td>\n",
       "    </tr>\n",
       "    <tr>\n",
       "      <th id=\"T_a0353_level0_row23\" class=\"row_heading level0 row23\" >23</th>\n",
       "      <td id=\"T_a0353_row23_col0\" class=\"data row23 col0\" >USI</td>\n",
       "      <td id=\"T_a0353_row23_col1\" class=\"data row23 col1\" >81dd</td>\n",
       "    </tr>\n",
       "  </tbody>\n",
       "</table>\n"
      ],
      "text/plain": [
       "<pandas.io.formats.style.Styler at 0x232a1a10f10>"
      ]
     },
     "metadata": {},
     "output_type": "display_data"
    }
   ],
   "source": [
    "exp_clf01 = setup(data = data, target = 'income >50K', session_id=123)"
   ]
  },
  {
   "cell_type": "markdown",
   "metadata": {
    "application/vnd.databricks.v1+cell": {
     "cellMetadata": {
      "byteLimit": 2048000,
      "rowLimit": 10000
     },
     "inputWidgets": {},
     "nuid": "99979468-e6b4-4e07-a8f4-47d4521829dc",
     "showTitle": false,
     "title": ""
    }
   },
   "source": [
    "Analisando os parametros do experimento criado.\n",
    "\n",
    "- **session_id :**  Um número aleatório que é passado a todas as funções para garantir a reproducibilidade. Se não especificar o número é passado um padrão.<br/>\n",
    "<br/>\n",
    "- **Target Type :**  Binary ou Multiclass. O tipo do atributo alvo é automaticamente detectado.<br/>\n",
    "<br/>\n",
    "- **Label Encoded :**  Se o atributo alvo é categorico os valores são codificados utilizando o Label Encoded e é exibido esse mapeamento.<br/>\n",
    "<br/>\n",
    "- **Original Data :**  Exibe o shape do dataset original. <br/>\n",
    "<br/>\n",
    "- **Missing Values :**  Indica se existe Registros Missing. \n",
    "<br/>\n",
    "<br/>\n",
    "- **Numeric Features :**  O númerio de features inferidas como numéric. <br/>\n",
    "<br/>\n",
    "- **Categorical Features :**  O númerio de features inferidas como categoricas. <br/>\n",
    "<br/>\n",
    "- **Transformed Train Set :**  Exibe o shape do conjunto de treino transformado. Detalhe para o número de features.<br/>\n",
    "<br/>\n",
    "- **Transformed Test Set :**  Exibe o shape do conjunto de teste transformado. A divisão de quantidade de dados para treino e teste é 70/30 por padrão.<br/>"
   ]
  },
  {
   "cell_type": "markdown",
   "metadata": {
    "application/vnd.databricks.v1+cell": {
     "cellMetadata": {
      "byteLimit": 2048000,
      "rowLimit": 10000
     },
     "inputWidgets": {},
     "nuid": "a5ead6f4-7a32-490e-a183-1732cdd37994",
     "showTitle": false,
     "title": ""
    }
   },
   "source": [
    "##### Verificando o objeto criado."
   ]
  },
  {
   "cell_type": "code",
   "execution_count": 16,
   "metadata": {
    "application/vnd.databricks.v1+cell": {
     "cellMetadata": {
      "byteLimit": 2048000,
      "rowLimit": 10000
     },
     "inputWidgets": {},
     "nuid": "dc964c21-37af-4ce4-82b8-ebf71c702fb4",
     "showTitle": false,
     "title": ""
    }
   },
   "outputs": [
    {
     "data": {
      "text/plain": [
       "<pycaret.classification.oop.ClassificationExperiment at 0x2329f56a6b0>"
      ]
     },
     "execution_count": 16,
     "metadata": {},
     "output_type": "execute_result"
    }
   ],
   "source": [
    "exp_clf01 "
   ]
  },
  {
   "cell_type": "markdown",
   "metadata": {
    "application/vnd.databricks.v1+cell": {
     "cellMetadata": {
      "byteLimit": 2048000,
      "rowLimit": 10000
     },
     "inputWidgets": {},
     "nuid": "74b91999-9208-4d9a-a7d7-e38917586e23",
     "showTitle": false,
     "title": ""
    }
   },
   "source": [
    "# Comparando modelos"
   ]
  },
  {
   "cell_type": "markdown",
   "metadata": {
    "application/vnd.databricks.v1+cell": {
     "cellMetadata": {
      "byteLimit": 2048000,
      "rowLimit": 10000
     },
     "inputWidgets": {},
     "nuid": "41873dd9-d7eb-4271-9ece-75bbd2846583",
     "showTitle": false,
     "title": ""
    }
   },
   "source": [
    "Esta função treina e compara a performance de todos os modelos para a determinada tarefa escolhida (Classificação, Regressão, Clustering etc) utilizando cross validation e retorna as métricas para avaliação e o tempo de treinamento."
   ]
  },
  {
   "cell_type": "code",
   "execution_count": 17,
   "metadata": {
    "application/vnd.databricks.v1+cell": {
     "cellMetadata": {
      "byteLimit": 2048000,
      "rowLimit": 10000
     },
     "inputWidgets": {},
     "nuid": "33cff241-ef28-4b6f-abba-1c407d215875",
     "showTitle": false,
     "title": ""
    }
   },
   "outputs": [
    {
     "data": {
      "text/html": [],
      "text/plain": [
       "<IPython.core.display.HTML object>"
      ]
     },
     "metadata": {},
     "output_type": "display_data"
    },
    {
     "data": {
      "text/html": [
       "<style type=\"text/css\">\n",
       "#T_bc8b2 th {\n",
       "  text-align: left;\n",
       "}\n",
       "#T_bc8b2_row0_col0, #T_bc8b2_row0_col3, #T_bc8b2_row0_col4, #T_bc8b2_row1_col0, #T_bc8b2_row1_col1, #T_bc8b2_row1_col2, #T_bc8b2_row1_col3, #T_bc8b2_row1_col4, #T_bc8b2_row1_col5, #T_bc8b2_row1_col6, #T_bc8b2_row1_col7, #T_bc8b2_row2_col0, #T_bc8b2_row2_col1, #T_bc8b2_row2_col2, #T_bc8b2_row2_col3, #T_bc8b2_row2_col5, #T_bc8b2_row2_col6, #T_bc8b2_row2_col7, #T_bc8b2_row3_col0, #T_bc8b2_row3_col1, #T_bc8b2_row3_col2, #T_bc8b2_row3_col3, #T_bc8b2_row3_col4, #T_bc8b2_row3_col5, #T_bc8b2_row3_col6, #T_bc8b2_row3_col7, #T_bc8b2_row4_col0, #T_bc8b2_row4_col1, #T_bc8b2_row4_col2, #T_bc8b2_row4_col3, #T_bc8b2_row4_col4, #T_bc8b2_row4_col5, #T_bc8b2_row4_col6, #T_bc8b2_row4_col7, #T_bc8b2_row5_col0, #T_bc8b2_row5_col1, #T_bc8b2_row5_col2, #T_bc8b2_row5_col3, #T_bc8b2_row5_col4, #T_bc8b2_row5_col5, #T_bc8b2_row5_col6, #T_bc8b2_row5_col7, #T_bc8b2_row6_col0, #T_bc8b2_row6_col1, #T_bc8b2_row6_col2, #T_bc8b2_row6_col3, #T_bc8b2_row6_col4, #T_bc8b2_row6_col5, #T_bc8b2_row6_col6, #T_bc8b2_row6_col7, #T_bc8b2_row7_col0, #T_bc8b2_row7_col1, #T_bc8b2_row7_col2, #T_bc8b2_row7_col3, #T_bc8b2_row7_col4, #T_bc8b2_row7_col5, #T_bc8b2_row7_col6, #T_bc8b2_row7_col7, #T_bc8b2_row8_col0, #T_bc8b2_row8_col1, #T_bc8b2_row8_col2, #T_bc8b2_row8_col3, #T_bc8b2_row8_col4, #T_bc8b2_row8_col5, #T_bc8b2_row8_col6, #T_bc8b2_row8_col7, #T_bc8b2_row9_col0, #T_bc8b2_row9_col1, #T_bc8b2_row9_col2, #T_bc8b2_row9_col3, #T_bc8b2_row9_col4, #T_bc8b2_row9_col5, #T_bc8b2_row9_col6, #T_bc8b2_row9_col7, #T_bc8b2_row10_col0, #T_bc8b2_row10_col1, #T_bc8b2_row10_col2, #T_bc8b2_row10_col3, #T_bc8b2_row10_col4, #T_bc8b2_row10_col5, #T_bc8b2_row10_col6, #T_bc8b2_row10_col7, #T_bc8b2_row11_col0, #T_bc8b2_row11_col1, #T_bc8b2_row11_col2, #T_bc8b2_row11_col3, #T_bc8b2_row11_col4, #T_bc8b2_row11_col5, #T_bc8b2_row11_col6, #T_bc8b2_row11_col7, #T_bc8b2_row12_col0, #T_bc8b2_row12_col1, #T_bc8b2_row12_col2, #T_bc8b2_row12_col3, #T_bc8b2_row12_col4, #T_bc8b2_row12_col5, #T_bc8b2_row12_col6, #T_bc8b2_row12_col7, #T_bc8b2_row13_col0, #T_bc8b2_row13_col1, #T_bc8b2_row13_col2, #T_bc8b2_row13_col3, #T_bc8b2_row13_col4, #T_bc8b2_row13_col5, #T_bc8b2_row13_col6, #T_bc8b2_row13_col7, #T_bc8b2_row14_col0, #T_bc8b2_row14_col1, #T_bc8b2_row14_col2, #T_bc8b2_row14_col4, #T_bc8b2_row14_col5, #T_bc8b2_row14_col6, #T_bc8b2_row14_col7 {\n",
       "  text-align: left;\n",
       "}\n",
       "#T_bc8b2_row0_col1, #T_bc8b2_row0_col2, #T_bc8b2_row0_col5, #T_bc8b2_row0_col6, #T_bc8b2_row0_col7, #T_bc8b2_row2_col4, #T_bc8b2_row14_col3 {\n",
       "  text-align: left;\n",
       "  background-color: yellow;\n",
       "}\n",
       "#T_bc8b2_row0_col8, #T_bc8b2_row1_col8, #T_bc8b2_row2_col8, #T_bc8b2_row3_col8, #T_bc8b2_row4_col8, #T_bc8b2_row5_col8, #T_bc8b2_row6_col8, #T_bc8b2_row7_col8, #T_bc8b2_row8_col8, #T_bc8b2_row9_col8, #T_bc8b2_row10_col8, #T_bc8b2_row11_col8, #T_bc8b2_row12_col8, #T_bc8b2_row14_col8 {\n",
       "  text-align: left;\n",
       "  background-color: lightgrey;\n",
       "}\n",
       "#T_bc8b2_row13_col8 {\n",
       "  text-align: left;\n",
       "  background-color: yellow;\n",
       "  background-color: lightgrey;\n",
       "}\n",
       "</style>\n",
       "<table id=\"T_bc8b2\">\n",
       "  <thead>\n",
       "    <tr>\n",
       "      <th class=\"blank level0\" >&nbsp;</th>\n",
       "      <th id=\"T_bc8b2_level0_col0\" class=\"col_heading level0 col0\" >Model</th>\n",
       "      <th id=\"T_bc8b2_level0_col1\" class=\"col_heading level0 col1\" >Accuracy</th>\n",
       "      <th id=\"T_bc8b2_level0_col2\" class=\"col_heading level0 col2\" >AUC</th>\n",
       "      <th id=\"T_bc8b2_level0_col3\" class=\"col_heading level0 col3\" >Recall</th>\n",
       "      <th id=\"T_bc8b2_level0_col4\" class=\"col_heading level0 col4\" >Prec.</th>\n",
       "      <th id=\"T_bc8b2_level0_col5\" class=\"col_heading level0 col5\" >F1</th>\n",
       "      <th id=\"T_bc8b2_level0_col6\" class=\"col_heading level0 col6\" >Kappa</th>\n",
       "      <th id=\"T_bc8b2_level0_col7\" class=\"col_heading level0 col7\" >MCC</th>\n",
       "      <th id=\"T_bc8b2_level0_col8\" class=\"col_heading level0 col8\" >TT (Sec)</th>\n",
       "    </tr>\n",
       "  </thead>\n",
       "  <tbody>\n",
       "    <tr>\n",
       "      <th id=\"T_bc8b2_level0_row0\" class=\"row_heading level0 row0\" >lightgbm</th>\n",
       "      <td id=\"T_bc8b2_row0_col0\" class=\"data row0 col0\" >Light Gradient Boosting Machine</td>\n",
       "      <td id=\"T_bc8b2_row0_col1\" class=\"data row0 col1\" >0.8708</td>\n",
       "      <td id=\"T_bc8b2_row0_col2\" class=\"data row0 col2\" >0.9264</td>\n",
       "      <td id=\"T_bc8b2_row0_col3\" class=\"data row0 col3\" >0.6532</td>\n",
       "      <td id=\"T_bc8b2_row0_col4\" class=\"data row0 col4\" >0.7751</td>\n",
       "      <td id=\"T_bc8b2_row0_col5\" class=\"data row0 col5\" >0.7089</td>\n",
       "      <td id=\"T_bc8b2_row0_col6\" class=\"data row0 col6\" >0.6267</td>\n",
       "      <td id=\"T_bc8b2_row0_col7\" class=\"data row0 col7\" >0.6305</td>\n",
       "      <td id=\"T_bc8b2_row0_col8\" class=\"data row0 col8\" >0.5720</td>\n",
       "    </tr>\n",
       "    <tr>\n",
       "      <th id=\"T_bc8b2_level0_row1\" class=\"row_heading level0 row1\" >xgboost</th>\n",
       "      <td id=\"T_bc8b2_row1_col0\" class=\"data row1 col0\" >Extreme Gradient Boosting</td>\n",
       "      <td id=\"T_bc8b2_row1_col1\" class=\"data row1 col1\" >0.8694</td>\n",
       "      <td id=\"T_bc8b2_row1_col2\" class=\"data row1 col2\" >0.9253</td>\n",
       "      <td id=\"T_bc8b2_row1_col3\" class=\"data row1 col3\" >0.6566</td>\n",
       "      <td id=\"T_bc8b2_row1_col4\" class=\"data row1 col4\" >0.7678</td>\n",
       "      <td id=\"T_bc8b2_row1_col5\" class=\"data row1 col5\" >0.7077</td>\n",
       "      <td id=\"T_bc8b2_row1_col6\" class=\"data row1 col6\" >0.6243</td>\n",
       "      <td id=\"T_bc8b2_row1_col7\" class=\"data row1 col7\" >0.6276</td>\n",
       "      <td id=\"T_bc8b2_row1_col8\" class=\"data row1 col8\" >1.6390</td>\n",
       "    </tr>\n",
       "    <tr>\n",
       "      <th id=\"T_bc8b2_level0_row2\" class=\"row_heading level0 row2\" >gbc</th>\n",
       "      <td id=\"T_bc8b2_row2_col0\" class=\"data row2 col0\" >Gradient Boosting Classifier</td>\n",
       "      <td id=\"T_bc8b2_row2_col1\" class=\"data row2 col1\" >0.8643</td>\n",
       "      <td id=\"T_bc8b2_row2_col2\" class=\"data row2 col2\" >0.9192</td>\n",
       "      <td id=\"T_bc8b2_row2_col3\" class=\"data row2 col3\" >0.6009</td>\n",
       "      <td id=\"T_bc8b2_row2_col4\" class=\"data row2 col4\" >0.7852</td>\n",
       "      <td id=\"T_bc8b2_row2_col5\" class=\"data row2 col5\" >0.6806</td>\n",
       "      <td id=\"T_bc8b2_row2_col6\" class=\"data row2 col6\" >0.5964</td>\n",
       "      <td id=\"T_bc8b2_row2_col7\" class=\"data row2 col7\" >0.6051</td>\n",
       "      <td id=\"T_bc8b2_row2_col8\" class=\"data row2 col8\" >1.2440</td>\n",
       "    </tr>\n",
       "    <tr>\n",
       "      <th id=\"T_bc8b2_level0_row3\" class=\"row_heading level0 row3\" >ada</th>\n",
       "      <td id=\"T_bc8b2_row3_col0\" class=\"data row3 col0\" >Ada Boost Classifier</td>\n",
       "      <td id=\"T_bc8b2_row3_col1\" class=\"data row3 col1\" >0.8590</td>\n",
       "      <td id=\"T_bc8b2_row3_col2\" class=\"data row3 col2\" >0.9129</td>\n",
       "      <td id=\"T_bc8b2_row3_col3\" class=\"data row3 col3\" >0.6070</td>\n",
       "      <td id=\"T_bc8b2_row3_col4\" class=\"data row3 col4\" >0.7597</td>\n",
       "      <td id=\"T_bc8b2_row3_col5\" class=\"data row3 col5\" >0.6747</td>\n",
       "      <td id=\"T_bc8b2_row3_col6\" class=\"data row3 col6\" >0.5861</td>\n",
       "      <td id=\"T_bc8b2_row3_col7\" class=\"data row3 col7\" >0.5922</td>\n",
       "      <td id=\"T_bc8b2_row3_col8\" class=\"data row3 col8\" >0.6900</td>\n",
       "    </tr>\n",
       "    <tr>\n",
       "      <th id=\"T_bc8b2_level0_row4\" class=\"row_heading level0 row4\" >lr</th>\n",
       "      <td id=\"T_bc8b2_row4_col0\" class=\"data row4 col0\" >Logistic Regression</td>\n",
       "      <td id=\"T_bc8b2_row4_col1\" class=\"data row4 col1\" >0.8486</td>\n",
       "      <td id=\"T_bc8b2_row4_col2\" class=\"data row4 col2\" >0.9014</td>\n",
       "      <td id=\"T_bc8b2_row4_col3\" class=\"data row4 col3\" >0.5932</td>\n",
       "      <td id=\"T_bc8b2_row4_col4\" class=\"data row4 col4\" >0.7278</td>\n",
       "      <td id=\"T_bc8b2_row4_col5\" class=\"data row4 col5\" >0.6534</td>\n",
       "      <td id=\"T_bc8b2_row4_col6\" class=\"data row4 col6\" >0.5578</td>\n",
       "      <td id=\"T_bc8b2_row4_col7\" class=\"data row4 col7\" >0.5627</td>\n",
       "      <td id=\"T_bc8b2_row4_col8\" class=\"data row4 col8\" >4.1070</td>\n",
       "    </tr>\n",
       "    <tr>\n",
       "      <th id=\"T_bc8b2_level0_row5\" class=\"row_heading level0 row5\" >rf</th>\n",
       "      <td id=\"T_bc8b2_row5_col0\" class=\"data row5 col0\" >Random Forest Classifier</td>\n",
       "      <td id=\"T_bc8b2_row5_col1\" class=\"data row5 col1\" >0.8455</td>\n",
       "      <td id=\"T_bc8b2_row5_col2\" class=\"data row5 col2\" >0.8902</td>\n",
       "      <td id=\"T_bc8b2_row5_col3\" class=\"data row5 col3\" >0.6154</td>\n",
       "      <td id=\"T_bc8b2_row5_col4\" class=\"data row5 col4\" >0.7058</td>\n",
       "      <td id=\"T_bc8b2_row5_col5\" class=\"data row5 col5\" >0.6573</td>\n",
       "      <td id=\"T_bc8b2_row5_col6\" class=\"data row5 col6\" >0.5582</td>\n",
       "      <td id=\"T_bc8b2_row5_col7\" class=\"data row5 col7\" >0.5605</td>\n",
       "      <td id=\"T_bc8b2_row5_col8\" class=\"data row5 col8\" >1.4230</td>\n",
       "    </tr>\n",
       "    <tr>\n",
       "      <th id=\"T_bc8b2_level0_row6\" class=\"row_heading level0 row6\" >knn</th>\n",
       "      <td id=\"T_bc8b2_row6_col0\" class=\"data row6 col0\" >K Neighbors Classifier</td>\n",
       "      <td id=\"T_bc8b2_row6_col1\" class=\"data row6 col1\" >0.8445</td>\n",
       "      <td id=\"T_bc8b2_row6_col2\" class=\"data row6 col2\" >0.8747</td>\n",
       "      <td id=\"T_bc8b2_row6_col3\" class=\"data row6 col3\" >0.6377</td>\n",
       "      <td id=\"T_bc8b2_row6_col4\" class=\"data row6 col4\" >0.6922</td>\n",
       "      <td id=\"T_bc8b2_row6_col5\" class=\"data row6 col5\" >0.6635</td>\n",
       "      <td id=\"T_bc8b2_row6_col6\" class=\"data row6 col6\" >0.5627</td>\n",
       "      <td id=\"T_bc8b2_row6_col7\" class=\"data row6 col7\" >0.5637</td>\n",
       "      <td id=\"T_bc8b2_row6_col8\" class=\"data row6 col8\" >0.5380</td>\n",
       "    </tr>\n",
       "    <tr>\n",
       "      <th id=\"T_bc8b2_level0_row7\" class=\"row_heading level0 row7\" >lda</th>\n",
       "      <td id=\"T_bc8b2_row7_col0\" class=\"data row7 col0\" >Linear Discriminant Analysis</td>\n",
       "      <td id=\"T_bc8b2_row7_col1\" class=\"data row7 col1\" >0.8390</td>\n",
       "      <td id=\"T_bc8b2_row7_col2\" class=\"data row7 col2\" >0.8906</td>\n",
       "      <td id=\"T_bc8b2_row7_col3\" class=\"data row7 col3\" >0.5566</td>\n",
       "      <td id=\"T_bc8b2_row7_col4\" class=\"data row7 col4\" >0.7123</td>\n",
       "      <td id=\"T_bc8b2_row7_col5\" class=\"data row7 col5\" >0.6247</td>\n",
       "      <td id=\"T_bc8b2_row7_col6\" class=\"data row7 col6\" >0.5242</td>\n",
       "      <td id=\"T_bc8b2_row7_col7\" class=\"data row7 col7\" >0.5308</td>\n",
       "      <td id=\"T_bc8b2_row7_col8\" class=\"data row7 col8\" >0.3770</td>\n",
       "    </tr>\n",
       "    <tr>\n",
       "      <th id=\"T_bc8b2_level0_row8\" class=\"row_heading level0 row8\" >ridge</th>\n",
       "      <td id=\"T_bc8b2_row8_col0\" class=\"data row8 col0\" >Ridge Classifier</td>\n",
       "      <td id=\"T_bc8b2_row8_col1\" class=\"data row8 col1\" >0.8381</td>\n",
       "      <td id=\"T_bc8b2_row8_col2\" class=\"data row8 col2\" >0.0000</td>\n",
       "      <td id=\"T_bc8b2_row8_col3\" class=\"data row8 col3\" >0.4992</td>\n",
       "      <td id=\"T_bc8b2_row8_col4\" class=\"data row8 col4\" >0.7446</td>\n",
       "      <td id=\"T_bc8b2_row8_col5\" class=\"data row8 col5\" >0.5975</td>\n",
       "      <td id=\"T_bc8b2_row8_col6\" class=\"data row8 col6\" >0.5011</td>\n",
       "      <td id=\"T_bc8b2_row8_col7\" class=\"data row8 col7\" >0.5169</td>\n",
       "      <td id=\"T_bc8b2_row8_col8\" class=\"data row8 col8\" >0.3840</td>\n",
       "    </tr>\n",
       "    <tr>\n",
       "      <th id=\"T_bc8b2_level0_row9\" class=\"row_heading level0 row9\" >et</th>\n",
       "      <td id=\"T_bc8b2_row9_col0\" class=\"data row9 col0\" >Extra Trees Classifier</td>\n",
       "      <td id=\"T_bc8b2_row9_col1\" class=\"data row9 col1\" >0.8261</td>\n",
       "      <td id=\"T_bc8b2_row9_col2\" class=\"data row9 col2\" >0.8467</td>\n",
       "      <td id=\"T_bc8b2_row9_col3\" class=\"data row9 col3\" >0.5834</td>\n",
       "      <td id=\"T_bc8b2_row9_col4\" class=\"data row9 col4\" >0.6570</td>\n",
       "      <td id=\"T_bc8b2_row9_col5\" class=\"data row9 col5\" >0.6178</td>\n",
       "      <td id=\"T_bc8b2_row9_col6\" class=\"data row9 col6\" >0.5058</td>\n",
       "      <td id=\"T_bc8b2_row9_col7\" class=\"data row9 col7\" >0.5074</td>\n",
       "      <td id=\"T_bc8b2_row9_col8\" class=\"data row9 col8\" >3.2680</td>\n",
       "    </tr>\n",
       "    <tr>\n",
       "      <th id=\"T_bc8b2_level0_row10\" class=\"row_heading level0 row10\" >dt</th>\n",
       "      <td id=\"T_bc8b2_row10_col0\" class=\"data row10 col0\" >Decision Tree Classifier</td>\n",
       "      <td id=\"T_bc8b2_row10_col1\" class=\"data row10 col1\" >0.8209</td>\n",
       "      <td id=\"T_bc8b2_row10_col2\" class=\"data row10 col2\" >0.7662</td>\n",
       "      <td id=\"T_bc8b2_row10_col3\" class=\"data row10 col3\" >0.6104</td>\n",
       "      <td id=\"T_bc8b2_row10_col4\" class=\"data row10 col4\" >0.6329</td>\n",
       "      <td id=\"T_bc8b2_row10_col5\" class=\"data row10 col5\" >0.6213</td>\n",
       "      <td id=\"T_bc8b2_row10_col6\" class=\"data row10 col6\" >0.5041</td>\n",
       "      <td id=\"T_bc8b2_row10_col7\" class=\"data row10 col7\" >0.5044</td>\n",
       "      <td id=\"T_bc8b2_row10_col8\" class=\"data row10 col8\" >0.2620</td>\n",
       "    </tr>\n",
       "    <tr>\n",
       "      <th id=\"T_bc8b2_level0_row11\" class=\"row_heading level0 row11\" >nb</th>\n",
       "      <td id=\"T_bc8b2_row11_col0\" class=\"data row11 col0\" >Naive Bayes</td>\n",
       "      <td id=\"T_bc8b2_row11_col1\" class=\"data row11 col1\" >0.8109</td>\n",
       "      <td id=\"T_bc8b2_row11_col2\" class=\"data row11 col2\" >0.8951</td>\n",
       "      <td id=\"T_bc8b2_row11_col3\" class=\"data row11 col3\" >0.8010</td>\n",
       "      <td id=\"T_bc8b2_row11_col4\" class=\"data row11 col4\" >0.5776</td>\n",
       "      <td id=\"T_bc8b2_row11_col5\" class=\"data row11 col5\" >0.6711</td>\n",
       "      <td id=\"T_bc8b2_row11_col6\" class=\"data row11 col6\" >0.5433</td>\n",
       "      <td id=\"T_bc8b2_row11_col7\" class=\"data row11 col7\" >0.5577</td>\n",
       "      <td id=\"T_bc8b2_row11_col8\" class=\"data row11 col8\" >0.2270</td>\n",
       "    </tr>\n",
       "    <tr>\n",
       "      <th id=\"T_bc8b2_level0_row12\" class=\"row_heading level0 row12\" >svm</th>\n",
       "      <td id=\"T_bc8b2_row12_col0\" class=\"data row12 col0\" >SVM - Linear Kernel</td>\n",
       "      <td id=\"T_bc8b2_row12_col1\" class=\"data row12 col1\" >0.7636</td>\n",
       "      <td id=\"T_bc8b2_row12_col2\" class=\"data row12 col2\" >0.0000</td>\n",
       "      <td id=\"T_bc8b2_row12_col3\" class=\"data row12 col3\" >0.5721</td>\n",
       "      <td id=\"T_bc8b2_row12_col4\" class=\"data row12 col4\" >0.5642</td>\n",
       "      <td id=\"T_bc8b2_row12_col5\" class=\"data row12 col5\" >0.5009</td>\n",
       "      <td id=\"T_bc8b2_row12_col6\" class=\"data row12 col6\" >0.3640</td>\n",
       "      <td id=\"T_bc8b2_row12_col7\" class=\"data row12 col7\" >0.3987</td>\n",
       "      <td id=\"T_bc8b2_row12_col8\" class=\"data row12 col8\" >0.4610</td>\n",
       "    </tr>\n",
       "    <tr>\n",
       "      <th id=\"T_bc8b2_level0_row13\" class=\"row_heading level0 row13\" >dummy</th>\n",
       "      <td id=\"T_bc8b2_row13_col0\" class=\"data row13 col0\" >Dummy Classifier</td>\n",
       "      <td id=\"T_bc8b2_row13_col1\" class=\"data row13 col1\" >0.7591</td>\n",
       "      <td id=\"T_bc8b2_row13_col2\" class=\"data row13 col2\" >0.5000</td>\n",
       "      <td id=\"T_bc8b2_row13_col3\" class=\"data row13 col3\" >0.0000</td>\n",
       "      <td id=\"T_bc8b2_row13_col4\" class=\"data row13 col4\" >0.0000</td>\n",
       "      <td id=\"T_bc8b2_row13_col5\" class=\"data row13 col5\" >0.0000</td>\n",
       "      <td id=\"T_bc8b2_row13_col6\" class=\"data row13 col6\" >0.0000</td>\n",
       "      <td id=\"T_bc8b2_row13_col7\" class=\"data row13 col7\" >0.0000</td>\n",
       "      <td id=\"T_bc8b2_row13_col8\" class=\"data row13 col8\" >0.2160</td>\n",
       "    </tr>\n",
       "    <tr>\n",
       "      <th id=\"T_bc8b2_level0_row14\" class=\"row_heading level0 row14\" >qda</th>\n",
       "      <td id=\"T_bc8b2_row14_col0\" class=\"data row14 col0\" >Quadratic Discriminant Analysis</td>\n",
       "      <td id=\"T_bc8b2_row14_col1\" class=\"data row14 col1\" >0.3609</td>\n",
       "      <td id=\"T_bc8b2_row14_col2\" class=\"data row14 col2\" >0.6428</td>\n",
       "      <td id=\"T_bc8b2_row14_col3\" class=\"data row14 col3\" >0.9843</td>\n",
       "      <td id=\"T_bc8b2_row14_col4\" class=\"data row14 col4\" >0.2721</td>\n",
       "      <td id=\"T_bc8b2_row14_col5\" class=\"data row14 col5\" >0.4262</td>\n",
       "      <td id=\"T_bc8b2_row14_col6\" class=\"data row14 col6\" >0.0783</td>\n",
       "      <td id=\"T_bc8b2_row14_col7\" class=\"data row14 col7\" >0.1883</td>\n",
       "      <td id=\"T_bc8b2_row14_col8\" class=\"data row14 col8\" >0.2620</td>\n",
       "    </tr>\n",
       "  </tbody>\n",
       "</table>\n"
      ],
      "text/plain": [
       "<pandas.io.formats.style.Styler at 0x2329f5a0370>"
      ]
     },
     "metadata": {},
     "output_type": "display_data"
    },
    {
     "data": {
      "application/vnd.jupyter.widget-view+json": {
       "model_id": "",
       "version_major": 2,
       "version_minor": 0
      },
      "text/plain": [
       "Processing:   0%|          | 0/65 [00:00<?, ?it/s]"
      ]
     },
     "metadata": {},
     "output_type": "display_data"
    }
   ],
   "source": [
    "best_model = compare_models()"
   ]
  },
  {
   "cell_type": "code",
   "execution_count": 18,
   "metadata": {
    "application/vnd.databricks.v1+cell": {
     "cellMetadata": {
      "byteLimit": 2048000,
      "rowLimit": 10000
     },
     "inputWidgets": {},
     "nuid": "6dab96c6-07f1-4846-876a-d277c32ba87d",
     "showTitle": false,
     "title": ""
    }
   },
   "outputs": [
    {
     "name": "stdout",
     "output_type": "stream",
     "text": [
      "LGBMClassifier(boosting_type='gbdt', class_weight=None, colsample_bytree=1.0,\n",
      "               importance_type='split', learning_rate=0.1, max_depth=-1,\n",
      "               min_child_samples=20, min_child_weight=0.001, min_split_gain=0.0,\n",
      "               n_estimators=100, n_jobs=-1, num_leaves=31, objective=None,\n",
      "               random_state=123, reg_alpha=0.0, reg_lambda=0.0, subsample=1.0,\n",
      "               subsample_for_bin=200000, subsample_freq=0)\n"
     ]
    }
   ],
   "source": [
    "print(best_model)"
   ]
  },
  {
   "cell_type": "markdown",
   "metadata": {
    "application/vnd.databricks.v1+cell": {
     "cellMetadata": {
      "byteLimit": 2048000,
      "rowLimit": 10000
     },
     "inputWidgets": {},
     "nuid": "09f84627-9a3f-4ef6-b7c4-14bbebfa4c12",
     "showTitle": false,
     "title": ""
    }
   },
   "source": [
    "# Criando o Modelo"
   ]
  },
  {
   "cell_type": "markdown",
   "metadata": {
    "application/vnd.databricks.v1+cell": {
     "cellMetadata": {
      "byteLimit": 2048000,
      "rowLimit": 10000
     },
     "inputWidgets": {},
     "nuid": "4e4ff309-f3ef-4193-a274-de87224fc2b3",
     "showTitle": false,
     "title": ""
    }
   },
   "source": [
    "Esta função treina o modelo especificado utilizando cross validation e retorna suas métricas."
   ]
  },
  {
   "cell_type": "markdown",
   "metadata": {
    "application/vnd.databricks.v1+cell": {
     "cellMetadata": {
      "byteLimit": 2048000,
      "rowLimit": 10000
     },
     "inputWidgets": {},
     "nuid": "bee39cfe-3d7e-43a0-ac01-5ddd6c580f49",
     "showTitle": false,
     "title": ""
    }
   },
   "source": [
    "### Light Gradient Boosting Machine"
   ]
  },
  {
   "cell_type": "code",
   "execution_count": 19,
   "metadata": {
    "application/vnd.databricks.v1+cell": {
     "cellMetadata": {
      "byteLimit": 2048000,
      "rowLimit": 10000
     },
     "inputWidgets": {},
     "nuid": "c6fcf080-cda7-4fce-ac41-1cb3bc4f511d",
     "showTitle": false,
     "title": ""
    }
   },
   "outputs": [
    {
     "data": {
      "text/html": [],
      "text/plain": [
       "<IPython.core.display.HTML object>"
      ]
     },
     "metadata": {},
     "output_type": "display_data"
    },
    {
     "data": {
      "text/html": [
       "<style type=\"text/css\">\n",
       "#T_83456_row10_col0, #T_83456_row10_col1, #T_83456_row10_col2, #T_83456_row10_col3, #T_83456_row10_col4, #T_83456_row10_col5, #T_83456_row10_col6 {\n",
       "  background: yellow;\n",
       "}\n",
       "</style>\n",
       "<table id=\"T_83456\">\n",
       "  <thead>\n",
       "    <tr>\n",
       "      <th class=\"blank level0\" >&nbsp;</th>\n",
       "      <th id=\"T_83456_level0_col0\" class=\"col_heading level0 col0\" >Accuracy</th>\n",
       "      <th id=\"T_83456_level0_col1\" class=\"col_heading level0 col1\" >AUC</th>\n",
       "      <th id=\"T_83456_level0_col2\" class=\"col_heading level0 col2\" >Recall</th>\n",
       "      <th id=\"T_83456_level0_col3\" class=\"col_heading level0 col3\" >Prec.</th>\n",
       "      <th id=\"T_83456_level0_col4\" class=\"col_heading level0 col4\" >F1</th>\n",
       "      <th id=\"T_83456_level0_col5\" class=\"col_heading level0 col5\" >Kappa</th>\n",
       "      <th id=\"T_83456_level0_col6\" class=\"col_heading level0 col6\" >MCC</th>\n",
       "    </tr>\n",
       "    <tr>\n",
       "      <th class=\"index_name level0\" >Fold</th>\n",
       "      <th class=\"blank col0\" >&nbsp;</th>\n",
       "      <th class=\"blank col1\" >&nbsp;</th>\n",
       "      <th class=\"blank col2\" >&nbsp;</th>\n",
       "      <th class=\"blank col3\" >&nbsp;</th>\n",
       "      <th class=\"blank col4\" >&nbsp;</th>\n",
       "      <th class=\"blank col5\" >&nbsp;</th>\n",
       "      <th class=\"blank col6\" >&nbsp;</th>\n",
       "    </tr>\n",
       "  </thead>\n",
       "  <tbody>\n",
       "    <tr>\n",
       "      <th id=\"T_83456_level0_row0\" class=\"row_heading level0 row0\" >0</th>\n",
       "      <td id=\"T_83456_row0_col0\" class=\"data row0 col0\" >0.8818</td>\n",
       "      <td id=\"T_83456_row0_col1\" class=\"data row0 col1\" >0.9305</td>\n",
       "      <td id=\"T_83456_row0_col2\" class=\"data row0 col2\" >0.6820</td>\n",
       "      <td id=\"T_83456_row0_col3\" class=\"data row0 col3\" >0.7982</td>\n",
       "      <td id=\"T_83456_row0_col4\" class=\"data row0 col4\" >0.7355</td>\n",
       "      <td id=\"T_83456_row0_col5\" class=\"data row0 col5\" >0.6600</td>\n",
       "      <td id=\"T_83456_row0_col6\" class=\"data row0 col6\" >0.6634</td>\n",
       "    </tr>\n",
       "    <tr>\n",
       "      <th id=\"T_83456_level0_row1\" class=\"row_heading level0 row1\" >1</th>\n",
       "      <td id=\"T_83456_row1_col0\" class=\"data row1 col0\" >0.8772</td>\n",
       "      <td id=\"T_83456_row1_col1\" class=\"data row1 col1\" >0.9322</td>\n",
       "      <td id=\"T_83456_row1_col2\" class=\"data row1 col2\" >0.6552</td>\n",
       "      <td id=\"T_83456_row1_col3\" class=\"data row1 col3\" >0.7991</td>\n",
       "      <td id=\"T_83456_row1_col4\" class=\"data row1 col4\" >0.7200</td>\n",
       "      <td id=\"T_83456_row1_col5\" class=\"data row1 col5\" >0.6423</td>\n",
       "      <td id=\"T_83456_row1_col6\" class=\"data row1 col6\" >0.6475</td>\n",
       "    </tr>\n",
       "    <tr>\n",
       "      <th id=\"T_83456_level0_row2\" class=\"row_heading level0 row2\" >2</th>\n",
       "      <td id=\"T_83456_row2_col0\" class=\"data row2 col0\" >0.8730</td>\n",
       "      <td id=\"T_83456_row2_col1\" class=\"data row2 col1\" >0.9273</td>\n",
       "      <td id=\"T_83456_row2_col2\" class=\"data row2 col2\" >0.6590</td>\n",
       "      <td id=\"T_83456_row2_col3\" class=\"data row2 col3\" >0.7800</td>\n",
       "      <td id=\"T_83456_row2_col4\" class=\"data row2 col4\" >0.7144</td>\n",
       "      <td id=\"T_83456_row2_col5\" class=\"data row2 col5\" >0.6335</td>\n",
       "      <td id=\"T_83456_row2_col6\" class=\"data row2 col6\" >0.6373</td>\n",
       "    </tr>\n",
       "    <tr>\n",
       "      <th id=\"T_83456_level0_row3\" class=\"row_heading level0 row3\" >3</th>\n",
       "      <td id=\"T_83456_row3_col0\" class=\"data row3 col0\" >0.8836</td>\n",
       "      <td id=\"T_83456_row3_col1\" class=\"data row3 col1\" >0.9348</td>\n",
       "      <td id=\"T_83456_row3_col2\" class=\"data row3 col2\" >0.6852</td>\n",
       "      <td id=\"T_83456_row3_col3\" class=\"data row3 col3\" >0.8022</td>\n",
       "      <td id=\"T_83456_row3_col4\" class=\"data row3 col4\" >0.7391</td>\n",
       "      <td id=\"T_83456_row3_col5\" class=\"data row3 col5\" >0.6648</td>\n",
       "      <td id=\"T_83456_row3_col6\" class=\"data row3 col6\" >0.6682</td>\n",
       "    </tr>\n",
       "    <tr>\n",
       "      <th id=\"T_83456_level0_row4\" class=\"row_heading level0 row4\" >4</th>\n",
       "      <td id=\"T_83456_row4_col0\" class=\"data row4 col0\" >0.8776</td>\n",
       "      <td id=\"T_83456_row4_col1\" class=\"data row4 col1\" >0.9246</td>\n",
       "      <td id=\"T_83456_row4_col2\" class=\"data row4 col2\" >0.6852</td>\n",
       "      <td id=\"T_83456_row4_col3\" class=\"data row4 col3\" >0.7795</td>\n",
       "      <td id=\"T_83456_row4_col4\" class=\"data row4 col4\" >0.7293</td>\n",
       "      <td id=\"T_83456_row4_col5\" class=\"data row4 col5\" >0.6507</td>\n",
       "      <td id=\"T_83456_row4_col6\" class=\"data row4 col6\" >0.6529</td>\n",
       "    </tr>\n",
       "    <tr>\n",
       "      <th id=\"T_83456_level0_row5\" class=\"row_heading level0 row5\" >5</th>\n",
       "      <td id=\"T_83456_row5_col0\" class=\"data row5 col0\" >0.8688</td>\n",
       "      <td id=\"T_83456_row5_col1\" class=\"data row5 col1\" >0.9298</td>\n",
       "      <td id=\"T_83456_row5_col2\" class=\"data row5 col2\" >0.6411</td>\n",
       "      <td id=\"T_83456_row5_col3\" class=\"data row5 col3\" >0.7749</td>\n",
       "      <td id=\"T_83456_row5_col4\" class=\"data row5 col4\" >0.7017</td>\n",
       "      <td id=\"T_83456_row5_col5\" class=\"data row5 col5\" >0.6186</td>\n",
       "      <td id=\"T_83456_row5_col6\" class=\"data row5 col6\" >0.6231</td>\n",
       "    </tr>\n",
       "    <tr>\n",
       "      <th id=\"T_83456_level0_row6\" class=\"row_heading level0 row6\" >6</th>\n",
       "      <td id=\"T_83456_row6_col0\" class=\"data row6 col0\" >0.8619</td>\n",
       "      <td id=\"T_83456_row6_col1\" class=\"data row6 col1\" >0.9130</td>\n",
       "      <td id=\"T_83456_row6_col2\" class=\"data row6 col2\" >0.6372</td>\n",
       "      <td id=\"T_83456_row6_col3\" class=\"data row6 col3\" >0.7511</td>\n",
       "      <td id=\"T_83456_row6_col4\" class=\"data row6 col4\" >0.6895</td>\n",
       "      <td id=\"T_83456_row6_col5\" class=\"data row6 col5\" >0.6015</td>\n",
       "      <td id=\"T_83456_row6_col6\" class=\"data row6 col6\" >0.6048</td>\n",
       "    </tr>\n",
       "    <tr>\n",
       "      <th id=\"T_83456_level0_row7\" class=\"row_heading level0 row7\" >7</th>\n",
       "      <td id=\"T_83456_row7_col0\" class=\"data row7 col0\" >0.8628</td>\n",
       "      <td id=\"T_83456_row7_col1\" class=\"data row7 col1\" >0.9263</td>\n",
       "      <td id=\"T_83456_row7_col2\" class=\"data row7 col2\" >0.6418</td>\n",
       "      <td id=\"T_83456_row7_col3\" class=\"data row7 col3\" >0.7528</td>\n",
       "      <td id=\"T_83456_row7_col4\" class=\"data row7 col4\" >0.6929</td>\n",
       "      <td id=\"T_83456_row7_col5\" class=\"data row7 col5\" >0.6053</td>\n",
       "      <td id=\"T_83456_row7_col6\" class=\"data row7 col6\" >0.6085</td>\n",
       "    </tr>\n",
       "    <tr>\n",
       "      <th id=\"T_83456_level0_row8\" class=\"row_heading level0 row8\" >8</th>\n",
       "      <td id=\"T_83456_row8_col0\" class=\"data row8 col0\" >0.8633</td>\n",
       "      <td id=\"T_83456_row8_col1\" class=\"data row8 col1\" >0.9238</td>\n",
       "      <td id=\"T_83456_row8_col2\" class=\"data row8 col2\" >0.6245</td>\n",
       "      <td id=\"T_83456_row8_col3\" class=\"data row8 col3\" >0.7653</td>\n",
       "      <td id=\"T_83456_row8_col4\" class=\"data row8 col4\" >0.6878</td>\n",
       "      <td id=\"T_83456_row8_col5\" class=\"data row8 col5\" >0.6014</td>\n",
       "      <td id=\"T_83456_row8_col6\" class=\"data row8 col6\" >0.6065</td>\n",
       "    </tr>\n",
       "    <tr>\n",
       "      <th id=\"T_83456_level0_row9\" class=\"row_heading level0 row9\" >9</th>\n",
       "      <td id=\"T_83456_row9_col0\" class=\"data row9 col0\" >0.8582</td>\n",
       "      <td id=\"T_83456_row9_col1\" class=\"data row9 col1\" >0.9222</td>\n",
       "      <td id=\"T_83456_row9_col2\" class=\"data row9 col2\" >0.6207</td>\n",
       "      <td id=\"T_83456_row9_col3\" class=\"data row9 col3\" >0.7483</td>\n",
       "      <td id=\"T_83456_row9_col4\" class=\"data row9 col4\" >0.6785</td>\n",
       "      <td id=\"T_83456_row9_col5\" class=\"data row9 col5\" >0.5886</td>\n",
       "      <td id=\"T_83456_row9_col6\" class=\"data row9 col6\" >0.5928</td>\n",
       "    </tr>\n",
       "    <tr>\n",
       "      <th id=\"T_83456_level0_row10\" class=\"row_heading level0 row10\" >Mean</th>\n",
       "      <td id=\"T_83456_row10_col0\" class=\"data row10 col0\" >0.8708</td>\n",
       "      <td id=\"T_83456_row10_col1\" class=\"data row10 col1\" >0.9264</td>\n",
       "      <td id=\"T_83456_row10_col2\" class=\"data row10 col2\" >0.6532</td>\n",
       "      <td id=\"T_83456_row10_col3\" class=\"data row10 col3\" >0.7751</td>\n",
       "      <td id=\"T_83456_row10_col4\" class=\"data row10 col4\" >0.7089</td>\n",
       "      <td id=\"T_83456_row10_col5\" class=\"data row10 col5\" >0.6267</td>\n",
       "      <td id=\"T_83456_row10_col6\" class=\"data row10 col6\" >0.6305</td>\n",
       "    </tr>\n",
       "    <tr>\n",
       "      <th id=\"T_83456_level0_row11\" class=\"row_heading level0 row11\" >Std</th>\n",
       "      <td id=\"T_83456_row11_col0\" class=\"data row11 col0\" >0.0086</td>\n",
       "      <td id=\"T_83456_row11_col1\" class=\"data row11 col1\" >0.0058</td>\n",
       "      <td id=\"T_83456_row11_col2\" class=\"data row11 col2\" >0.0231</td>\n",
       "      <td id=\"T_83456_row11_col3\" class=\"data row11 col3\" >0.0194</td>\n",
       "      <td id=\"T_83456_row11_col4\" class=\"data row11 col4\" >0.0206</td>\n",
       "      <td id=\"T_83456_row11_col5\" class=\"data row11 col5\" >0.0259</td>\n",
       "      <td id=\"T_83456_row11_col6\" class=\"data row11 col6\" >0.0256</td>\n",
       "    </tr>\n",
       "  </tbody>\n",
       "</table>\n"
      ],
      "text/plain": [
       "<pandas.io.formats.style.Styler at 0x232a1a136d0>"
      ]
     },
     "metadata": {},
     "output_type": "display_data"
    },
    {
     "data": {
      "application/vnd.jupyter.widget-view+json": {
       "model_id": "",
       "version_major": 2,
       "version_minor": 0
      },
      "text/plain": [
       "Processing:   0%|          | 0/4 [00:00<?, ?it/s]"
      ]
     },
     "metadata": {},
     "output_type": "display_data"
    }
   ],
   "source": [
    "lgbm = create_model('lightgbm')"
   ]
  },
  {
   "cell_type": "code",
   "execution_count": 20,
   "metadata": {
    "application/vnd.databricks.v1+cell": {
     "cellMetadata": {
      "byteLimit": 2048000,
      "rowLimit": 10000
     },
     "inputWidgets": {},
     "nuid": "2fe42cfa-52e8-4a6f-b6c4-ce233bcfe32d",
     "showTitle": false,
     "title": ""
    }
   },
   "outputs": [
    {
     "name": "stdout",
     "output_type": "stream",
     "text": [
      "LGBMClassifier(boosting_type='gbdt', class_weight=None, colsample_bytree=1.0,\n",
      "               importance_type='split', learning_rate=0.1, max_depth=-1,\n",
      "               min_child_samples=20, min_child_weight=0.001, min_split_gain=0.0,\n",
      "               n_estimators=100, n_jobs=-1, num_leaves=31, objective=None,\n",
      "               random_state=123, reg_alpha=0.0, reg_lambda=0.0, subsample=1.0,\n",
      "               subsample_for_bin=200000, subsample_freq=0)\n"
     ]
    }
   ],
   "source": [
    "print(lgbm)"
   ]
  },
  {
   "cell_type": "markdown",
   "metadata": {
    "application/vnd.databricks.v1+cell": {
     "cellMetadata": {
      "byteLimit": 2048000,
      "rowLimit": 10000
     },
     "inputWidgets": {},
     "nuid": "eab74b21-62cc-4ae5-9d3e-79a88f07d408",
     "showTitle": false,
     "title": ""
    }
   },
   "source": [
    "# Otimiza o Modelo"
   ]
  },
  {
   "cell_type": "markdown",
   "metadata": {
    "application/vnd.databricks.v1+cell": {
     "cellMetadata": {
      "byteLimit": 2048000,
      "rowLimit": 10000
     },
     "inputWidgets": {},
     "nuid": "dc5d56a9-8ca8-4f11-bf5d-50212e966f62",
     "showTitle": false,
     "title": ""
    }
   },
   "source": [
    "Esta função automaticamente otimiza os hiperparametros do modelo usando Random Grid Search em um espaço de busca predefinido."
   ]
  },
  {
   "cell_type": "code",
   "execution_count": 21,
   "metadata": {
    "application/vnd.databricks.v1+cell": {
     "cellMetadata": {
      "byteLimit": 2048000,
      "rowLimit": 10000
     },
     "inputWidgets": {},
     "nuid": "2adebcec-c04c-473d-a007-648e61066b7c",
     "showTitle": false,
     "title": ""
    }
   },
   "outputs": [
    {
     "data": {
      "text/html": [],
      "text/plain": [
       "<IPython.core.display.HTML object>"
      ]
     },
     "metadata": {},
     "output_type": "display_data"
    },
    {
     "data": {
      "text/html": [
       "<style type=\"text/css\">\n",
       "#T_9f61d_row10_col0, #T_9f61d_row10_col1, #T_9f61d_row10_col2, #T_9f61d_row10_col3, #T_9f61d_row10_col4, #T_9f61d_row10_col5, #T_9f61d_row10_col6 {\n",
       "  background: yellow;\n",
       "}\n",
       "</style>\n",
       "<table id=\"T_9f61d\">\n",
       "  <thead>\n",
       "    <tr>\n",
       "      <th class=\"blank level0\" >&nbsp;</th>\n",
       "      <th id=\"T_9f61d_level0_col0\" class=\"col_heading level0 col0\" >Accuracy</th>\n",
       "      <th id=\"T_9f61d_level0_col1\" class=\"col_heading level0 col1\" >AUC</th>\n",
       "      <th id=\"T_9f61d_level0_col2\" class=\"col_heading level0 col2\" >Recall</th>\n",
       "      <th id=\"T_9f61d_level0_col3\" class=\"col_heading level0 col3\" >Prec.</th>\n",
       "      <th id=\"T_9f61d_level0_col4\" class=\"col_heading level0 col4\" >F1</th>\n",
       "      <th id=\"T_9f61d_level0_col5\" class=\"col_heading level0 col5\" >Kappa</th>\n",
       "      <th id=\"T_9f61d_level0_col6\" class=\"col_heading level0 col6\" >MCC</th>\n",
       "    </tr>\n",
       "    <tr>\n",
       "      <th class=\"index_name level0\" >Fold</th>\n",
       "      <th class=\"blank col0\" >&nbsp;</th>\n",
       "      <th class=\"blank col1\" >&nbsp;</th>\n",
       "      <th class=\"blank col2\" >&nbsp;</th>\n",
       "      <th class=\"blank col3\" >&nbsp;</th>\n",
       "      <th class=\"blank col4\" >&nbsp;</th>\n",
       "      <th class=\"blank col5\" >&nbsp;</th>\n",
       "      <th class=\"blank col6\" >&nbsp;</th>\n",
       "    </tr>\n",
       "  </thead>\n",
       "  <tbody>\n",
       "    <tr>\n",
       "      <th id=\"T_9f61d_level0_row0\" class=\"row_heading level0 row0\" >0</th>\n",
       "      <td id=\"T_9f61d_row0_col0\" class=\"data row0 col0\" >0.8740</td>\n",
       "      <td id=\"T_9f61d_row0_col1\" class=\"data row0 col1\" >0.9280</td>\n",
       "      <td id=\"T_9f61d_row0_col2\" class=\"data row0 col2\" >0.6667</td>\n",
       "      <td id=\"T_9f61d_row0_col3\" class=\"data row0 col3\" >0.7785</td>\n",
       "      <td id=\"T_9f61d_row0_col4\" class=\"data row0 col4\" >0.7183</td>\n",
       "      <td id=\"T_9f61d_row0_col5\" class=\"data row0 col5\" >0.6377</td>\n",
       "      <td id=\"T_9f61d_row0_col6\" class=\"data row0 col6\" >0.6409</td>\n",
       "    </tr>\n",
       "    <tr>\n",
       "      <th id=\"T_9f61d_level0_row1\" class=\"row_heading level0 row1\" >1</th>\n",
       "      <td id=\"T_9f61d_row1_col0\" class=\"data row1 col0\" >0.8763</td>\n",
       "      <td id=\"T_9f61d_row1_col1\" class=\"data row1 col1\" >0.9295</td>\n",
       "      <td id=\"T_9f61d_row1_col2\" class=\"data row1 col2\" >0.6513</td>\n",
       "      <td id=\"T_9f61d_row1_col3\" class=\"data row1 col3\" >0.7981</td>\n",
       "      <td id=\"T_9f61d_row1_col4\" class=\"data row1 col4\" >0.7173</td>\n",
       "      <td id=\"T_9f61d_row1_col5\" class=\"data row1 col5\" >0.6391</td>\n",
       "      <td id=\"T_9f61d_row1_col6\" class=\"data row1 col6\" >0.6445</td>\n",
       "    </tr>\n",
       "    <tr>\n",
       "      <th id=\"T_9f61d_level0_row2\" class=\"row_heading level0 row2\" >2</th>\n",
       "      <td id=\"T_9f61d_row2_col0\" class=\"data row2 col0\" >0.8758</td>\n",
       "      <td id=\"T_9f61d_row2_col1\" class=\"data row2 col1\" >0.9252</td>\n",
       "      <td id=\"T_9f61d_row2_col2\" class=\"data row2 col2\" >0.6609</td>\n",
       "      <td id=\"T_9f61d_row2_col3\" class=\"data row2 col3\" >0.7895</td>\n",
       "      <td id=\"T_9f61d_row2_col4\" class=\"data row2 col4\" >0.7195</td>\n",
       "      <td id=\"T_9f61d_row2_col5\" class=\"data row2 col5\" >0.6406</td>\n",
       "      <td id=\"T_9f61d_row2_col6\" class=\"data row2 col6\" >0.6447</td>\n",
       "    </tr>\n",
       "    <tr>\n",
       "      <th id=\"T_9f61d_level0_row3\" class=\"row_heading level0 row3\" >3</th>\n",
       "      <td id=\"T_9f61d_row3_col0\" class=\"data row3 col0\" >0.8758</td>\n",
       "      <td id=\"T_9f61d_row3_col1\" class=\"data row3 col1\" >0.9320</td>\n",
       "      <td id=\"T_9f61d_row3_col2\" class=\"data row3 col2\" >0.6775</td>\n",
       "      <td id=\"T_9f61d_row3_col3\" class=\"data row3 col3\" >0.7775</td>\n",
       "      <td id=\"T_9f61d_row3_col4\" class=\"data row3 col4\" >0.7241</td>\n",
       "      <td id=\"T_9f61d_row3_col5\" class=\"data row3 col5\" >0.6444</td>\n",
       "      <td id=\"T_9f61d_row3_col6\" class=\"data row3 col6\" >0.6470</td>\n",
       "    </tr>\n",
       "    <tr>\n",
       "      <th id=\"T_9f61d_level0_row4\" class=\"row_heading level0 row4\" >4</th>\n",
       "      <td id=\"T_9f61d_row4_col0\" class=\"data row4 col0\" >0.8776</td>\n",
       "      <td id=\"T_9f61d_row4_col1\" class=\"data row4 col1\" >0.9256</td>\n",
       "      <td id=\"T_9f61d_row4_col2\" class=\"data row4 col2\" >0.6814</td>\n",
       "      <td id=\"T_9f61d_row4_col3\" class=\"data row4 col3\" >0.7819</td>\n",
       "      <td id=\"T_9f61d_row4_col4\" class=\"data row4 col4\" >0.7282</td>\n",
       "      <td id=\"T_9f61d_row4_col5\" class=\"data row4 col5\" >0.6497</td>\n",
       "      <td id=\"T_9f61d_row4_col6\" class=\"data row4 col6\" >0.6523</td>\n",
       "    </tr>\n",
       "    <tr>\n",
       "      <th id=\"T_9f61d_level0_row5\" class=\"row_heading level0 row5\" >5</th>\n",
       "      <td id=\"T_9f61d_row5_col0\" class=\"data row5 col0\" >0.8707</td>\n",
       "      <td id=\"T_9f61d_row5_col1\" class=\"data row5 col1\" >0.9265</td>\n",
       "      <td id=\"T_9f61d_row5_col2\" class=\"data row5 col2\" >0.6430</td>\n",
       "      <td id=\"T_9f61d_row5_col3\" class=\"data row5 col3\" >0.7809</td>\n",
       "      <td id=\"T_9f61d_row5_col4\" class=\"data row5 col4\" >0.7053</td>\n",
       "      <td id=\"T_9f61d_row5_col5\" class=\"data row5 col5\" >0.6234</td>\n",
       "      <td id=\"T_9f61d_row5_col6\" class=\"data row5 col6\" >0.6282</td>\n",
       "    </tr>\n",
       "    <tr>\n",
       "      <th id=\"T_9f61d_level0_row6\" class=\"row_heading level0 row6\" >6</th>\n",
       "      <td id=\"T_9f61d_row6_col0\" class=\"data row6 col0\" >0.8637</td>\n",
       "      <td id=\"T_9f61d_row6_col1\" class=\"data row6 col1\" >0.9120</td>\n",
       "      <td id=\"T_9f61d_row6_col2\" class=\"data row6 col2\" >0.6315</td>\n",
       "      <td id=\"T_9f61d_row6_col3\" class=\"data row6 col3\" >0.7616</td>\n",
       "      <td id=\"T_9f61d_row6_col4\" class=\"data row6 col4\" >0.6905</td>\n",
       "      <td id=\"T_9f61d_row6_col5\" class=\"data row6 col5\" >0.6041</td>\n",
       "      <td id=\"T_9f61d_row6_col6\" class=\"data row6 col6\" >0.6084</td>\n",
       "    </tr>\n",
       "    <tr>\n",
       "      <th id=\"T_9f61d_level0_row7\" class=\"row_heading level0 row7\" >7</th>\n",
       "      <td id=\"T_9f61d_row7_col0\" class=\"data row7 col0\" >0.8674</td>\n",
       "      <td id=\"T_9f61d_row7_col1\" class=\"data row7 col1\" >0.9259</td>\n",
       "      <td id=\"T_9f61d_row7_col2\" class=\"data row7 col2\" >0.6571</td>\n",
       "      <td id=\"T_9f61d_row7_col3\" class=\"data row7 col3\" >0.7605</td>\n",
       "      <td id=\"T_9f61d_row7_col4\" class=\"data row7 col4\" >0.7050</td>\n",
       "      <td id=\"T_9f61d_row7_col5\" class=\"data row7 col5\" >0.6201</td>\n",
       "      <td id=\"T_9f61d_row7_col6\" class=\"data row7 col6\" >0.6229</td>\n",
       "    </tr>\n",
       "    <tr>\n",
       "      <th id=\"T_9f61d_level0_row8\" class=\"row_heading level0 row8\" >8</th>\n",
       "      <td id=\"T_9f61d_row8_col0\" class=\"data row8 col0\" >0.8614</td>\n",
       "      <td id=\"T_9f61d_row8_col1\" class=\"data row8 col1\" >0.9214</td>\n",
       "      <td id=\"T_9f61d_row8_col2\" class=\"data row8 col2\" >0.6207</td>\n",
       "      <td id=\"T_9f61d_row8_col3\" class=\"data row8 col3\" >0.7606</td>\n",
       "      <td id=\"T_9f61d_row8_col4\" class=\"data row8 col4\" >0.6835</td>\n",
       "      <td id=\"T_9f61d_row8_col5\" class=\"data row8 col5\" >0.5960</td>\n",
       "      <td id=\"T_9f61d_row8_col6\" class=\"data row8 col6\" >0.6010</td>\n",
       "    </tr>\n",
       "    <tr>\n",
       "      <th id=\"T_9f61d_level0_row9\" class=\"row_heading level0 row9\" >9</th>\n",
       "      <td id=\"T_9f61d_row9_col0\" class=\"data row9 col0\" >0.8545</td>\n",
       "      <td id=\"T_9f61d_row9_col1\" class=\"data row9 col1\" >0.9216</td>\n",
       "      <td id=\"T_9f61d_row9_col2\" class=\"data row9 col2\" >0.6130</td>\n",
       "      <td id=\"T_9f61d_row9_col3\" class=\"data row9 col3\" >0.7390</td>\n",
       "      <td id=\"T_9f61d_row9_col4\" class=\"data row9 col4\" >0.6702</td>\n",
       "      <td id=\"T_9f61d_row9_col5\" class=\"data row9 col5\" >0.5779</td>\n",
       "      <td id=\"T_9f61d_row9_col6\" class=\"data row9 col6\" >0.5820</td>\n",
       "    </tr>\n",
       "    <tr>\n",
       "      <th id=\"T_9f61d_level0_row10\" class=\"row_heading level0 row10\" >Mean</th>\n",
       "      <td id=\"T_9f61d_row10_col0\" class=\"data row10 col0\" >0.8697</td>\n",
       "      <td id=\"T_9f61d_row10_col1\" class=\"data row10 col1\" >0.9247</td>\n",
       "      <td id=\"T_9f61d_row10_col2\" class=\"data row10 col2\" >0.6503</td>\n",
       "      <td id=\"T_9f61d_row10_col3\" class=\"data row10 col3\" >0.7728</td>\n",
       "      <td id=\"T_9f61d_row10_col4\" class=\"data row10 col4\" >0.7062</td>\n",
       "      <td id=\"T_9f61d_row10_col5\" class=\"data row10 col5\" >0.6233</td>\n",
       "      <td id=\"T_9f61d_row10_col6\" class=\"data row10 col6\" >0.6272</td>\n",
       "    </tr>\n",
       "    <tr>\n",
       "      <th id=\"T_9f61d_level0_row11\" class=\"row_heading level0 row11\" >Std</th>\n",
       "      <td id=\"T_9f61d_row11_col0\" class=\"data row11 col0\" >0.0073</td>\n",
       "      <td id=\"T_9f61d_row11_col1\" class=\"data row11 col1\" >0.0052</td>\n",
       "      <td id=\"T_9f61d_row11_col2\" class=\"data row11 col2\" >0.0219</td>\n",
       "      <td id=\"T_9f61d_row11_col3\" class=\"data row11 col3\" >0.0164</td>\n",
       "      <td id=\"T_9f61d_row11_col4\" class=\"data row11 col4\" >0.0182</td>\n",
       "      <td id=\"T_9f61d_row11_col5\" class=\"data row11 col5\" >0.0226</td>\n",
       "      <td id=\"T_9f61d_row11_col6\" class=\"data row11 col6\" >0.0222</td>\n",
       "    </tr>\n",
       "  </tbody>\n",
       "</table>\n"
      ],
      "text/plain": [
       "<pandas.io.formats.style.Styler at 0x2329f569ae0>"
      ]
     },
     "metadata": {},
     "output_type": "display_data"
    },
    {
     "data": {
      "application/vnd.jupyter.widget-view+json": {
       "model_id": "",
       "version_major": 2,
       "version_minor": 0
      },
      "text/plain": [
       "Processing:   0%|          | 0/7 [00:00<?, ?it/s]"
      ]
     },
     "metadata": {},
     "output_type": "display_data"
    },
    {
     "name": "stdout",
     "output_type": "stream",
     "text": [
      "Fitting 10 folds for each of 10 candidates, totalling 100 fits\n",
      "Original model was better than the tuned model, hence it will be returned. NOTE: The display metrics are for the tuned model (not the original one).\n"
     ]
    }
   ],
   "source": [
    "tuned_lgbm = tune_model(lgbm)"
   ]
  },
  {
   "cell_type": "markdown",
   "metadata": {
    "application/vnd.databricks.v1+cell": {
     "cellMetadata": {
      "byteLimit": 2048000,
      "rowLimit": 10000
     },
     "inputWidgets": {},
     "nuid": "9604a6c3-e23e-45b7-bea9-e97027cc8f27",
     "showTitle": false,
     "title": ""
    }
   },
   "source": [
    "Verificando o objeto criado"
   ]
  },
  {
   "cell_type": "code",
   "execution_count": 22,
   "metadata": {
    "application/vnd.databricks.v1+cell": {
     "cellMetadata": {
      "byteLimit": 2048000,
      "rowLimit": 10000
     },
     "inputWidgets": {},
     "nuid": "70c898c7-fd21-4609-90a4-2e784446e057",
     "showTitle": false,
     "title": ""
    }
   },
   "outputs": [
    {
     "name": "stdout",
     "output_type": "stream",
     "text": [
      "LGBMClassifier(boosting_type='gbdt', class_weight=None, colsample_bytree=1.0,\n",
      "               importance_type='split', learning_rate=0.1, max_depth=-1,\n",
      "               min_child_samples=20, min_child_weight=0.001, min_split_gain=0.0,\n",
      "               n_estimators=100, n_jobs=-1, num_leaves=31, objective=None,\n",
      "               random_state=123, reg_alpha=0.0, reg_lambda=0.0, subsample=1.0,\n",
      "               subsample_for_bin=200000, subsample_freq=0)\n"
     ]
    }
   ],
   "source": [
    "print(tuned_lgbm)"
   ]
  },
  {
   "cell_type": "markdown",
   "metadata": {
    "application/vnd.databricks.v1+cell": {
     "cellMetadata": {
      "byteLimit": 2048000,
      "rowLimit": 10000
     },
     "inputWidgets": {},
     "nuid": "27ff0046-26d2-43c3-a6c5-23cbf7dfc771",
     "showTitle": false,
     "title": ""
    }
   },
   "source": [
    "# Exibindo graficamente a performance do modelo"
   ]
  },
  {
   "cell_type": "markdown",
   "metadata": {
    "application/vnd.databricks.v1+cell": {
     "cellMetadata": {
      "byteLimit": 2048000,
      "rowLimit": 10000
     },
     "inputWidgets": {},
     "nuid": "6fce2897-329e-49c2-8a89-5e68cecfda11",
     "showTitle": false,
     "title": ""
    }
   },
   "source": [
    "Com esta função podemos analisar a performance do modelo através de gráficos."
   ]
  },
  {
   "cell_type": "markdown",
   "metadata": {
    "application/vnd.databricks.v1+cell": {
     "cellMetadata": {
      "byteLimit": 2048000,
      "rowLimit": 10000
     },
     "inputWidgets": {},
     "nuid": "fba72bad-d07f-4486-b175-89bf4fd872d0",
     "showTitle": false,
     "title": ""
    }
   },
   "source": [
    "### Feature Importance Plot"
   ]
  },
  {
   "cell_type": "code",
   "execution_count": 23,
   "metadata": {
    "application/vnd.databricks.v1+cell": {
     "cellMetadata": {
      "byteLimit": 2048000,
      "rowLimit": 10000
     },
     "inputWidgets": {},
     "nuid": "e2599bd7-5d9b-4abe-a801-eaa3169d4f01",
     "showTitle": false,
     "title": ""
    }
   },
   "outputs": [
    {
     "data": {
      "text/html": [],
      "text/plain": [
       "<IPython.core.display.HTML object>"
      ]
     },
     "metadata": {},
     "output_type": "display_data"
    },
    {
     "data": {
      "image/png": "[encoded data removed]",
      "text/plain": [
       "<Figure size 800x500 with 1 Axes>"
      ]
     },
     "metadata": {},
     "output_type": "display_data"
    }
   ],
   "source": [
    "plot_model(tuned_lgbm, plot='feature')"
   ]
  },
  {
   "cell_type": "markdown",
   "metadata": {
    "application/vnd.databricks.v1+cell": {
     "cellMetadata": {
      "byteLimit": 2048000,
      "rowLimit": 10000
     },
     "inputWidgets": {},
     "nuid": "35747858-8e78-4b1d-9542-340ca8beb6cf",
     "showTitle": false,
     "title": ""
    }
   },
   "source": [
    "### Matriz de confusão"
   ]
  },
  {
   "cell_type": "code",
   "execution_count": 24,
   "metadata": {
    "application/vnd.databricks.v1+cell": {
     "cellMetadata": {
      "byteLimit": 2048000,
      "rowLimit": 10000
     },
     "inputWidgets": {},
     "nuid": "96b6e246-996b-4db8-bafa-85bf7ad47839",
     "showTitle": false,
     "title": ""
    }
   },
   "outputs": [
    {
     "data": {
      "text/html": [],
      "text/plain": [
       "<IPython.core.display.HTML object>"
      ]
     },
     "metadata": {},
     "output_type": "display_data"
    },
    {
     "data": {
      "image/png": "[encoded data removed]",
      "text/plain": [
       "<Figure size 800x550 with 1 Axes>"
      ]
     },
     "metadata": {},
     "output_type": "display_data"
    }
   ],
   "source": [
    "plot_model(tuned_lgbm, plot = 'confusion_matrix')"
   ]
  },
  {
   "cell_type": "markdown",
   "metadata": {
    "application/vnd.databricks.v1+cell": {
     "cellMetadata": {
      "byteLimit": 2048000,
      "rowLimit": 10000
     },
     "inputWidgets": {},
     "nuid": "69fd352f-c915-4f91-a60d-262ff17f2332",
     "showTitle": false,
     "title": ""
    }
   },
   "source": [
    "A função evaluate_model exibe uma interface o usuário selecionar os gráficos disponíveis para um determinado modelo."
   ]
  },
  {
   "cell_type": "markdown",
   "metadata": {
    "application/vnd.databricks.v1+cell": {
     "cellMetadata": {},
     "inputWidgets": {},
     "nuid": "1d18beba-47e5-4aa5-af74-8fdf390bc82e",
     "showTitle": false,
     "title": ""
    }
   },
   "source": [
    "NOTE: This function only works in Jupyter Notebook or an equivalent environment."
   ]
  },
  {
   "cell_type": "code",
   "execution_count": 25,
   "metadata": {
    "application/vnd.databricks.v1+cell": {
     "cellMetadata": {
      "byteLimit": 2048000,
      "rowLimit": 10000
     },
     "inputWidgets": {},
     "nuid": "5bee8963-c6ca-40a4-b76b-2cf200e26b92",
     "showTitle": false,
     "title": ""
    }
   },
   "outputs": [
    {
     "data": {
      "application/vnd.jupyter.widget-view+json": {
       "model_id": "e6620149168341eebd351043368b16f0",
       "version_major": 2,
       "version_minor": 0
      },
      "text/plain": [
       "interactive(children=(ToggleButtons(description='Plot Type:', icons=('',), options=(('Pipeline Plot', 'pipelin…"
      ]
     },
     "metadata": {},
     "output_type": "display_data"
    }
   ],
   "source": [
    "evaluate_model(tuned_lgbm)"
   ]
  },
  {
   "cell_type": "markdown",
   "metadata": {
    "application/vnd.databricks.v1+cell": {
     "cellMetadata": {
      "byteLimit": 2048000,
      "rowLimit": 10000
     },
     "inputWidgets": {},
     "nuid": "9a312833-97e2-4576-881f-05ade9dd7740",
     "showTitle": false,
     "title": ""
    }
   },
   "source": [
    "# Predict utilizando a amostra de teste."
   ]
  },
  {
   "cell_type": "markdown",
   "metadata": {
    "application/vnd.databricks.v1+cell": {
     "cellMetadata": {
      "byteLimit": 2048000,
      "rowLimit": 10000
     },
     "inputWidgets": {},
     "nuid": "b74e2947-7838-46fb-b90c-34229c93468f",
     "showTitle": false,
     "title": ""
    }
   },
   "source": [
    "Esta função realiza a predição utilizando o modelo especificado utilizando a amostra separada de teste."
   ]
  },
  {
   "cell_type": "code",
   "execution_count": 26,
   "metadata": {
    "application/vnd.databricks.v1+cell": {
     "cellMetadata": {
      "byteLimit": 2048000,
      "rowLimit": 10000
     },
     "inputWidgets": {},
     "nuid": "05548a73-0fcb-4763-b87e-d1db6b3ba409",
     "showTitle": false,
     "title": ""
    }
   },
   "outputs": [
    {
     "data": {
      "text/html": [
       "<style type=\"text/css\">\n",
       "</style>\n",
       "<table id=\"T_33706\">\n",
       "  <thead>\n",
       "    <tr>\n",
       "      <th class=\"blank level0\" >&nbsp;</th>\n",
       "      <th id=\"T_33706_level0_col0\" class=\"col_heading level0 col0\" >Model</th>\n",
       "      <th id=\"T_33706_level0_col1\" class=\"col_heading level0 col1\" >Accuracy</th>\n",
       "      <th id=\"T_33706_level0_col2\" class=\"col_heading level0 col2\" >AUC</th>\n",
       "      <th id=\"T_33706_level0_col3\" class=\"col_heading level0 col3\" >Recall</th>\n",
       "      <th id=\"T_33706_level0_col4\" class=\"col_heading level0 col4\" >Prec.</th>\n",
       "      <th id=\"T_33706_level0_col5\" class=\"col_heading level0 col5\" >F1</th>\n",
       "      <th id=\"T_33706_level0_col6\" class=\"col_heading level0 col6\" >Kappa</th>\n",
       "      <th id=\"T_33706_level0_col7\" class=\"col_heading level0 col7\" >MCC</th>\n",
       "    </tr>\n",
       "  </thead>\n",
       "  <tbody>\n",
       "    <tr>\n",
       "      <th id=\"T_33706_level0_row0\" class=\"row_heading level0 row0\" >0</th>\n",
       "      <td id=\"T_33706_row0_col0\" class=\"data row0 col0\" >Light Gradient Boosting Machine</td>\n",
       "      <td id=\"T_33706_row0_col1\" class=\"data row0 col1\" >0.8692</td>\n",
       "      <td id=\"T_33706_row0_col2\" class=\"data row0 col2\" >0.9264</td>\n",
       "      <td id=\"T_33706_row0_col3\" class=\"data row0 col3\" >0.6449</td>\n",
       "      <td id=\"T_33706_row0_col4\" class=\"data row0 col4\" >0.7744</td>\n",
       "      <td id=\"T_33706_row0_col5\" class=\"data row0 col5\" >0.7038</td>\n",
       "      <td id=\"T_33706_row0_col6\" class=\"data row0 col6\" >0.6207</td>\n",
       "      <td id=\"T_33706_row0_col7\" class=\"data row0 col7\" >0.6250</td>\n",
       "    </tr>\n",
       "  </tbody>\n",
       "</table>\n"
      ],
      "text/plain": [
       "<pandas.io.formats.style.Styler at 0x232a1a13dc0>"
      ]
     },
     "metadata": {},
     "output_type": "display_data"
    },
    {
     "data": {
      "text/html": [
       "<div>\n",
       "<style scoped>\n",
       "    .dataframe tbody tr th:only-of-type {\n",
       "        vertical-align: middle;\n",
       "    }\n",
       "\n",
       "    .dataframe tbody tr th {\n",
       "        vertical-align: top;\n",
       "    }\n",
       "\n",
       "    .dataframe thead th {\n",
       "        text-align: right;\n",
       "    }\n",
       "</style>\n",
       "<table border=\"1\" class=\"dataframe\">\n",
       "  <thead>\n",
       "    <tr style=\"text-align: right;\">\n",
       "      <th></th>\n",
       "      <th>age</th>\n",
       "      <th>workclass</th>\n",
       "      <th>education</th>\n",
       "      <th>education-num</th>\n",
       "      <th>marital-status</th>\n",
       "      <th>occupation</th>\n",
       "      <th>relationship</th>\n",
       "      <th>race</th>\n",
       "      <th>sex</th>\n",
       "      <th>capital-gain</th>\n",
       "      <th>capital-loss</th>\n",
       "      <th>hours-per-week</th>\n",
       "      <th>native-country</th>\n",
       "      <th>income &gt;50K</th>\n",
       "      <th>prediction_label</th>\n",
       "      <th>prediction_score</th>\n",
       "    </tr>\n",
       "  </thead>\n",
       "  <tbody>\n",
       "    <tr>\n",
       "      <th>11658</th>\n",
       "      <td>33</td>\n",
       "      <td>Private</td>\n",
       "      <td>HS-grad</td>\n",
       "      <td>9</td>\n",
       "      <td>Married-civ-spouse</td>\n",
       "      <td>Craft-repair</td>\n",
       "      <td>Husband</td>\n",
       "      <td>White</td>\n",
       "      <td>Male</td>\n",
       "      <td>0</td>\n",
       "      <td>0</td>\n",
       "      <td>40</td>\n",
       "      <td>United-States</td>\n",
       "      <td>0</td>\n",
       "      <td>0</td>\n",
       "      <td>0.8013</td>\n",
       "    </tr>\n",
       "    <tr>\n",
       "      <th>12330</th>\n",
       "      <td>30</td>\n",
       "      <td>Private</td>\n",
       "      <td>Bachelors</td>\n",
       "      <td>13</td>\n",
       "      <td>Never-married</td>\n",
       "      <td>Adm-clerical</td>\n",
       "      <td>Not-in-family</td>\n",
       "      <td>White</td>\n",
       "      <td>Female</td>\n",
       "      <td>0</td>\n",
       "      <td>0</td>\n",
       "      <td>40</td>\n",
       "      <td>United-States</td>\n",
       "      <td>0</td>\n",
       "      <td>0</td>\n",
       "      <td>0.9677</td>\n",
       "    </tr>\n",
       "    <tr>\n",
       "      <th>19717</th>\n",
       "      <td>46</td>\n",
       "      <td>Private</td>\n",
       "      <td>Some-college</td>\n",
       "      <td>10</td>\n",
       "      <td>Married-civ-spouse</td>\n",
       "      <td>Farming-fishing</td>\n",
       "      <td>Wife</td>\n",
       "      <td>White</td>\n",
       "      <td>Female</td>\n",
       "      <td>0</td>\n",
       "      <td>0</td>\n",
       "      <td>20</td>\n",
       "      <td>United-States</td>\n",
       "      <td>0</td>\n",
       "      <td>0</td>\n",
       "      <td>0.8720</td>\n",
       "    </tr>\n",
       "    <tr>\n",
       "      <th>24985</th>\n",
       "      <td>23</td>\n",
       "      <td>Private</td>\n",
       "      <td>Some-college</td>\n",
       "      <td>10</td>\n",
       "      <td>Never-married</td>\n",
       "      <td>Adm-clerical</td>\n",
       "      <td>Not-in-family</td>\n",
       "      <td>White</td>\n",
       "      <td>Female</td>\n",
       "      <td>0</td>\n",
       "      <td>0</td>\n",
       "      <td>60</td>\n",
       "      <td>United-States</td>\n",
       "      <td>0</td>\n",
       "      <td>0</td>\n",
       "      <td>0.9871</td>\n",
       "    </tr>\n",
       "    <tr>\n",
       "      <th>20152</th>\n",
       "      <td>19</td>\n",
       "      <td>NaN</td>\n",
       "      <td>Some-college</td>\n",
       "      <td>10</td>\n",
       "      <td>Never-married</td>\n",
       "      <td>NaN</td>\n",
       "      <td>Own-child</td>\n",
       "      <td>White</td>\n",
       "      <td>Male</td>\n",
       "      <td>0</td>\n",
       "      <td>0</td>\n",
       "      <td>50</td>\n",
       "      <td>United-States</td>\n",
       "      <td>0</td>\n",
       "      <td>0</td>\n",
       "      <td>0.9989</td>\n",
       "    </tr>\n",
       "    <tr>\n",
       "      <th>...</th>\n",
       "      <td>...</td>\n",
       "      <td>...</td>\n",
       "      <td>...</td>\n",
       "      <td>...</td>\n",
       "      <td>...</td>\n",
       "      <td>...</td>\n",
       "      <td>...</td>\n",
       "      <td>...</td>\n",
       "      <td>...</td>\n",
       "      <td>...</td>\n",
       "      <td>...</td>\n",
       "      <td>...</td>\n",
       "      <td>...</td>\n",
       "      <td>...</td>\n",
       "      <td>...</td>\n",
       "      <td>...</td>\n",
       "    </tr>\n",
       "    <tr>\n",
       "      <th>8544</th>\n",
       "      <td>57</td>\n",
       "      <td>Local-gov</td>\n",
       "      <td>Bachelors</td>\n",
       "      <td>13</td>\n",
       "      <td>Married-civ-spouse</td>\n",
       "      <td>Exec-managerial</td>\n",
       "      <td>Husband</td>\n",
       "      <td>White</td>\n",
       "      <td>Male</td>\n",
       "      <td>0</td>\n",
       "      <td>0</td>\n",
       "      <td>45</td>\n",
       "      <td>United-States</td>\n",
       "      <td>0</td>\n",
       "      <td>1</td>\n",
       "      <td>0.7621</td>\n",
       "    </tr>\n",
       "    <tr>\n",
       "      <th>8454</th>\n",
       "      <td>60</td>\n",
       "      <td>Private</td>\n",
       "      <td>Some-college</td>\n",
       "      <td>10</td>\n",
       "      <td>Divorced</td>\n",
       "      <td>Sales</td>\n",
       "      <td>Not-in-family</td>\n",
       "      <td>White</td>\n",
       "      <td>Female</td>\n",
       "      <td>0</td>\n",
       "      <td>0</td>\n",
       "      <td>48</td>\n",
       "      <td>United-States</td>\n",
       "      <td>0</td>\n",
       "      <td>0</td>\n",
       "      <td>0.8862</td>\n",
       "    </tr>\n",
       "    <tr>\n",
       "      <th>10959</th>\n",
       "      <td>33</td>\n",
       "      <td>Private</td>\n",
       "      <td>HS-grad</td>\n",
       "      <td>9</td>\n",
       "      <td>Married-civ-spouse</td>\n",
       "      <td>Craft-repair</td>\n",
       "      <td>Husband</td>\n",
       "      <td>White</td>\n",
       "      <td>Male</td>\n",
       "      <td>3411</td>\n",
       "      <td>0</td>\n",
       "      <td>40</td>\n",
       "      <td>United-States</td>\n",
       "      <td>0</td>\n",
       "      <td>0</td>\n",
       "      <td>0.9754</td>\n",
       "    </tr>\n",
       "    <tr>\n",
       "      <th>5349</th>\n",
       "      <td>27</td>\n",
       "      <td>Private</td>\n",
       "      <td>HS-grad</td>\n",
       "      <td>9</td>\n",
       "      <td>Never-married</td>\n",
       "      <td>Machine-op-inspct</td>\n",
       "      <td>Not-in-family</td>\n",
       "      <td>White</td>\n",
       "      <td>Female</td>\n",
       "      <td>0</td>\n",
       "      <td>0</td>\n",
       "      <td>40</td>\n",
       "      <td>United-States</td>\n",
       "      <td>0</td>\n",
       "      <td>0</td>\n",
       "      <td>0.9949</td>\n",
       "    </tr>\n",
       "    <tr>\n",
       "      <th>21660</th>\n",
       "      <td>24</td>\n",
       "      <td>Private</td>\n",
       "      <td>HS-grad</td>\n",
       "      <td>9</td>\n",
       "      <td>Never-married</td>\n",
       "      <td>Other-service</td>\n",
       "      <td>Not-in-family</td>\n",
       "      <td>White</td>\n",
       "      <td>Female</td>\n",
       "      <td>0</td>\n",
       "      <td>0</td>\n",
       "      <td>30</td>\n",
       "      <td>United-States</td>\n",
       "      <td>0</td>\n",
       "      <td>0</td>\n",
       "      <td>0.9953</td>\n",
       "    </tr>\n",
       "  </tbody>\n",
       "</table>\n",
       "<p>9280 rows × 16 columns</p>\n",
       "</div>"
      ],
      "text/plain": [
       "       age  workclass     education  education-num      marital-status  \\\n",
       "11658   33    Private       HS-grad              9  Married-civ-spouse   \n",
       "12330   30    Private     Bachelors             13       Never-married   \n",
       "19717   46    Private  Some-college             10  Married-civ-spouse   \n",
       "24985   23    Private  Some-college             10       Never-married   \n",
       "20152   19        NaN  Some-college             10       Never-married   \n",
       "...    ...        ...           ...            ...                 ...   \n",
       "8544    57  Local-gov     Bachelors             13  Married-civ-spouse   \n",
       "8454    60    Private  Some-college             10            Divorced   \n",
       "10959   33    Private       HS-grad              9  Married-civ-spouse   \n",
       "5349    27    Private       HS-grad              9       Never-married   \n",
       "21660   24    Private       HS-grad              9       Never-married   \n",
       "\n",
       "              occupation   relationship   race     sex  capital-gain  \\\n",
       "11658       Craft-repair        Husband  White    Male             0   \n",
       "12330       Adm-clerical  Not-in-family  White  Female             0   \n",
       "19717    Farming-fishing           Wife  White  Female             0   \n",
       "24985       Adm-clerical  Not-in-family  White  Female             0   \n",
       "20152                NaN      Own-child  White    Male             0   \n",
       "...                  ...            ...    ...     ...           ...   \n",
       "8544     Exec-managerial        Husband  White    Male             0   \n",
       "8454               Sales  Not-in-family  White  Female             0   \n",
       "10959       Craft-repair        Husband  White    Male          3411   \n",
       "5349   Machine-op-inspct  Not-in-family  White  Female             0   \n",
       "21660      Other-service  Not-in-family  White  Female             0   \n",
       "\n",
       "       capital-loss  hours-per-week native-country  income >50K  \\\n",
       "11658             0              40  United-States            0   \n",
       "12330             0              40  United-States            0   \n",
       "19717             0              20  United-States            0   \n",
       "24985             0              60  United-States            0   \n",
       "20152             0              50  United-States            0   \n",
       "...             ...             ...            ...          ...   \n",
       "8544              0              45  United-States            0   \n",
       "8454              0              48  United-States            0   \n",
       "10959             0              40  United-States            0   \n",
       "5349              0              40  United-States            0   \n",
       "21660             0              30  United-States            0   \n",
       "\n",
       "       prediction_label  prediction_score  \n",
       "11658                 0            0.8013  \n",
       "12330                 0            0.9677  \n",
       "19717                 0            0.8720  \n",
       "24985                 0            0.9871  \n",
       "20152                 0            0.9989  \n",
       "...                 ...               ...  \n",
       "8544                  1            0.7621  \n",
       "8454                  0            0.8862  \n",
       "10959                 0            0.9754  \n",
       "5349                  0            0.9949  \n",
       "21660                 0            0.9953  \n",
       "\n",
       "[9280 rows x 16 columns]"
      ]
     },
     "execution_count": 26,
     "metadata": {},
     "output_type": "execute_result"
    }
   ],
   "source": [
    "predict_model(tuned_lgbm)"
   ]
  },
  {
   "cell_type": "markdown",
   "metadata": {
    "application/vnd.databricks.v1+cell": {
     "cellMetadata": {
      "byteLimit": 2048000,
      "rowLimit": 10000
     },
     "inputWidgets": {},
     "nuid": "89d0db72-b0b1-4184-a892-e6099b3bcadd",
     "showTitle": false,
     "title": ""
    }
   },
   "source": [
    "# Predict utilizando os dados de validação."
   ]
  },
  {
   "cell_type": "code",
   "execution_count": 27,
   "metadata": {
    "application/vnd.databricks.v1+cell": {
     "cellMetadata": {
      "byteLimit": 2048000,
      "rowLimit": 10000
     },
     "inputWidgets": {},
     "nuid": "63e90359-35ac-4125-b735-34bb5d02d70d",
     "showTitle": false,
     "title": ""
    }
   },
   "outputs": [
    {
     "data": {
      "text/html": [
       "<style type=\"text/css\">\n",
       "</style>\n",
       "<table id=\"T_fc425\">\n",
       "  <thead>\n",
       "    <tr>\n",
       "      <th class=\"blank level0\" >&nbsp;</th>\n",
       "      <th id=\"T_fc425_level0_col0\" class=\"col_heading level0 col0\" >Model</th>\n",
       "      <th id=\"T_fc425_level0_col1\" class=\"col_heading level0 col1\" >Accuracy</th>\n",
       "      <th id=\"T_fc425_level0_col2\" class=\"col_heading level0 col2\" >AUC</th>\n",
       "      <th id=\"T_fc425_level0_col3\" class=\"col_heading level0 col3\" >Recall</th>\n",
       "      <th id=\"T_fc425_level0_col4\" class=\"col_heading level0 col4\" >Prec.</th>\n",
       "      <th id=\"T_fc425_level0_col5\" class=\"col_heading level0 col5\" >F1</th>\n",
       "      <th id=\"T_fc425_level0_col6\" class=\"col_heading level0 col6\" >Kappa</th>\n",
       "      <th id=\"T_fc425_level0_col7\" class=\"col_heading level0 col7\" >MCC</th>\n",
       "    </tr>\n",
       "  </thead>\n",
       "  <tbody>\n",
       "    <tr>\n",
       "      <th id=\"T_fc425_level0_row0\" class=\"row_heading level0 row0\" >0</th>\n",
       "      <td id=\"T_fc425_row0_col0\" class=\"data row0 col0\" >Light Gradient Boosting Machine</td>\n",
       "      <td id=\"T_fc425_row0_col1\" class=\"data row0 col1\" >0.8851</td>\n",
       "      <td id=\"T_fc425_row0_col2\" class=\"data row0 col2\" >0.9327</td>\n",
       "      <td id=\"T_fc425_row0_col3\" class=\"data row0 col3\" >0.6761</td>\n",
       "      <td id=\"T_fc425_row0_col4\" class=\"data row0 col4\" >0.8117</td>\n",
       "      <td id=\"T_fc425_row0_col5\" class=\"data row0 col5\" >0.7377</td>\n",
       "      <td id=\"T_fc425_row0_col6\" class=\"data row0 col6\" >0.6650</td>\n",
       "      <td id=\"T_fc425_row0_col7\" class=\"data row0 col7\" >0.6695</td>\n",
       "    </tr>\n",
       "  </tbody>\n",
       "</table>\n"
      ],
      "text/plain": [
       "<pandas.io.formats.style.Styler at 0x232a1b760e0>"
      ]
     },
     "metadata": {},
     "output_type": "display_data"
    },
    {
     "data": {
      "text/html": [
       "<div>\n",
       "<style scoped>\n",
       "    .dataframe tbody tr th:only-of-type {\n",
       "        vertical-align: middle;\n",
       "    }\n",
       "\n",
       "    .dataframe tbody tr th {\n",
       "        vertical-align: top;\n",
       "    }\n",
       "\n",
       "    .dataframe thead th {\n",
       "        text-align: right;\n",
       "    }\n",
       "</style>\n",
       "<table border=\"1\" class=\"dataframe\">\n",
       "  <thead>\n",
       "    <tr style=\"text-align: right;\">\n",
       "      <th></th>\n",
       "      <th>age</th>\n",
       "      <th>workclass</th>\n",
       "      <th>education</th>\n",
       "      <th>education-num</th>\n",
       "      <th>marital-status</th>\n",
       "      <th>occupation</th>\n",
       "      <th>relationship</th>\n",
       "      <th>race</th>\n",
       "      <th>sex</th>\n",
       "      <th>capital-gain</th>\n",
       "      <th>capital-loss</th>\n",
       "      <th>hours-per-week</th>\n",
       "      <th>native-country</th>\n",
       "      <th>income &gt;50K</th>\n",
       "      <th>prediction_label</th>\n",
       "      <th>prediction_score</th>\n",
       "    </tr>\n",
       "  </thead>\n",
       "  <tbody>\n",
       "    <tr>\n",
       "      <th>0</th>\n",
       "      <td>42</td>\n",
       "      <td>Private</td>\n",
       "      <td>Bachelors</td>\n",
       "      <td>13</td>\n",
       "      <td>Married-civ-spouse</td>\n",
       "      <td>Exec-managerial</td>\n",
       "      <td>Husband</td>\n",
       "      <td>White</td>\n",
       "      <td>Male</td>\n",
       "      <td>5178</td>\n",
       "      <td>0</td>\n",
       "      <td>40</td>\n",
       "      <td>United-States</td>\n",
       "      <td>1</td>\n",
       "      <td>1</td>\n",
       "      <td>0.9841</td>\n",
       "    </tr>\n",
       "    <tr>\n",
       "      <th>1</th>\n",
       "      <td>43</td>\n",
       "      <td>Private</td>\n",
       "      <td>Some-college</td>\n",
       "      <td>10</td>\n",
       "      <td>Married-civ-spouse</td>\n",
       "      <td>Tech-support</td>\n",
       "      <td>Husband</td>\n",
       "      <td>White</td>\n",
       "      <td>Male</td>\n",
       "      <td>0</td>\n",
       "      <td>0</td>\n",
       "      <td>40</td>\n",
       "      <td>United-States</td>\n",
       "      <td>1</td>\n",
       "      <td>1</td>\n",
       "      <td>0.5689</td>\n",
       "    </tr>\n",
       "    <tr>\n",
       "      <th>2</th>\n",
       "      <td>67</td>\n",
       "      <td>NaN</td>\n",
       "      <td>10th</td>\n",
       "      <td>6</td>\n",
       "      <td>Married-civ-spouse</td>\n",
       "      <td>NaN</td>\n",
       "      <td>Husband</td>\n",
       "      <td>White</td>\n",
       "      <td>Male</td>\n",
       "      <td>0</td>\n",
       "      <td>0</td>\n",
       "      <td>2</td>\n",
       "      <td>United-States</td>\n",
       "      <td>0</td>\n",
       "      <td>0</td>\n",
       "      <td>0.9659</td>\n",
       "    </tr>\n",
       "    <tr>\n",
       "      <th>3</th>\n",
       "      <td>49</td>\n",
       "      <td>Local-gov</td>\n",
       "      <td>Assoc-voc</td>\n",
       "      <td>11</td>\n",
       "      <td>Married-civ-spouse</td>\n",
       "      <td>Craft-repair</td>\n",
       "      <td>Husband</td>\n",
       "      <td>Black</td>\n",
       "      <td>Male</td>\n",
       "      <td>0</td>\n",
       "      <td>0</td>\n",
       "      <td>40</td>\n",
       "      <td>United-States</td>\n",
       "      <td>1</td>\n",
       "      <td>1</td>\n",
       "      <td>0.5065</td>\n",
       "    </tr>\n",
       "    <tr>\n",
       "      <th>4</th>\n",
       "      <td>20</td>\n",
       "      <td>Private</td>\n",
       "      <td>Some-college</td>\n",
       "      <td>10</td>\n",
       "      <td>Never-married</td>\n",
       "      <td>Adm-clerical</td>\n",
       "      <td>Own-child</td>\n",
       "      <td>White</td>\n",
       "      <td>Female</td>\n",
       "      <td>0</td>\n",
       "      <td>1719</td>\n",
       "      <td>28</td>\n",
       "      <td>United-States</td>\n",
       "      <td>0</td>\n",
       "      <td>0</td>\n",
       "      <td>0.9998</td>\n",
       "    </tr>\n",
       "  </tbody>\n",
       "</table>\n",
       "</div>"
      ],
      "text/plain": [
       "   age  workclass     education  education-num      marital-status  \\\n",
       "0   42    Private     Bachelors             13  Married-civ-spouse   \n",
       "1   43    Private  Some-college             10  Married-civ-spouse   \n",
       "2   67        NaN          10th              6  Married-civ-spouse   \n",
       "3   49  Local-gov     Assoc-voc             11  Married-civ-spouse   \n",
       "4   20    Private  Some-college             10       Never-married   \n",
       "\n",
       "        occupation relationship   race     sex  capital-gain  capital-loss  \\\n",
       "0  Exec-managerial      Husband  White    Male          5178             0   \n",
       "1     Tech-support      Husband  White    Male             0             0   \n",
       "2              NaN      Husband  White    Male             0             0   \n",
       "3     Craft-repair      Husband  Black    Male             0             0   \n",
       "4     Adm-clerical    Own-child  White  Female             0          1719   \n",
       "\n",
       "   hours-per-week native-country  income >50K  prediction_label  \\\n",
       "0              40  United-States            1                 1   \n",
       "1              40  United-States            1                 1   \n",
       "2               2  United-States            0                 0   \n",
       "3              40  United-States            1                 1   \n",
       "4              28  United-States            0                 0   \n",
       "\n",
       "   prediction_score  \n",
       "0            0.9841  \n",
       "1            0.5689  \n",
       "2            0.9659  \n",
       "3            0.5065  \n",
       "4            0.9998  "
      ]
     },
     "execution_count": 27,
     "metadata": {},
     "output_type": "execute_result"
    }
   ],
   "source": [
    "validation_predictions = predict_model(tuned_lgbm, data=data_validation)\n",
    "validation_predictions.head()"
   ]
  },
  {
   "cell_type": "code",
   "execution_count": 33,
   "metadata": {},
   "outputs": [],
   "source": [
    "from sklearn.metrics import accuracy_score"
   ]
  },
  {
   "cell_type": "code",
   "execution_count": 37,
   "metadata": {},
   "outputs": [
    {
     "data": {
      "text/plain": [
       "0.8851351351351351"
      ]
     },
     "execution_count": 37,
     "metadata": {},
     "output_type": "execute_result"
    }
   ],
   "source": [
    "accuracy_score(validation_predictions['income >50K'], validation_predictions['prediction_label'])"
   ]
  },
  {
   "cell_type": "markdown",
   "metadata": {
    "application/vnd.databricks.v1+cell": {
     "cellMetadata": {
      "byteLimit": 2048000,
      "rowLimit": 10000
     },
     "inputWidgets": {},
     "nuid": "9843cea3-0787-4ec2-b9e4-ed15f97645b9",
     "showTitle": false,
     "title": ""
    }
   },
   "source": [
    "# Finalize Modelo"
   ]
  },
  {
   "cell_type": "markdown",
   "metadata": {
    "application/vnd.databricks.v1+cell": {
     "cellMetadata": {},
     "inputWidgets": {},
     "nuid": "3f10c2c5-bbff-444a-8d3e-b3ac4ddb1516",
     "showTitle": false,
     "title": ""
    }
   },
   "source": [
    "Esta função treina o algoritmo e cria o modelo utilizando todo o conjunto de dados."
   ]
  },
  {
   "cell_type": "code",
   "execution_count": 28,
   "metadata": {
    "application/vnd.databricks.v1+cell": {
     "cellMetadata": {
      "byteLimit": 2048000,
      "rowLimit": 10000
     },
     "inputWidgets": {},
     "nuid": "83e975a4-a55c-4330-9f3e-7fcaee9636fa",
     "showTitle": false,
     "title": ""
    }
   },
   "outputs": [],
   "source": [
    "final_lgbm = finalize_model(tuned_lgbm)"
   ]
  },
  {
   "cell_type": "code",
   "execution_count": 29,
   "metadata": {
    "application/vnd.databricks.v1+cell": {
     "cellMetadata": {
      "byteLimit": 2048000,
      "rowLimit": 10000
     },
     "inputWidgets": {},
     "nuid": "95591134-c18a-4795-b32c-3d68f41fac64",
     "showTitle": false,
     "title": ""
    }
   },
   "outputs": [
    {
     "name": "stdout",
     "output_type": "stream",
     "text": [
      "Pipeline(memory=FastMemory(location=C:\\Users\\felip\\AppData\\Local\\Temp\\joblib),\n",
      "         steps=[('numerical_imputer',\n",
      "                 TransformerWrapper(exclude=None,\n",
      "                                    include=['age', 'education-num',\n",
      "                                             'capital-gain', 'capital-loss',\n",
      "                                             'hours-per-week'],\n",
      "                                    transformer=SimpleImputer(add_indicator=False,\n",
      "                                                              copy=True,\n",
      "                                                              fill_value=None,\n",
      "                                                              keep_empty_features=False,\n",
      "                                                              missing_values=nan,\n",
      "                                                              strategy='mean',...\n",
      "                 LGBMClassifier(boosting_type='gbdt', class_weight=None,\n",
      "                                colsample_bytree=1.0, importance_type='split',\n",
      "                                learning_rate=0.1, max_depth=-1,\n",
      "                                min_child_samples=20, min_child_weight=0.001,\n",
      "                                min_split_gain=0.0, n_estimators=100, n_jobs=-1,\n",
      "                                num_leaves=31, objective=None, random_state=123,\n",
      "                                reg_alpha=0.0, reg_lambda=0.0, subsample=1.0,\n",
      "                                subsample_for_bin=200000, subsample_freq=0))],\n",
      "         verbose=False)\n"
     ]
    }
   ],
   "source": [
    "print(final_lgbm)"
   ]
  },
  {
   "cell_type": "markdown",
   "metadata": {
    "application/vnd.databricks.v1+cell": {
     "cellMetadata": {},
     "inputWidgets": {},
     "nuid": "864e90f0-d1c4-44f4-9cb3-b32b20a887d6",
     "showTitle": false,
     "title": ""
    }
   },
   "source": [
    "# Save model"
   ]
  },
  {
   "cell_type": "markdown",
   "metadata": {
    "application/vnd.databricks.v1+cell": {
     "cellMetadata": {
      "byteLimit": 2048000,
      "rowLimit": 10000
     },
     "inputWidgets": {},
     "nuid": "b1e0b041-a447-415f-8bbe-3dd107c0b2ba",
     "showTitle": false,
     "title": ""
    }
   },
   "source": [
    "Esta função realiza a persistencia do modelo em disco."
   ]
  },
  {
   "cell_type": "code",
   "execution_count": 30,
   "metadata": {
    "application/vnd.databricks.v1+cell": {
     "cellMetadata": {
      "byteLimit": 2048000,
      "rowLimit": 10000
     },
     "inputWidgets": {},
     "nuid": "99872ee6-4434-4d5d-b683-5e2d8025dd91",
     "showTitle": false,
     "title": ""
    }
   },
   "outputs": [
    {
     "name": "stdout",
     "output_type": "stream",
     "text": [
      "Transformation Pipeline and Model Successfully Saved\n"
     ]
    },
    {
     "data": {
      "text/plain": [
       "(Pipeline(memory=FastMemory(location=C:\\Users\\felip\\AppData\\Local\\Temp\\joblib),\n",
       "          steps=[('numerical_imputer',\n",
       "                  TransformerWrapper(exclude=None,\n",
       "                                     include=['age', 'education-num',\n",
       "                                              'capital-gain', 'capital-loss',\n",
       "                                              'hours-per-week'],\n",
       "                                     transformer=SimpleImputer(add_indicator=False,\n",
       "                                                               copy=True,\n",
       "                                                               fill_value=None,\n",
       "                                                               keep_empty_features=False,\n",
       "                                                               missing_values=nan,\n",
       "                                                               strategy='mean',...\n",
       "                  LGBMClassifier(boosting_type='gbdt', class_weight=None,\n",
       "                                 colsample_bytree=1.0, importance_type='split',\n",
       "                                 learning_rate=0.1, max_depth=-1,\n",
       "                                 min_child_samples=20, min_child_weight=0.001,\n",
       "                                 min_split_gain=0.0, n_estimators=100, n_jobs=-1,\n",
       "                                 num_leaves=31, objective=None, random_state=123,\n",
       "                                 reg_alpha=0.0, reg_lambda=0.0, subsample=1.0,\n",
       "                                 subsample_for_bin=200000, subsample_freq=0))],\n",
       "          verbose=False),\n",
       " 'Final LGBM Model.pkl')"
      ]
     },
     "execution_count": 30,
     "metadata": {},
     "output_type": "execute_result"
    }
   ],
   "source": [
    "save_model(final_lgbm,'Final LGBM Model')"
   ]
  }
 ],
 "metadata": {
  "application/vnd.databricks.v1+notebook": {
   "dashboards": [],
   "language": "python",
   "notebookMetadata": {
    "pythonIndentUnit": 4
   },
   "notebookName": "PyCaret Notebook",
   "widgets": {}
  },
  "kernelspec": {
   "display_name": "Python 3 (ipykernel)",
   "language": "python",
   "name": "python3"
  },
  "language_info": {
   "codemirror_mode": {
    "name": "ipython",
    "version": 3
   },
   "file_extension": ".py",
   "mimetype": "text/x-python",
   "name": "python",
   "nbconvert_exporter": "python",
   "pygments_lexer": "ipython3",
   "version": "3.10.9"
  }
 },
 "nbformat": 4,
 "nbformat_minor": 4
}
