{
 "cells": [
  {
   "cell_type": "markdown",
   "metadata": {},
   "source": [
    "<img src=\"https://s3-sa-east-1.amazonaws.com/preditiva.ai/diversos/preditiva_assinatura.jpg\">\n",
    "\n",
    "# Regressão Linear Múltipla"
   ]
  },
  {
   "cell_type": "markdown",
   "metadata": {},
   "source": [
    "## Hands-On: Variáveis Qualitativas"
   ]
  },
  {
   "cell_type": "code",
   "execution_count": 1,
   "metadata": {},
   "outputs": [],
   "source": [
    "# Pacotes de manipulação de dados\n",
    "import numpy as np\n",
    "import pandas as pd\n",
    "\n",
    "# Pacotes gráficos\n",
    "import matplotlib.pyplot as plt\n",
    "import seaborn as sns\n",
    "\n",
    "# Pacotes de modelagem\n",
    "import statsmodels.api as sm"
   ]
  },
  {
   "cell_type": "markdown",
   "metadata": {},
   "source": [
    "### Importação da base de dados"
   ]
  },
  {
   "cell_type": "code",
   "execution_count": 2,
   "metadata": {},
   "outputs": [
    {
     "data": {
      "text/plain": [
       "(46, 5)"
      ]
     },
     "execution_count": 2,
     "metadata": {},
     "output_type": "execute_result"
    }
   ],
   "source": [
    "df = pd.read_csv('base_funcionarios_v4.csv', \n",
    "                 sep=',', \n",
    "                 index_col=0)\n",
    "df.shape"
   ]
  },
  {
   "cell_type": "code",
   "execution_count": 3,
   "metadata": {},
   "outputs": [
    {
     "data": {
      "text/html": [
       "<div>\n",
       "<style scoped>\n",
       "    .dataframe tbody tr th:only-of-type {\n",
       "        vertical-align: middle;\n",
       "    }\n",
       "\n",
       "    .dataframe tbody tr th {\n",
       "        vertical-align: top;\n",
       "    }\n",
       "\n",
       "    .dataframe thead th {\n",
       "        text-align: right;\n",
       "    }\n",
       "</style>\n",
       "<table border=\"1\" class=\"dataframe\">\n",
       "  <thead>\n",
       "    <tr style=\"text-align: right;\">\n",
       "      <th></th>\n",
       "      <th>Salario</th>\n",
       "      <th>Anos_Educ_Superior</th>\n",
       "      <th>Tempo_Empresa</th>\n",
       "      <th>Tempo_de_Carreira</th>\n",
       "      <th>Possui_Skill_Dados</th>\n",
       "    </tr>\n",
       "  </thead>\n",
       "  <tbody>\n",
       "    <tr>\n",
       "      <th>39</th>\n",
       "      <td>8082.2</td>\n",
       "      <td>4</td>\n",
       "      <td>20</td>\n",
       "      <td>43.252417</td>\n",
       "      <td>Sim</td>\n",
       "    </tr>\n",
       "    <tr>\n",
       "      <th>25</th>\n",
       "      <td>4645.9</td>\n",
       "      <td>0</td>\n",
       "      <td>5</td>\n",
       "      <td>12.640970</td>\n",
       "      <td>Não</td>\n",
       "    </tr>\n",
       "    <tr>\n",
       "      <th>26</th>\n",
       "      <td>5736.9</td>\n",
       "      <td>7</td>\n",
       "      <td>0</td>\n",
       "      <td>8.222066</td>\n",
       "      <td>Não</td>\n",
       "    </tr>\n",
       "    <tr>\n",
       "      <th>44</th>\n",
       "      <td>6235.4</td>\n",
       "      <td>4</td>\n",
       "      <td>6</td>\n",
       "      <td>6.578993</td>\n",
       "      <td>Não</td>\n",
       "    </tr>\n",
       "    <tr>\n",
       "      <th>35</th>\n",
       "      <td>9857.1</td>\n",
       "      <td>8</td>\n",
       "      <td>12</td>\n",
       "      <td>23.448417</td>\n",
       "      <td>Sim</td>\n",
       "    </tr>\n",
       "  </tbody>\n",
       "</table>\n",
       "</div>"
      ],
      "text/plain": [
       "    Salario  Anos_Educ_Superior  Tempo_Empresa  Tempo_de_Carreira  \\\n",
       "39   8082.2                   4             20          43.252417   \n",
       "25   4645.9                   0              5          12.640970   \n",
       "26   5736.9                   7              0           8.222066   \n",
       "44   6235.4                   4              6           6.578993   \n",
       "35   9857.1                   8             12          23.448417   \n",
       "\n",
       "   Possui_Skill_Dados  \n",
       "39                Sim  \n",
       "25                Não  \n",
       "26                Não  \n",
       "44                Não  \n",
       "35                Sim  "
      ]
     },
     "execution_count": 3,
     "metadata": {},
     "output_type": "execute_result"
    }
   ],
   "source": [
    "df.sample(5, random_state=42)"
   ]
  },
  {
   "cell_type": "markdown",
   "metadata": {},
   "source": [
    "### Análise Exploratória dos Dados"
   ]
  },
  {
   "cell_type": "code",
   "execution_count": 4,
   "metadata": {},
   "outputs": [
    {
     "data": {
      "image/png": "[encoded data removed]",
      "text/plain": [
       "<Figure size 1080x360 with 3 Axes>"
      ]
     },
     "metadata": {
      "needs_background": "light"
     },
     "output_type": "display_data"
    }
   ],
   "source": [
    "fig, ((ax1,ax2,ax3)) = plt.subplots(1,3,sharey=True,figsize=(15,5))\n",
    "ax1.scatter(df['Anos_Educ_Superior'],df['Salario']);\n",
    "ax2.scatter(df['Tempo_Empresa'],df['Salario']);\n",
    "ax3.scatter(df['Tempo_de_Carreira'],df['Salario']);"
   ]
  },
  {
   "cell_type": "code",
   "execution_count": 5,
   "metadata": {},
   "outputs": [
    {
     "data": {
      "image/png": "[encoded data removed]",
      "text/plain": [
       "<Figure size 432x288 with 1 Axes>"
      ]
     },
     "metadata": {
      "needs_background": "light"
     },
     "output_type": "display_data"
    }
   ],
   "source": [
    "sns.boxplot(x=df['Possui_Skill_Dados'], \n",
    "            y=df['Salario']);"
   ]
  },
  {
   "cell_type": "markdown",
   "metadata": {},
   "source": [
    "Como a distribuição entre quem tem e não tem skill de dados é tão diferente, é praticamente certo que essa variável contribuirá para que o modelo explique ainda mais a variabilidade da variável salário, ou seja, aumente o R². **Na prática**: as estimativas realizadas pelo modelo serão ainda melhores."
   ]
  },
  {
   "cell_type": "code",
   "execution_count": 6,
   "metadata": {},
   "outputs": [
    {
     "data": {
      "image/png": "[encoded data removed]",
      "text/plain": [
       "<Figure size 576x432 with 2 Axes>"
      ]
     },
     "metadata": {
      "needs_background": "light"
     },
     "output_type": "display_data"
    }
   ],
   "source": [
    "fig = plt.figure(figsize=(8,6))\n",
    "sns.heatmap(df.corr(),\n",
    "            cmap='RdBu_r',\n",
    "            vmin=-1, vmax=1,\n",
    "            annot=True);"
   ]
  },
  {
   "cell_type": "markdown",
   "metadata": {},
   "source": [
    "### Preparação dos Dados"
   ]
  },
  {
   "cell_type": "markdown",
   "metadata": {},
   "source": [
    "#### Criando variáveis Dummy"
   ]
  },
  {
   "cell_type": "code",
   "execution_count": 7,
   "metadata": {},
   "outputs": [
    {
     "data": {
      "text/html": [
       "<div>\n",
       "<style scoped>\n",
       "    .dataframe tbody tr th:only-of-type {\n",
       "        vertical-align: middle;\n",
       "    }\n",
       "\n",
       "    .dataframe tbody tr th {\n",
       "        vertical-align: top;\n",
       "    }\n",
       "\n",
       "    .dataframe thead th {\n",
       "        text-align: right;\n",
       "    }\n",
       "</style>\n",
       "<table border=\"1\" class=\"dataframe\">\n",
       "  <thead>\n",
       "    <tr style=\"text-align: right;\">\n",
       "      <th></th>\n",
       "      <th>Salario</th>\n",
       "      <th>Anos_Educ_Superior</th>\n",
       "      <th>Tempo_Empresa</th>\n",
       "      <th>Tempo_de_Carreira</th>\n",
       "      <th>Possui_Skill_Dados</th>\n",
       "    </tr>\n",
       "  </thead>\n",
       "  <tbody>\n",
       "    <tr>\n",
       "      <th>39</th>\n",
       "      <td>8082.2</td>\n",
       "      <td>4</td>\n",
       "      <td>20</td>\n",
       "      <td>43.252417</td>\n",
       "      <td>Sim</td>\n",
       "    </tr>\n",
       "    <tr>\n",
       "      <th>25</th>\n",
       "      <td>4645.9</td>\n",
       "      <td>0</td>\n",
       "      <td>5</td>\n",
       "      <td>12.640970</td>\n",
       "      <td>Não</td>\n",
       "    </tr>\n",
       "    <tr>\n",
       "      <th>26</th>\n",
       "      <td>5736.9</td>\n",
       "      <td>7</td>\n",
       "      <td>0</td>\n",
       "      <td>8.222066</td>\n",
       "      <td>Não</td>\n",
       "    </tr>\n",
       "    <tr>\n",
       "      <th>44</th>\n",
       "      <td>6235.4</td>\n",
       "      <td>4</td>\n",
       "      <td>6</td>\n",
       "      <td>6.578993</td>\n",
       "      <td>Não</td>\n",
       "    </tr>\n",
       "    <tr>\n",
       "      <th>35</th>\n",
       "      <td>9857.1</td>\n",
       "      <td>8</td>\n",
       "      <td>12</td>\n",
       "      <td>23.448417</td>\n",
       "      <td>Sim</td>\n",
       "    </tr>\n",
       "  </tbody>\n",
       "</table>\n",
       "</div>"
      ],
      "text/plain": [
       "    Salario  Anos_Educ_Superior  Tempo_Empresa  Tempo_de_Carreira  \\\n",
       "39   8082.2                   4             20          43.252417   \n",
       "25   4645.9                   0              5          12.640970   \n",
       "26   5736.9                   7              0           8.222066   \n",
       "44   6235.4                   4              6           6.578993   \n",
       "35   9857.1                   8             12          23.448417   \n",
       "\n",
       "   Possui_Skill_Dados  \n",
       "39                Sim  \n",
       "25                Não  \n",
       "26                Não  \n",
       "44                Não  \n",
       "35                Sim  "
      ]
     },
     "execution_count": 7,
     "metadata": {},
     "output_type": "execute_result"
    }
   ],
   "source": [
    "df.sample(5, random_state=42)"
   ]
  },
  {
   "cell_type": "code",
   "execution_count": 8,
   "metadata": {},
   "outputs": [
    {
     "data": {
      "text/html": [
       "<div>\n",
       "<style scoped>\n",
       "    .dataframe tbody tr th:only-of-type {\n",
       "        vertical-align: middle;\n",
       "    }\n",
       "\n",
       "    .dataframe tbody tr th {\n",
       "        vertical-align: top;\n",
       "    }\n",
       "\n",
       "    .dataframe thead th {\n",
       "        text-align: right;\n",
       "    }\n",
       "</style>\n",
       "<table border=\"1\" class=\"dataframe\">\n",
       "  <thead>\n",
       "    <tr style=\"text-align: right;\">\n",
       "      <th></th>\n",
       "      <th>Salario</th>\n",
       "      <th>Anos_Educ_Superior</th>\n",
       "      <th>Tempo_Empresa</th>\n",
       "      <th>Tempo_de_Carreira</th>\n",
       "      <th>Possui_Skill_Dados_Sim</th>\n",
       "    </tr>\n",
       "  </thead>\n",
       "  <tbody>\n",
       "    <tr>\n",
       "      <th>39</th>\n",
       "      <td>8082.2</td>\n",
       "      <td>4</td>\n",
       "      <td>20</td>\n",
       "      <td>43.252417</td>\n",
       "      <td>1</td>\n",
       "    </tr>\n",
       "    <tr>\n",
       "      <th>25</th>\n",
       "      <td>4645.9</td>\n",
       "      <td>0</td>\n",
       "      <td>5</td>\n",
       "      <td>12.640970</td>\n",
       "      <td>0</td>\n",
       "    </tr>\n",
       "    <tr>\n",
       "      <th>26</th>\n",
       "      <td>5736.9</td>\n",
       "      <td>7</td>\n",
       "      <td>0</td>\n",
       "      <td>8.222066</td>\n",
       "      <td>0</td>\n",
       "    </tr>\n",
       "    <tr>\n",
       "      <th>44</th>\n",
       "      <td>6235.4</td>\n",
       "      <td>4</td>\n",
       "      <td>6</td>\n",
       "      <td>6.578993</td>\n",
       "      <td>0</td>\n",
       "    </tr>\n",
       "    <tr>\n",
       "      <th>35</th>\n",
       "      <td>9857.1</td>\n",
       "      <td>8</td>\n",
       "      <td>12</td>\n",
       "      <td>23.448417</td>\n",
       "      <td>1</td>\n",
       "    </tr>\n",
       "  </tbody>\n",
       "</table>\n",
       "</div>"
      ],
      "text/plain": [
       "    Salario  Anos_Educ_Superior  Tempo_Empresa  Tempo_de_Carreira  \\\n",
       "39   8082.2                   4             20          43.252417   \n",
       "25   4645.9                   0              5          12.640970   \n",
       "26   5736.9                   7              0           8.222066   \n",
       "44   6235.4                   4              6           6.578993   \n",
       "35   9857.1                   8             12          23.448417   \n",
       "\n",
       "    Possui_Skill_Dados_Sim  \n",
       "39                       1  \n",
       "25                       0  \n",
       "26                       0  \n",
       "44                       0  \n",
       "35                       1  "
      ]
     },
     "execution_count": 8,
     "metadata": {},
     "output_type": "execute_result"
    }
   ],
   "source": [
    "# 1a Forma: Usando get_dummies()\n",
    "df2 = pd.get_dummies(df, drop_first=True)\n",
    "df2.sample(5, random_state=42)"
   ]
  },
  {
   "cell_type": "code",
   "execution_count": 9,
   "metadata": {},
   "outputs": [
    {
     "data": {
      "text/html": [
       "<div>\n",
       "<style scoped>\n",
       "    .dataframe tbody tr th:only-of-type {\n",
       "        vertical-align: middle;\n",
       "    }\n",
       "\n",
       "    .dataframe tbody tr th {\n",
       "        vertical-align: top;\n",
       "    }\n",
       "\n",
       "    .dataframe thead th {\n",
       "        text-align: right;\n",
       "    }\n",
       "</style>\n",
       "<table border=\"1\" class=\"dataframe\">\n",
       "  <thead>\n",
       "    <tr style=\"text-align: right;\">\n",
       "      <th></th>\n",
       "      <th>Salario</th>\n",
       "      <th>Anos_Educ_Superior</th>\n",
       "      <th>Tempo_Empresa</th>\n",
       "      <th>Tempo_de_Carreira</th>\n",
       "      <th>Possui_Skill_Dados</th>\n",
       "      <th>Possui_Skill_Dados_Sim</th>\n",
       "    </tr>\n",
       "  </thead>\n",
       "  <tbody>\n",
       "    <tr>\n",
       "      <th>39</th>\n",
       "      <td>8082.2</td>\n",
       "      <td>4</td>\n",
       "      <td>20</td>\n",
       "      <td>43.252417</td>\n",
       "      <td>Sim</td>\n",
       "      <td>1</td>\n",
       "    </tr>\n",
       "    <tr>\n",
       "      <th>25</th>\n",
       "      <td>4645.9</td>\n",
       "      <td>0</td>\n",
       "      <td>5</td>\n",
       "      <td>12.640970</td>\n",
       "      <td>Não</td>\n",
       "      <td>0</td>\n",
       "    </tr>\n",
       "    <tr>\n",
       "      <th>26</th>\n",
       "      <td>5736.9</td>\n",
       "      <td>7</td>\n",
       "      <td>0</td>\n",
       "      <td>8.222066</td>\n",
       "      <td>Não</td>\n",
       "      <td>0</td>\n",
       "    </tr>\n",
       "    <tr>\n",
       "      <th>44</th>\n",
       "      <td>6235.4</td>\n",
       "      <td>4</td>\n",
       "      <td>6</td>\n",
       "      <td>6.578993</td>\n",
       "      <td>Não</td>\n",
       "      <td>0</td>\n",
       "    </tr>\n",
       "    <tr>\n",
       "      <th>35</th>\n",
       "      <td>9857.1</td>\n",
       "      <td>8</td>\n",
       "      <td>12</td>\n",
       "      <td>23.448417</td>\n",
       "      <td>Sim</td>\n",
       "      <td>1</td>\n",
       "    </tr>\n",
       "  </tbody>\n",
       "</table>\n",
       "</div>"
      ],
      "text/plain": [
       "    Salario  Anos_Educ_Superior  Tempo_Empresa  Tempo_de_Carreira  \\\n",
       "39   8082.2                   4             20          43.252417   \n",
       "25   4645.9                   0              5          12.640970   \n",
       "26   5736.9                   7              0           8.222066   \n",
       "44   6235.4                   4              6           6.578993   \n",
       "35   9857.1                   8             12          23.448417   \n",
       "\n",
       "   Possui_Skill_Dados  Possui_Skill_Dados_Sim  \n",
       "39                Sim                       1  \n",
       "25                Não                       0  \n",
       "26                Não                       0  \n",
       "44                Não                       0  \n",
       "35                Sim                       1  "
      ]
     },
     "execution_count": 9,
     "metadata": {},
     "output_type": "execute_result"
    }
   ],
   "source": [
    "# 2a Forma: Usando np.where()\n",
    "df3 = df.copy() # Copia o dataframe\n",
    "df3['Possui_Skill_Dados_Sim'] = np.where(df['Possui_Skill_Dados'] == 'Sim', 1, 0) # Essa função é análoga à função SE() do Excel\n",
    "df3.sample(5, random_state=42)"
   ]
  },
  {
   "cell_type": "code",
   "execution_count": 10,
   "metadata": {},
   "outputs": [
    {
     "data": {
      "text/html": [
       "<div>\n",
       "<style scoped>\n",
       "    .dataframe tbody tr th:only-of-type {\n",
       "        vertical-align: middle;\n",
       "    }\n",
       "\n",
       "    .dataframe tbody tr th {\n",
       "        vertical-align: top;\n",
       "    }\n",
       "\n",
       "    .dataframe thead th {\n",
       "        text-align: right;\n",
       "    }\n",
       "</style>\n",
       "<table border=\"1\" class=\"dataframe\">\n",
       "  <thead>\n",
       "    <tr style=\"text-align: right;\">\n",
       "      <th></th>\n",
       "      <th>Salario</th>\n",
       "      <th>Anos_Educ_Superior</th>\n",
       "      <th>Tempo_Empresa</th>\n",
       "      <th>Tempo_de_Carreira</th>\n",
       "      <th>Possui_Skill_Dados</th>\n",
       "      <th>Possui_Skill_Dados_Sim</th>\n",
       "    </tr>\n",
       "  </thead>\n",
       "  <tbody>\n",
       "    <tr>\n",
       "      <th>39</th>\n",
       "      <td>8082.2</td>\n",
       "      <td>4</td>\n",
       "      <td>20</td>\n",
       "      <td>43.252417</td>\n",
       "      <td>Sim</td>\n",
       "      <td>1</td>\n",
       "    </tr>\n",
       "    <tr>\n",
       "      <th>25</th>\n",
       "      <td>4645.9</td>\n",
       "      <td>0</td>\n",
       "      <td>5</td>\n",
       "      <td>12.640970</td>\n",
       "      <td>Não</td>\n",
       "      <td>0</td>\n",
       "    </tr>\n",
       "    <tr>\n",
       "      <th>26</th>\n",
       "      <td>5736.9</td>\n",
       "      <td>7</td>\n",
       "      <td>0</td>\n",
       "      <td>8.222066</td>\n",
       "      <td>Não</td>\n",
       "      <td>0</td>\n",
       "    </tr>\n",
       "    <tr>\n",
       "      <th>44</th>\n",
       "      <td>6235.4</td>\n",
       "      <td>4</td>\n",
       "      <td>6</td>\n",
       "      <td>6.578993</td>\n",
       "      <td>Não</td>\n",
       "      <td>0</td>\n",
       "    </tr>\n",
       "    <tr>\n",
       "      <th>35</th>\n",
       "      <td>9857.1</td>\n",
       "      <td>8</td>\n",
       "      <td>12</td>\n",
       "      <td>23.448417</td>\n",
       "      <td>Sim</td>\n",
       "      <td>1</td>\n",
       "    </tr>\n",
       "  </tbody>\n",
       "</table>\n",
       "</div>"
      ],
      "text/plain": [
       "    Salario  Anos_Educ_Superior  Tempo_Empresa  Tempo_de_Carreira  \\\n",
       "39   8082.2                   4             20          43.252417   \n",
       "25   4645.9                   0              5          12.640970   \n",
       "26   5736.9                   7              0           8.222066   \n",
       "44   6235.4                   4              6           6.578993   \n",
       "35   9857.1                   8             12          23.448417   \n",
       "\n",
       "   Possui_Skill_Dados  Possui_Skill_Dados_Sim  \n",
       "39                Sim                       1  \n",
       "25                Não                       0  \n",
       "26                Não                       0  \n",
       "44                Não                       0  \n",
       "35                Sim                       1  "
      ]
     },
     "execution_count": 10,
     "metadata": {},
     "output_type": "execute_result"
    }
   ],
   "source": [
    "# 3a Forma: Usando map()\n",
    "# Criação do De/Para a ser usado com a função .map()\n",
    "de_para = {'Sim': 1, 'Não': 0} \n",
    "\n",
    "df4 = df.copy() # Copia o dataframe\n",
    "df4['Possui_Skill_Dados_Sim'] = df['Possui_Skill_Dados'].map(de_para)\n",
    "df4.sample(5, random_state=42)"
   ]
  },
  {
   "cell_type": "markdown",
   "metadata": {},
   "source": [
    "### Ajuste do Modelo de Regressão usando o Statsmodels (Pacote de Modelos Estatísticos)"
   ]
  },
  {
   "cell_type": "code",
   "execution_count": 11,
   "metadata": {},
   "outputs": [],
   "source": [
    "# Variável resposta\n",
    "\n",
    "\n",
    "# Variáveis explicativas\n"
   ]
  },
  {
   "cell_type": "code",
   "execution_count": 12,
   "metadata": {},
   "outputs": [],
   "source": [
    "# Ajusta o modelo e retorna os resultados\n"
   ]
  },
  {
   "cell_type": "markdown",
   "metadata": {},
   "source": [
    "### Equação do modelo"
   ]
  },
  {
   "cell_type": "markdown",
   "metadata": {},
   "source": []
  },
  {
   "cell_type": "markdown",
   "metadata": {},
   "source": [
    "### Interpretação do Modelo"
   ]
  },
  {
   "cell_type": "markdown",
   "metadata": {},
   "source": []
  }
 ],
 "metadata": {
  "kernelspec": {
   "display_name": "Python 3",
   "language": "python",
   "name": "python3"
  },
  "language_info": {
   "codemirror_mode": {
    "name": "ipython",
    "version": 3
   },
   "file_extension": ".py",
   "mimetype": "text/x-python",
   "name": "python",
   "nbconvert_exporter": "python",
   "pygments_lexer": "ipython3",
   "version": "3.8.3"
  },
  "toc-autonumbering": true
 },
 "nbformat": 4,
 "nbformat_minor": 4
}
