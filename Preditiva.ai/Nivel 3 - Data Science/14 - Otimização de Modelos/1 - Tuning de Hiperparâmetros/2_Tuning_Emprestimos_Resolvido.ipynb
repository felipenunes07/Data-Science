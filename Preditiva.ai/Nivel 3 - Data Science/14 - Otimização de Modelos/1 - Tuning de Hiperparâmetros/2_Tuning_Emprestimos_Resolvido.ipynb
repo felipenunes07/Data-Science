{
 "cells": [
  {
   "cell_type": "markdown",
   "metadata": {
    "id": "JXlL0P_ULK3r"
   },
   "source": [
    "<img src=\"https://s3-sa-east-1.amazonaws.com/preditiva.ai/diversos/preditiva_assinatura.jpg\">\n",
    "\n",
    "# Estado da Arte na Concessão de Crédito - Tuning de Hiperparâmetros"
   ]
  },
  {
   "cell_type": "markdown",
   "metadata": {
    "id": "IqUC6lt2LK3t"
   },
   "source": [
    "## Importação das bibliotecas"
   ]
  },
  {
   "cell_type": "code",
   "execution_count": 1,
   "metadata": {
    "id": "csl68p_MLK3t"
   },
   "outputs": [],
   "source": [
    "# Pacotes de preparação dos dados\n",
    "import pandas as pd\n",
    "import numpy as np\n",
    "from math import sqrt\n",
    "import random\n",
    "\n",
    "# Pacotes gráficos\n",
    "import matplotlib.pyplot as plt\n",
    "%matplotlib inline\n",
    "import seaborn as sns\n",
    "\n",
    "# Pacotes de Modelagem\n",
    "from sklearn.preprocessing import OneHotEncoder\n",
    "\n",
    "from sklearn.model_selection import train_test_split\n",
    "from sklearn.model_selection import RandomizedSearchCV\n",
    "from sklearn.model_selection import GridSearchCV\n",
    "from sklearn.model_selection import cross_val_score\n",
    "\n",
    "from sklearn.ensemble import GradientBoostingClassifier\n",
    "\n",
    "from sklearn.metrics import roc_auc_score\n",
    "\n",
    "# Funções customizadas\n",
    "import preditiva"
   ]
  },
  {
   "cell_type": "markdown",
   "metadata": {
    "id": "f2o2C9ZTLK3u"
   },
   "source": [
    "## Importação da base de dados"
   ]
  },
  {
   "cell_type": "code",
   "execution_count": 2,
   "metadata": {
    "tags": []
   },
   "outputs": [
    {
     "data": {
      "text/html": [
       "<div>\n",
       "<style scoped>\n",
       "    .dataframe tbody tr th:only-of-type {\n",
       "        vertical-align: middle;\n",
       "    }\n",
       "\n",
       "    .dataframe tbody tr th {\n",
       "        vertical-align: top;\n",
       "    }\n",
       "\n",
       "    .dataframe thead th {\n",
       "        text-align: right;\n",
       "    }\n",
       "</style>\n",
       "<table border=\"1\" class=\"dataframe\">\n",
       "  <thead>\n",
       "    <tr style=\"text-align: right;\">\n",
       "      <th></th>\n",
       "      <th>Idade</th>\n",
       "      <th>Genero</th>\n",
       "      <th>Escolaridade</th>\n",
       "      <th>Tipo_Moradia</th>\n",
       "      <th>Saldo_Investimento</th>\n",
       "      <th>Saldo_Conta_Corrente</th>\n",
       "      <th>Valor_Emprestimo</th>\n",
       "      <th>Duracao_Emprestimo</th>\n",
       "      <th>Default</th>\n",
       "    </tr>\n",
       "  </thead>\n",
       "  <tbody>\n",
       "    <tr>\n",
       "      <th>0</th>\n",
       "      <td>67</td>\n",
       "      <td>M</td>\n",
       "      <td>Graduacao</td>\n",
       "      <td>Propria</td>\n",
       "      <td>Sem investimento</td>\n",
       "      <td>Pouco</td>\n",
       "      <td>1169</td>\n",
       "      <td>6</td>\n",
       "      <td>0</td>\n",
       "    </tr>\n",
       "    <tr>\n",
       "      <th>1</th>\n",
       "      <td>22</td>\n",
       "      <td>H</td>\n",
       "      <td>Graduacao</td>\n",
       "      <td>Propria</td>\n",
       "      <td>Pouco</td>\n",
       "      <td>Moderado</td>\n",
       "      <td>5951</td>\n",
       "      <td>48</td>\n",
       "      <td>1</td>\n",
       "    </tr>\n",
       "    <tr>\n",
       "      <th>2</th>\n",
       "      <td>49</td>\n",
       "      <td>M</td>\n",
       "      <td>Pos Graduacao</td>\n",
       "      <td>Propria</td>\n",
       "      <td>Pouco</td>\n",
       "      <td>Sem conta</td>\n",
       "      <td>2096</td>\n",
       "      <td>12</td>\n",
       "      <td>0</td>\n",
       "    </tr>\n",
       "    <tr>\n",
       "      <th>3</th>\n",
       "      <td>45</td>\n",
       "      <td>M</td>\n",
       "      <td>Graduacao</td>\n",
       "      <td>De favor</td>\n",
       "      <td>Pouco</td>\n",
       "      <td>Pouco</td>\n",
       "      <td>7882</td>\n",
       "      <td>42</td>\n",
       "      <td>0</td>\n",
       "    </tr>\n",
       "    <tr>\n",
       "      <th>4</th>\n",
       "      <td>53</td>\n",
       "      <td>M</td>\n",
       "      <td>Graduacao</td>\n",
       "      <td>De favor</td>\n",
       "      <td>Pouco</td>\n",
       "      <td>Pouco</td>\n",
       "      <td>4870</td>\n",
       "      <td>24</td>\n",
       "      <td>1</td>\n",
       "    </tr>\n",
       "  </tbody>\n",
       "</table>\n",
       "</div>"
      ],
      "text/plain": [
       "   Idade Genero   Escolaridade Tipo_Moradia Saldo_Investimento  \\\n",
       "0     67      M      Graduacao      Propria   Sem investimento   \n",
       "1     22      H      Graduacao      Propria              Pouco   \n",
       "2     49      M  Pos Graduacao      Propria              Pouco   \n",
       "3     45      M      Graduacao     De favor              Pouco   \n",
       "4     53      M      Graduacao     De favor              Pouco   \n",
       "\n",
       "  Saldo_Conta_Corrente  Valor_Emprestimo  Duracao_Emprestimo  Default  \n",
       "0                Pouco              1169                   6        0  \n",
       "1             Moderado              5951                  48        1  \n",
       "2            Sem conta              2096                  12        0  \n",
       "3                Pouco              7882                  42        0  \n",
       "4                Pouco              4870                  24        1  "
      ]
     },
     "execution_count": 2,
     "metadata": {},
     "output_type": "execute_result"
    }
   ],
   "source": [
    "df = pd.read_csv('emprestimos.csv', sep=';')\n",
    "df.head()"
   ]
  },
  {
   "cell_type": "markdown",
   "metadata": {
    "tags": []
   },
   "source": [
    "## Preparação dos Dados"
   ]
  },
  {
   "cell_type": "markdown",
   "metadata": {
    "tags": []
   },
   "source": [
    "### Missing Values"
   ]
  },
  {
   "cell_type": "code",
   "execution_count": 3,
   "metadata": {
    "tags": []
   },
   "outputs": [
    {
     "data": {
      "text/plain": [
       "Idade                   0\n",
       "Genero                  0\n",
       "Escolaridade            0\n",
       "Tipo_Moradia            0\n",
       "Saldo_Investimento      0\n",
       "Saldo_Conta_Corrente    0\n",
       "Valor_Emprestimo        0\n",
       "Duracao_Emprestimo      0\n",
       "Default                 0\n",
       "dtype: int64"
      ]
     },
     "execution_count": 3,
     "metadata": {},
     "output_type": "execute_result"
    }
   ],
   "source": [
    "df.isnull().sum()"
   ]
  },
  {
   "cell_type": "markdown",
   "metadata": {
    "tags": []
   },
   "source": [
    "### Duplicações"
   ]
  },
  {
   "cell_type": "code",
   "execution_count": 4,
   "metadata": {
    "tags": []
   },
   "outputs": [
    {
     "data": {
      "text/plain": [
       "0"
      ]
     },
     "execution_count": 4,
     "metadata": {},
     "output_type": "execute_result"
    }
   ],
   "source": [
    "df.duplicated().sum()"
   ]
  },
  {
   "cell_type": "markdown",
   "metadata": {},
   "source": [
    "### Tipos de Variáveis"
   ]
  },
  {
   "cell_type": "code",
   "execution_count": 5,
   "metadata": {},
   "outputs": [
    {
     "data": {
      "text/html": [
       "<div>\n",
       "<style scoped>\n",
       "    .dataframe tbody tr th:only-of-type {\n",
       "        vertical-align: middle;\n",
       "    }\n",
       "\n",
       "    .dataframe tbody tr th {\n",
       "        vertical-align: top;\n",
       "    }\n",
       "\n",
       "    .dataframe thead th {\n",
       "        text-align: right;\n",
       "    }\n",
       "</style>\n",
       "<table border=\"1\" class=\"dataframe\">\n",
       "  <thead>\n",
       "    <tr style=\"text-align: right;\">\n",
       "      <th></th>\n",
       "      <th>Idade</th>\n",
       "      <th>Genero</th>\n",
       "      <th>Escolaridade</th>\n",
       "      <th>Tipo_Moradia</th>\n",
       "      <th>Saldo_Investimento</th>\n",
       "      <th>Saldo_Conta_Corrente</th>\n",
       "      <th>Valor_Emprestimo</th>\n",
       "      <th>Duracao_Emprestimo</th>\n",
       "      <th>Default</th>\n",
       "    </tr>\n",
       "  </thead>\n",
       "  <tbody>\n",
       "    <tr>\n",
       "      <th>0</th>\n",
       "      <td>67</td>\n",
       "      <td>M</td>\n",
       "      <td>Graduacao</td>\n",
       "      <td>Propria</td>\n",
       "      <td>Sem investimento</td>\n",
       "      <td>Pouco</td>\n",
       "      <td>1169</td>\n",
       "      <td>6</td>\n",
       "      <td>0</td>\n",
       "    </tr>\n",
       "    <tr>\n",
       "      <th>1</th>\n",
       "      <td>22</td>\n",
       "      <td>H</td>\n",
       "      <td>Graduacao</td>\n",
       "      <td>Propria</td>\n",
       "      <td>Pouco</td>\n",
       "      <td>Moderado</td>\n",
       "      <td>5951</td>\n",
       "      <td>48</td>\n",
       "      <td>1</td>\n",
       "    </tr>\n",
       "  </tbody>\n",
       "</table>\n",
       "</div>"
      ],
      "text/plain": [
       "   Idade Genero Escolaridade Tipo_Moradia Saldo_Investimento  \\\n",
       "0     67      M    Graduacao      Propria   Sem investimento   \n",
       "1     22      H    Graduacao      Propria              Pouco   \n",
       "\n",
       "  Saldo_Conta_Corrente  Valor_Emprestimo  Duracao_Emprestimo  Default  \n",
       "0                Pouco              1169                   6        0  \n",
       "1             Moderado              5951                  48        1  "
      ]
     },
     "execution_count": 5,
     "metadata": {},
     "output_type": "execute_result"
    }
   ],
   "source": [
    "df.head(2)"
   ]
  },
  {
   "cell_type": "code",
   "execution_count": 6,
   "metadata": {},
   "outputs": [
    {
     "name": "stdout",
     "output_type": "stream",
     "text": [
      "<class 'pandas.core.frame.DataFrame'>\n",
      "RangeIndex: 1000 entries, 0 to 999\n",
      "Data columns (total 9 columns):\n",
      " #   Column                Non-Null Count  Dtype \n",
      "---  ------                --------------  ----- \n",
      " 0   Idade                 1000 non-null   int64 \n",
      " 1   Genero                1000 non-null   object\n",
      " 2   Escolaridade          1000 non-null   object\n",
      " 3   Tipo_Moradia          1000 non-null   object\n",
      " 4   Saldo_Investimento    1000 non-null   object\n",
      " 5   Saldo_Conta_Corrente  1000 non-null   object\n",
      " 6   Valor_Emprestimo      1000 non-null   int64 \n",
      " 7   Duracao_Emprestimo    1000 non-null   int64 \n",
      " 8   Default               1000 non-null   int64 \n",
      "dtypes: int64(4), object(5)\n",
      "memory usage: 70.4+ KB\n"
     ]
    }
   ],
   "source": [
    "df.info()"
   ]
  },
  {
   "cell_type": "markdown",
   "metadata": {
    "tags": []
   },
   "source": [
    "## Análise Exploratória dos Dados"
   ]
  },
  {
   "cell_type": "markdown",
   "metadata": {},
   "source": [
    "### Dispersão por Classe"
   ]
  },
  {
   "cell_type": "code",
   "execution_count": null,
   "metadata": {},
   "outputs": [],
   "source": [
    "import matplotlib\n",
    "matplotlib.use('module://ipykernel.pylab.backend_inline')\n",
    "\n",
    "sns.pairplot(df, hue='Default');"
   ]
  },
  {
   "cell_type": "markdown",
   "metadata": {},
   "source": [
    "### Relatórios Pandas Profiling e SweetViz"
   ]
  },
  {
   "cell_type": "code",
   "execution_count": null,
   "metadata": {},
   "outputs": [],
   "source": [
    "perfil_pp, perfil_sv = preditiva.gera_relatorios_aed(df=df,\n",
    "                                                     target_feat='Default')\n",
    "sns.reset_defaults()"
   ]
  },
  {
   "cell_type": "markdown",
   "metadata": {},
   "source": [
    "## Desenvolvimento dos Modelos"
   ]
  },
  {
   "cell_type": "markdown",
   "metadata": {},
   "source": [
    "### Definição do *Target* e das *Features*"
   ]
  },
  {
   "cell_type": "code",
   "execution_count": null,
   "metadata": {},
   "outputs": [],
   "source": [
    "df.info()"
   ]
  },
  {
   "cell_type": "code",
   "execution_count": 7,
   "metadata": {},
   "outputs": [],
   "source": [
    "# Target (variável resposta)\n",
    "y_var = 'Default'\n",
    "y = df[y_var]\n",
    "\n",
    "# Features (variáveis explicativas)\n",
    "# Variáveis Numéricas\n",
    "x_var_num = [\n",
    "    'Idade', 'Valor_Emprestimo', 'Duracao_Emprestimo'\n",
    "    ]\n",
    "x_num = df[x_var_num].to_numpy()\n",
    "\n",
    "# Variáveis Categóricas / Qualitativas\n",
    "x_var_cat = [\n",
    "    'Genero', 'Escolaridade', 'Tipo_Moradia',\n",
    "    'Saldo_Investimento','Saldo_Conta_Corrente'\n",
    "            ]\n",
    "x_cat = df[x_var_cat]"
   ]
  },
  {
   "cell_type": "markdown",
   "metadata": {},
   "source": [
    "### Pré-processamento"
   ]
  },
  {
   "cell_type": "code",
   "execution_count": 8,
   "metadata": {},
   "outputs": [],
   "source": [
    "# Criação das variáveis dummies para variáveis categóricas\n",
    "x_cat_enc = OneHotEncoder()\n",
    "x_cat = x_cat_enc.fit_transform(x_cat).toarray()\n",
    "\n",
    "# Unificação da base de dados\n",
    "x = np.concatenate([x_num, x_cat], axis=1)"
   ]
  },
  {
   "cell_type": "markdown",
   "metadata": {},
   "source": [
    "### Divisão das bases em Treino e Teste"
   ]
  },
  {
   "cell_type": "code",
   "execution_count": 9,
   "metadata": {},
   "outputs": [],
   "source": [
    "# Divisão em treino e teste\n",
    "from sklearn.model_selection import train_test_split\n",
    "x_train, x_test, y_train, y_test = train_test_split(x, y, \n",
    "                                                    test_size=0.30,\n",
    "                                                    random_state=42)"
   ]
  },
  {
   "cell_type": "markdown",
   "metadata": {
    "id": "JvSpgVXWLK3x"
   },
   "source": [
    "### Desenvolvimento e Treinamento do Gradient Boosting Baseline"
   ]
  },
  {
   "cell_type": "code",
   "execution_count": 10,
   "metadata": {
    "id": "NkOVB2BuLK3z"
   },
   "outputs": [],
   "source": [
    "# Construção do modelo Tensorflow encapsulado como Scikit-Learn\n",
    "def modelo_GB(min_samples_leaf=10, max_depth=3, n_estimators=50, subsample=0.5):\n",
    "    \n",
    "    # Definição da estrutura do modelo\n",
    "    model = GradientBoostingClassifier(\n",
    "        n_estimators=n_estimators, \n",
    "        subsample=subsample,\n",
    "        min_samples_leaf=min_samples_leaf,\n",
    "        max_depth=max_depth, \n",
    "        random_state=42\n",
    "    )\n",
    "    \n",
    "    return model"
   ]
  },
  {
   "cell_type": "code",
   "execution_count": 11,
   "metadata": {},
   "outputs": [
    {
     "data": {
      "text/plain": [
       "GradientBoostingClassifier(min_samples_leaf=10, n_estimators=50,\n",
       "                           random_state=42, subsample=0.5)"
      ]
     },
     "execution_count": 11,
     "metadata": {},
     "output_type": "execute_result"
    }
   ],
   "source": [
    "modelo_bl = modelo_GB()\n",
    "modelo_bl.fit(x_train, y_train)"
   ]
  },
  {
   "cell_type": "markdown",
   "metadata": {
    "id": "wFBuzGS_LK3y"
   },
   "source": [
    "### Análise de Desempenho"
   ]
  },
  {
   "cell_type": "code",
   "execution_count": 12,
   "metadata": {},
   "outputs": [
    {
     "data": {
      "text/html": [
       "<div>\n",
       "<style scoped>\n",
       "    .dataframe tbody tr th:only-of-type {\n",
       "        vertical-align: middle;\n",
       "    }\n",
       "\n",
       "    .dataframe tbody tr th {\n",
       "        vertical-align: top;\n",
       "    }\n",
       "\n",
       "    .dataframe thead th {\n",
       "        text-align: right;\n",
       "    }\n",
       "</style>\n",
       "<table border=\"1\" class=\"dataframe\">\n",
       "  <thead>\n",
       "    <tr style=\"text-align: right;\">\n",
       "      <th></th>\n",
       "      <th>Treino</th>\n",
       "      <th>Teste</th>\n",
       "      <th>Variação</th>\n",
       "    </tr>\n",
       "  </thead>\n",
       "  <tbody>\n",
       "    <tr>\n",
       "      <th>Acurácia</th>\n",
       "      <td>0.835714</td>\n",
       "      <td>0.750000</td>\n",
       "      <td>-0.10</td>\n",
       "    </tr>\n",
       "    <tr>\n",
       "      <th>AUROC</th>\n",
       "      <td>0.876465</td>\n",
       "      <td>0.761291</td>\n",
       "      <td>-0.13</td>\n",
       "    </tr>\n",
       "    <tr>\n",
       "      <th>KS</th>\n",
       "      <td>0.597121</td>\n",
       "      <td>0.440139</td>\n",
       "      <td>-0.26</td>\n",
       "    </tr>\n",
       "    <tr>\n",
       "      <th>Precision</th>\n",
       "      <td>0.845588</td>\n",
       "      <td>0.648148</td>\n",
       "      <td>-0.23</td>\n",
       "    </tr>\n",
       "    <tr>\n",
       "      <th>Recall</th>\n",
       "      <td>0.550239</td>\n",
       "      <td>0.384615</td>\n",
       "      <td>-0.30</td>\n",
       "    </tr>\n",
       "    <tr>\n",
       "      <th>F1</th>\n",
       "      <td>0.666667</td>\n",
       "      <td>0.482759</td>\n",
       "      <td>-0.28</td>\n",
       "    </tr>\n",
       "  </tbody>\n",
       "</table>\n",
       "</div>"
      ],
      "text/plain": [
       "             Treino     Teste  Variação\n",
       "Acurácia   0.835714  0.750000     -0.10\n",
       "AUROC      0.876465  0.761291     -0.13\n",
       "KS         0.597121  0.440139     -0.26\n",
       "Precision  0.845588  0.648148     -0.23\n",
       "Recall     0.550239  0.384615     -0.30\n",
       "F1         0.666667  0.482759     -0.28"
      ]
     },
     "execution_count": 12,
     "metadata": {},
     "output_type": "execute_result"
    }
   ],
   "source": [
    "modelo_bl_desemp = preditiva.calcula_desempenho(modelo_bl,\n",
    "                                                x_train, y_train,\n",
    "                                                x_test, y_test)\n",
    "modelo_bl_desemp"
   ]
  },
  {
   "cell_type": "markdown",
   "metadata": {
    "id": "abcQc7rXLK3y"
   },
   "source": [
    "## Definição do espaço hiperparamétrico"
   ]
  },
  {
   "cell_type": "code",
   "execution_count": 13,
   "metadata": {},
   "outputs": [
    {
     "data": {
      "text/plain": [
       "600"
      ]
     },
     "execution_count": 13,
     "metadata": {},
     "output_type": "execute_result"
    }
   ],
   "source": [
    "5*4*6*5"
   ]
  },
  {
   "cell_type": "code",
   "execution_count": 14,
   "metadata": {
    "id": "N5GRoi_LLK3y"
   },
   "outputs": [],
   "source": [
    "# Número mínimo de amostras por folha\n",
    "ehp_min_samples_leaf = np.arange(5, 26, 5)\n",
    "\n",
    "# Máxima profundidade\n",
    "ehp_max_depth = [2, 3, 4, 5]\n",
    "\n",
    "# Número de estimadores\n",
    "ehp_n_estimators = [10, 20, 50, 100, 150, 200]\n",
    "\n",
    "# Amostragem de observações usadas para cada árvore\n",
    "ehp_subsample = [0.1, 0.2, 0.3, 0.4, 0.5]\n",
    "\n",
    "# Definição do dicionário de parâmetros\n",
    "param_grid = dict(min_samples_leaf=ehp_min_samples_leaf,\n",
    "                  max_depth=ehp_max_depth,\n",
    "                  n_estimators=ehp_n_estimators,\n",
    "                  subsample=ehp_subsample\n",
    "                 )"
   ]
  },
  {
   "cell_type": "code",
   "execution_count": 15,
   "metadata": {
    "id": "xGAuZExxLK3z"
   },
   "outputs": [
    {
     "data": {
      "text/plain": [
       "{'min_samples_leaf': array([ 5, 10, 15, 20, 25]),\n",
       " 'max_depth': [2, 3, 4, 5],\n",
       " 'n_estimators': [10, 20, 50, 100, 150, 200],\n",
       " 'subsample': [0.1, 0.2, 0.3, 0.4, 0.5]}"
      ]
     },
     "execution_count": 15,
     "metadata": {},
     "output_type": "execute_result"
    }
   ],
   "source": [
    "param_grid"
   ]
  },
  {
   "cell_type": "markdown",
   "metadata": {
    "id": "whp02l3iLK3z"
   },
   "source": [
    "## Random Search"
   ]
  },
  {
   "cell_type": "code",
   "execution_count": 16,
   "metadata": {
    "id": "ztcsJg4XLK3z"
   },
   "outputs": [
    {
     "name": "stdout",
     "output_type": "stream",
     "text": [
      "Fitting 2 folds for each of 50 candidates, totalling 100 fits\n"
     ]
    },
    {
     "data": {
      "text/plain": [
       "RandomizedSearchCV(cv=2,\n",
       "                   estimator=GradientBoostingClassifier(min_samples_leaf=10,\n",
       "                                                        n_estimators=50,\n",
       "                                                        random_state=42,\n",
       "                                                        subsample=0.5),\n",
       "                   n_iter=50, n_jobs=5,\n",
       "                   param_distributions={'max_depth': [2, 3, 4, 5],\n",
       "                                        'min_samples_leaf': array([ 5, 10, 15, 20, 25]),\n",
       "                                        'n_estimators': [10, 20, 50, 100, 150,\n",
       "                                                         200],\n",
       "                                        'subsample': [0.1, 0.2, 0.3, 0.4, 0.5]},\n",
       "                   random_state=42, verbose=4)"
      ]
     },
     "execution_count": 16,
     "metadata": {},
     "output_type": "execute_result"
    }
   ],
   "source": [
    "# Treinamento dos modelos usando Random Search\n",
    "modelo_base = modelo_GB()\n",
    "modelo_random = RandomizedSearchCV(estimator=modelo_base, \n",
    "                                   param_distributions=param_grid,\n",
    "                                   n_iter=50,\n",
    "                                   n_jobs=5,\n",
    "                                   cv=2,\n",
    "                                   verbose=4,\n",
    "                                   random_state=42)\n",
    "\n",
    "modelo_random.fit(x_train, y_train)"
   ]
  },
  {
   "cell_type": "code",
   "execution_count": 17,
   "metadata": {
    "id": "XH8skAkSLK3z"
   },
   "outputs": [
    {
     "data": {
      "text/plain": [
       "GradientBoostingClassifier(max_depth=2, min_samples_leaf=15, n_estimators=200,\n",
       "                           random_state=42, subsample=0.2)"
      ]
     },
     "execution_count": 17,
     "metadata": {},
     "output_type": "execute_result"
    }
   ],
   "source": [
    "modelo_random.best_estimator_"
   ]
  },
  {
   "cell_type": "code",
   "execution_count": 18,
   "metadata": {},
   "outputs": [
    {
     "data": {
      "text/html": [
       "<div>\n",
       "<style scoped>\n",
       "    .dataframe tbody tr th:only-of-type {\n",
       "        vertical-align: middle;\n",
       "    }\n",
       "\n",
       "    .dataframe tbody tr th {\n",
       "        vertical-align: top;\n",
       "    }\n",
       "\n",
       "    .dataframe thead th {\n",
       "        text-align: right;\n",
       "    }\n",
       "</style>\n",
       "<table border=\"1\" class=\"dataframe\">\n",
       "  <thead>\n",
       "    <tr style=\"text-align: right;\">\n",
       "      <th></th>\n",
       "      <th>Treino</th>\n",
       "      <th>Teste</th>\n",
       "      <th>Variação</th>\n",
       "    </tr>\n",
       "  </thead>\n",
       "  <tbody>\n",
       "    <tr>\n",
       "      <th>Acurácia</th>\n",
       "      <td>0.787143</td>\n",
       "      <td>0.726667</td>\n",
       "      <td>-0.08</td>\n",
       "    </tr>\n",
       "    <tr>\n",
       "      <th>AUROC</th>\n",
       "      <td>0.842758</td>\n",
       "      <td>0.753878</td>\n",
       "      <td>-0.11</td>\n",
       "    </tr>\n",
       "    <tr>\n",
       "      <th>KS</th>\n",
       "      <td>0.578986</td>\n",
       "      <td>0.445292</td>\n",
       "      <td>-0.23</td>\n",
       "    </tr>\n",
       "    <tr>\n",
       "      <th>Precision</th>\n",
       "      <td>0.711268</td>\n",
       "      <td>0.578947</td>\n",
       "      <td>-0.19</td>\n",
       "    </tr>\n",
       "    <tr>\n",
       "      <th>Recall</th>\n",
       "      <td>0.483254</td>\n",
       "      <td>0.362637</td>\n",
       "      <td>-0.25</td>\n",
       "    </tr>\n",
       "    <tr>\n",
       "      <th>F1</th>\n",
       "      <td>0.575499</td>\n",
       "      <td>0.445946</td>\n",
       "      <td>-0.23</td>\n",
       "    </tr>\n",
       "  </tbody>\n",
       "</table>\n",
       "</div>"
      ],
      "text/plain": [
       "             Treino     Teste  Variação\n",
       "Acurácia   0.787143  0.726667     -0.08\n",
       "AUROC      0.842758  0.753878     -0.11\n",
       "KS         0.578986  0.445292     -0.23\n",
       "Precision  0.711268  0.578947     -0.19\n",
       "Recall     0.483254  0.362637     -0.25\n",
       "F1         0.575499  0.445946     -0.23"
      ]
     },
     "execution_count": 18,
     "metadata": {},
     "output_type": "execute_result"
    }
   ],
   "source": [
    "modelo_random_desemp = preditiva.calcula_desempenho(modelo_random.best_estimator_,\n",
    "                                                    x_train, y_train,\n",
    "                                                    x_test,  y_test)\n",
    "modelo_random_desemp"
   ]
  },
  {
   "cell_type": "markdown",
   "metadata": {
    "id": "p9qdWKQqLK30"
   },
   "source": [
    "## Grid Search"
   ]
  },
  {
   "cell_type": "code",
   "execution_count": 19,
   "metadata": {
    "id": "eOExYVHLLK30",
    "tags": []
   },
   "outputs": [
    {
     "name": "stdout",
     "output_type": "stream",
     "text": [
      "Fitting 2 folds for each of 600 candidates, totalling 1200 fits\n"
     ]
    },
    {
     "data": {
      "text/plain": [
       "GridSearchCV(cv=2,\n",
       "             estimator=GradientBoostingClassifier(min_samples_leaf=10,\n",
       "                                                  n_estimators=50,\n",
       "                                                  random_state=42,\n",
       "                                                  subsample=0.5),\n",
       "             n_jobs=4,\n",
       "             param_grid={'max_depth': [2, 3, 4, 5],\n",
       "                         'min_samples_leaf': array([ 5, 10, 15, 20, 25]),\n",
       "                         'n_estimators': [10, 20, 50, 100, 150, 200],\n",
       "                         'subsample': [0.1, 0.2, 0.3, 0.4, 0.5]},\n",
       "             verbose=4)"
      ]
     },
     "execution_count": 19,
     "metadata": {},
     "output_type": "execute_result"
    }
   ],
   "source": [
    "# Treinamento dos modelos usando Random Search\n",
    "modelo_grid = GridSearchCV(estimator=modelo_base, \n",
    "                           param_grid=param_grid,\n",
    "                           n_jobs=4,\n",
    "                           cv=2,\n",
    "                           verbose=4)\n",
    "\n",
    "modelo_grid.fit(x_train, y_train)"
   ]
  },
  {
   "cell_type": "code",
   "execution_count": 20,
   "metadata": {
    "id": "KAFSl6LBLK30"
   },
   "outputs": [
    {
     "data": {
      "text/plain": [
       "GradientBoostingClassifier(max_depth=2, min_samples_leaf=15, n_estimators=150,\n",
       "                           random_state=42, subsample=0.2)"
      ]
     },
     "execution_count": 20,
     "metadata": {},
     "output_type": "execute_result"
    }
   ],
   "source": [
    "modelo_grid.best_estimator_"
   ]
  },
  {
   "cell_type": "code",
   "execution_count": 21,
   "metadata": {},
   "outputs": [
    {
     "data": {
      "text/html": [
       "<div>\n",
       "<style scoped>\n",
       "    .dataframe tbody tr th:only-of-type {\n",
       "        vertical-align: middle;\n",
       "    }\n",
       "\n",
       "    .dataframe tbody tr th {\n",
       "        vertical-align: top;\n",
       "    }\n",
       "\n",
       "    .dataframe thead th {\n",
       "        text-align: right;\n",
       "    }\n",
       "</style>\n",
       "<table border=\"1\" class=\"dataframe\">\n",
       "  <thead>\n",
       "    <tr style=\"text-align: right;\">\n",
       "      <th></th>\n",
       "      <th>Treino</th>\n",
       "      <th>Teste</th>\n",
       "      <th>Variação</th>\n",
       "    </tr>\n",
       "  </thead>\n",
       "  <tbody>\n",
       "    <tr>\n",
       "      <th>Acurácia</th>\n",
       "      <td>0.795714</td>\n",
       "      <td>0.740000</td>\n",
       "      <td>-0.07</td>\n",
       "    </tr>\n",
       "    <tr>\n",
       "      <th>AUROC</th>\n",
       "      <td>0.832331</td>\n",
       "      <td>0.774226</td>\n",
       "      <td>-0.07</td>\n",
       "    </tr>\n",
       "    <tr>\n",
       "      <th>KS</th>\n",
       "      <td>0.556486</td>\n",
       "      <td>0.458068</td>\n",
       "      <td>-0.18</td>\n",
       "    </tr>\n",
       "    <tr>\n",
       "      <th>Precision</th>\n",
       "      <td>0.722973</td>\n",
       "      <td>0.603175</td>\n",
       "      <td>-0.17</td>\n",
       "    </tr>\n",
       "    <tr>\n",
       "      <th>Recall</th>\n",
       "      <td>0.511962</td>\n",
       "      <td>0.417582</td>\n",
       "      <td>-0.18</td>\n",
       "    </tr>\n",
       "    <tr>\n",
       "      <th>F1</th>\n",
       "      <td>0.599440</td>\n",
       "      <td>0.493506</td>\n",
       "      <td>-0.18</td>\n",
       "    </tr>\n",
       "  </tbody>\n",
       "</table>\n",
       "</div>"
      ],
      "text/plain": [
       "             Treino     Teste  Variação\n",
       "Acurácia   0.795714  0.740000     -0.07\n",
       "AUROC      0.832331  0.774226     -0.07\n",
       "KS         0.556486  0.458068     -0.18\n",
       "Precision  0.722973  0.603175     -0.17\n",
       "Recall     0.511962  0.417582     -0.18\n",
       "F1         0.599440  0.493506     -0.18"
      ]
     },
     "execution_count": 21,
     "metadata": {},
     "output_type": "execute_result"
    }
   ],
   "source": [
    "modelo_grid_desemp = preditiva.calcula_desempenho(modelo_grid.best_estimator_,\n",
    "                                                  x_train, y_train, \n",
    "                                                  x_test,  y_test)\n",
    "modelo_grid_desemp"
   ]
  },
  {
   "cell_type": "markdown",
   "metadata": {
    "id": "e24f0bpkLK30"
   },
   "source": [
    "## Bayesian Optimization"
   ]
  },
  {
   "cell_type": "code",
   "execution_count": 30,
   "metadata": {
    "id": "4ioYushKLK30"
   },
   "outputs": [],
   "source": [
    "from hyperopt import fmin, tpe, hp, STATUS_OK, Trials\n",
    "import sys\n",
    "\n",
    "from sklearn.metrics import recall_score"
   ]
  },
  {
   "cell_type": "code",
   "execution_count": 31,
   "metadata": {
    "id": "JHazPKnLLK30"
   },
   "outputs": [
    {
     "data": {
      "text/plain": [
       "{'min_samples_leaf': array([ 5, 10, 15, 20, 25]),\n",
       " 'max_depth': [2, 3, 4, 5],\n",
       " 'n_estimators': [10, 20, 50, 100, 150, 200],\n",
       " 'subsample': [0.1, 0.2, 0.3, 0.4, 0.5]}"
      ]
     },
     "execution_count": 31,
     "metadata": {},
     "output_type": "execute_result"
    }
   ],
   "source": [
    "param_grid"
   ]
  },
  {
   "cell_type": "code",
   "execution_count": 33,
   "metadata": {
    "id": "MU3iawOXLK30"
   },
   "outputs": [],
   "source": [
    "bo_space = {'min_samples_leaf': hp.choice('min_samples_leaf', param_grid['min_samples_leaf']),\n",
    "            'max_depth': hp.choice('max_depth', param_grid['max_depth']),\n",
    "            'n_estimators': hp.choice('n_estimators', param_grid['n_estimators']),\n",
    "            'subsample': hp.choice('subsample', param_grid['subsample'])\n",
    "           }"
   ]
  },
  {
   "cell_type": "code",
   "execution_count": 34,
   "metadata": {
    "id": "T5REzqUmLK31"
   },
   "outputs": [],
   "source": [
    "def bo_gb(param):   \n",
    "\n",
    "    print ('Hiperparametros testados: ', param)\n",
    "    modelo_bo = modelo_GB(min_samples_leaf=param['min_samples_leaf'],\n",
    "                          max_depth=param['max_depth'],\n",
    "                          n_estimators=param['n_estimators'],\n",
    "                          subsample=param['subsample']\n",
    "                         )\n",
    "    \n",
    "    modelo_bo.fit(x_train, y_train)\n",
    "    \n",
    "    # Calcula AuROC no conjunto de Teste\n",
    "    y_test_pred_proba = modelo_bo.predict_proba(x_test)[:,1]\n",
    "    y_test_pred = modelo_bo.predict(x_test)\n",
    "    recall_test = recall_score(y_test, y_test_pred)\n",
    "    auroc_test = roc_auc_score(y_test, y_test_pred_proba)\n",
    "    \n",
    "    print(f'AuROC Teste: {auroc_test} | Recall Teste: {recall_test}')\n",
    "    \n",
    "    # sys.stdout.flush() \n",
    "    return {'loss': (-recall_test), 'status': STATUS_OK}"
   ]
  },
  {
   "cell_type": "code",
   "execution_count": 35,
   "metadata": {
    "id": "R5uwKc71LK31"
   },
   "outputs": [
    {
     "name": "stdout",
     "output_type": "stream",
     "text": [
      "Hiperparametros testados:                                                                                                                                                                                                                                                           \n",
      "{'max_depth': 3, 'min_samples_leaf': 25, 'n_estimators': 20, 'subsample': 0.2}                                                                                                                                                                                                      \n",
      "AuROC Teste: 0.7606078132393922 | Recall Teste: 0.12087912087912088                                                                                                                                                                                                                 \n",
      "Hiperparametros testados:                                                                                                                                                                                                                                                           \n",
      "{'max_depth': 4, 'min_samples_leaf': 10, 'n_estimators': 20, 'subsample': 0.1}                                                                                                                                                                                                      \n",
      "AuROC Teste: 0.7738840107261159 | Recall Teste: 0.18681318681318682                                                                                                                                                                                                                 \n",
      "Hiperparametros testados:                                                                                                                                                                                                                                                           \n",
      "{'max_depth': 5, 'min_samples_leaf': 5, 'n_estimators': 50, 'subsample': 0.2}                                                                                                                                                                                                       \n",
      "AuROC Teste: 0.7572953362427047 | Recall Teste: 0.37362637362637363                                                                                                                                                                                                                 \n",
      "Hiperparametros testados:                                                                                                                                                                                                                                                           \n",
      "{'max_depth': 2, 'min_samples_leaf': 5, 'n_estimators': 50, 'subsample': 0.4}                                                                                                                                                                                                       \n",
      "AuROC Teste: 0.7694147957305852 | Recall Teste: 0.3076923076923077                                                                                                                                                                                                                  \n",
      "Hiperparametros testados:                                                                                                                                                                                                                                                           \n",
      "{'max_depth': 3, 'min_samples_leaf': 20, 'n_estimators': 50, 'subsample': 0.1}                                                                                                                                                                                                      \n",
      "AuROC Teste: 0.7574004942425995 | Recall Teste: 0.31868131868131866                                                                                                                                                                                                                 \n",
      "Hiperparametros testados:                                                                                                                                                                                                                                                           \n",
      "{'max_depth': 5, 'min_samples_leaf': 20, 'n_estimators': 20, 'subsample': 0.3}                                                                                                                                                                                                      \n",
      "AuROC Teste: 0.7596088122403911 | Recall Teste: 0.25274725274725274                                                                                                                                                                                                                 \n",
      "Hiperparametros testados:                                                                                                                                                                                                                                                           \n",
      "{'max_depth': 5, 'min_samples_leaf': 5, 'n_estimators': 150, 'subsample': 0.5}                                                                                                                                                                                                      \n",
      "AuROC Teste: 0.7495136442504864 | Recall Teste: 0.46153846153846156                                                                                                                                                                                                                 \n",
      "Hiperparametros testados:                                                                                                                                                                                                                                                           \n",
      "{'max_depth': 5, 'min_samples_leaf': 5, 'n_estimators': 10, 'subsample': 0.2}                                                                                                                                                                                                       \n",
      "AuROC Teste: 0.7347915242652084 | Recall Teste: 0.15384615384615385                                                                                                                                                                                                                 \n",
      "Hiperparametros testados:                                                                                                                                                                                                                                                           \n",
      "{'max_depth': 4, 'min_samples_leaf': 5, 'n_estimators': 20, 'subsample': 0.4}                                                                                                                                                                                                       \n",
      "AuROC Teste: 0.7687312687312687 | Recall Teste: 0.3076923076923077                                                                                                                                                                                                                  \n",
      "Hiperparametros testados:                                                                                                                                                                                                                                                           \n",
      "{'max_depth': 5, 'min_samples_leaf': 25, 'n_estimators': 10, 'subsample': 0.3}                                                                                                                                                                                                      \n",
      "AuROC Teste: 0.7495925127504076 | Recall Teste: 0.07692307692307693                                                                                                                                                                                                                 \n",
      "Hiperparametros testados:                                                                                                                                                                                                                                                           \n",
      "{'max_depth': 3, 'min_samples_leaf': 5, 'n_estimators': 50, 'subsample': 0.4}                                                                                                                                                                                                       \n",
      "AuROC Teste: 0.7588464167411536 | Recall Teste: 0.34065934065934067                                                                                                                                                                                                                 \n",
      "Hiperparametros testados:                                                                                                                                                                                                                                                           \n",
      "{'max_depth': 5, 'min_samples_leaf': 10, 'n_estimators': 200, 'subsample': 0.4}                                                                                                                                                                                                     \n",
      "AuROC Teste: 0.7463063252536938 | Recall Teste: 0.4835164835164835                                                                                                                                                                                                                  \n",
      "Hiperparametros testados:                                                                                                                                                                                                                                                           \n",
      "{'max_depth': 2, 'min_samples_leaf': 20, 'n_estimators': 20, 'subsample': 0.5}                                                                                                                                                                                                      \n",
      "AuROC Teste: 0.771255060728745 | Recall Teste: 0.17582417582417584                                                                                                                                                                                                                  \n",
      "Hiperparametros testados:                                                                                                                                                                                                                                                           \n",
      "{'max_depth': 3, 'min_samples_leaf': 20, 'n_estimators': 100, 'subsample': 0.4}                                                                                                                                                                                                     \n",
      "AuROC Teste: 0.7682317682317682 | Recall Teste: 0.4065934065934066                                                                                                                                                                                                                  \n",
      "Hiperparametros testados:                                                                                                                                                                                                                                                           \n",
      "{'max_depth': 4, 'min_samples_leaf': 25, 'n_estimators': 10, 'subsample': 0.2}                                                                                                                                                                                                      \n",
      "AuROC Teste: 0.768336926231663 | Recall Teste: 0.01098901098901099                                                                                                                                                                                                                  \n",
      "Hiperparametros testados:                                                                                                                                                                                                                                                           \n",
      "{'max_depth': 2, 'min_samples_leaf': 15, 'n_estimators': 20, 'subsample': 0.3}                                                                                                                                                                                                      \n",
      "AuROC Teste: 0.7837688627162313 | Recall Teste: 0.16483516483516483                                                                                                                                                                                                                 \n",
      "Hiperparametros testados:                                                                                                                                                                                                                                                           \n",
      "{'max_depth': 2, 'min_samples_leaf': 5, 'n_estimators': 200, 'subsample': 0.5}                                                                                                                                                                                                      \n",
      "AuROC Teste: 0.7666543982333456 | Recall Teste: 0.4065934065934066                                                                                                                                                                                                                  \n",
      "Hiperparametros testados:                                                                                                                                                                                                                                                           \n",
      "{'max_depth': 4, 'min_samples_leaf': 15, 'n_estimators': 100, 'subsample': 0.1}                                                                                                                                                                                                     \n",
      "AuROC Teste: 0.7428624007571376 | Recall Teste: 0.31868131868131866                                                                                                                                                                                                                 \n",
      "Hiperparametros testados:                                                                                                                                                                                                                                                           \n",
      "{'max_depth': 5, 'min_samples_leaf': 10, 'n_estimators': 150, 'subsample': 0.4}                                                                                                                                                                                                     \n",
      "AuROC Teste: 0.743467059256533 | Recall Teste: 0.4725274725274725                                                                                                                                                                                                                   \n",
      "Hiperparametros testados:                                                                                                                                                                                                                                                           \n",
      "{'max_depth': 5, 'min_samples_leaf': 25, 'n_estimators': 200, 'subsample': 0.1}                                                                                                                                                                                                     \n",
      "AuROC Teste: 0.7606341027393658 | Recall Teste: 0.21978021978021978                                                                                                                                                                                                                 \n",
      "Hiperparametros testados:                                                                                                                                                                                                                                                           \n",
      "{'max_depth': 5, 'min_samples_leaf': 10, 'n_estimators': 150, 'subsample': 0.4}                                                                                                                                                                                                     \n",
      "AuROC Teste: 0.743467059256533 | Recall Teste: 0.4725274725274725                                                                                                                                                                                                                   \n",
      "Hiperparametros testados:                                                                                                                                                                                                                                                           \n",
      "{'max_depth': 5, 'min_samples_leaf': 10, 'n_estimators': 150, 'subsample': 0.4}                                                                                                                                                                                                     \n",
      "AuROC Teste: 0.743467059256533 | Recall Teste: 0.4725274725274725                                                                                                                                                                                                                   \n",
      "Hiperparametros testados:                                                                                                                                                                                                                                                           \n",
      "{'max_depth': 5, 'min_samples_leaf': 10, 'n_estimators': 200, 'subsample': 0.4}                                                                                                                                                                                                     \n",
      "AuROC Teste: 0.7463063252536938 | Recall Teste: 0.4835164835164835                                                                                                                                                                                                                  \n",
      "Hiperparametros testados:                                                                                                                                                                                                                                                           \n",
      "{'max_depth': 5, 'min_samples_leaf': 10, 'n_estimators': 200, 'subsample': 0.4}                                                                                                                                                                                                     \n",
      "AuROC Teste: 0.7463063252536938 | Recall Teste: 0.4835164835164835                                                                                                                                                                                                                  \n",
      "Hiperparametros testados:                                                                                                                                                                                                                                                           \n",
      "{'max_depth': 5, 'min_samples_leaf': 10, 'n_estimators': 200, 'subsample': 0.4}                                                                                                                                                                                                     \n",
      "AuROC Teste: 0.7463063252536938 | Recall Teste: 0.4835164835164835                                                                                                                                                                                                                  \n",
      "Hiperparametros testados:                                                                                                                                                                                                                                                           \n",
      "{'max_depth': 5, 'min_samples_leaf': 10, 'n_estimators': 200, 'subsample': 0.4}                                                                                                                                                                                                     \n",
      "AuROC Teste: 0.7463063252536938 | Recall Teste: 0.4835164835164835                                                                                                                                                                                                                  \n",
      "Hiperparametros testados:                                                                                                                                                                                                                                                           \n",
      "{'max_depth': 5, 'min_samples_leaf': 10, 'n_estimators': 200, 'subsample': 0.4}                                                                                                                                                                                                     \n",
      "AuROC Teste: 0.7463063252536938 | Recall Teste: 0.4835164835164835                                                                                                                                                                                                                  \n",
      "Hiperparametros testados:                                                                                                                                                                                                                                                           \n",
      "{'max_depth': 5, 'min_samples_leaf': 10, 'n_estimators': 200, 'subsample': 0.4}                                                                                                                                                                                                     \n",
      "AuROC Teste: 0.7463063252536938 | Recall Teste: 0.4835164835164835                                                                                                                                                                                                                  \n",
      "Hiperparametros testados:                                                                                                                                                                                                                                                           \n",
      "{'max_depth': 3, 'min_samples_leaf': 15, 'n_estimators': 200, 'subsample': 0.5}                                                                                                                                                                                                     \n",
      "AuROC Teste: 0.7551395972448603 | Recall Teste: 0.4065934065934066                                                                                                                                                                                                                  \n",
      "Hiperparametros testados:                                                                                                                                                                                                                                                           \n",
      "{'max_depth': 5, 'min_samples_leaf': 10, 'n_estimators': 100, 'subsample': 0.3}                                                                                                                                                                                                     \n",
      "AuROC Teste: 0.7457805352542195 | Recall Teste: 0.4835164835164835                                                                                                                                                                                                                  \n",
      "Hiperparametros testados:                                                                                                                                                                                                                                                           \n",
      "{'max_depth': 4, 'min_samples_leaf': 10, 'n_estimators': 100, 'subsample': 0.3}                                                                                                                                                                                                     \n",
      "AuROC Teste: 0.7636573952363427 | Recall Teste: 0.45054945054945056                                                                                                                                                                                                                 \n",
      "Hiperparametros testados:                                                                                                                                                                                                                                                           \n",
      "{'max_depth': 2, 'min_samples_leaf': 10, 'n_estimators': 200, 'subsample': 0.2}                                                                                                                                                                                                     \n",
      "AuROC Teste: 0.7648141332351859 | Recall Teste: 0.3626373626373626                                                                                                                                                                                                                  \n",
      "Hiperparametros testados:                                                                                                                                                                                                                                                           \n",
      "{'max_depth': 3, 'min_samples_leaf': 15, 'n_estimators': 200, 'subsample': 0.4}                                                                                                                                                                                                     \n",
      "AuROC Teste: 0.7685998212314 | Recall Teste: 0.45054945054945056                                                                                                                                                                                                                    \n",
      "Hiperparametros testados:                                                                                                                                                                                                                                                           \n",
      "{'max_depth': 5, 'min_samples_leaf': 25, 'n_estimators': 100, 'subsample': 0.3}                                                                                                                                                                                                     \n",
      "AuROC Teste: 0.7556128082443873 | Recall Teste: 0.38461538461538464                                                                                                                                                                                                                 \n",
      "Hiperparametros testados:                                                                                                                                                                                                                                                           \n",
      "{'max_depth': 4, 'min_samples_leaf': 10, 'n_estimators': 100, 'subsample': 0.3}                                                                                                                                                                                                     \n",
      "AuROC Teste: 0.7636573952363427 | Recall Teste: 0.45054945054945056                                                                                                                                                                                                                 \n",
      "Hiperparametros testados:                                                                                                                                                                                                                                                           \n",
      "{'max_depth': 5, 'min_samples_leaf': 20, 'n_estimators': 50, 'subsample': 0.1}                                                                                                                                                                                                      \n",
      "AuROC Teste: 0.7574004942425995 | Recall Teste: 0.31868131868131866                                                                                                                                                                                                                 \n",
      "Hiperparametros testados:                                                                                                                                                                                                                                                           \n",
      "{'max_depth': 2, 'min_samples_leaf': 10, 'n_estimators': 200, 'subsample': 0.2}                                                                                                                                                                                                     \n",
      "AuROC Teste: 0.7648141332351859 | Recall Teste: 0.3626373626373626                                                                                                                                                                                                                  \n",
      "Hiperparametros testados:                                                                                                                                                                                                                                                           \n",
      "{'max_depth': 5, 'min_samples_leaf': 10, 'n_estimators': 10, 'subsample': 0.4}                                                                                                                                                                                                      \n",
      "AuROC Teste: 0.7498554077501446 | Recall Teste: 0.18681318681318682                                                                                                                                                                                                                 \n",
      "Hiperparametros testados:                                                                                                                                                                                                                                                           \n",
      "{'max_depth': 3, 'min_samples_leaf': 20, 'n_estimators': 100, 'subsample': 0.3}                                                                                                                                                                                                     \n",
      "AuROC Teste: 0.7657605552342394 | Recall Teste: 0.3956043956043956                                                                                                                                                                                                                  \n",
      "Hiperparametros testados:                                                                                                                                                                                                                                                           \n",
      "{'max_depth': 5, 'min_samples_leaf': 25, 'n_estimators': 100, 'subsample': 0.3}                                                                                                                                                                                                     \n",
      "AuROC Teste: 0.7556128082443873 | Recall Teste: 0.38461538461538464                                                                                                                                                                                                                 \n",
      "Hiperparametros testados:                                                                                                                                                                                                                                                           \n",
      "{'max_depth': 4, 'min_samples_leaf': 15, 'n_estimators': 50, 'subsample': 0.3}                                                                                                                                                                                                      \n",
      "AuROC Teste: 0.7688890057311111 | Recall Teste: 0.3956043956043956                                                                                                                                                                                                                  \n",
      "Hiperparametros testados:                                                                                                                                                                                                                                                           \n",
      "{'max_depth': 5, 'min_samples_leaf': 5, 'n_estimators': 200, 'subsample': 0.5}                                                                                                                                                                                                      \n",
      "AuROC Teste: 0.750354908249645 | Recall Teste: 0.46153846153846156                                                                                                                                                                                                                  \n",
      "Hiperparametros testados:                                                                                                                                                                                                                                                           \n",
      "{'max_depth': 5, 'min_samples_leaf': 10, 'n_estimators': 20, 'subsample': 0.1}                                                                                                                                                                                                      \n",
      "AuROC Teste: 0.7675745307324254 | Recall Teste: 0.15384615384615385                                                                                                                                                                                                                 \n",
      "Hiperparametros testados:                                                                                                                                                                                                                                                           \n",
      "{'max_depth': 3, 'min_samples_leaf': 10, 'n_estimators': 100, 'subsample': 0.3}                                                                                                                                                                                                     \n",
      "AuROC Teste: 0.7526683842473316 | Recall Teste: 0.3626373626373626                                                                                                                                                                                                                  \n",
      "Hiperparametros testados:                                                                                                                                                                                                                                                           \n",
      "{'max_depth': 2, 'min_samples_leaf': 20, 'n_estimators': 10, 'subsample': 0.4}                                                                                                                                                                                                      \n",
      "AuROC Teste: 0.7467006677532994 | Recall Teste: 0.054945054945054944                                                                                                                                                                                                                \n",
      "Hiperparametros testados:                                                                                                                                                                                                                                                           \n",
      "{'max_depth': 5, 'min_samples_leaf': 5, 'n_estimators': 50, 'subsample': 0.2}                                                                                                                                                                                                       \n",
      "AuROC Teste: 0.7572953362427047 | Recall Teste: 0.37362637362637363                                                                                                                                                                                                                 \n",
      "Hiperparametros testados:                                                                                                                                                                                                                                                           \n",
      "{'max_depth': 4, 'min_samples_leaf': 25, 'n_estimators': 200, 'subsample': 0.4}                                                                                                                                                                                                     \n",
      "AuROC Teste: 0.7648667122351333 | Recall Teste: 0.46153846153846156                                                                                                                                                                                                                 \n",
      "Hiperparametros testados:                                                                                                                                                                                                                                                           \n",
      "{'max_depth': 5, 'min_samples_leaf': 10, 'n_estimators': 20, 'subsample': 0.3}                                                                                                                                                                                                      \n",
      "AuROC Teste: 0.750906987749093 | Recall Teste: 0.2857142857142857                                                                                                                                                                                                                   \n",
      "Hiperparametros testados:                                                                                                                                                                                                                                                           \n",
      "{'max_depth': 2, 'min_samples_leaf': 15, 'n_estimators': 150, 'subsample': 0.5}                                                                                                                                                                                                     \n",
      "AuROC Teste: 0.7583994952416004 | Recall Teste: 0.4065934065934066                                                                                                                                                                                                                  \n",
      "Hiperparametros testados:                                                                                                                                                                                                                                                           \n",
      "{'max_depth': 3, 'min_samples_leaf': 5, 'n_estimators': 200, 'subsample': 0.4}                                                                                                                                                                                                      \n",
      "AuROC Teste: 0.7743835112256164 | Recall Teste: 0.42857142857142855                                                                                                                                                                                                                 \n",
      "Hiperparametros testados:                                                                                                                                                                                                                                                           \n",
      "{'max_depth': 5, 'min_samples_leaf': 20, 'n_estimators': 10, 'subsample': 0.1}                                                                                                                                                                                                      \n",
      "AuROC Teste: 0.7260108312739891 | Recall Teste: 0.0                                                                                                                                                                                                                                 \n",
      "Hiperparametros testados:                                                                                                                                                                                                                                                           \n",
      "{'max_depth': 5, 'min_samples_leaf': 10, 'n_estimators': 100, 'subsample': 0.2}                                                                                                                                                                                                     \n",
      "AuROC Teste: 0.7493559072506442 | Recall Teste: 0.37362637362637363                                                                                                                                                                                                                 \n",
      "Hiperparametros testados:                                                                                                                                                                                                                                                           \n",
      "{'max_depth': 4, 'min_samples_leaf': 25, 'n_estimators': 200, 'subsample': 0.4}                                                                                                                                                                                                     \n",
      "AuROC Teste: 0.7648667122351333 | Recall Teste: 0.46153846153846156                                                                                                                                                                                                                 \n",
      "Hiperparametros testados:                                                                                                                                                                                                                                                           \n",
      "{'max_depth': 5, 'min_samples_leaf': 10, 'n_estimators': 100, 'subsample': 0.3}                                                                                                                                                                                                     \n",
      "AuROC Teste: 0.7457805352542195 | Recall Teste: 0.4835164835164835                                                                                                                                                                                                                  \n",
      "Hiperparametros testados:                                                                                                                                                                                                                                                           \n",
      "{'max_depth': 2, 'min_samples_leaf': 5, 'n_estimators': 150, 'subsample': 0.5}                                                                                                                                                                                                      \n",
      "AuROC Teste: 0.7631841842368159 | Recall Teste: 0.37362637362637363                                                                                                                                                                                                                 \n",
      "Hiperparametros testados:                                                                                                                                                                                                                                                           \n",
      "{'max_depth': 5, 'min_samples_leaf': 10, 'n_estimators': 20, 'subsample': 0.3}                                                                                                                                                                                                      \n",
      "AuROC Teste: 0.750906987749093 | Recall Teste: 0.2857142857142857                                                                                                                                                                                                                   \n",
      "Hiperparametros testados:                                                                                                                                                                                                                                                           \n",
      "{'max_depth': 3, 'min_samples_leaf': 15, 'n_estimators': 50, 'subsample': 0.1}                                                                                                                                                                                                      \n",
      "AuROC Teste: 0.7531941742468058 | Recall Teste: 0.2967032967032967                                                                                                                                                                                                                  \n",
      "Hiperparametros testados:                                                                                                                                                                                                                                                           \n",
      "{'max_depth': 5, 'min_samples_leaf': 10, 'n_estimators': 200, 'subsample': 0.4}                                                                                                                                                                                                     \n",
      "AuROC Teste: 0.7463063252536938 | Recall Teste: 0.4835164835164835                                                                                                                                                                                                                  \n",
      "Hiperparametros testados:                                                                                                                                                                                                                                                           \n",
      "{'max_depth': 5, 'min_samples_leaf': 20, 'n_estimators': 100, 'subsample': 0.2}                                                                                                                                                                                                     \n",
      "AuROC Teste: 0.7559808612440191 | Recall Teste: 0.4065934065934066                                                                                                                                                                                                                  \n",
      "Hiperparametros testados:                                                                                                                                                                                                                                                           \n",
      "{'max_depth': 4, 'min_samples_leaf': 10, 'n_estimators': 10, 'subsample': 0.3}                                                                                                                                                                                                      \n",
      "AuROC Teste: 0.7160996897839003 | Recall Teste: 0.18681318681318682                                                                                                                                                                                                                 \n",
      "Hiperparametros testados:                                                                                                                                                                                                                                                           \n",
      "{'max_depth': 2, 'min_samples_leaf': 25, 'n_estimators': 20, 'subsample': 0.5}                                                                                                                                                                                                      \n",
      "AuROC Teste: 0.7665755297334244 | Recall Teste: 0.15384615384615385                                                                                                                                                                                                                 \n",
      "Hiperparametros testados:                                                                                                                                                                                                                                                           \n",
      "{'max_depth': 5, 'min_samples_leaf': 10, 'n_estimators': 150, 'subsample': 0.1}                                                                                                                                                                                                     \n",
      "AuROC Teste: 0.7685472422314528 | Recall Teste: 0.5054945054945055                                                                                                                                                                                                                  \n",
      "Hiperparametros testados:                                                                                                                                                                                                                                                           \n",
      "{'max_depth': 3, 'min_samples_leaf': 5, 'n_estimators': 150, 'subsample': 0.1}                                                                                                                                                                                                      \n",
      "AuROC Teste: 0.7427835322572164 | Recall Teste: 0.4835164835164835                                                                                                                                                                                                                  \n",
      "Hiperparametros testados:                                                                                                                                                                                                                                                           \n",
      "{'max_depth': 3, 'min_samples_leaf': 5, 'n_estimators': 150, 'subsample': 0.1}                                                                                                                                                                                                      \n",
      "AuROC Teste: 0.7427835322572164 | Recall Teste: 0.4835164835164835                                                                                                                                                                                                                  \n",
      "Hiperparametros testados:                                                                                                                                                                                                                                                           \n",
      "{'max_depth': 3, 'min_samples_leaf': 5, 'n_estimators': 150, 'subsample': 0.1}                                                                                                                                                                                                      \n",
      "AuROC Teste: 0.7427835322572164 | Recall Teste: 0.4835164835164835                                                                                                                                                                                                                  \n",
      "Hiperparametros testados:                                                                                                                                                                                                                                                           \n",
      "{'max_depth': 3, 'min_samples_leaf': 5, 'n_estimators': 150, 'subsample': 0.1}                                                                                                                                                                                                      \n",
      "AuROC Teste: 0.7427835322572164 | Recall Teste: 0.4835164835164835                                                                                                                                                                                                                  \n",
      "Hiperparametros testados:                                                                                                                                                                                                                                                           \n",
      "{'max_depth': 3, 'min_samples_leaf': 5, 'n_estimators': 150, 'subsample': 0.1}                                                                                                                                                                                                      \n",
      "AuROC Teste: 0.7427835322572164 | Recall Teste: 0.4835164835164835                                                                                                                                                                                                                  \n",
      "Hiperparametros testados:                                                                                                                                                                                                                                                           \n",
      "{'max_depth': 3, 'min_samples_leaf': 5, 'n_estimators': 150, 'subsample': 0.1}                                                                                                                                                                                                      \n",
      "AuROC Teste: 0.7427835322572164 | Recall Teste: 0.4835164835164835                                                                                                                                                                                                                  \n",
      "Hiperparametros testados:                                                                                                                                                                                                                                                           \n",
      "{'max_depth': 3, 'min_samples_leaf': 5, 'n_estimators': 150, 'subsample': 0.1}                                                                                                                                                                                                      \n",
      "AuROC Teste: 0.7427835322572164 | Recall Teste: 0.4835164835164835                                                                                                                                                                                                                  \n",
      "Hiperparametros testados:                                                                                                                                                                                                                                                           \n",
      "{'max_depth': 3, 'min_samples_leaf': 5, 'n_estimators': 150, 'subsample': 0.1}                                                                                                                                                                                                      \n",
      "AuROC Teste: 0.7427835322572164 | Recall Teste: 0.4835164835164835                                                                                                                                                                                                                  \n",
      "Hiperparametros testados:                                                                                                                                                                                                                                                           \n",
      "{'max_depth': 5, 'min_samples_leaf': 10, 'n_estimators': 150, 'subsample': 0.1}                                                                                                                                                                                                     \n",
      "AuROC Teste: 0.7685472422314528 | Recall Teste: 0.5054945054945055                                                                                                                                                                                                                  \n",
      "Hiperparametros testados:                                                                                                                                                                                                                                                           \n",
      "{'max_depth': 3, 'min_samples_leaf': 15, 'n_estimators': 150, 'subsample': 0.1}                                                                                                                                                                                                     \n",
      "AuROC Teste: 0.7534044902465956 | Recall Teste: 0.37362637362637363                                                                                                                                                                                                                 \n",
      "Hiperparametros testados:                                                                                                                                                                                                                                                           \n",
      "{'max_depth': 5, 'min_samples_leaf': 10, 'n_estimators': 150, 'subsample': 0.1}                                                                                                                                                                                                     \n",
      "AuROC Teste: 0.7685472422314528 | Recall Teste: 0.5054945054945055                                                                                                                                                                                                                  \n",
      "Hiperparametros testados:                                                                                                                                                                                                                                                           \n",
      "{'max_depth': 5, 'min_samples_leaf': 10, 'n_estimators': 150, 'subsample': 0.1}                                                                                                                                                                                                     \n",
      "AuROC Teste: 0.7685472422314528 | Recall Teste: 0.5054945054945055                                                                                                                                                                                                                  \n",
      "Hiperparametros testados:                                                                                                                                                                                                                                                           \n",
      "{'max_depth': 5, 'min_samples_leaf': 10, 'n_estimators': 150, 'subsample': 0.1}                                                                                                                                                                                                     \n",
      "AuROC Teste: 0.7685472422314528 | Recall Teste: 0.5054945054945055                                                                                                                                                                                                                  \n",
      "Hiperparametros testados:                                                                                                                                                                                                                                                           \n",
      "{'max_depth': 5, 'min_samples_leaf': 10, 'n_estimators': 150, 'subsample': 0.1}                                                                                                                                                                                                     \n",
      "AuROC Teste: 0.7685472422314528 | Recall Teste: 0.5054945054945055                                                                                                                                                                                                                  \n",
      "Hiperparametros testados:                                                                                                                                                                                                                                                           \n",
      "{'max_depth': 5, 'min_samples_leaf': 10, 'n_estimators': 150, 'subsample': 0.1}                                                                                                                                                                                                     \n",
      "AuROC Teste: 0.7685472422314528 | Recall Teste: 0.5054945054945055                                                                                                                                                                                                                  \n",
      "Hiperparametros testados:                                                                                                                                                                                                                                                           \n",
      "{'max_depth': 5, 'min_samples_leaf': 10, 'n_estimators': 150, 'subsample': 0.1}                                                                                                                                                                                                     \n",
      "AuROC Teste: 0.7685472422314528 | Recall Teste: 0.5054945054945055                                                                                                                                                                                                                  \n",
      "Hiperparametros testados:                                                                                                                                                                                                                                                           \n",
      "{'max_depth': 5, 'min_samples_leaf': 10, 'n_estimators': 150, 'subsample': 0.1}                                                                                                                                                                                                     \n",
      "AuROC Teste: 0.7685472422314528 | Recall Teste: 0.5054945054945055                                                                                                                                                                                                                  \n",
      "Hiperparametros testados:                                                                                                                                                                                                                                                           \n",
      "{'max_depth': 5, 'min_samples_leaf': 10, 'n_estimators': 150, 'subsample': 0.1}                                                                                                                                                                                                     \n",
      "AuROC Teste: 0.7685472422314528 | Recall Teste: 0.5054945054945055                                                                                                                                                                                                                  \n",
      "Hiperparametros testados:                                                                                                                                                                                                                                                           \n",
      "{'max_depth': 5, 'min_samples_leaf': 10, 'n_estimators': 50, 'subsample': 0.1}                                                                                                                                                                                                      \n",
      "AuROC Teste: 0.7750933277249066 | Recall Teste: 0.34065934065934067                                                                                                                                                                                                                 \n",
      "Hiperparametros testados:                                                                                                                                                                                                                                                           \n",
      "{'max_depth': 4, 'min_samples_leaf': 20, 'n_estimators': 150, 'subsample': 0.1}                                                                                                                                                                                                     \n",
      "AuROC Teste: 0.7629212892370787 | Recall Teste: 0.4175824175824176                                                                                                                                                                                                                  \n",
      "Hiperparametros testados:                                                                                                                                                                                                                                                           \n",
      "{'max_depth': 5, 'min_samples_leaf': 25, 'n_estimators': 10, 'subsample': 0.2}                                                                                                                                                                                                      \n",
      "AuROC Teste: 0.768336926231663 | Recall Teste: 0.01098901098901099                                                                                                                                                                                                                  \n",
      "Hiperparametros testados:                                                                                                                                                                                                                                                           \n",
      "{'max_depth': 5, 'min_samples_leaf': 10, 'n_estimators': 150, 'subsample': 0.1}                                                                                                                                                                                                     \n",
      "AuROC Teste: 0.7685472422314528 | Recall Teste: 0.5054945054945055                                                                                                                                                                                                                  \n",
      "Hiperparametros testados:                                                                                                                                                                                                                                                           \n",
      "{'max_depth': 2, 'min_samples_leaf': 10, 'n_estimators': 20, 'subsample': 0.5}                                                                                                                                                                                                      \n",
      "AuROC Teste: 0.7694147957305852 | Recall Teste: 0.1978021978021978                                                                                                                                                                                                                  \n",
      "Hiperparametros testados:                                                                                                                                                                                                                                                           \n",
      "{'max_depth': 5, 'min_samples_leaf': 15, 'n_estimators': 150, 'subsample': 0.1}                                                                                                                                                                                                     \n",
      "AuROC Teste: 0.7534044902465956 | Recall Teste: 0.37362637362637363                                                                                                                                                                                                                 \n",
      "Hiperparametros testados:                                                                                                                                                                                                                                                           \n",
      "{'max_depth': 5, 'min_samples_leaf': 10, 'n_estimators': 50, 'subsample': 0.1}                                                                                                                                                                                                      \n",
      "AuROC Teste: 0.7750933277249066 | Recall Teste: 0.34065934065934067                                                                                                                                                                                                                 \n",
      "Hiperparametros testados:                                                                                                                                                                                                                                                           \n",
      "{'max_depth': 4, 'min_samples_leaf': 20, 'n_estimators': 150, 'subsample': 0.2}                                                                                                                                                                                                     \n",
      "AuROC Teste: 0.7618171302381829 | Recall Teste: 0.45054945054945056                                                                                                                                                                                                                 \n",
      "Hiperparametros testados:                                                                                                                                                                                                                                                           \n",
      "{'max_depth': 5, 'min_samples_leaf': 10, 'n_estimators': 10, 'subsample': 0.1}                                                                                                                                                                                                      \n",
      "AuROC Teste: 0.7504337767495662 | Recall Teste: 0.02197802197802198                                                                                                                                                                                                                 \n",
      "Hiperparametros testados:                                                                                                                                                                                                                                                           \n",
      "{'max_depth': 2, 'min_samples_leaf': 25, 'n_estimators': 150, 'subsample': 0.5}                                                                                                                                                                                                     \n",
      "AuROC Teste: 0.7681791892318207 | Recall Teste: 0.3516483516483517                                                                                                                                                                                                                  \n",
      "Hiperparametros testados:                                                                                                                                                                                                                                                           \n",
      "{'max_depth': 5, 'min_samples_leaf': 10, 'n_estimators': 20, 'subsample': 0.1}                                                                                                                                                                                                      \n",
      "AuROC Teste: 0.7675745307324254 | Recall Teste: 0.15384615384615385                                                                                                                                                                                                                 \n",
      "Hiperparametros testados:                                                                                                                                                                                                                                                           \n",
      "{'max_depth': 5, 'min_samples_leaf': 15, 'n_estimators': 150, 'subsample': 0.1}                                                                                                                                                                                                     \n",
      "AuROC Teste: 0.7534044902465956 | Recall Teste: 0.37362637362637363                                                                                                                                                                                                                 \n",
      "Hiperparametros testados:                                                                                                                                                                                                                                                           \n",
      "{'max_depth': 5, 'min_samples_leaf': 10, 'n_estimators': 50, 'subsample': 0.2}                                                                                                                                                                                                      \n",
      "AuROC Teste: 0.7631841842368158 | Recall Teste: 0.3626373626373626                                                                                                                                                                                                                  \n",
      "Hiperparametros testados:                                                                                                                                                                                                                                                           \n",
      "{'max_depth': 4, 'min_samples_leaf': 10, 'n_estimators': 150, 'subsample': 0.1}                                                                                                                                                                                                     \n",
      "AuROC Teste: 0.7596088122403911 | Recall Teste: 0.45054945054945056                                                                                                                                                                                                                 \n",
      "Hiperparametros testados:                                                                                                                                                                                                                                                           \n",
      "{'max_depth': 5, 'min_samples_leaf': 20, 'n_estimators': 150, 'subsample': 0.5}                                                                                                                                                                                                     \n",
      "AuROC Teste: 0.7518796992481203 | Recall Teste: 0.42857142857142855                                                                                                                                                                                                                 \n",
      "Hiperparametros testados:                                                                                                                                                                                                                                                           \n",
      "{'max_depth': 2, 'min_samples_leaf': 10, 'n_estimators': 10, 'subsample': 0.1}                                                                                                                                                                                                      \n",
      "AuROC Teste: 0.7413901887586098 | Recall Teste: 0.054945054945054944                                                                                                                                                                                                                \n",
      "Hiperparametros testados:                                                                                                                                                                                                                                                           \n",
      "{'max_depth': 5, 'min_samples_leaf': 25, 'n_estimators': 20, 'subsample': 0.1}                                                                                                                                                                                                      \n",
      "AuROC Teste: 0.7555339397444661 | Recall Teste: 0.0                                                                                                                                                                                                                                 \n",
      "Hiperparametros testados:                                                                                                                                                                                                                                                           \n",
      "{'max_depth': 5, 'min_samples_leaf': 10, 'n_estimators': 150, 'subsample': 0.2}                                                                                                                                                                                                     \n",
      "AuROC Teste: 0.7473053262526946 | Recall Teste: 0.4175824175824176                                                                                                                                                                                                                  \n",
      "Hiperparametros testados:                                                                                                                                                                                                                                                           \n",
      "{'max_depth': 5, 'min_samples_leaf': 15, 'n_estimators': 50, 'subsample': 0.1}                                                                                                                                                                                                      \n",
      "AuROC Teste: 0.7531941742468058 | Recall Teste: 0.2967032967032967                                                                                                                                                                                                                  \n",
      "Hiperparametros testados:                                                                                                                                                                                                                                                           \n",
      "{'max_depth': 4, 'min_samples_leaf': 10, 'n_estimators': 150, 'subsample': 0.5}                                                                                                                                                                                                     \n",
      "AuROC Teste: 0.7584520742415479 | Recall Teste: 0.4835164835164835                                                                                                                                                                                                                  \n",
      "100%|██████████████████████████████████████████████████████████████████████████████████████████████████████████████████████████████████████████████████████████████████████████████████████████████████████████| 100/100 [00:11<00:00,  8.84trial/s, best loss: -0.5054945054945055]\n"
     ]
    }
   ],
   "source": [
    "trials = Trials()\n",
    "bo_search = fmin(fn=bo_gb, \n",
    "                 space=bo_space,\n",
    "                 algo=tpe.suggest,\n",
    "                 max_evals=100,\n",
    "                 trials=trials)"
   ]
  },
  {
   "cell_type": "code",
   "execution_count": 36,
   "metadata": {
    "id": "PIwnEoURLK31"
   },
   "outputs": [
    {
     "name": "stdout",
     "output_type": "stream",
     "text": [
      "Melhor conjunto de hiperparâmetros:  {'max_depth': 5, 'min_samples_leaf': 10, 'n_estimators': 150, 'subsample': 0.1}\n"
     ]
    }
   ],
   "source": [
    "from hyperopt import space_eval\n",
    "\n",
    "bo_melhor_hp = space_eval(bo_space, bo_search)\n",
    "print('Melhor conjunto de hiperparâmetros: ', bo_melhor_hp)"
   ]
  },
  {
   "cell_type": "code",
   "execution_count": 37,
   "metadata": {
    "id": "bn2ZdhDFLK31"
   },
   "outputs": [],
   "source": [
    "modelo_bo = modelo_GB(min_samples_leaf=bo_melhor_hp['min_samples_leaf'],\n",
    "                          max_depth=bo_melhor_hp['max_depth'],\n",
    "                          n_estimators=bo_melhor_hp['n_estimators'],\n",
    "                          subsample=bo_melhor_hp['subsample']\n",
    "                     )\n",
    "\n",
    "historico = modelo_bo.fit(x_train, y_train)"
   ]
  },
  {
   "cell_type": "code",
   "execution_count": 38,
   "metadata": {},
   "outputs": [
    {
     "data": {
      "text/html": [
       "<div>\n",
       "<style scoped>\n",
       "    .dataframe tbody tr th:only-of-type {\n",
       "        vertical-align: middle;\n",
       "    }\n",
       "\n",
       "    .dataframe tbody tr th {\n",
       "        vertical-align: top;\n",
       "    }\n",
       "\n",
       "    .dataframe thead th {\n",
       "        text-align: right;\n",
       "    }\n",
       "</style>\n",
       "<table border=\"1\" class=\"dataframe\">\n",
       "  <thead>\n",
       "    <tr style=\"text-align: right;\">\n",
       "      <th></th>\n",
       "      <th>Treino</th>\n",
       "      <th>Teste</th>\n",
       "      <th>Variação</th>\n",
       "    </tr>\n",
       "  </thead>\n",
       "  <tbody>\n",
       "    <tr>\n",
       "      <th>Acurácia</th>\n",
       "      <td>0.811429</td>\n",
       "      <td>0.736667</td>\n",
       "      <td>-0.09</td>\n",
       "    </tr>\n",
       "    <tr>\n",
       "      <th>AUROC</th>\n",
       "      <td>0.841438</td>\n",
       "      <td>0.768547</td>\n",
       "      <td>-0.09</td>\n",
       "    </tr>\n",
       "    <tr>\n",
       "      <th>KS</th>\n",
       "      <td>0.555384</td>\n",
       "      <td>0.464430</td>\n",
       "      <td>-0.16</td>\n",
       "    </tr>\n",
       "    <tr>\n",
       "      <th>Precision</th>\n",
       "      <td>0.697436</td>\n",
       "      <td>0.575000</td>\n",
       "      <td>-0.18</td>\n",
       "    </tr>\n",
       "    <tr>\n",
       "      <th>Recall</th>\n",
       "      <td>0.650718</td>\n",
       "      <td>0.505495</td>\n",
       "      <td>-0.22</td>\n",
       "    </tr>\n",
       "    <tr>\n",
       "      <th>F1</th>\n",
       "      <td>0.673267</td>\n",
       "      <td>0.538012</td>\n",
       "      <td>-0.20</td>\n",
       "    </tr>\n",
       "  </tbody>\n",
       "</table>\n",
       "</div>"
      ],
      "text/plain": [
       "             Treino     Teste  Variação\n",
       "Acurácia   0.811429  0.736667     -0.09\n",
       "AUROC      0.841438  0.768547     -0.09\n",
       "KS         0.555384  0.464430     -0.16\n",
       "Precision  0.697436  0.575000     -0.18\n",
       "Recall     0.650718  0.505495     -0.22\n",
       "F1         0.673267  0.538012     -0.20"
      ]
     },
     "execution_count": 38,
     "metadata": {},
     "output_type": "execute_result"
    }
   ],
   "source": [
    "modelo_bo_desemp = preditiva.calcula_desempenho(modelo_bo,\n",
    "                                                x_train, y_train,\n",
    "                                                x_test,  y_test)\n",
    "modelo_bo_desemp"
   ]
  },
  {
   "cell_type": "code",
   "execution_count": null,
   "metadata": {},
   "outputs": [],
   "source": []
  }
 ],
 "metadata": {
  "colab": {
   "collapsed_sections": [],
   "name": "6_Tuning_Hiperparametros.ipynb",
   "provenance": []
  },
  "kernelspec": {
   "display_name": "Python 3",
   "language": "python",
   "name": "python3"
  },
  "language_info": {
   "codemirror_mode": {
    "name": "ipython",
    "version": 3
   },
   "file_extension": ".py",
   "mimetype": "text/x-python",
   "name": "python",
   "nbconvert_exporter": "python",
   "pygments_lexer": "ipython3",
   "version": "3.8.3"
  },
  "toc-autonumbering": true
 },
 "nbformat": 4,
 "nbformat_minor": 4
}
