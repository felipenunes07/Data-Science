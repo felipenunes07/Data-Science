{
 "cells": [
  {
   "attachments": {
    "3a87d508-ce66-49bb-8c2b-1939a7a87601.png": {
     "image/png": "[encoded data removed]"
    }
   },
   "cell_type": "markdown",
   "metadata": {},
   "source": [
    "<img src=\"https://s3-sa-east-1.amazonaws.com/preditiva.ai/diversos/preditiva_assinatura.jpg\">\n",
    "\n",
    "# Introdução ao Python\n",
    "O Python é uma linguagem de programação que vem ganhando cada vez mais adeptos, mas com o foco em análise de dados. Isso devido ao crescente número de bibliotecas que vem surgindo e sua extrema flexibilidade como linguagem de programação.\n",
    "\n",
    "![image.png](attachment:3a87d508-ce66-49bb-8c2b-1939a7a87601.png)"
   ]
  },
  {
   "cell_type": "markdown",
   "metadata": {},
   "source": [
    "## Estruturas de Dados"
   ]
  },
  {
   "cell_type": "markdown",
   "metadata": {},
   "source": [
    "### Variáveis\n",
    "\n",
    "As informações podem ser armazenadas nos computadores de diversas formas diferentes: arquivos, bancos de dados etc. Nas linguagens de programação, a forma de fazer isso é utilizando Variáveis.\n",
    "\n",
    "O Python possui diversos tipos de variáveis para armazenar os mais diversos tipos de dados. A seguir, vamos ver alguns exemplos de quais tipos de variáveis temos a disposição no Python."
   ]
  },
  {
   "cell_type": "code",
   "execution_count": null,
   "metadata": {},
   "outputs": [],
   "source": [
    "# Exemplo de dados cadastrais\n",
    "\n",
    "nome_completo = 'Felizberto Antunes'\n",
    "telefone = 11952542515\n",
    "email = 'f.antunes@hotmail.com'\n",
    "endereco = 'Rua do Catete, 152'\n",
    "cep = '04467-245'\n",
    "primeiro_pedido = False"
   ]
  },
  {
   "cell_type": "code",
   "execution_count": 2,
   "metadata": {},
   "outputs": [],
   "source": [
    "nome_completo"
   ]
  },
  {
   "cell_type": "code",
   "execution_count": 3,
   "metadata": {},
   "outputs": [
    {
     "data": {
      "text/plain": [
       "11952542515"
      ]
     },
     "execution_count": 3,
     "metadata": {},
     "output_type": "execute_result"
    }
   ],
   "source": [
    "telefone"
   ]
  },
  {
   "cell_type": "code",
   "execution_count": 4,
   "metadata": {},
   "outputs": [
    {
     "data": {
      "text/plain": [
       "'f.antunes@hotmail.com'"
      ]
     },
     "execution_count": 4,
     "metadata": {},
     "output_type": "execute_result"
    }
   ],
   "source": [
    "email"
   ]
  },
  {
   "cell_type": "code",
   "execution_count": 5,
   "metadata": {},
   "outputs": [
    {
     "data": {
      "text/plain": [
       "'Rua do Catete, 152'"
      ]
     },
     "execution_count": 5,
     "metadata": {},
     "output_type": "execute_result"
    }
   ],
   "source": [
    "endereco"
   ]
  },
  {
   "cell_type": "code",
   "execution_count": 6,
   "metadata": {},
   "outputs": [
    {
     "data": {
      "text/plain": [
       "'04467-245'"
      ]
     },
     "execution_count": 6,
     "metadata": {},
     "output_type": "execute_result"
    }
   ],
   "source": [
    "cep"
   ]
  },
  {
   "cell_type": "code",
   "execution_count": 7,
   "metadata": {},
   "outputs": [
    {
     "data": {
      "text/plain": [
       "False"
      ]
     },
     "execution_count": 7,
     "metadata": {},
     "output_type": "execute_result"
    }
   ],
   "source": [
    "primeiro_pedido"
   ]
  },
  {
   "cell_type": "code",
   "execution_count": 8,
   "metadata": {},
   "outputs": [
    {
     "data": {
      "text/plain": [
       "int"
      ]
     },
     "execution_count": 8,
     "metadata": {},
     "output_type": "execute_result"
    }
   ],
   "source": [
    "type(telefone)"
   ]
  },
  {
   "cell_type": "markdown",
   "metadata": {},
   "source": [
    "### Listas\n",
    "\n",
    "Após definir os tipos das variáveis utilizadas no cadastro, podemos organizar essas informações em uma única estrutura de dados. No Python existem 4 principais estruturas: Listas, Dicionários, Tuplas e Sets, com características específicas a cada tipo.\n",
    "\n",
    "O tipo mais utilizado é a Lista, vejamos como ela pode nos ajudar a organizar os dados."
   ]
  },
  {
   "cell_type": "code",
   "execution_count": 9,
   "metadata": {},
   "outputs": [
    {
     "data": {
      "text/plain": [
       "['Felizberto Antunes',\n",
       " 11952542515,\n",
       " 'f.antunes@hotmail.com',\n",
       " 'Rua do Catete, 152',\n",
       " '04467-245',\n",
       " False]"
      ]
     },
     "execution_count": 9,
     "metadata": {},
     "output_type": "execute_result"
    }
   ],
   "source": [
    "# Definindo uma lista\n",
    "\n",
    "dados_cliente1 = [nome_completo, telefone, email, endereco, cep, primeiro_pedido]\n",
    "dados_cliente1"
   ]
  },
  {
   "cell_type": "code",
   "execution_count": 10,
   "metadata": {},
   "outputs": [
    {
     "data": {
      "text/plain": [
       "list"
      ]
     },
     "execution_count": 10,
     "metadata": {},
     "output_type": "execute_result"
    }
   ],
   "source": [
    "type(dados_cliente1)"
   ]
  },
  {
   "cell_type": "code",
   "execution_count": 11,
   "metadata": {},
   "outputs": [
    {
     "name": "stdout",
     "output_type": "stream",
     "text": [
      "Nome:  Felizberto Antunes\n",
      "Telefone:  11952542515\n",
      "e-mail:  f.antunes@hotmail.com\n"
     ]
    }
   ],
   "source": [
    "# Acessando dados dos clientes\n",
    "\n",
    "print('Nome: ', dados_cliente1[0])\n",
    "print('Telefone: ', dados_cliente1[1])\n",
    "print('e-mail: ', dados_cliente1[2])"
   ]
  },
  {
   "cell_type": "code",
   "execution_count": 12,
   "metadata": {},
   "outputs": [
    {
     "data": {
      "text/plain": [
       "['Isabela Oliveira',\n",
       " 11932544577,\n",
       " 'isa.oliveira@gmail.com',\n",
       " 'Av. Agua Fria, 452',\n",
       " '02333-000',\n",
       " False]"
      ]
     },
     "execution_count": 12,
     "metadata": {},
     "output_type": "execute_result"
    }
   ],
   "source": [
    "# Criando listas de listas\n",
    "\n",
    "# Lista com dados do cliente 2\n",
    "dados_cliente2 = ['Isabela Oliveira',\n",
    "                  11932544577,\n",
    "                  'isa.oliveira@gmail.com',\n",
    "                  'Av. Agua Fria, 452',\n",
    "                  '02333-000',\n",
    "                  False]\n",
    "dados_cliente2"
   ]
  },
  {
   "cell_type": "code",
   "execution_count": 13,
   "metadata": {},
   "outputs": [
    {
     "data": {
      "text/plain": [
       "[['Felizberto Antunes',\n",
       "  11952542515,\n",
       "  'f.antunes@hotmail.com',\n",
       "  'Rua do Catete, 152',\n",
       "  '04467-245',\n",
       "  False],\n",
       " ['Isabela Oliveira',\n",
       "  11932544577,\n",
       "  'isa.oliveira@gmail.com',\n",
       "  'Av. Agua Fria, 452',\n",
       "  '02333-000',\n",
       "  False]]"
      ]
     },
     "execution_count": 13,
     "metadata": {},
     "output_type": "execute_result"
    }
   ],
   "source": [
    "# Criação da lista de clientes contendo os dados dos clientes 1 e 2\n",
    "\n",
    "clientes = [dados_cliente1,\n",
    "            dados_cliente2]\n",
    "clientes"
   ]
  },
  {
   "cell_type": "code",
   "execution_count": 14,
   "metadata": {},
   "outputs": [
    {
     "data": {
      "text/plain": [
       "['Odair Silva',\n",
       " 11985477422,\n",
       " 'o2liveira@yahoo.com.br',\n",
       " 'Rua Artur Prado, 331',\n",
       " '04002-010',\n",
       " True]"
      ]
     },
     "execution_count": 14,
     "metadata": {},
     "output_type": "execute_result"
    }
   ],
   "source": [
    "# Adicionando clientes\n",
    "\n",
    "# Lista com dados do cliente 3\n",
    "dados_cliente3 = ['Odair Silva',\n",
    "                  11985477422,\n",
    "                  'o2liveira@yahoo.com.br',\n",
    "                  'Rua Artur Prado, 331',\n",
    "                  '04002-010',\n",
    "                  True]\n",
    "dados_cliente3"
   ]
  },
  {
   "cell_type": "code",
   "execution_count": 15,
   "metadata": {},
   "outputs": [
    {
     "data": {
      "text/plain": [
       "[['Felizberto Antunes',\n",
       "  11952542515,\n",
       "  'f.antunes@hotmail.com',\n",
       "  'Rua do Catete, 152',\n",
       "  '04467-245',\n",
       "  False],\n",
       " ['Isabela Oliveira',\n",
       "  11932544577,\n",
       "  'isa.oliveira@gmail.com',\n",
       "  'Av. Agua Fria, 452',\n",
       "  '02333-000',\n",
       "  False],\n",
       " ['Odair Silva',\n",
       "  11985477422,\n",
       "  'o2liveira@yahoo.com.br',\n",
       "  'Rua Artur Prado, 331',\n",
       "  '04002-010',\n",
       "  True]]"
      ]
     },
     "execution_count": 15,
     "metadata": {},
     "output_type": "execute_result"
    }
   ],
   "source": [
    "# Adição do cliente 3 na lista\n",
    "\n",
    "clientes.append(dados_cliente3)\n",
    "clientes"
   ]
  },
  {
   "cell_type": "code",
   "execution_count": 16,
   "metadata": {},
   "outputs": [
    {
     "data": {
      "text/plain": [
       "[['Felizberto Antunes',\n",
       "  11952542515,\n",
       "  'f.antunes@hotmail.com',\n",
       "  'Rua do Catete, 152',\n",
       "  '04467-245',\n",
       "  False],\n",
       " ['Isabela Oliveira',\n",
       "  11932544577,\n",
       "  'isa.oliveira@gmail.com',\n",
       "  'Av. Agua Fria, 452',\n",
       "  '02333-000',\n",
       "  False],\n",
       " ['Odair Silva',\n",
       "  11985477422,\n",
       "  'o2liveira@yahoo.com.br',\n",
       "  'Rua Artur Prado, 331',\n",
       "  '04002-010',\n",
       "  True],\n",
       " ['Odair Silva',\n",
       "  11985477422,\n",
       "  'o2liveira@yahoo.com.br',\n",
       "  'Rua Artur Prado, 331',\n",
       "  '04002-010',\n",
       "  True]]"
      ]
     },
     "execution_count": 16,
     "metadata": {},
     "output_type": "execute_result"
    }
   ],
   "source": [
    "# Contando registros do mesmo cliente\n",
    "\n",
    "clientes.append(dados_cliente3)\n",
    "clientes"
   ]
  },
  {
   "cell_type": "code",
   "execution_count": 17,
   "metadata": {},
   "outputs": [
    {
     "data": {
      "text/plain": [
       "2"
      ]
     },
     "execution_count": 17,
     "metadata": {},
     "output_type": "execute_result"
    }
   ],
   "source": [
    "clientes.count(dados_cliente3)"
   ]
  },
  {
   "cell_type": "code",
   "execution_count": 18,
   "metadata": {},
   "outputs": [
    {
     "data": {
      "text/plain": [
       "[['Felizberto Antunes',\n",
       "  11952542515,\n",
       "  'f.antunes@hotmail.com',\n",
       "  'Rua do Catete, 152',\n",
       "  '04467-245',\n",
       "  False],\n",
       " ['Isabela Oliveira',\n",
       "  11932544577,\n",
       "  'isa.oliveira@gmail.com',\n",
       "  'Av. Agua Fria, 452',\n",
       "  '02333-000',\n",
       "  False],\n",
       " ['Odair Silva',\n",
       "  11985477422,\n",
       "  'o2liveira@yahoo.com.br',\n",
       "  'Rua Artur Prado, 331',\n",
       "  '04002-010',\n",
       "  True]]"
      ]
     },
     "execution_count": 18,
     "metadata": {},
     "output_type": "execute_result"
    }
   ],
   "source": [
    "# Removendo cliente\n",
    "\n",
    "clientes.remove(dados_cliente3)\n",
    "clientes"
   ]
  },
  {
   "cell_type": "code",
   "execution_count": 19,
   "metadata": {},
   "outputs": [
    {
     "data": {
      "text/plain": [
       "['Odair Silva',\n",
       " 11985477422,\n",
       " 'o2liveira@yahoo.com.br',\n",
       " 'Rua Artur Prado, 331',\n",
       " '04002-010',\n",
       " True]"
      ]
     },
     "execution_count": 19,
     "metadata": {},
     "output_type": "execute_result"
    }
   ],
   "source": [
    "# Acessando dados de um cliente na lista de clientes\n",
    "\n",
    "clientes[2]"
   ]
  },
  {
   "cell_type": "code",
   "execution_count": 20,
   "metadata": {},
   "outputs": [
    {
     "data": {
      "text/plain": [
       "'isa.oliveira@gmail.com'"
      ]
     },
     "execution_count": 20,
     "metadata": {},
     "output_type": "execute_result"
    }
   ],
   "source": [
    "clientes[1][2]"
   ]
  },
  {
   "cell_type": "markdown",
   "metadata": {},
   "source": [
    "### Dicionários\n",
    "\n",
    "A outra estrutura de dados muito utilizada e que veremos agora com mais detalhes é o Dicionário. Nele as informações são estruturadas no formato chave: valor.\n",
    "\n",
    "Sua principal vantagem sobre a Lista é a velocidade de acesso a um elemento específico. Como o Dicionário é indexado, basta fornecermos a chave para rapidamente recuperarmos o seu valor correspondente. Em uma Lista, para encontrar um elemento específico é necessário realizar uma comparação elemento a elemento. Vejamos como podemos utilizar o Dicionário."
   ]
  },
  {
   "cell_type": "code",
   "execution_count": 21,
   "metadata": {},
   "outputs": [
    {
     "data": {
      "text/plain": [
       "{'f.antunes@hotmail.com': ['Felizberto Antunes',\n",
       "  11952542515,\n",
       "  'f.antunes@hotmail.com',\n",
       "  'Rua do Catete, 152',\n",
       "  '04467-245',\n",
       "  False]}"
      ]
     },
     "execution_count": 21,
     "metadata": {},
     "output_type": "execute_result"
    }
   ],
   "source": [
    "# Definição de um dicionário\n",
    "\n",
    "dicio_clientes = {dados_cliente1[2]: dados_cliente1}\n",
    "dicio_clientes"
   ]
  },
  {
   "cell_type": "code",
   "execution_count": 22,
   "metadata": {},
   "outputs": [
    {
     "data": {
      "text/plain": [
       "['Felizberto Antunes',\n",
       " 11952542515,\n",
       " 'f.antunes@hotmail.com',\n",
       " 'Rua do Catete, 152',\n",
       " '04467-245',\n",
       " False]"
      ]
     },
     "execution_count": 22,
     "metadata": {},
     "output_type": "execute_result"
    }
   ],
   "source": [
    "# Acessando dados dos clientes\n",
    "\n",
    "dicio_clientes.get('f.antunes@hotmail.com')"
   ]
  },
  {
   "cell_type": "code",
   "execution_count": 23,
   "metadata": {},
   "outputs": [
    {
     "data": {
      "text/plain": [
       "['Felizberto Antunes',\n",
       " 11952542515,\n",
       " 'f.antunes@hotmail.com',\n",
       " 'Rua do Catete, 152',\n",
       " '04467-245',\n",
       " False]"
      ]
     },
     "execution_count": 23,
     "metadata": {},
     "output_type": "execute_result"
    }
   ],
   "source": [
    "dicio_clientes['f.antunes@hotmail.com']"
   ]
  },
  {
   "cell_type": "code",
   "execution_count": 24,
   "metadata": {},
   "outputs": [
    {
     "data": {
      "text/plain": [
       "11952542515"
      ]
     },
     "execution_count": 24,
     "metadata": {},
     "output_type": "execute_result"
    }
   ],
   "source": [
    "dicio_clientes['f.antunes@hotmail.com'][1]"
   ]
  },
  {
   "cell_type": "code",
   "execution_count": 25,
   "metadata": {},
   "outputs": [
    {
     "data": {
      "text/plain": [
       "['Odair Silva',\n",
       " 11985477422,\n",
       " 'o2liveira@yahoo.com.br',\n",
       " 'Rua Artur Prado, 331',\n",
       " '04002-010',\n",
       " True]"
      ]
     },
     "execution_count": 25,
     "metadata": {},
     "output_type": "execute_result"
    }
   ],
   "source": [
    "dados_cliente3"
   ]
  },
  {
   "cell_type": "code",
   "execution_count": 26,
   "metadata": {},
   "outputs": [
    {
     "data": {
      "text/plain": [
       "{'f.antunes@hotmail.com': ['Felizberto Antunes',\n",
       "  11952542515,\n",
       "  'f.antunes@hotmail.com',\n",
       "  'Rua do Catete, 152',\n",
       "  '04467-245',\n",
       "  False],\n",
       " 'isa.oliveira@gmail.com': ['Isabela Oliveira',\n",
       "  11932544577,\n",
       "  'isa.oliveira@gmail.com',\n",
       "  'Av. Agua Fria, 452',\n",
       "  '02333-000',\n",
       "  False],\n",
       " 'o2liveira@yahoo.com.br': ['Odair Silva',\n",
       "  11985477422,\n",
       "  'o2liveira@yahoo.com.br',\n",
       "  'Rua Artur Prado, 331',\n",
       "  '04002-010',\n",
       "  True]}"
      ]
     },
     "execution_count": 26,
     "metadata": {},
     "output_type": "execute_result"
    }
   ],
   "source": [
    "# Adicionando clientes\n",
    "\n",
    "dicio_clientes['isa.oliveira@gmail.com'] = dados_cliente2\n",
    "dicio_clientes[dados_cliente3[2]] = dados_cliente3\n",
    "dicio_clientes"
   ]
  },
  {
   "cell_type": "code",
   "execution_count": 27,
   "metadata": {},
   "outputs": [
    {
     "data": {
      "text/plain": [
       "{'f.antunes@hotmail.com': ['Felizberto Antunes',\n",
       "  11952542515,\n",
       "  'f.antunes@hotmail.com',\n",
       "  'Rua do Catete, 152',\n",
       "  '04467-245',\n",
       "  False],\n",
       " 'isa.oliveira@gmail.com': ['Isabela Oliveira',\n",
       "  11932544577,\n",
       "  'isa.oliveira@gmail.com',\n",
       "  'Av. Agua Fria, 452',\n",
       "  '02333-000',\n",
       "  False]}"
      ]
     },
     "execution_count": 27,
     "metadata": {},
     "output_type": "execute_result"
    }
   ],
   "source": [
    "# Removendo cliente\n",
    "\n",
    "dicio_clientes.pop('o2liveira@yahoo.com.br')\n",
    "dicio_clientes"
   ]
  },
  {
   "cell_type": "code",
   "execution_count": 28,
   "metadata": {},
   "outputs": [
    {
     "data": {
      "text/plain": [
       "{'f.antunes@hotmail.com': ['Felizberto Antunes',\n",
       "  11952542515,\n",
       "  'f.antunes@hotmail.com',\n",
       "  'Rua do Catete, 152',\n",
       "  '04467-245',\n",
       "  False],\n",
       " 'isa.oliveira@gmail.com': ['Isabela Oliveira',\n",
       "  11932544577,\n",
       "  'isa.oliveira@gmail.com',\n",
       "  'Av. Agua Fria, 452',\n",
       "  '02333-000',\n",
       "  False],\n",
       " 'o2liveira@yahoo.com.br': ['Odair Silva',\n",
       "  11985477422,\n",
       "  'o2liveira@yahoo.com.br',\n",
       "  'Rua Artur Prado, 331',\n",
       "  '04002-010',\n",
       "  True]}"
      ]
     },
     "execution_count": 28,
     "metadata": {},
     "output_type": "execute_result"
    }
   ],
   "source": [
    "# Recolocando o cliente 3 no dicionário\n",
    "\n",
    "dicio_clientes[dados_cliente3[2]] = dados_cliente3\n",
    "dicio_clientes"
   ]
  },
  {
   "cell_type": "code",
   "execution_count": 29,
   "metadata": {},
   "outputs": [
    {
     "data": {
      "text/plain": [
       "dict_keys(['f.antunes@hotmail.com', 'isa.oliveira@gmail.com', 'o2liveira@yahoo.com.br'])"
      ]
     },
     "execution_count": 29,
     "metadata": {},
     "output_type": "execute_result"
    }
   ],
   "source": [
    "# Visualizando chaves no dicionário - e-mail\n",
    "dicio_clientes.keys()"
   ]
  },
  {
   "cell_type": "code",
   "execution_count": 30,
   "metadata": {},
   "outputs": [
    {
     "data": {
      "text/plain": [
       "dict_values([['Felizberto Antunes', 11952542515, 'f.antunes@hotmail.com', 'Rua do Catete, 152', '04467-245', False], ['Isabela Oliveira', 11932544577, 'isa.oliveira@gmail.com', 'Av. Agua Fria, 452', '02333-000', False], ['Odair Silva', 11985477422, 'o2liveira@yahoo.com.br', 'Rua Artur Prado, 331', '04002-010', True]])"
      ]
     },
     "execution_count": 30,
     "metadata": {},
     "output_type": "execute_result"
    }
   ],
   "source": [
    "# Visualizando valores no dicionário\n",
    "dicio_clientes.values()"
   ]
  },
  {
   "cell_type": "code",
   "execution_count": 31,
   "metadata": {},
   "outputs": [
    {
     "ename": "KeyError",
     "evalue": "'f.ntunes@hotmail.com'",
     "output_type": "error",
     "traceback": [
      "\u001b[1;31m---------------------------------------------------------------------------\u001b[0m",
      "\u001b[1;31mKeyError\u001b[0m                                  Traceback (most recent call last)",
      "\u001b[1;32m<ipython-input-31-cc5c8a7964f7>\u001b[0m in \u001b[0;36m<module>\u001b[1;34m\u001b[0m\n\u001b[1;32m----> 1\u001b[1;33m \u001b[0mdicio_clientes\u001b[0m\u001b[1;33m[\u001b[0m\u001b[1;34m'f.ntunes@hotmail.com'\u001b[0m\u001b[1;33m]\u001b[0m\u001b[1;33m\u001b[0m\u001b[1;33m\u001b[0m\u001b[0m\n\u001b[0m",
      "\u001b[1;31mKeyError\u001b[0m: 'f.ntunes@hotmail.com'"
     ]
    }
   ],
   "source": [
    "dicio_clientes['f.ntunes@hotmail.com']"
   ]
  },
  {
   "cell_type": "code",
   "execution_count": null,
   "metadata": {},
   "outputs": [],
   "source": [
    "dicio_clientes.get('f.ntunes@hotmail.com')"
   ]
  }
 ],
 "metadata": {
  "kernelspec": {
   "display_name": "Python 3",
   "language": "python",
   "name": "python3"
  },
  "language_info": {
   "codemirror_mode": {
    "name": "ipython",
    "version": 3
   },
   "file_extension": ".py",
   "mimetype": "text/x-python",
   "name": "python",
   "nbconvert_exporter": "python",
   "pygments_lexer": "ipython3",
   "version": "3.8.3"
  }
 },
 "nbformat": 4,
 "nbformat_minor": 4
}
