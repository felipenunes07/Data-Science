{
 "cells": [
  {
   "cell_type": "markdown",
   "metadata": {},
   "source": [
    "<img src=\"https://s3-sa-east-1.amazonaws.com/preditiva.ai/diversos/preditiva_assinatura.jpg\">\n",
    "\n",
    "# Organização e escalada"
   ]
  },
  {
   "cell_type": "markdown",
   "metadata": {},
   "source": [
    "## Definição de Funções\n",
    "\n",
    "Quando precisamos realizar uma mesma sequência de passos repetidas vezes, a melhor forma é criarmos uma Função. A função no Python pode ser definida para receber alguns argumentos e retornar o resultado do processamento realizado pela sequência de passos. Vejamos como podemos utilizar uma Função para nos indicar se a entrega a ser realizar para um determinado cliente será gratuita."
   ]
  },
  {
   "cell_type": "code",
   "execution_count": null,
   "metadata": {},
   "outputs": [],
   "source": [
    "# Definição do dicionário de clientes\n",
    "\n",
    "dicio_clientes = {'f.antunes@hotmail.com':\n",
    "                      ['Felizberto Antunes',\n",
    "                       11952542515,\n",
    "                       'f.antunes@hotmail.com',\n",
    "                       'Rua do Catete, 152',\n",
    "                       '04467-245',\n",
    "                       False],\n",
    "                 'isa.oliveira@gmail.com':\n",
    "                      ['Isabela Oliveira',\n",
    "                      11932544577,\n",
    "                      'isa.oliveira@gmail.com',\n",
    "                      'Av. Agua Fria, 452',\n",
    "                      '02333-000',\n",
    "                      False],\n",
    "                 'o2liveira@yahoo.com.br':\n",
    "                      ['Odair Silva',\n",
    "                      11985477422,\n",
    "                      'o2liveira@yahoo.com.br',\n",
    "                      'Rua Artur Prado, 331',\n",
    "                      '04002-010',\n",
    "                      True]}\n",
    "\n",
    "dicio_clientes"
   ]
  },
  {
   "cell_type": "code",
   "execution_count": 2,
   "metadata": {},
   "outputs": [],
   "source": [
    "# Função para verificar se o cliente tem direito a entrega gratuita\n",
    "\n",
    "def entrega_gratuita(clientes, email):\n",
    "    \"\"\"\n",
    "    Função para verificar se cliente tem direito a entrega gratuita.\n",
    "    \n",
    "    Argumentos:\n",
    "        clientes (dict): Base de clientes.\n",
    "        email (str): e-mail do cliente que se deseja checar.\n",
    "        \n",
    "    Retorno:\n",
    "        gratuita (bool): \n",
    "            True - tem direito a entrega gratuita.\n",
    "            False - não tem direito a entrega gratuita.      \n",
    "    \"\"\"\n",
    "    \n",
    "    if clientes.get(email)[4][0:2] == '04' and clientes.get(email)[5] == False:\n",
    "        gratuita = True\n",
    "    else:\n",
    "        gratuita = False\n",
    "        \n",
    "    return gratuita"
   ]
  },
  {
   "cell_type": "code",
   "execution_count": 3,
   "metadata": {},
   "outputs": [
    {
     "data": {
      "text/plain": [
       "True"
      ]
     },
     "execution_count": 3,
     "metadata": {},
     "output_type": "execute_result"
    }
   ],
   "source": [
    "entrega_gratuita(dicio_clientes, 'f.antunes@hotmail.com')"
   ]
  },
  {
   "cell_type": "code",
   "execution_count": 4,
   "metadata": {},
   "outputs": [
    {
     "data": {
      "text/plain": [
       "False"
      ]
     },
     "execution_count": 4,
     "metadata": {},
     "output_type": "execute_result"
    }
   ],
   "source": [
    "entrega_gratuita(dicio_clientes, 'isa.oliveira@gmail.com')"
   ]
  },
  {
   "cell_type": "code",
   "execution_count": 5,
   "metadata": {},
   "outputs": [
    {
     "data": {
      "text/plain": [
       "False"
      ]
     },
     "execution_count": 5,
     "metadata": {},
     "output_type": "execute_result"
    }
   ],
   "source": [
    "entrega_gratuita(dicio_clientes, 'o2liveira@yahoo.com.br')"
   ]
  },
  {
   "cell_type": "markdown",
   "metadata": {},
   "source": [
    "A Função **entrega_gratuita** é boa para consultarmos caso a caso, mas e se desejarmos obter a lista de todos os clientes elegíveis a entrega gratuita para fazer uma campanha mais específica? Nesse caso, vamos criar a Função **elegiveis_entrega_gratuita**. Ela retornará a lista com todos os dados dos clientes elegíveis a entrega gratuita."
   ]
  },
  {
   "cell_type": "code",
   "execution_count": 6,
   "metadata": {},
   "outputs": [],
   "source": [
    "# Função para verificar se o cliente tem direito a entrega gratuita\n",
    "\n",
    "def elegiveis_entrega_gratuita(clientes):\n",
    "    \"\"\"\n",
    "    Função para obter a lista de clientes com direito a entrega gratuita.\n",
    "    \n",
    "    Argumentos:\n",
    "        clientes (dict): Base de clientes.\n",
    "        \n",
    "    Retorno:\n",
    "        clientes_elegiveis (list): Lista com os dados dos clientes elegíveis\n",
    "        a entrega gratuita. \n",
    "    \"\"\"\n",
    "    \n",
    "    clientes_elegiveis = []\n",
    "    \n",
    "    if isinstance(clientes, dict): \n",
    "        for email in clientes:\n",
    "            if clientes[email][4][0:2] == '04' and clientes[email][5] == False:\n",
    "                clientes_elegiveis.append(clientes[email])\n",
    "        return clientes_elegiveis\n",
    "    else:\n",
    "        print('Base de clientes não é um dicionário')"
   ]
  },
  {
   "cell_type": "code",
   "execution_count": 7,
   "metadata": {},
   "outputs": [
    {
     "data": {
      "text/plain": [
       "[['Felizberto Antunes',\n",
       "  11952542515,\n",
       "  'f.antunes@hotmail.com',\n",
       "  'Rua do Catete, 152',\n",
       "  '04467-245',\n",
       "  False]]"
      ]
     },
     "execution_count": 7,
     "metadata": {},
     "output_type": "execute_result"
    }
   ],
   "source": [
    "elegiveis_entrega_gratuita(dicio_clientes)"
   ]
  },
  {
   "cell_type": "markdown",
   "metadata": {},
   "source": [
    "## Definição de Classes\n",
    "\n",
    "As Classes são \"moldes\" para criarmos objetos Python personalizados, ou seja, podemos criar um objeto que atenda exatamente nossas necessidades. Vamos ver como podemos criar uma Classe chamada Cliente para armazenar os dados dos clientes e o método que nos diz se esse cliente tem direito a entrega gratuita."
   ]
  },
  {
   "cell_type": "code",
   "execution_count": 8,
   "metadata": {},
   "outputs": [],
   "source": [
    "# Criar classe Cliente\n",
    "\n",
    "class Cliente:\n",
    "    def __init__(self, nome, telefone, email, endereco, cep, fez_primeiro_pedido=False):\n",
    "        self.nome = nome\n",
    "        self.telefone = telefone\n",
    "        self.email = email\n",
    "        self.endereco = endereco\n",
    "        self.cep = cep\n",
    "        self.fez_primeiro_pedido = fez_primeiro_pedido\n",
    "        \n",
    "    def entrega_gratuita(self):\n",
    "        \"\"\"\n",
    "        Função para verificar se cliente tem direito a entrega gratuita.\n",
    "\n",
    "        Argumentos:\n",
    "            cliente (Cliente): Informações do cliente.\n",
    "\n",
    "        Retorno:\n",
    "            gratuita (bool): \n",
    "                True - tem direito a entrega gratuita.\n",
    "                False - não tem direito a entrega gratuita.      \n",
    "        \"\"\"\n",
    "        if self.cep[0:2] == '04' and self.fez_primeiro_pedido == False:\n",
    "            gratuita = True\n",
    "        else:\n",
    "            gratuita = False\n",
    "\n",
    "        return gratuita"
   ]
  },
  {
   "cell_type": "code",
   "execution_count": 9,
   "metadata": {},
   "outputs": [],
   "source": [
    "cliente1 = Cliente('Felizberto Antunes',\n",
    "                   11952542515,\n",
    "                   'f.antunes@hotmail.com',\n",
    "                   'Rua do Catete, 152',\n",
    "                   '04467-245',\n",
    "                   False)\n",
    "\n",
    "cliente2 = Cliente('Isabela Oliveira',\n",
    "                   11932544577,\n",
    "                   'isa.oliveira@gmail.com',\n",
    "                   'Av. Agua Fria, 452',\n",
    "                   '02333-000',\n",
    "                   False)"
   ]
  },
  {
   "cell_type": "code",
   "execution_count": 10,
   "metadata": {},
   "outputs": [
    {
     "data": {
      "text/plain": [
       "True"
      ]
     },
     "execution_count": 10,
     "metadata": {},
     "output_type": "execute_result"
    }
   ],
   "source": [
    "cliente1.entrega_gratuita()"
   ]
  },
  {
   "cell_type": "code",
   "execution_count": 11,
   "metadata": {},
   "outputs": [
    {
     "data": {
      "text/plain": [
       "False"
      ]
     },
     "execution_count": 11,
     "metadata": {},
     "output_type": "execute_result"
    }
   ],
   "source": [
    "cliente2.entrega_gratuita()"
   ]
  },
  {
   "cell_type": "code",
   "execution_count": 12,
   "metadata": {},
   "outputs": [
    {
     "data": {
      "text/plain": [
       "'Felizberto Antunes'"
      ]
     },
     "execution_count": 12,
     "metadata": {},
     "output_type": "execute_result"
    }
   ],
   "source": [
    "cliente1.nome"
   ]
  },
  {
   "cell_type": "code",
   "execution_count": 13,
   "metadata": {},
   "outputs": [
    {
     "data": {
      "text/plain": [
       "'f.antunes@hotmail.com'"
      ]
     },
     "execution_count": 13,
     "metadata": {},
     "output_type": "execute_result"
    }
   ],
   "source": [
    "cliente1.email"
   ]
  }
 ],
 "metadata": {
  "kernelspec": {
   "display_name": "Python 3",
   "language": "python",
   "name": "python3"
  },
  "language_info": {
   "codemirror_mode": {
    "name": "ipython",
    "version": 3
   },
   "file_extension": ".py",
   "mimetype": "text/x-python",
   "name": "python",
   "nbconvert_exporter": "python",
   "pygments_lexer": "ipython3",
   "version": "3.8.3"
  },
  "toc-autonumbering": false,
  "toc-showcode": false,
  "toc-showmarkdowntxt": false,
  "toc-showtags": false
 },
 "nbformat": 4,
 "nbformat_minor": 4
}
