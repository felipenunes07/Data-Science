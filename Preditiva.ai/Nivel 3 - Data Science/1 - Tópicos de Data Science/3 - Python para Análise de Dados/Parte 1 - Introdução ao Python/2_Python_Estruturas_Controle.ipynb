{
 "cells": [
  {
   "cell_type": "markdown",
   "metadata": {},
   "source": [
    "<img src=\"https://s3-sa-east-1.amazonaws.com/preditiva.ai/diversos/preditiva_assinatura.jpg\">\n",
    "\n",
    "# Estruturas de Controle"
   ]
  },
  {
   "cell_type": "markdown",
   "metadata": {},
   "source": [
    "## Condicionais - If...Else\n",
    "\n",
    "Após organizarmos os dados em estruturas mais eficientes, podemos fazer algumas comparações dessas informações para selecionar um subconjunto desses dados: selecionar clientes para uma ação de marketing, localizar cadastros inconsistentes e tantas outras situações. A forma de fazer isso no Python é utilizando o If...Else. Vamos ver alguns exemplos de como podemos utilizar essa estrutura de controle."
   ]
  },
  {
   "cell_type": "code",
   "execution_count": 1,
   "metadata": {},
   "outputs": [
    {
     "data": {
      "text/plain": [
       "{'f.antunes@hotmail.com': ['Felizberto Antunes',\n",
       "  11952542515,\n",
       "  'f.antunes@hotmail.com',\n",
       "  'Rua do Catete, 152',\n",
       "  '04467-245',\n",
       "  False],\n",
       " 'isa.oliveira@gmail.com': ['Isabela Oliveira',\n",
       "  11932544577,\n",
       "  'isa.oliveira@gmail.com',\n",
       "  'Av. Agua Fria, 452',\n",
       "  '02333-000',\n",
       "  False],\n",
       " 'o2liveira@yahoo.com.br': ['Odair Silva',\n",
       "  11985477422,\n",
       "  'o2liveira@yahoo.com.br',\n",
       "  'Rua Artur Prado, 331',\n",
       "  '04002-010',\n",
       "  True]}"
      ]
     },
     "execution_count": 1,
     "metadata": {},
     "output_type": "execute_result"
    }
   ],
   "source": [
    "# Definição do dicionário de clientes\n",
    "\n",
    "dicio_clientes = {'f.antunes@hotmail.com':\n",
    "                      ['Felizberto Antunes',\n",
    "                       11952542515,\n",
    "                       'f.antunes@hotmail.com',\n",
    "                       'Rua do Catete, 152',\n",
    "                       '04467-245',\n",
    "                       False],\n",
    "                 'isa.oliveira@gmail.com':\n",
    "                      ['Isabela Oliveira',\n",
    "                      11932544577,\n",
    "                      'isa.oliveira@gmail.com',\n",
    "                      'Av. Agua Fria, 452',\n",
    "                      '02333-000',\n",
    "                      False],\n",
    "                 'o2liveira@yahoo.com.br':\n",
    "                      ['Odair Silva',\n",
    "                      11985477422,\n",
    "                      'o2liveira@yahoo.com.br',\n",
    "                      'Rua Artur Prado, 331',\n",
    "                      '04002-010',\n",
    "                      True]}\n",
    "\n",
    "dicio_clientes"
   ]
  },
  {
   "cell_type": "code",
   "execution_count": 2,
   "metadata": {},
   "outputs": [
    {
     "name": "stdout",
     "output_type": "stream",
     "text": [
      "Fez primeiro pedido:  False\n",
      "CEP elegivel:  04467-245\n"
     ]
    }
   ],
   "source": [
    "# Recuperando as variáveis \"Primeiro Pedido do Cliente\" e \"CEP\" do cliente 1\n",
    "\n",
    "print('Fez primeiro pedido: ', dicio_clientes['f.antunes@hotmail.com'][5])\n",
    "print('CEP elegivel: ', dicio_clientes['f.antunes@hotmail.com'][4])"
   ]
  },
  {
   "cell_type": "code",
   "execution_count": 3,
   "metadata": {},
   "outputs": [
    {
     "name": "stdout",
     "output_type": "stream",
     "text": [
      "Ainda não fez o primeiro pedido\n"
     ]
    }
   ],
   "source": [
    "# Testando se o cliente ainda não fez o primeiro pedido\n",
    "\n",
    "# Cliente 1\n",
    "if dicio_clientes['f.antunes@hotmail.com'][5] == False:\n",
    "    print('Ainda não fez o primeiro pedido')\n",
    "else:\n",
    "    print('Já fez o primeiro pedido')"
   ]
  },
  {
   "cell_type": "code",
   "execution_count": 4,
   "metadata": {},
   "outputs": [
    {
     "name": "stdout",
     "output_type": "stream",
     "text": [
      "Ainda não fez o primeiro pedido\n"
     ]
    }
   ],
   "source": [
    "# Cliente 2\n",
    "if dicio_clientes['isa.oliveira@gmail.com'][5] == False:\n",
    "    print('Ainda não fez o primeiro pedido')\n",
    "else:\n",
    "    print('Já fez o primeiro pedido')"
   ]
  },
  {
   "cell_type": "code",
   "execution_count": 5,
   "metadata": {},
   "outputs": [
    {
     "name": "stdout",
     "output_type": "stream",
     "text": [
      "Já fez o primeiro pedido\n"
     ]
    }
   ],
   "source": [
    "# Cliente 3\n",
    "if dicio_clientes['o2liveira@yahoo.com.br'][5] == False:\n",
    "    print('Ainda não fez o primeiro pedido')\n",
    "else:\n",
    "    print('Já fez o primeiro pedido')"
   ]
  },
  {
   "cell_type": "markdown",
   "metadata": {},
   "source": [
    "## Loop\n",
    "\n",
    "Sempre que precisamos repetir um mesmo trecho de código, devemos utilizar uma estrutura de controle do tipo Loop. Essa é uma boa prática para evitar repetições desnecessárias de código e consequentemente reduz o risco de erros de programação.\n",
    "\n",
    "Existem algumas estruturas de controle para realizarmos Loops:\n",
    "* For: realiza o loop iterando em elementos de uma lista, dicionário, string etc.\n",
    "* While: realiza o loop enquanto a condição de controle continuar sendo verdadeira\n",
    "\n",
    "Vamos modificar o código para que seja feita uma iteração sobre todos os elementos do dicionário e comparando se cada cliente do Tasano Delivery ainda não fez o primeiro pedido."
   ]
  },
  {
   "cell_type": "code",
   "execution_count": 6,
   "metadata": {},
   "outputs": [
    {
     "name": "stdout",
     "output_type": "stream",
     "text": [
      "f.antunes@hotmail.com\n",
      "isa.oliveira@gmail.com\n",
      "o2liveira@yahoo.com.br\n"
     ]
    }
   ],
   "source": [
    "# Iterar sobre os clientes do dicionário\n",
    "\n",
    "for email in dicio_clientes:\n",
    "    print(email)"
   ]
  },
  {
   "cell_type": "code",
   "execution_count": 7,
   "metadata": {},
   "outputs": [
    {
     "name": "stdout",
     "output_type": "stream",
     "text": [
      "Felizberto Antunes  ainda não fez o primeiro pedido\n",
      "Isabela Oliveira  ainda não fez o primeiro pedido\n",
      "Odair Silva  já fez o primeiro pedido\n"
     ]
    }
   ],
   "source": [
    "# Iterar sobre os clientes verificando se ele ainda não fez o primeiro pedido\n",
    "\n",
    "for email in dicio_clientes:\n",
    "    if dicio_clientes.get(email)[5] == False:\n",
    "        print(dicio_clientes.get(email)[0], ' ainda não fez o primeiro pedido')\n",
    "    else:\n",
    "        print(dicio_clientes.get(email)[0], ' já fez o primeiro pedido')"
   ]
  },
  {
   "cell_type": "code",
   "execution_count": 8,
   "metadata": {},
   "outputs": [
    {
     "name": "stdout",
     "output_type": "stream",
     "text": [
      "Felizberto Antunes dentro da região da promoção\n",
      "Isabela Oliveira fora da região da promoção\n",
      "Odair Silva dentro da região da promoção\n"
     ]
    }
   ],
   "source": [
    "# Iterar sobre os clientes verificando se ele está dentro da região do restaurante\n",
    "\n",
    "for email in dicio_clientes:\n",
    "    if dicio_clientes.get(email)[4][0:2] == '04':\n",
    "        print(dicio_clientes.get(email)[0], 'dentro da região da promoção')\n",
    "    else:\n",
    "        print(dicio_clientes.get(email)[0], 'fora da região da promoção')"
   ]
  },
  {
   "cell_type": "code",
   "execution_count": 9,
   "metadata": {},
   "outputs": [
    {
     "name": "stdout",
     "output_type": "stream",
     "text": [
      "Felizberto Antunes : Elegível entrega gratuita\n",
      "Isabela Oliveira : Cobrar entrega\n",
      "Odair Silva : Cobrar entrega\n"
     ]
    }
   ],
   "source": [
    "# Iterar sobre os clientes combinando as duas comparações\n",
    "\n",
    "for email in dicio_clientes:\n",
    "    if dicio_clientes[email][4][0:2] == '04':\n",
    "        if dicio_clientes[email][5] == False:\n",
    "            print(dicio_clientes[email][0], \": Elegível entrega gratuita\")\n",
    "        else:\n",
    "            print(dicio_clientes[email][0], \": Cobrar entrega\")\n",
    "    else:\n",
    "        print(dicio_clientes[email][0], \": Cobrar entrega\")"
   ]
  },
  {
   "cell_type": "code",
   "execution_count": 10,
   "metadata": {},
   "outputs": [
    {
     "name": "stdout",
     "output_type": "stream",
     "text": [
      "Felizberto Antunes : Elegível entrega gratuita\n",
      "Isabela Oliveira : Cobrar entrega\n",
      "Odair Silva : Cobrar entrega\n"
     ]
    }
   ],
   "source": [
    "# Iterar sobre os clientes combinando as duas comparações\n",
    "\n",
    "for email in dicio_clientes:\n",
    "    if dicio_clientes[email][4][0:2] == '04' and dicio_clientes[email][5] == False:\n",
    "        print(dicio_clientes[email][0], \": Elegível entrega gratuita\")\n",
    "    else:\n",
    "        print(dicio_clientes[email][0], \": Cobrar entrega\")"
   ]
  },
  {
   "cell_type": "code",
   "execution_count": 11,
   "metadata": {},
   "outputs": [
    {
     "name": "stdout",
     "output_type": "stream",
     "text": [
      "0 :  Felizberto Antunes\n",
      "1 :  Isabela Oliveira\n",
      "2 :  Odair Silva\n"
     ]
    }
   ],
   "source": [
    "# Iterar com índice\n",
    "\n",
    "for num, email in enumerate(dicio_clientes):\n",
    "    print(num, \": \", dicio_clientes[email][0])"
   ]
  }
 ],
 "metadata": {
  "kernelspec": {
   "display_name": "Python 3",
   "language": "python",
   "name": "python3"
  },
  "language_info": {
   "codemirror_mode": {
    "name": "ipython",
    "version": 3
   },
   "file_extension": ".py",
   "mimetype": "text/x-python",
   "name": "python",
   "nbconvert_exporter": "python",
   "pygments_lexer": "ipython3",
   "version": "3.8.3"
  }
 },
 "nbformat": 4,
 "nbformat_minor": 4
}
