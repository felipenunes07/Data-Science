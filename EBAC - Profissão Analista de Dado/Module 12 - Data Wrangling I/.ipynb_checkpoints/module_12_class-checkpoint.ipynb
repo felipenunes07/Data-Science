{
 "cells": [
  {
   "cell_type": "markdown",
   "metadata": {
    "id": "KJqp9AANOCtf"
   },
   "source": [
    "<img src=\"https://raw.githubusercontent.com/andre-marcos-perez/ebac-course-utils/main/media/logo/newebac_logo_black_half.png\" alt=\"ebac-logo\">\n",
    "\n",
    "---\n",
    "\n",
    "# **Módulo** | Análise de Dados: Data Wrangling I\n",
    "Caderno de **Aula**<br> \n",
    "Professor [André Perez](https://www.linkedin.com/in/andremarcosperez/)\n",
    "\n",
    "---"
   ]
  },
  {
   "cell_type": "markdown",
   "metadata": {
    "id": "d9jDtUbDOE1-"
   },
   "source": [
    "# **Tópicos**\n",
    "\n",
    "<ol type=\"1\">\n",
    "  <li>DataFrame Pandas;</li>\n",
    "  <li>Selecão e Filtros;</li>\n",
    "  <li>Inserção, Deleção e Atualização.</li>\n",
    "</ol>"
   ]
  },
  {
   "cell_type": "markdown",
   "metadata": {
    "id": "SmoHgt-lwkpD"
   },
   "source": [
    "---"
   ]
  },
  {
   "cell_type": "markdown",
   "metadata": {
    "id": "GABI6OW8OfQ2"
   },
   "source": [
    "# **Aulas**"
   ]
  },
  {
   "cell_type": "markdown",
   "metadata": {
    "id": "eJ283bopLqLU"
   },
   "source": [
    "## 0\\. Estruturas de dados"
   ]
  },
  {
   "cell_type": "markdown",
   "metadata": {
    "id": "0gmSAOdOLqLU"
   },
   "source": [
    "*   **Não estruturado**: texto, imagem, aúdio, etc.\n",
    "*   **Semi estruturado**: html, json, etc.\n",
    "*   <font color='red'>**Estruturado**</font>: tabelas, planilhas, etc.\n",
    "\n"
   ]
  },
  {
   "cell_type": "markdown",
   "metadata": {
    "id": "muD1vxozykSC"
   },
   "source": [
    "## 1\\. DataFrame Pandas"
   ]
  },
  {
   "cell_type": "markdown",
   "metadata": {
    "id": "5a3_syBIP6yO"
   },
   "source": [
    "### **1.1. Pacote Pandas** "
   ]
  },
  {
   "cell_type": "markdown",
   "metadata": {
    "id": "NglCEvJDmqkw"
   },
   "source": [
    "Pacote Python para manipulação de dados (talvez o mais utilizado). A documentação pode ser encontrada neste [link](https://pandas.pydata.org/docs/). A abstração base do pandas é o DataFrame, uma estrutura de dados Python de duas dimensões utilizado para representar tabelas."
   ]
  },
  {
   "cell_type": "markdown",
   "metadata": {
    "id": "EP1UwLRR5_qg"
   },
   "source": [
    "**Exemplo**: Criar um DataFrame Pandas a partir de um dicionário Python."
   ]
  },
  {
   "cell_type": "code",
   "execution_count": 1,
   "metadata": {
    "ExecuteTime": {
     "end_time": "2022-05-14T16:51:29.655538Z",
     "start_time": "2022-05-14T16:51:29.642392Z"
    },
    "id": "HJ48vl_aTEge"
   },
   "outputs": [],
   "source": [
    "transacoes = dict(\n",
    "    id=[571, 572, 573], \n",
    "    data=['19-01-2021', '19-01-2021', '23-01-2021'], \n",
    "    valor=[371.30, 57.19, 101.21], \n",
    "    categoria=['supermercado', 'farmacia', 'outros']\n",
    ")"
   ]
  },
  {
   "cell_type": "code",
   "execution_count": 2,
   "metadata": {
    "ExecuteTime": {
     "end_time": "2022-05-14T16:51:30.325409Z",
     "start_time": "2022-05-14T16:51:29.659225Z"
    },
    "id": "23fdzehj6JV9"
   },
   "outputs": [],
   "source": [
    "import pandas as pd\n",
    "\n",
    "transacoes_df = pd.DataFrame(transacoes)"
   ]
  },
  {
   "cell_type": "code",
   "execution_count": 3,
   "metadata": {
    "ExecuteTime": {
     "end_time": "2022-05-14T16:51:30.356435Z",
     "start_time": "2022-05-14T16:51:30.327531Z"
    },
    "id": "gX5RBXW2X7a_"
   },
   "outputs": [
    {
     "data": {
      "text/html": [
       "<div>\n",
       "<style scoped>\n",
       "    .dataframe tbody tr th:only-of-type {\n",
       "        vertical-align: middle;\n",
       "    }\n",
       "\n",
       "    .dataframe tbody tr th {\n",
       "        vertical-align: top;\n",
       "    }\n",
       "\n",
       "    .dataframe thead th {\n",
       "        text-align: right;\n",
       "    }\n",
       "</style>\n",
       "<table border=\"1\" class=\"dataframe\">\n",
       "  <thead>\n",
       "    <tr style=\"text-align: right;\">\n",
       "      <th></th>\n",
       "      <th>id</th>\n",
       "      <th>data</th>\n",
       "      <th>valor</th>\n",
       "      <th>categoria</th>\n",
       "    </tr>\n",
       "  </thead>\n",
       "  <tbody>\n",
       "    <tr>\n",
       "      <th>0</th>\n",
       "      <td>571</td>\n",
       "      <td>19-01-2021</td>\n",
       "      <td>371.30</td>\n",
       "      <td>supermercado</td>\n",
       "    </tr>\n",
       "    <tr>\n",
       "      <th>1</th>\n",
       "      <td>572</td>\n",
       "      <td>19-01-2021</td>\n",
       "      <td>57.19</td>\n",
       "      <td>farmacia</td>\n",
       "    </tr>\n",
       "    <tr>\n",
       "      <th>2</th>\n",
       "      <td>573</td>\n",
       "      <td>23-01-2021</td>\n",
       "      <td>101.21</td>\n",
       "      <td>outros</td>\n",
       "    </tr>\n",
       "  </tbody>\n",
       "</table>\n",
       "</div>"
      ],
      "text/plain": [
       "    id        data   valor     categoria\n",
       "0  571  19-01-2021  371.30  supermercado\n",
       "1  572  19-01-2021   57.19      farmacia\n",
       "2  573  23-01-2021  101.21        outros"
      ]
     },
     "execution_count": 3,
     "metadata": {},
     "output_type": "execute_result"
    }
   ],
   "source": [
    "transacoes_df"
   ]
  },
  {
   "cell_type": "code",
   "execution_count": 4,
   "metadata": {
    "ExecuteTime": {
     "end_time": "2022-05-14T16:51:30.371382Z",
     "start_time": "2022-05-14T16:51:30.359423Z"
    },
    "id": "Zt_vgSKP1DvO"
   },
   "outputs": [
    {
     "data": {
      "text/plain": [
       "pandas.core.frame.DataFrame"
      ]
     },
     "execution_count": 4,
     "metadata": {},
     "output_type": "execute_result"
    }
   ],
   "source": [
    "type(transacoes_df)"
   ]
  },
  {
   "cell_type": "markdown",
   "metadata": {
    "id": "9nk_I8UBXvR1"
   },
   "source": [
    "*   Atributos"
   ]
  },
  {
   "cell_type": "code",
   "execution_count": 5,
   "metadata": {
    "ExecuteTime": {
     "end_time": "2022-05-14T16:51:30.387334Z",
     "start_time": "2022-05-14T16:51:30.373377Z"
    },
    "id": "93vD-4Lk6ggW"
   },
   "outputs": [
    {
     "data": {
      "text/plain": [
       "Index(['id', 'data', 'valor', 'categoria'], dtype='object')"
      ]
     },
     "execution_count": 5,
     "metadata": {},
     "output_type": "execute_result"
    }
   ],
   "source": [
    "transacoes_df.columns"
   ]
  },
  {
   "cell_type": "code",
   "execution_count": 6,
   "metadata": {
    "ExecuteTime": {
     "end_time": "2022-05-14T16:51:30.402747Z",
     "start_time": "2022-05-14T16:51:30.390286Z"
    },
    "id": "wKoZZi1O6e9K"
   },
   "outputs": [
    {
     "data": {
      "text/plain": [
       "id             int64\n",
       "data          object\n",
       "valor        float64\n",
       "categoria     object\n",
       "dtype: object"
      ]
     },
     "execution_count": 6,
     "metadata": {},
     "output_type": "execute_result"
    }
   ],
   "source": [
    "transacoes_df.dtypes"
   ]
  },
  {
   "cell_type": "code",
   "execution_count": 7,
   "metadata": {
    "ExecuteTime": {
     "end_time": "2022-05-14T16:51:30.417693Z",
     "start_time": "2022-05-14T16:51:30.404736Z"
    },
    "id": "MnmheK4RXIbP"
   },
   "outputs": [
    {
     "data": {
      "text/plain": [
       "RangeIndex(start=0, stop=3, step=1)"
      ]
     },
     "execution_count": 7,
     "metadata": {},
     "output_type": "execute_result"
    }
   ],
   "source": [
    "transacoes_df.index"
   ]
  },
  {
   "cell_type": "code",
   "execution_count": 8,
   "metadata": {
    "ExecuteTime": {
     "end_time": "2022-05-14T16:51:30.433648Z",
     "start_time": "2022-05-14T16:51:30.421680Z"
    },
    "id": "z80OUyVzYvaJ"
   },
   "outputs": [
    {
     "data": {
      "text/plain": [
       "(3, 4)"
      ]
     },
     "execution_count": 8,
     "metadata": {},
     "output_type": "execute_result"
    }
   ],
   "source": [
    "transacoes_df.shape"
   ]
  },
  {
   "cell_type": "markdown",
   "metadata": {
    "id": "y2x2KF01Xp5a"
   },
   "source": [
    "*   Métodos"
   ]
  },
  {
   "cell_type": "code",
   "execution_count": 9,
   "metadata": {
    "ExecuteTime": {
     "end_time": "2022-05-14T16:51:30.449467Z",
     "start_time": "2022-05-14T16:51:30.438624Z"
    },
    "id": "Ahx_iHWH6ZxS"
   },
   "outputs": [
    {
     "data": {
      "text/html": [
       "<div>\n",
       "<style scoped>\n",
       "    .dataframe tbody tr th:only-of-type {\n",
       "        vertical-align: middle;\n",
       "    }\n",
       "\n",
       "    .dataframe tbody tr th {\n",
       "        vertical-align: top;\n",
       "    }\n",
       "\n",
       "    .dataframe thead th {\n",
       "        text-align: right;\n",
       "    }\n",
       "</style>\n",
       "<table border=\"1\" class=\"dataframe\">\n",
       "  <thead>\n",
       "    <tr style=\"text-align: right;\">\n",
       "      <th></th>\n",
       "      <th>id</th>\n",
       "      <th>data</th>\n",
       "      <th>valor</th>\n",
       "      <th>categoria</th>\n",
       "    </tr>\n",
       "  </thead>\n",
       "  <tbody>\n",
       "    <tr>\n",
       "      <th>0</th>\n",
       "      <td>571</td>\n",
       "      <td>19-01-2021</td>\n",
       "      <td>371.3</td>\n",
       "      <td>supermercado</td>\n",
       "    </tr>\n",
       "  </tbody>\n",
       "</table>\n",
       "</div>"
      ],
      "text/plain": [
       "    id        data  valor     categoria\n",
       "0  571  19-01-2021  371.3  supermercado"
      ]
     },
     "execution_count": 9,
     "metadata": {},
     "output_type": "execute_result"
    }
   ],
   "source": [
    "transacoes_df.head(n=1)"
   ]
  },
  {
   "cell_type": "code",
   "execution_count": 10,
   "metadata": {
    "ExecuteTime": {
     "end_time": "2022-05-14T16:51:30.465435Z",
     "start_time": "2022-05-14T16:51:30.453464Z"
    },
    "id": "T8WvBj6rW1fg"
   },
   "outputs": [
    {
     "data": {
      "text/html": [
       "<div>\n",
       "<style scoped>\n",
       "    .dataframe tbody tr th:only-of-type {\n",
       "        vertical-align: middle;\n",
       "    }\n",
       "\n",
       "    .dataframe tbody tr th {\n",
       "        vertical-align: top;\n",
       "    }\n",
       "\n",
       "    .dataframe thead th {\n",
       "        text-align: right;\n",
       "    }\n",
       "</style>\n",
       "<table border=\"1\" class=\"dataframe\">\n",
       "  <thead>\n",
       "    <tr style=\"text-align: right;\">\n",
       "      <th></th>\n",
       "      <th>id</th>\n",
       "      <th>data</th>\n",
       "      <th>valor</th>\n",
       "      <th>categoria</th>\n",
       "    </tr>\n",
       "  </thead>\n",
       "  <tbody>\n",
       "    <tr>\n",
       "      <th>0</th>\n",
       "      <td>571</td>\n",
       "      <td>19-01-2021</td>\n",
       "      <td>371.30</td>\n",
       "      <td>supermercado</td>\n",
       "    </tr>\n",
       "    <tr>\n",
       "      <th>1</th>\n",
       "      <td>572</td>\n",
       "      <td>19-01-2021</td>\n",
       "      <td>57.19</td>\n",
       "      <td>farmacia</td>\n",
       "    </tr>\n",
       "    <tr>\n",
       "      <th>2</th>\n",
       "      <td>573</td>\n",
       "      <td>23-01-2021</td>\n",
       "      <td>101.21</td>\n",
       "      <td>outros</td>\n",
       "    </tr>\n",
       "  </tbody>\n",
       "</table>\n",
       "</div>"
      ],
      "text/plain": [
       "    id        data   valor     categoria\n",
       "0  571  19-01-2021  371.30  supermercado\n",
       "1  572  19-01-2021   57.19      farmacia\n",
       "2  573  23-01-2021  101.21        outros"
      ]
     },
     "execution_count": 10,
     "metadata": {},
     "output_type": "execute_result"
    }
   ],
   "source": [
    "transacoes_df.tail()"
   ]
  },
  {
   "cell_type": "code",
   "execution_count": 11,
   "metadata": {
    "ExecuteTime": {
     "end_time": "2022-05-14T16:51:30.496310Z",
     "start_time": "2022-05-14T16:51:30.468404Z"
    },
    "id": "i5OFaXOA6ce7"
   },
   "outputs": [
    {
     "name": "stdout",
     "output_type": "stream",
     "text": [
      "<class 'pandas.core.frame.DataFrame'>\n",
      "RangeIndex: 3 entries, 0 to 2\n",
      "Data columns (total 4 columns):\n",
      " #   Column     Non-Null Count  Dtype  \n",
      "---  ------     --------------  -----  \n",
      " 0   id         3 non-null      int64  \n",
      " 1   data       3 non-null      object \n",
      " 2   valor      3 non-null      float64\n",
      " 3   categoria  3 non-null      object \n",
      "dtypes: float64(1), int64(1), object(2)\n",
      "memory usage: 224.0+ bytes\n"
     ]
    }
   ],
   "source": [
    "transacoes_df.info()"
   ]
  },
  {
   "cell_type": "code",
   "execution_count": 12,
   "metadata": {
    "ExecuteTime": {
     "end_time": "2022-05-14T16:51:30.527418Z",
     "start_time": "2022-05-14T16:51:30.498771Z"
    },
    "id": "OCO1dRpCHR7v"
   },
   "outputs": [
    {
     "data": {
      "text/html": [
       "<div>\n",
       "<style scoped>\n",
       "    .dataframe tbody tr th:only-of-type {\n",
       "        vertical-align: middle;\n",
       "    }\n",
       "\n",
       "    .dataframe tbody tr th {\n",
       "        vertical-align: top;\n",
       "    }\n",
       "\n",
       "    .dataframe thead th {\n",
       "        text-align: right;\n",
       "    }\n",
       "</style>\n",
       "<table border=\"1\" class=\"dataframe\">\n",
       "  <thead>\n",
       "    <tr style=\"text-align: right;\">\n",
       "      <th></th>\n",
       "      <th>count</th>\n",
       "      <th>mean</th>\n",
       "      <th>std</th>\n",
       "      <th>min</th>\n",
       "      <th>25%</th>\n",
       "      <th>50%</th>\n",
       "      <th>75%</th>\n",
       "      <th>max</th>\n",
       "    </tr>\n",
       "  </thead>\n",
       "  <tbody>\n",
       "    <tr>\n",
       "      <th>id</th>\n",
       "      <td>3.0</td>\n",
       "      <td>572.000000</td>\n",
       "      <td>1.000000</td>\n",
       "      <td>571.00</td>\n",
       "      <td>571.5</td>\n",
       "      <td>572.00</td>\n",
       "      <td>572.500</td>\n",
       "      <td>573.0</td>\n",
       "    </tr>\n",
       "    <tr>\n",
       "      <th>valor</th>\n",
       "      <td>3.0</td>\n",
       "      <td>176.566667</td>\n",
       "      <td>170.074229</td>\n",
       "      <td>57.19</td>\n",
       "      <td>79.2</td>\n",
       "      <td>101.21</td>\n",
       "      <td>236.255</td>\n",
       "      <td>371.3</td>\n",
       "    </tr>\n",
       "  </tbody>\n",
       "</table>\n",
       "</div>"
      ],
      "text/plain": [
       "       count        mean         std     min    25%     50%      75%    max\n",
       "id       3.0  572.000000    1.000000  571.00  571.5  572.00  572.500  573.0\n",
       "valor    3.0  176.566667  170.074229   57.19   79.2  101.21  236.255  371.3"
      ]
     },
     "execution_count": 12,
     "metadata": {},
     "output_type": "execute_result"
    }
   ],
   "source": [
    "transacoes_df[['id', 'valor']].describe().T # colunas numéricas"
   ]
  },
  {
   "cell_type": "code",
   "execution_count": 13,
   "metadata": {
    "ExecuteTime": {
     "end_time": "2022-05-14T16:51:30.557434Z",
     "start_time": "2022-05-14T16:51:30.533268Z"
    },
    "id": "dqwtAmLNHZmz"
   },
   "outputs": [
    {
     "data": {
      "text/html": [
       "<div>\n",
       "<style scoped>\n",
       "    .dataframe tbody tr th:only-of-type {\n",
       "        vertical-align: middle;\n",
       "    }\n",
       "\n",
       "    .dataframe tbody tr th {\n",
       "        vertical-align: top;\n",
       "    }\n",
       "\n",
       "    .dataframe thead th {\n",
       "        text-align: right;\n",
       "    }\n",
       "</style>\n",
       "<table border=\"1\" class=\"dataframe\">\n",
       "  <thead>\n",
       "    <tr style=\"text-align: right;\">\n",
       "      <th></th>\n",
       "      <th>count</th>\n",
       "      <th>unique</th>\n",
       "      <th>top</th>\n",
       "      <th>freq</th>\n",
       "    </tr>\n",
       "  </thead>\n",
       "  <tbody>\n",
       "    <tr>\n",
       "      <th>data</th>\n",
       "      <td>3</td>\n",
       "      <td>2</td>\n",
       "      <td>19-01-2021</td>\n",
       "      <td>2</td>\n",
       "    </tr>\n",
       "    <tr>\n",
       "      <th>categoria</th>\n",
       "      <td>3</td>\n",
       "      <td>3</td>\n",
       "      <td>supermercado</td>\n",
       "      <td>1</td>\n",
       "    </tr>\n",
       "  </tbody>\n",
       "</table>\n",
       "</div>"
      ],
      "text/plain": [
       "          count unique           top freq\n",
       "data          3      2    19-01-2021    2\n",
       "categoria     3      3  supermercado    1"
      ]
     },
     "execution_count": 13,
     "metadata": {},
     "output_type": "execute_result"
    }
   ],
   "source": [
    "transacoes_df[['data', 'categoria']].describe().T # colunas categóricas"
   ]
  },
  {
   "cell_type": "markdown",
   "metadata": {
    "id": "eBpN50Xn692K"
   },
   "source": [
    "**Exemplo**: Criar um DataFrame Pandas a partir de um arquivo csv."
   ]
  },
  {
   "cell_type": "code",
   "execution_count": 14,
   "metadata": {
    "ExecuteTime": {
     "end_time": "2022-05-14T16:51:30.573485Z",
     "start_time": "2022-05-14T16:51:30.559433Z"
    },
    "id": "cbCLt_-N7TRg"
   },
   "outputs": [
    {
     "name": "stdout",
     "output_type": "stream",
     "text": [
      "Writing github.csv\n"
     ]
    }
   ],
   "source": [
    "%%writefile github.csv\n",
    "ranking;project;language;stars;stars_today;forks\n",
    "1;plow;go;1304;574;38\n",
    "2;n8n;typescript;15668;280;1370\n",
    "3;slides;go;3218;265;80\n",
    "4;defi-developer-road-map;;636;247;49\n",
    "5;pytorch-image-models;python;11065;101;1646\n",
    "6;javascript-algorithms;javascript;110768;248;18331\n",
    "7;paddleclas;python;1429;283;323\n",
    "8;reddit_sentiment_trader;python;369;71;60\n",
    "9;augly;python;2849;393;99\n",
    "10;self-taught-guide-to-cloud-computing;;863;179;84"
   ]
  },
  {
   "cell_type": "code",
   "execution_count": 15,
   "metadata": {
    "ExecuteTime": {
     "end_time": "2022-05-14T16:51:30.589501Z",
     "start_time": "2022-05-14T16:51:30.576907Z"
    },
    "id": "75bCYCq79V7Y"
   },
   "outputs": [],
   "source": [
    "import pandas as pd\n",
    "\n",
    "github_df = pd.read_csv('github.csv', sep=';')"
   ]
  },
  {
   "cell_type": "code",
   "execution_count": 16,
   "metadata": {
    "ExecuteTime": {
     "end_time": "2022-05-14T16:51:30.605445Z",
     "start_time": "2022-05-14T16:51:30.592491Z"
    },
    "id": "64zzaltGaAPj"
   },
   "outputs": [
    {
     "data": {
      "text/html": [
       "<div>\n",
       "<style scoped>\n",
       "    .dataframe tbody tr th:only-of-type {\n",
       "        vertical-align: middle;\n",
       "    }\n",
       "\n",
       "    .dataframe tbody tr th {\n",
       "        vertical-align: top;\n",
       "    }\n",
       "\n",
       "    .dataframe thead th {\n",
       "        text-align: right;\n",
       "    }\n",
       "</style>\n",
       "<table border=\"1\" class=\"dataframe\">\n",
       "  <thead>\n",
       "    <tr style=\"text-align: right;\">\n",
       "      <th></th>\n",
       "      <th>ranking</th>\n",
       "      <th>project</th>\n",
       "      <th>language</th>\n",
       "      <th>stars</th>\n",
       "      <th>stars_today</th>\n",
       "      <th>forks</th>\n",
       "    </tr>\n",
       "  </thead>\n",
       "  <tbody>\n",
       "    <tr>\n",
       "      <th>0</th>\n",
       "      <td>1</td>\n",
       "      <td>plow</td>\n",
       "      <td>go</td>\n",
       "      <td>1304</td>\n",
       "      <td>574</td>\n",
       "      <td>38</td>\n",
       "    </tr>\n",
       "    <tr>\n",
       "      <th>1</th>\n",
       "      <td>2</td>\n",
       "      <td>n8n</td>\n",
       "      <td>typescript</td>\n",
       "      <td>15668</td>\n",
       "      <td>280</td>\n",
       "      <td>1370</td>\n",
       "    </tr>\n",
       "    <tr>\n",
       "      <th>2</th>\n",
       "      <td>3</td>\n",
       "      <td>slides</td>\n",
       "      <td>go</td>\n",
       "      <td>3218</td>\n",
       "      <td>265</td>\n",
       "      <td>80</td>\n",
       "    </tr>\n",
       "    <tr>\n",
       "      <th>3</th>\n",
       "      <td>4</td>\n",
       "      <td>defi-developer-road-map</td>\n",
       "      <td>NaN</td>\n",
       "      <td>636</td>\n",
       "      <td>247</td>\n",
       "      <td>49</td>\n",
       "    </tr>\n",
       "    <tr>\n",
       "      <th>4</th>\n",
       "      <td>5</td>\n",
       "      <td>pytorch-image-models</td>\n",
       "      <td>python</td>\n",
       "      <td>11065</td>\n",
       "      <td>101</td>\n",
       "      <td>1646</td>\n",
       "    </tr>\n",
       "    <tr>\n",
       "      <th>5</th>\n",
       "      <td>6</td>\n",
       "      <td>javascript-algorithms</td>\n",
       "      <td>javascript</td>\n",
       "      <td>110768</td>\n",
       "      <td>248</td>\n",
       "      <td>18331</td>\n",
       "    </tr>\n",
       "    <tr>\n",
       "      <th>6</th>\n",
       "      <td>7</td>\n",
       "      <td>paddleclas</td>\n",
       "      <td>python</td>\n",
       "      <td>1429</td>\n",
       "      <td>283</td>\n",
       "      <td>323</td>\n",
       "    </tr>\n",
       "    <tr>\n",
       "      <th>7</th>\n",
       "      <td>8</td>\n",
       "      <td>reddit_sentiment_trader</td>\n",
       "      <td>python</td>\n",
       "      <td>369</td>\n",
       "      <td>71</td>\n",
       "      <td>60</td>\n",
       "    </tr>\n",
       "    <tr>\n",
       "      <th>8</th>\n",
       "      <td>9</td>\n",
       "      <td>augly</td>\n",
       "      <td>python</td>\n",
       "      <td>2849</td>\n",
       "      <td>393</td>\n",
       "      <td>99</td>\n",
       "    </tr>\n",
       "    <tr>\n",
       "      <th>9</th>\n",
       "      <td>10</td>\n",
       "      <td>self-taught-guide-to-cloud-computing</td>\n",
       "      <td>NaN</td>\n",
       "      <td>863</td>\n",
       "      <td>179</td>\n",
       "      <td>84</td>\n",
       "    </tr>\n",
       "  </tbody>\n",
       "</table>\n",
       "</div>"
      ],
      "text/plain": [
       "   ranking                               project    language   stars  \\\n",
       "0        1                                  plow          go    1304   \n",
       "1        2                                   n8n  typescript   15668   \n",
       "2        3                                slides          go    3218   \n",
       "3        4               defi-developer-road-map         NaN     636   \n",
       "4        5                  pytorch-image-models      python   11065   \n",
       "5        6                 javascript-algorithms  javascript  110768   \n",
       "6        7                            paddleclas      python    1429   \n",
       "7        8               reddit_sentiment_trader      python     369   \n",
       "8        9                                 augly      python    2849   \n",
       "9       10  self-taught-guide-to-cloud-computing         NaN     863   \n",
       "\n",
       "   stars_today  forks  \n",
       "0          574     38  \n",
       "1          280   1370  \n",
       "2          265     80  \n",
       "3          247     49  \n",
       "4          101   1646  \n",
       "5          248  18331  \n",
       "6          283    323  \n",
       "7           71     60  \n",
       "8          393     99  \n",
       "9          179     84  "
      ]
     },
     "execution_count": 16,
     "metadata": {},
     "output_type": "execute_result"
    }
   ],
   "source": [
    "github_df"
   ]
  },
  {
   "cell_type": "code",
   "execution_count": 17,
   "metadata": {
    "ExecuteTime": {
     "end_time": "2022-05-14T16:51:30.620603Z",
     "start_time": "2022-05-14T16:51:30.608635Z"
    },
    "id": "Epc-QGsg1Jap"
   },
   "outputs": [
    {
     "data": {
      "text/plain": [
       "pandas.core.frame.DataFrame"
      ]
     },
     "execution_count": 17,
     "metadata": {},
     "output_type": "execute_result"
    }
   ],
   "source": [
    "type(github_df)"
   ]
  },
  {
   "cell_type": "markdown",
   "metadata": {
    "id": "KG4Jgd1baAP-"
   },
   "source": [
    "*   Atributos"
   ]
  },
  {
   "cell_type": "code",
   "execution_count": 18,
   "metadata": {
    "ExecuteTime": {
     "end_time": "2022-05-14T16:51:30.635805Z",
     "start_time": "2022-05-14T16:51:30.622585Z"
    },
    "id": "SBgGJyoEaAP-"
   },
   "outputs": [
    {
     "data": {
      "text/plain": [
       "Index(['ranking', 'project', 'language', 'stars', 'stars_today', 'forks'], dtype='object')"
      ]
     },
     "execution_count": 18,
     "metadata": {},
     "output_type": "execute_result"
    }
   ],
   "source": [
    "github_df.columns"
   ]
  },
  {
   "cell_type": "code",
   "execution_count": 19,
   "metadata": {
    "ExecuteTime": {
     "end_time": "2022-05-14T16:51:30.651752Z",
     "start_time": "2022-05-14T16:51:30.638790Z"
    },
    "id": "NRnba9YSaAP-"
   },
   "outputs": [
    {
     "data": {
      "text/plain": [
       "ranking         int64\n",
       "project        object\n",
       "language       object\n",
       "stars           int64\n",
       "stars_today     int64\n",
       "forks           int64\n",
       "dtype: object"
      ]
     },
     "execution_count": 19,
     "metadata": {},
     "output_type": "execute_result"
    }
   ],
   "source": [
    "github_df.dtypes"
   ]
  },
  {
   "cell_type": "code",
   "execution_count": 20,
   "metadata": {
    "ExecuteTime": {
     "end_time": "2022-05-14T16:51:30.667698Z",
     "start_time": "2022-05-14T16:51:30.655737Z"
    },
    "id": "JWx30jKHaAP-"
   },
   "outputs": [
    {
     "data": {
      "text/plain": [
       "RangeIndex(start=0, stop=10, step=1)"
      ]
     },
     "execution_count": 20,
     "metadata": {},
     "output_type": "execute_result"
    }
   ],
   "source": [
    "github_df.index"
   ]
  },
  {
   "cell_type": "code",
   "execution_count": 21,
   "metadata": {
    "ExecuteTime": {
     "end_time": "2022-05-14T16:51:30.683440Z",
     "start_time": "2022-05-14T16:51:30.668725Z"
    },
    "id": "qo7zUrNXaAP_"
   },
   "outputs": [
    {
     "data": {
      "text/plain": [
       "(10, 6)"
      ]
     },
     "execution_count": 21,
     "metadata": {},
     "output_type": "execute_result"
    }
   ],
   "source": [
    "github_df.shape"
   ]
  },
  {
   "cell_type": "markdown",
   "metadata": {
    "id": "hQSszBaeaAP_"
   },
   "source": [
    "*   Métodos"
   ]
  },
  {
   "cell_type": "code",
   "execution_count": 22,
   "metadata": {
    "ExecuteTime": {
     "end_time": "2022-05-14T16:51:30.699388Z",
     "start_time": "2022-05-14T16:51:30.686431Z"
    },
    "id": "IkGdt9AeaAP_"
   },
   "outputs": [
    {
     "data": {
      "text/html": [
       "<div>\n",
       "<style scoped>\n",
       "    .dataframe tbody tr th:only-of-type {\n",
       "        vertical-align: middle;\n",
       "    }\n",
       "\n",
       "    .dataframe tbody tr th {\n",
       "        vertical-align: top;\n",
       "    }\n",
       "\n",
       "    .dataframe thead th {\n",
       "        text-align: right;\n",
       "    }\n",
       "</style>\n",
       "<table border=\"1\" class=\"dataframe\">\n",
       "  <thead>\n",
       "    <tr style=\"text-align: right;\">\n",
       "      <th></th>\n",
       "      <th>ranking</th>\n",
       "      <th>project</th>\n",
       "      <th>language</th>\n",
       "      <th>stars</th>\n",
       "      <th>stars_today</th>\n",
       "      <th>forks</th>\n",
       "    </tr>\n",
       "  </thead>\n",
       "  <tbody>\n",
       "    <tr>\n",
       "      <th>0</th>\n",
       "      <td>1</td>\n",
       "      <td>plow</td>\n",
       "      <td>go</td>\n",
       "      <td>1304</td>\n",
       "      <td>574</td>\n",
       "      <td>38</td>\n",
       "    </tr>\n",
       "    <tr>\n",
       "      <th>1</th>\n",
       "      <td>2</td>\n",
       "      <td>n8n</td>\n",
       "      <td>typescript</td>\n",
       "      <td>15668</td>\n",
       "      <td>280</td>\n",
       "      <td>1370</td>\n",
       "    </tr>\n",
       "    <tr>\n",
       "      <th>2</th>\n",
       "      <td>3</td>\n",
       "      <td>slides</td>\n",
       "      <td>go</td>\n",
       "      <td>3218</td>\n",
       "      <td>265</td>\n",
       "      <td>80</td>\n",
       "    </tr>\n",
       "    <tr>\n",
       "      <th>3</th>\n",
       "      <td>4</td>\n",
       "      <td>defi-developer-road-map</td>\n",
       "      <td>NaN</td>\n",
       "      <td>636</td>\n",
       "      <td>247</td>\n",
       "      <td>49</td>\n",
       "    </tr>\n",
       "    <tr>\n",
       "      <th>4</th>\n",
       "      <td>5</td>\n",
       "      <td>pytorch-image-models</td>\n",
       "      <td>python</td>\n",
       "      <td>11065</td>\n",
       "      <td>101</td>\n",
       "      <td>1646</td>\n",
       "    </tr>\n",
       "  </tbody>\n",
       "</table>\n",
       "</div>"
      ],
      "text/plain": [
       "   ranking                  project    language  stars  stars_today  forks\n",
       "0        1                     plow          go   1304          574     38\n",
       "1        2                      n8n  typescript  15668          280   1370\n",
       "2        3                   slides          go   3218          265     80\n",
       "3        4  defi-developer-road-map         NaN    636          247     49\n",
       "4        5     pytorch-image-models      python  11065          101   1646"
      ]
     },
     "execution_count": 22,
     "metadata": {},
     "output_type": "execute_result"
    }
   ],
   "source": [
    "github_df.head()"
   ]
  },
  {
   "cell_type": "code",
   "execution_count": 23,
   "metadata": {
    "ExecuteTime": {
     "end_time": "2022-05-14T16:51:30.715275Z",
     "start_time": "2022-05-14T16:51:30.703039Z"
    },
    "id": "bNDEvGIBaAP_"
   },
   "outputs": [
    {
     "data": {
      "text/html": [
       "<div>\n",
       "<style scoped>\n",
       "    .dataframe tbody tr th:only-of-type {\n",
       "        vertical-align: middle;\n",
       "    }\n",
       "\n",
       "    .dataframe tbody tr th {\n",
       "        vertical-align: top;\n",
       "    }\n",
       "\n",
       "    .dataframe thead th {\n",
       "        text-align: right;\n",
       "    }\n",
       "</style>\n",
       "<table border=\"1\" class=\"dataframe\">\n",
       "  <thead>\n",
       "    <tr style=\"text-align: right;\">\n",
       "      <th></th>\n",
       "      <th>ranking</th>\n",
       "      <th>project</th>\n",
       "      <th>language</th>\n",
       "      <th>stars</th>\n",
       "      <th>stars_today</th>\n",
       "      <th>forks</th>\n",
       "    </tr>\n",
       "  </thead>\n",
       "  <tbody>\n",
       "    <tr>\n",
       "      <th>5</th>\n",
       "      <td>6</td>\n",
       "      <td>javascript-algorithms</td>\n",
       "      <td>javascript</td>\n",
       "      <td>110768</td>\n",
       "      <td>248</td>\n",
       "      <td>18331</td>\n",
       "    </tr>\n",
       "    <tr>\n",
       "      <th>6</th>\n",
       "      <td>7</td>\n",
       "      <td>paddleclas</td>\n",
       "      <td>python</td>\n",
       "      <td>1429</td>\n",
       "      <td>283</td>\n",
       "      <td>323</td>\n",
       "    </tr>\n",
       "    <tr>\n",
       "      <th>7</th>\n",
       "      <td>8</td>\n",
       "      <td>reddit_sentiment_trader</td>\n",
       "      <td>python</td>\n",
       "      <td>369</td>\n",
       "      <td>71</td>\n",
       "      <td>60</td>\n",
       "    </tr>\n",
       "    <tr>\n",
       "      <th>8</th>\n",
       "      <td>9</td>\n",
       "      <td>augly</td>\n",
       "      <td>python</td>\n",
       "      <td>2849</td>\n",
       "      <td>393</td>\n",
       "      <td>99</td>\n",
       "    </tr>\n",
       "    <tr>\n",
       "      <th>9</th>\n",
       "      <td>10</td>\n",
       "      <td>self-taught-guide-to-cloud-computing</td>\n",
       "      <td>NaN</td>\n",
       "      <td>863</td>\n",
       "      <td>179</td>\n",
       "      <td>84</td>\n",
       "    </tr>\n",
       "  </tbody>\n",
       "</table>\n",
       "</div>"
      ],
      "text/plain": [
       "   ranking                               project    language   stars  \\\n",
       "5        6                 javascript-algorithms  javascript  110768   \n",
       "6        7                            paddleclas      python    1429   \n",
       "7        8               reddit_sentiment_trader      python     369   \n",
       "8        9                                 augly      python    2849   \n",
       "9       10  self-taught-guide-to-cloud-computing         NaN     863   \n",
       "\n",
       "   stars_today  forks  \n",
       "5          248  18331  \n",
       "6          283    323  \n",
       "7           71     60  \n",
       "8          393     99  \n",
       "9          179     84  "
      ]
     },
     "execution_count": 23,
     "metadata": {},
     "output_type": "execute_result"
    }
   ],
   "source": [
    "github_df.tail()"
   ]
  },
  {
   "cell_type": "code",
   "execution_count": 24,
   "metadata": {
    "ExecuteTime": {
     "end_time": "2022-05-14T16:51:30.747173Z",
     "start_time": "2022-05-14T16:51:30.722254Z"
    },
    "id": "IPOpuy5caAQA"
   },
   "outputs": [
    {
     "name": "stdout",
     "output_type": "stream",
     "text": [
      "<class 'pandas.core.frame.DataFrame'>\n",
      "RangeIndex: 10 entries, 0 to 9\n",
      "Data columns (total 6 columns):\n",
      " #   Column       Non-Null Count  Dtype \n",
      "---  ------       --------------  ----- \n",
      " 0   ranking      10 non-null     int64 \n",
      " 1   project      10 non-null     object\n",
      " 2   language     8 non-null      object\n",
      " 3   stars        10 non-null     int64 \n",
      " 4   stars_today  10 non-null     int64 \n",
      " 5   forks        10 non-null     int64 \n",
      "dtypes: int64(4), object(2)\n",
      "memory usage: 608.0+ bytes\n"
     ]
    }
   ],
   "source": [
    "github_df.info()"
   ]
  },
  {
   "cell_type": "code",
   "execution_count": 25,
   "metadata": {
    "ExecuteTime": {
     "end_time": "2022-05-14T16:51:30.778760Z",
     "start_time": "2022-05-14T16:51:30.749162Z"
    },
    "id": "COSsUPiuG0LX"
   },
   "outputs": [
    {
     "data": {
      "text/html": [
       "<div>\n",
       "<style scoped>\n",
       "    .dataframe tbody tr th:only-of-type {\n",
       "        vertical-align: middle;\n",
       "    }\n",
       "\n",
       "    .dataframe tbody tr th {\n",
       "        vertical-align: top;\n",
       "    }\n",
       "\n",
       "    .dataframe thead th {\n",
       "        text-align: right;\n",
       "    }\n",
       "</style>\n",
       "<table border=\"1\" class=\"dataframe\">\n",
       "  <thead>\n",
       "    <tr style=\"text-align: right;\">\n",
       "      <th></th>\n",
       "      <th>count</th>\n",
       "      <th>unique</th>\n",
       "      <th>top</th>\n",
       "      <th>freq</th>\n",
       "    </tr>\n",
       "  </thead>\n",
       "  <tbody>\n",
       "    <tr>\n",
       "      <th>project</th>\n",
       "      <td>10</td>\n",
       "      <td>10</td>\n",
       "      <td>plow</td>\n",
       "      <td>1</td>\n",
       "    </tr>\n",
       "    <tr>\n",
       "      <th>language</th>\n",
       "      <td>8</td>\n",
       "      <td>4</td>\n",
       "      <td>python</td>\n",
       "      <td>4</td>\n",
       "    </tr>\n",
       "  </tbody>\n",
       "</table>\n",
       "</div>"
      ],
      "text/plain": [
       "         count unique     top freq\n",
       "project     10     10    plow    1\n",
       "language     8      4  python    4"
      ]
     },
     "execution_count": 25,
     "metadata": {},
     "output_type": "execute_result"
    }
   ],
   "source": [
    "github_df[['project', 'language']].describe().T # colunas categóricas"
   ]
  },
  {
   "cell_type": "code",
   "execution_count": 26,
   "metadata": {
    "ExecuteTime": {
     "end_time": "2022-05-14T16:51:30.826857Z",
     "start_time": "2022-05-14T16:51:30.780750Z"
    },
    "id": "da_FFYmvGk02"
   },
   "outputs": [
    {
     "data": {
      "text/html": [
       "<div>\n",
       "<style scoped>\n",
       "    .dataframe tbody tr th:only-of-type {\n",
       "        vertical-align: middle;\n",
       "    }\n",
       "\n",
       "    .dataframe tbody tr th {\n",
       "        vertical-align: top;\n",
       "    }\n",
       "\n",
       "    .dataframe thead th {\n",
       "        text-align: right;\n",
       "    }\n",
       "</style>\n",
       "<table border=\"1\" class=\"dataframe\">\n",
       "  <thead>\n",
       "    <tr style=\"text-align: right;\">\n",
       "      <th></th>\n",
       "      <th>count</th>\n",
       "      <th>mean</th>\n",
       "      <th>std</th>\n",
       "      <th>min</th>\n",
       "      <th>25%</th>\n",
       "      <th>50%</th>\n",
       "      <th>75%</th>\n",
       "      <th>max</th>\n",
       "    </tr>\n",
       "  </thead>\n",
       "  <tbody>\n",
       "    <tr>\n",
       "      <th>ranking</th>\n",
       "      <td>10.0</td>\n",
       "      <td>5.5</td>\n",
       "      <td>3.027650</td>\n",
       "      <td>1.0</td>\n",
       "      <td>3.25</td>\n",
       "      <td>5.5</td>\n",
       "      <td>7.75</td>\n",
       "      <td>10.0</td>\n",
       "    </tr>\n",
       "    <tr>\n",
       "      <th>stars</th>\n",
       "      <td>10.0</td>\n",
       "      <td>14816.9</td>\n",
       "      <td>34100.448392</td>\n",
       "      <td>369.0</td>\n",
       "      <td>973.25</td>\n",
       "      <td>2139.0</td>\n",
       "      <td>9103.25</td>\n",
       "      <td>110768.0</td>\n",
       "    </tr>\n",
       "    <tr>\n",
       "      <th>stars_today</th>\n",
       "      <td>10.0</td>\n",
       "      <td>264.1</td>\n",
       "      <td>143.351510</td>\n",
       "      <td>71.0</td>\n",
       "      <td>196.00</td>\n",
       "      <td>256.5</td>\n",
       "      <td>282.25</td>\n",
       "      <td>574.0</td>\n",
       "    </tr>\n",
       "    <tr>\n",
       "      <th>forks</th>\n",
       "      <td>10.0</td>\n",
       "      <td>2208.0</td>\n",
       "      <td>5695.945615</td>\n",
       "      <td>38.0</td>\n",
       "      <td>65.00</td>\n",
       "      <td>91.5</td>\n",
       "      <td>1108.25</td>\n",
       "      <td>18331.0</td>\n",
       "    </tr>\n",
       "  </tbody>\n",
       "</table>\n",
       "</div>"
      ],
      "text/plain": [
       "             count     mean           std    min     25%     50%      75%  \\\n",
       "ranking       10.0      5.5      3.027650    1.0    3.25     5.5     7.75   \n",
       "stars         10.0  14816.9  34100.448392  369.0  973.25  2139.0  9103.25   \n",
       "stars_today   10.0    264.1    143.351510   71.0  196.00   256.5   282.25   \n",
       "forks         10.0   2208.0   5695.945615   38.0   65.00    91.5  1108.25   \n",
       "\n",
       "                  max  \n",
       "ranking          10.0  \n",
       "stars        110768.0  \n",
       "stars_today     574.0  \n",
       "forks         18331.0  "
      ]
     },
     "execution_count": 26,
     "metadata": {},
     "output_type": "execute_result"
    }
   ],
   "source": [
    "github_df[['ranking', 'stars', 'stars_today', 'forks']].describe().T # colunas numéricas"
   ]
  },
  {
   "cell_type": "markdown",
   "metadata": {
    "id": "ymoAXSbFEcvt"
   },
   "source": [
    "### **1.2. Anatomia de um DataFrame** "
   ]
  },
  {
   "cell_type": "markdown",
   "metadata": {
    "id": "fBx76tlzEmaQ"
   },
   "source": [
    "*   **Série**: `Coluna` de um DataFrame;\n",
    "*   **Índice**: Indentificador de uma `linha` de um DataFrame."
   ]
  },
  {
   "cell_type": "code",
   "execution_count": 27,
   "metadata": {
    "ExecuteTime": {
     "end_time": "2022-05-14T16:51:30.857781Z",
     "start_time": "2022-05-14T16:51:30.828887Z"
    },
    "id": "oxYkPTvJE6Ug"
   },
   "outputs": [
    {
     "data": {
      "text/html": [
       "<div>\n",
       "<style scoped>\n",
       "    .dataframe tbody tr th:only-of-type {\n",
       "        vertical-align: middle;\n",
       "    }\n",
       "\n",
       "    .dataframe tbody tr th {\n",
       "        vertical-align: top;\n",
       "    }\n",
       "\n",
       "    .dataframe thead th {\n",
       "        text-align: right;\n",
       "    }\n",
       "</style>\n",
       "<table border=\"1\" class=\"dataframe\">\n",
       "  <thead>\n",
       "    <tr style=\"text-align: right;\">\n",
       "      <th></th>\n",
       "      <th>ranking</th>\n",
       "      <th>project</th>\n",
       "      <th>language</th>\n",
       "      <th>stars</th>\n",
       "      <th>stars_today</th>\n",
       "      <th>forks</th>\n",
       "    </tr>\n",
       "  </thead>\n",
       "  <tbody>\n",
       "    <tr>\n",
       "      <th>0</th>\n",
       "      <td>1</td>\n",
       "      <td>plow</td>\n",
       "      <td>go</td>\n",
       "      <td>1304</td>\n",
       "      <td>574</td>\n",
       "      <td>38</td>\n",
       "    </tr>\n",
       "    <tr>\n",
       "      <th>1</th>\n",
       "      <td>2</td>\n",
       "      <td>n8n</td>\n",
       "      <td>typescript</td>\n",
       "      <td>15668</td>\n",
       "      <td>280</td>\n",
       "      <td>1370</td>\n",
       "    </tr>\n",
       "    <tr>\n",
       "      <th>2</th>\n",
       "      <td>3</td>\n",
       "      <td>slides</td>\n",
       "      <td>go</td>\n",
       "      <td>3218</td>\n",
       "      <td>265</td>\n",
       "      <td>80</td>\n",
       "    </tr>\n",
       "    <tr>\n",
       "      <th>3</th>\n",
       "      <td>4</td>\n",
       "      <td>defi-developer-road-map</td>\n",
       "      <td>NaN</td>\n",
       "      <td>636</td>\n",
       "      <td>247</td>\n",
       "      <td>49</td>\n",
       "    </tr>\n",
       "    <tr>\n",
       "      <th>4</th>\n",
       "      <td>5</td>\n",
       "      <td>pytorch-image-models</td>\n",
       "      <td>python</td>\n",
       "      <td>11065</td>\n",
       "      <td>101</td>\n",
       "      <td>1646</td>\n",
       "    </tr>\n",
       "    <tr>\n",
       "      <th>5</th>\n",
       "      <td>6</td>\n",
       "      <td>javascript-algorithms</td>\n",
       "      <td>javascript</td>\n",
       "      <td>110768</td>\n",
       "      <td>248</td>\n",
       "      <td>18331</td>\n",
       "    </tr>\n",
       "    <tr>\n",
       "      <th>6</th>\n",
       "      <td>7</td>\n",
       "      <td>paddleclas</td>\n",
       "      <td>python</td>\n",
       "      <td>1429</td>\n",
       "      <td>283</td>\n",
       "      <td>323</td>\n",
       "    </tr>\n",
       "    <tr>\n",
       "      <th>7</th>\n",
       "      <td>8</td>\n",
       "      <td>reddit_sentiment_trader</td>\n",
       "      <td>python</td>\n",
       "      <td>369</td>\n",
       "      <td>71</td>\n",
       "      <td>60</td>\n",
       "    </tr>\n",
       "    <tr>\n",
       "      <th>8</th>\n",
       "      <td>9</td>\n",
       "      <td>augly</td>\n",
       "      <td>python</td>\n",
       "      <td>2849</td>\n",
       "      <td>393</td>\n",
       "      <td>99</td>\n",
       "    </tr>\n",
       "    <tr>\n",
       "      <th>9</th>\n",
       "      <td>10</td>\n",
       "      <td>self-taught-guide-to-cloud-computing</td>\n",
       "      <td>NaN</td>\n",
       "      <td>863</td>\n",
       "      <td>179</td>\n",
       "      <td>84</td>\n",
       "    </tr>\n",
       "  </tbody>\n",
       "</table>\n",
       "</div>"
      ],
      "text/plain": [
       "   ranking                               project    language   stars  \\\n",
       "0        1                                  plow          go    1304   \n",
       "1        2                                   n8n  typescript   15668   \n",
       "2        3                                slides          go    3218   \n",
       "3        4               defi-developer-road-map         NaN     636   \n",
       "4        5                  pytorch-image-models      python   11065   \n",
       "5        6                 javascript-algorithms  javascript  110768   \n",
       "6        7                            paddleclas      python    1429   \n",
       "7        8               reddit_sentiment_trader      python     369   \n",
       "8        9                                 augly      python    2849   \n",
       "9       10  self-taught-guide-to-cloud-computing         NaN     863   \n",
       "\n",
       "   stars_today  forks  \n",
       "0          574     38  \n",
       "1          280   1370  \n",
       "2          265     80  \n",
       "3          247     49  \n",
       "4          101   1646  \n",
       "5          248  18331  \n",
       "6          283    323  \n",
       "7           71     60  \n",
       "8          393     99  \n",
       "9          179     84  "
      ]
     },
     "execution_count": 27,
     "metadata": {},
     "output_type": "execute_result"
    }
   ],
   "source": [
    "github_df"
   ]
  },
  {
   "cell_type": "markdown",
   "metadata": {
    "id": "4rRCvy_UURrM"
   },
   "source": [
    "## 2\\. Seleção e Filtros"
   ]
  },
  {
   "cell_type": "markdown",
   "metadata": {
    "id": "78RHF81A3tat"
   },
   "source": [
    "### **2.1. Série** "
   ]
  },
  {
   "cell_type": "markdown",
   "metadata": {
    "id": "bV_cw2IibzL8"
   },
   "source": [
    "Uma **série** é uma **coluna** de um **dataframe**. Para selecionar uma coluna utilizamos a seguinte notação (similiar a indexação de listas Python):\n",
    "\n",
    "```python\n",
    "serie = dataframe['<nome-da-coluna>']\n",
    "```\n",
    "\n",
    "**Nota**: Repare no uso das chaves simples `[ ]`."
   ]
  },
  {
   "cell_type": "markdown",
   "metadata": {
    "id": "Lo70QSOY6Xm0"
   },
   "source": [
    "*   **Exemplo**: Coluna linguagem de programação do dataframe `github_df`:"
   ]
  },
  {
   "cell_type": "code",
   "execution_count": 28,
   "metadata": {
    "ExecuteTime": {
     "end_time": "2022-05-14T16:51:30.873716Z",
     "start_time": "2022-05-14T16:51:30.860761Z"
    },
    "id": "0E_qlrvtayge"
   },
   "outputs": [],
   "source": [
    "linguagem_serie = github_df['language']"
   ]
  },
  {
   "cell_type": "code",
   "execution_count": 29,
   "metadata": {
    "ExecuteTime": {
     "end_time": "2022-05-14T16:51:30.889181Z",
     "start_time": "2022-05-14T16:51:30.876892Z"
    },
    "id": "jUGCDKX3001T"
   },
   "outputs": [
    {
     "data": {
      "text/plain": [
       "0            go\n",
       "1    typescript\n",
       "2            go\n",
       "3           NaN\n",
       "4        python\n",
       "5    javascript\n",
       "6        python\n",
       "7        python\n",
       "8        python\n",
       "9           NaN\n",
       "Name: language, dtype: object"
      ]
     },
     "execution_count": 29,
     "metadata": {},
     "output_type": "execute_result"
    }
   ],
   "source": [
    "linguagem_serie"
   ]
  },
  {
   "cell_type": "code",
   "execution_count": 30,
   "metadata": {
    "ExecuteTime": {
     "end_time": "2022-05-14T16:51:30.904293Z",
     "start_time": "2022-05-14T16:51:30.893330Z"
    },
    "id": "tBL9JNNJH5-X"
   },
   "outputs": [
    {
     "data": {
      "text/plain": [
       "pandas.core.series.Series"
      ]
     },
     "execution_count": 30,
     "metadata": {},
     "output_type": "execute_result"
    }
   ],
   "source": [
    "type(linguagem_serie)"
   ]
  },
  {
   "cell_type": "markdown",
   "metadata": {
    "id": "hsEYdMqZ-12v"
   },
   "source": [
    "#### 2.1.1 Seleção "
   ]
  },
  {
   "cell_type": "markdown",
   "metadata": {
    "id": "ZQ-RIHUl8I9V"
   },
   "source": [
    "*   **Exemplo**: Indexação simples com método `loc` (similar a lista Python):"
   ]
  },
  {
   "cell_type": "code",
   "execution_count": 31,
   "metadata": {
    "ExecuteTime": {
     "end_time": "2022-05-14T16:51:30.919829Z",
     "start_time": "2022-05-14T16:51:30.906285Z"
    },
    "id": "cyzctK3f2AB7"
   },
   "outputs": [],
   "source": [
    "top_1_linguagem = linguagem_serie.loc[0]"
   ]
  },
  {
   "cell_type": "code",
   "execution_count": 32,
   "metadata": {
    "ExecuteTime": {
     "end_time": "2022-05-14T16:51:30.935774Z",
     "start_time": "2022-05-14T16:51:30.921818Z"
    },
    "id": "1raP2AssItoH"
   },
   "outputs": [
    {
     "data": {
      "text/plain": [
       "'go'"
      ]
     },
     "execution_count": 32,
     "metadata": {},
     "output_type": "execute_result"
    }
   ],
   "source": [
    "top_1_linguagem"
   ]
  },
  {
   "cell_type": "code",
   "execution_count": 33,
   "metadata": {
    "ExecuteTime": {
     "end_time": "2022-05-14T16:51:30.951564Z",
     "start_time": "2022-05-14T16:51:30.938762Z"
    },
    "id": "yuQKYgwoIxqK"
   },
   "outputs": [
    {
     "data": {
      "text/plain": [
       "str"
      ]
     },
     "execution_count": 33,
     "metadata": {},
     "output_type": "execute_result"
    }
   ],
   "source": [
    "type(top_1_linguagem)"
   ]
  },
  {
   "cell_type": "markdown",
   "metadata": {
    "id": "EwG7rEpxASE4"
   },
   "source": [
    "*   **Exemplo**: Fatiamento ou *slicing* com método `loc` (similar a lista Python):"
   ]
  },
  {
   "cell_type": "code",
   "execution_count": 34,
   "metadata": {
    "ExecuteTime": {
     "end_time": "2022-05-14T16:51:30.966851Z",
     "start_time": "2022-05-14T16:51:30.953623Z"
    },
    "id": "u22eOpJJ3Sa_"
   },
   "outputs": [],
   "source": [
    "top_5_linguagem = linguagem_serie.loc[0:5]"
   ]
  },
  {
   "cell_type": "code",
   "execution_count": 35,
   "metadata": {
    "ExecuteTime": {
     "end_time": "2022-05-14T16:51:30.982237Z",
     "start_time": "2022-05-14T16:51:30.971835Z"
    },
    "id": "MHVFQycVI0bw"
   },
   "outputs": [
    {
     "data": {
      "text/plain": [
       "0            go\n",
       "1    typescript\n",
       "2            go\n",
       "3           NaN\n",
       "4        python\n",
       "5    javascript\n",
       "Name: language, dtype: object"
      ]
     },
     "execution_count": 35,
     "metadata": {},
     "output_type": "execute_result"
    }
   ],
   "source": [
    "top_5_linguagem"
   ]
  },
  {
   "cell_type": "code",
   "execution_count": 36,
   "metadata": {
    "ExecuteTime": {
     "end_time": "2022-05-14T16:51:30.997926Z",
     "start_time": "2022-05-14T16:51:30.983641Z"
    },
    "id": "Py31PNbGI00p"
   },
   "outputs": [
    {
     "data": {
      "text/plain": [
       "pandas.core.series.Series"
      ]
     },
     "execution_count": 36,
     "metadata": {},
     "output_type": "execute_result"
    }
   ],
   "source": [
    "type(top_5_linguagem)"
   ]
  },
  {
   "cell_type": "markdown",
   "metadata": {
    "id": "c1w3aPRb_zyY"
   },
   "source": [
    "#### 2.1.2 Filtros "
   ]
  },
  {
   "cell_type": "markdown",
   "metadata": {
    "id": "JpwLeL7zAakW"
   },
   "source": [
    "*   **Exemplo**: Filtro funcional:"
   ]
  },
  {
   "cell_type": "code",
   "execution_count": 37,
   "metadata": {
    "ExecuteTime": {
     "end_time": "2022-05-14T16:51:31.013089Z",
     "start_time": "2022-05-14T16:51:31.002090Z"
    },
    "id": "_WS0rxAZCmU-"
   },
   "outputs": [
    {
     "data": {
      "text/plain": [
       "4    python\n",
       "6    python\n",
       "7    python\n",
       "8    python\n",
       "Name: language, dtype: object"
      ]
     },
     "execution_count": 37,
     "metadata": {},
     "output_type": "execute_result"
    }
   ],
   "source": [
    "linguagem_serie[lambda linguagem: linguagem == 'python']"
   ]
  },
  {
   "cell_type": "markdown",
   "metadata": {
    "id": "73n8P5ShC38f"
   },
   "source": [
    "*   **Exemplo**: Filtro funcional com novos índices:"
   ]
  },
  {
   "cell_type": "code",
   "execution_count": 38,
   "metadata": {
    "ExecuteTime": {
     "end_time": "2022-05-14T16:51:31.028035Z",
     "start_time": "2022-05-14T16:51:31.015085Z"
    },
    "id": "d4TBy_4_B2uU"
   },
   "outputs": [
    {
     "data": {
      "text/plain": [
       "0    python\n",
       "1    python\n",
       "2    python\n",
       "3    python\n",
       "Name: language, dtype: object"
      ]
     },
     "execution_count": 38,
     "metadata": {},
     "output_type": "execute_result"
    }
   ],
   "source": [
    "linguagem_serie[lambda linguagem: linguagem == 'python'].reset_index(drop=True)"
   ]
  },
  {
   "cell_type": "markdown",
   "metadata": {
    "id": "fzU5v17l8kHf"
   },
   "source": [
    "### **2.2. DataFrame** "
   ]
  },
  {
   "cell_type": "markdown",
   "metadata": {
    "id": "XC2gIbHs8kHg"
   },
   "source": [
    "Um **conjunto** de **colunas** ou **séries** é um novo **dataframe**. Para selecionar um conjunto de colunas utilizamos a seguinte notação:\n",
    "\n",
    "```python\n",
    "novo_dataframe = dataframe[['<nome-da-coluna-a>', '<nome-da-coluna-b>', ...]]\n",
    "```\n",
    "\n",
    "**Nota**: Repare no uso das chaves duplas `[[ ]]`."
   ]
  },
  {
   "cell_type": "markdown",
   "metadata": {
    "id": "W9Moi_1-9Hr4"
   },
   "source": [
    "*   **Exemplo**: Colunas ranking e linguagem de programação do dataframe `github_df`:"
   ]
  },
  {
   "cell_type": "code",
   "execution_count": 39,
   "metadata": {
    "ExecuteTime": {
     "end_time": "2022-05-14T16:51:31.043234Z",
     "start_time": "2022-05-14T16:51:31.032273Z"
    },
    "id": "dO9sVjPa9HsZ"
   },
   "outputs": [],
   "source": [
    "ranking_linguagem_df = github_df[['ranking', 'language']]"
   ]
  },
  {
   "cell_type": "code",
   "execution_count": 40,
   "metadata": {
    "ExecuteTime": {
     "end_time": "2022-05-14T16:51:31.058695Z",
     "start_time": "2022-05-14T16:51:31.045224Z"
    },
    "id": "NqBRmkf3JEzh"
   },
   "outputs": [
    {
     "data": {
      "text/html": [
       "<div>\n",
       "<style scoped>\n",
       "    .dataframe tbody tr th:only-of-type {\n",
       "        vertical-align: middle;\n",
       "    }\n",
       "\n",
       "    .dataframe tbody tr th {\n",
       "        vertical-align: top;\n",
       "    }\n",
       "\n",
       "    .dataframe thead th {\n",
       "        text-align: right;\n",
       "    }\n",
       "</style>\n",
       "<table border=\"1\" class=\"dataframe\">\n",
       "  <thead>\n",
       "    <tr style=\"text-align: right;\">\n",
       "      <th></th>\n",
       "      <th>ranking</th>\n",
       "      <th>language</th>\n",
       "    </tr>\n",
       "  </thead>\n",
       "  <tbody>\n",
       "    <tr>\n",
       "      <th>0</th>\n",
       "      <td>1</td>\n",
       "      <td>go</td>\n",
       "    </tr>\n",
       "    <tr>\n",
       "      <th>1</th>\n",
       "      <td>2</td>\n",
       "      <td>typescript</td>\n",
       "    </tr>\n",
       "    <tr>\n",
       "      <th>2</th>\n",
       "      <td>3</td>\n",
       "      <td>go</td>\n",
       "    </tr>\n",
       "    <tr>\n",
       "      <th>3</th>\n",
       "      <td>4</td>\n",
       "      <td>NaN</td>\n",
       "    </tr>\n",
       "    <tr>\n",
       "      <th>4</th>\n",
       "      <td>5</td>\n",
       "      <td>python</td>\n",
       "    </tr>\n",
       "    <tr>\n",
       "      <th>5</th>\n",
       "      <td>6</td>\n",
       "      <td>javascript</td>\n",
       "    </tr>\n",
       "    <tr>\n",
       "      <th>6</th>\n",
       "      <td>7</td>\n",
       "      <td>python</td>\n",
       "    </tr>\n",
       "    <tr>\n",
       "      <th>7</th>\n",
       "      <td>8</td>\n",
       "      <td>python</td>\n",
       "    </tr>\n",
       "    <tr>\n",
       "      <th>8</th>\n",
       "      <td>9</td>\n",
       "      <td>python</td>\n",
       "    </tr>\n",
       "    <tr>\n",
       "      <th>9</th>\n",
       "      <td>10</td>\n",
       "      <td>NaN</td>\n",
       "    </tr>\n",
       "  </tbody>\n",
       "</table>\n",
       "</div>"
      ],
      "text/plain": [
       "   ranking    language\n",
       "0        1          go\n",
       "1        2  typescript\n",
       "2        3          go\n",
       "3        4         NaN\n",
       "4        5      python\n",
       "5        6  javascript\n",
       "6        7      python\n",
       "7        8      python\n",
       "8        9      python\n",
       "9       10         NaN"
      ]
     },
     "execution_count": 40,
     "metadata": {},
     "output_type": "execute_result"
    }
   ],
   "source": [
    "ranking_linguagem_df"
   ]
  },
  {
   "cell_type": "code",
   "execution_count": 41,
   "metadata": {
    "ExecuteTime": {
     "end_time": "2022-05-14T16:51:31.074288Z",
     "start_time": "2022-05-14T16:51:31.060684Z"
    },
    "id": "_au_4EJC9HsZ"
   },
   "outputs": [
    {
     "data": {
      "text/plain": [
       "pandas.core.frame.DataFrame"
      ]
     },
     "execution_count": 41,
     "metadata": {},
     "output_type": "execute_result"
    }
   ],
   "source": [
    "type(ranking_linguagem_df)"
   ]
  },
  {
   "cell_type": "markdown",
   "metadata": {
    "id": "7icZ-XztJgrr"
   },
   "source": [
    "#### 2.2.1 Seleção "
   ]
  },
  {
   "cell_type": "markdown",
   "metadata": {
    "id": "wzoCWYcpJgrt"
   },
   "source": [
    "*   **Exemplo**: Indexação simples (linha) com método `loc` (similar a lista Python):"
   ]
  },
  {
   "cell_type": "code",
   "execution_count": 42,
   "metadata": {
    "ExecuteTime": {
     "end_time": "2022-05-14T16:51:31.089351Z",
     "start_time": "2022-05-14T16:51:31.076337Z"
    },
    "id": "cbEVqpxQJgrt"
   },
   "outputs": [],
   "source": [
    "top_1_linguagem = ranking_linguagem_df.loc[0]"
   ]
  },
  {
   "cell_type": "code",
   "execution_count": 43,
   "metadata": {
    "ExecuteTime": {
     "end_time": "2022-05-14T16:51:31.105344Z",
     "start_time": "2022-05-14T16:51:31.093384Z"
    },
    "id": "qMKBxt3fJgru"
   },
   "outputs": [
    {
     "data": {
      "text/plain": [
       "ranking      1\n",
       "language    go\n",
       "Name: 0, dtype: object"
      ]
     },
     "execution_count": 43,
     "metadata": {},
     "output_type": "execute_result"
    }
   ],
   "source": [
    "top_1_linguagem"
   ]
  },
  {
   "cell_type": "code",
   "execution_count": 44,
   "metadata": {
    "ExecuteTime": {
     "end_time": "2022-05-14T16:51:31.120298Z",
     "start_time": "2022-05-14T16:51:31.108335Z"
    },
    "id": "0hEYyLVJJgrv"
   },
   "outputs": [
    {
     "data": {
      "text/plain": [
       "pandas.core.series.Series"
      ]
     },
     "execution_count": 44,
     "metadata": {},
     "output_type": "execute_result"
    }
   ],
   "source": [
    "type(top_1_linguagem)"
   ]
  },
  {
   "cell_type": "markdown",
   "metadata": {
    "id": "cJlp7k7frtQn"
   },
   "source": [
    "*   **Exemplo**: Indexação simples (linha e coluna) com método `loc` (similar a lista Python):"
   ]
  },
  {
   "cell_type": "code",
   "execution_count": 45,
   "metadata": {
    "ExecuteTime": {
     "end_time": "2022-05-14T16:51:31.135343Z",
     "start_time": "2022-05-14T16:51:31.122287Z"
    },
    "id": "ysz6K-vyrtQ3"
   },
   "outputs": [],
   "source": [
    "top_1_linguagem = github_df.loc[0, ['ranking', 'language']]"
   ]
  },
  {
   "cell_type": "code",
   "execution_count": 46,
   "metadata": {
    "ExecuteTime": {
     "end_time": "2022-05-14T16:51:31.150574Z",
     "start_time": "2022-05-14T16:51:31.137346Z"
    },
    "id": "NVZIAd7WrtQ3"
   },
   "outputs": [
    {
     "data": {
      "text/plain": [
       "ranking      1\n",
       "language    go\n",
       "Name: 0, dtype: object"
      ]
     },
     "execution_count": 46,
     "metadata": {},
     "output_type": "execute_result"
    }
   ],
   "source": [
    "top_1_linguagem"
   ]
  },
  {
   "cell_type": "code",
   "execution_count": 47,
   "metadata": {
    "ExecuteTime": {
     "end_time": "2022-05-14T16:51:31.166414Z",
     "start_time": "2022-05-14T16:51:31.154903Z"
    },
    "id": "BQ_vQ7jPrtQ4"
   },
   "outputs": [
    {
     "data": {
      "text/plain": [
       "pandas.core.series.Series"
      ]
     },
     "execution_count": 47,
     "metadata": {},
     "output_type": "execute_result"
    }
   ],
   "source": [
    "type(top_1_linguagem)"
   ]
  },
  {
   "cell_type": "markdown",
   "metadata": {
    "id": "TY5U3yQ1Jgrv"
   },
   "source": [
    "*   **Exemplo**: Fatiamento ou *slicing* (linhas) com método `loc` (similar a lista Python):"
   ]
  },
  {
   "cell_type": "code",
   "execution_count": 48,
   "metadata": {
    "ExecuteTime": {
     "end_time": "2022-05-14T16:51:31.181742Z",
     "start_time": "2022-05-14T16:51:31.168403Z"
    },
    "id": "v6s_MlyaJgrw"
   },
   "outputs": [],
   "source": [
    "top_5_ranking_linguagem = ranking_linguagem_df.loc[0:5]"
   ]
  },
  {
   "cell_type": "code",
   "execution_count": 49,
   "metadata": {
    "ExecuteTime": {
     "end_time": "2022-05-14T16:51:31.197664Z",
     "start_time": "2022-05-14T16:51:31.183730Z"
    },
    "id": "iEKc8FNJJgrx"
   },
   "outputs": [
    {
     "data": {
      "text/html": [
       "<div>\n",
       "<style scoped>\n",
       "    .dataframe tbody tr th:only-of-type {\n",
       "        vertical-align: middle;\n",
       "    }\n",
       "\n",
       "    .dataframe tbody tr th {\n",
       "        vertical-align: top;\n",
       "    }\n",
       "\n",
       "    .dataframe thead th {\n",
       "        text-align: right;\n",
       "    }\n",
       "</style>\n",
       "<table border=\"1\" class=\"dataframe\">\n",
       "  <thead>\n",
       "    <tr style=\"text-align: right;\">\n",
       "      <th></th>\n",
       "      <th>ranking</th>\n",
       "      <th>language</th>\n",
       "    </tr>\n",
       "  </thead>\n",
       "  <tbody>\n",
       "    <tr>\n",
       "      <th>0</th>\n",
       "      <td>1</td>\n",
       "      <td>go</td>\n",
       "    </tr>\n",
       "    <tr>\n",
       "      <th>1</th>\n",
       "      <td>2</td>\n",
       "      <td>typescript</td>\n",
       "    </tr>\n",
       "    <tr>\n",
       "      <th>2</th>\n",
       "      <td>3</td>\n",
       "      <td>go</td>\n",
       "    </tr>\n",
       "    <tr>\n",
       "      <th>3</th>\n",
       "      <td>4</td>\n",
       "      <td>NaN</td>\n",
       "    </tr>\n",
       "    <tr>\n",
       "      <th>4</th>\n",
       "      <td>5</td>\n",
       "      <td>python</td>\n",
       "    </tr>\n",
       "    <tr>\n",
       "      <th>5</th>\n",
       "      <td>6</td>\n",
       "      <td>javascript</td>\n",
       "    </tr>\n",
       "  </tbody>\n",
       "</table>\n",
       "</div>"
      ],
      "text/plain": [
       "   ranking    language\n",
       "0        1          go\n",
       "1        2  typescript\n",
       "2        3          go\n",
       "3        4         NaN\n",
       "4        5      python\n",
       "5        6  javascript"
      ]
     },
     "execution_count": 49,
     "metadata": {},
     "output_type": "execute_result"
    }
   ],
   "source": [
    "top_5_ranking_linguagem"
   ]
  },
  {
   "cell_type": "code",
   "execution_count": 50,
   "metadata": {
    "ExecuteTime": {
     "end_time": "2022-05-14T16:51:31.213601Z",
     "start_time": "2022-05-14T16:51:31.199645Z"
    },
    "id": "dKtC7REkJgrx"
   },
   "outputs": [
    {
     "data": {
      "text/plain": [
       "pandas.core.frame.DataFrame"
      ]
     },
     "execution_count": 50,
     "metadata": {},
     "output_type": "execute_result"
    }
   ],
   "source": [
    "type(top_5_ranking_linguagem)"
   ]
  },
  {
   "cell_type": "markdown",
   "metadata": {
    "id": "adXhM2I3rPY3"
   },
   "source": [
    "*   **Exemplo**: Fatiamento ou *slicing* (linhas e colunas) com método `loc` (similar a lista Python):"
   ]
  },
  {
   "cell_type": "code",
   "execution_count": 51,
   "metadata": {
    "ExecuteTime": {
     "end_time": "2022-05-14T16:51:31.229588Z",
     "start_time": "2022-05-14T16:51:31.217585Z"
    },
    "id": "9K7CVUcirPY4"
   },
   "outputs": [],
   "source": [
    "top_5_ranking_linguagem = github_df.loc[0:5, ['ranking', 'language']]"
   ]
  },
  {
   "cell_type": "code",
   "execution_count": 52,
   "metadata": {
    "ExecuteTime": {
     "end_time": "2022-05-14T16:51:31.245455Z",
     "start_time": "2022-05-14T16:51:31.231607Z"
    },
    "id": "QoWCUYqCrPY5"
   },
   "outputs": [
    {
     "data": {
      "text/html": [
       "<div>\n",
       "<style scoped>\n",
       "    .dataframe tbody tr th:only-of-type {\n",
       "        vertical-align: middle;\n",
       "    }\n",
       "\n",
       "    .dataframe tbody tr th {\n",
       "        vertical-align: top;\n",
       "    }\n",
       "\n",
       "    .dataframe thead th {\n",
       "        text-align: right;\n",
       "    }\n",
       "</style>\n",
       "<table border=\"1\" class=\"dataframe\">\n",
       "  <thead>\n",
       "    <tr style=\"text-align: right;\">\n",
       "      <th></th>\n",
       "      <th>ranking</th>\n",
       "      <th>language</th>\n",
       "    </tr>\n",
       "  </thead>\n",
       "  <tbody>\n",
       "    <tr>\n",
       "      <th>0</th>\n",
       "      <td>1</td>\n",
       "      <td>go</td>\n",
       "    </tr>\n",
       "    <tr>\n",
       "      <th>1</th>\n",
       "      <td>2</td>\n",
       "      <td>typescript</td>\n",
       "    </tr>\n",
       "    <tr>\n",
       "      <th>2</th>\n",
       "      <td>3</td>\n",
       "      <td>go</td>\n",
       "    </tr>\n",
       "    <tr>\n",
       "      <th>3</th>\n",
       "      <td>4</td>\n",
       "      <td>NaN</td>\n",
       "    </tr>\n",
       "    <tr>\n",
       "      <th>4</th>\n",
       "      <td>5</td>\n",
       "      <td>python</td>\n",
       "    </tr>\n",
       "    <tr>\n",
       "      <th>5</th>\n",
       "      <td>6</td>\n",
       "      <td>javascript</td>\n",
       "    </tr>\n",
       "  </tbody>\n",
       "</table>\n",
       "</div>"
      ],
      "text/plain": [
       "   ranking    language\n",
       "0        1          go\n",
       "1        2  typescript\n",
       "2        3          go\n",
       "3        4         NaN\n",
       "4        5      python\n",
       "5        6  javascript"
      ]
     },
     "execution_count": 52,
     "metadata": {},
     "output_type": "execute_result"
    }
   ],
   "source": [
    "top_5_ranking_linguagem"
   ]
  },
  {
   "cell_type": "code",
   "execution_count": 53,
   "metadata": {
    "ExecuteTime": {
     "end_time": "2022-05-14T16:51:31.276482Z",
     "start_time": "2022-05-14T16:51:31.247442Z"
    },
    "id": "TQYc9mkkrPY6"
   },
   "outputs": [
    {
     "data": {
      "text/plain": [
       "pandas.core.frame.DataFrame"
      ]
     },
     "execution_count": 53,
     "metadata": {},
     "output_type": "execute_result"
    }
   ],
   "source": [
    "type(top_5_ranking_linguagem)"
   ]
  },
  {
   "cell_type": "markdown",
   "metadata": {
    "id": "72pCKmpiJgry"
   },
   "source": [
    "#### 2.2.2 Filtros "
   ]
  },
  {
   "cell_type": "markdown",
   "metadata": {
    "id": "o3Ozx__8Jgrz"
   },
   "source": [
    "*   **Exemplo**: Filtro com o método `query`:"
   ]
  },
  {
   "cell_type": "code",
   "execution_count": 54,
   "metadata": {
    "ExecuteTime": {
     "end_time": "2022-05-14T16:51:31.292425Z",
     "start_time": "2022-05-14T16:51:31.279463Z"
    },
    "id": "ZwKbySk_Jgr0"
   },
   "outputs": [
    {
     "data": {
      "text/html": [
       "<div>\n",
       "<style scoped>\n",
       "    .dataframe tbody tr th:only-of-type {\n",
       "        vertical-align: middle;\n",
       "    }\n",
       "\n",
       "    .dataframe tbody tr th {\n",
       "        vertical-align: top;\n",
       "    }\n",
       "\n",
       "    .dataframe thead th {\n",
       "        text-align: right;\n",
       "    }\n",
       "</style>\n",
       "<table border=\"1\" class=\"dataframe\">\n",
       "  <thead>\n",
       "    <tr style=\"text-align: right;\">\n",
       "      <th></th>\n",
       "      <th>ranking</th>\n",
       "      <th>language</th>\n",
       "    </tr>\n",
       "  </thead>\n",
       "  <tbody>\n",
       "    <tr>\n",
       "      <th>4</th>\n",
       "      <td>5</td>\n",
       "      <td>python</td>\n",
       "    </tr>\n",
       "    <tr>\n",
       "      <th>6</th>\n",
       "      <td>7</td>\n",
       "      <td>python</td>\n",
       "    </tr>\n",
       "    <tr>\n",
       "      <th>7</th>\n",
       "      <td>8</td>\n",
       "      <td>python</td>\n",
       "    </tr>\n",
       "    <tr>\n",
       "      <th>8</th>\n",
       "      <td>9</td>\n",
       "      <td>python</td>\n",
       "    </tr>\n",
       "  </tbody>\n",
       "</table>\n",
       "</div>"
      ],
      "text/plain": [
       "   ranking language\n",
       "4        5   python\n",
       "6        7   python\n",
       "7        8   python\n",
       "8        9   python"
      ]
     },
     "execution_count": 54,
     "metadata": {},
     "output_type": "execute_result"
    }
   ],
   "source": [
    "ranking_linguagem_df.query('language == \"python\"')"
   ]
  },
  {
   "cell_type": "code",
   "execution_count": 55,
   "metadata": {
    "ExecuteTime": {
     "end_time": "2022-05-14T16:51:31.323098Z",
     "start_time": "2022-05-14T16:51:31.294413Z"
    },
    "id": "W_rWrIk6K1gQ"
   },
   "outputs": [
    {
     "data": {
      "text/html": [
       "<div>\n",
       "<style scoped>\n",
       "    .dataframe tbody tr th:only-of-type {\n",
       "        vertical-align: middle;\n",
       "    }\n",
       "\n",
       "    .dataframe tbody tr th {\n",
       "        vertical-align: top;\n",
       "    }\n",
       "\n",
       "    .dataframe thead th {\n",
       "        text-align: right;\n",
       "    }\n",
       "</style>\n",
       "<table border=\"1\" class=\"dataframe\">\n",
       "  <thead>\n",
       "    <tr style=\"text-align: right;\">\n",
       "      <th></th>\n",
       "      <th>ranking</th>\n",
       "      <th>language</th>\n",
       "    </tr>\n",
       "  </thead>\n",
       "  <tbody>\n",
       "    <tr>\n",
       "      <th>6</th>\n",
       "      <td>7</td>\n",
       "      <td>python</td>\n",
       "    </tr>\n",
       "    <tr>\n",
       "      <th>7</th>\n",
       "      <td>8</td>\n",
       "      <td>python</td>\n",
       "    </tr>\n",
       "    <tr>\n",
       "      <th>8</th>\n",
       "      <td>9</td>\n",
       "      <td>python</td>\n",
       "    </tr>\n",
       "  </tbody>\n",
       "</table>\n",
       "</div>"
      ],
      "text/plain": [
       "   ranking language\n",
       "6        7   python\n",
       "7        8   python\n",
       "8        9   python"
      ]
     },
     "execution_count": 55,
     "metadata": {},
     "output_type": "execute_result"
    }
   ],
   "source": [
    "ranking_linguagem_df.query('language == \"python\" & ranking > 5')"
   ]
  },
  {
   "cell_type": "code",
   "execution_count": 56,
   "metadata": {
    "ExecuteTime": {
     "end_time": "2022-05-14T16:51:31.337946Z",
     "start_time": "2022-05-14T16:51:31.327094Z"
    },
    "id": "ufvbnj5PK9Ca"
   },
   "outputs": [
    {
     "data": {
      "text/html": [
       "<div>\n",
       "<style scoped>\n",
       "    .dataframe tbody tr th:only-of-type {\n",
       "        vertical-align: middle;\n",
       "    }\n",
       "\n",
       "    .dataframe tbody tr th {\n",
       "        vertical-align: top;\n",
       "    }\n",
       "\n",
       "    .dataframe thead th {\n",
       "        text-align: right;\n",
       "    }\n",
       "</style>\n",
       "<table border=\"1\" class=\"dataframe\">\n",
       "  <thead>\n",
       "    <tr style=\"text-align: right;\">\n",
       "      <th></th>\n",
       "      <th>ranking</th>\n",
       "      <th>language</th>\n",
       "    </tr>\n",
       "  </thead>\n",
       "  <tbody>\n",
       "    <tr>\n",
       "      <th>0</th>\n",
       "      <td>1</td>\n",
       "      <td>go</td>\n",
       "    </tr>\n",
       "    <tr>\n",
       "      <th>2</th>\n",
       "      <td>3</td>\n",
       "      <td>go</td>\n",
       "    </tr>\n",
       "    <tr>\n",
       "      <th>4</th>\n",
       "      <td>5</td>\n",
       "      <td>python</td>\n",
       "    </tr>\n",
       "    <tr>\n",
       "      <th>6</th>\n",
       "      <td>7</td>\n",
       "      <td>python</td>\n",
       "    </tr>\n",
       "    <tr>\n",
       "      <th>7</th>\n",
       "      <td>8</td>\n",
       "      <td>python</td>\n",
       "    </tr>\n",
       "    <tr>\n",
       "      <th>8</th>\n",
       "      <td>9</td>\n",
       "      <td>python</td>\n",
       "    </tr>\n",
       "  </tbody>\n",
       "</table>\n",
       "</div>"
      ],
      "text/plain": [
       "   ranking language\n",
       "0        1       go\n",
       "2        3       go\n",
       "4        5   python\n",
       "6        7   python\n",
       "7        8   python\n",
       "8        9   python"
      ]
     },
     "execution_count": 56,
     "metadata": {},
     "output_type": "execute_result"
    }
   ],
   "source": [
    "ranking_linguagem_df.query('language == \"python\" | language == \"go\"')"
   ]
  },
  {
   "cell_type": "markdown",
   "metadata": {
    "id": "ELgoMRAAUSjv"
   },
   "source": [
    "## 3\\. Inserção, Deleção e Atualização"
   ]
  },
  {
   "cell_type": "markdown",
   "metadata": {
    "id": "gdukZft-DRcG"
   },
   "source": [
    "### **3.1. Série** "
   ]
  },
  {
   "cell_type": "markdown",
   "metadata": {
    "id": "z--x9j7jNMFw"
   },
   "source": [
    "#### 3.1.1 Inserção "
   ]
  },
  {
   "cell_type": "markdown",
   "metadata": {
    "id": "owu5-rt-OW3D"
   },
   "source": [
    "*   **Exemplo**: Adição de elementos com o método `append`:"
   ]
  },
  {
   "cell_type": "code",
   "execution_count": 57,
   "metadata": {
    "ExecuteTime": {
     "end_time": "2022-05-14T16:51:31.618718Z",
     "start_time": "2022-05-14T16:51:31.338938Z"
    },
    "id": "yjlgmbEVMsMo"
   },
   "outputs": [
    {
     "name": "stderr",
     "output_type": "stream",
     "text": [
      "C:\\Users\\felip\\AppData\\Local\\Temp\\ipykernel_15492\\2749490940.py:1: FutureWarning: The series.append method is deprecated and will be removed from pandas in a future version. Use pandas.concat instead.\n",
      "  linguagem_serie.append(pd.Series(['java', 'python']), ignore_index=True)\n"
     ]
    },
    {
     "data": {
      "text/plain": [
       "0             go\n",
       "1     typescript\n",
       "2             go\n",
       "3            NaN\n",
       "4         python\n",
       "5     javascript\n",
       "6         python\n",
       "7         python\n",
       "8         python\n",
       "9            NaN\n",
       "10          java\n",
       "11        python\n",
       "dtype: object"
      ]
     },
     "execution_count": 57,
     "metadata": {},
     "output_type": "execute_result"
    }
   ],
   "source": [
    "linguagem_serie.append(pd.Series(['java', 'python']), ignore_index=True)"
   ]
  },
  {
   "cell_type": "code",
   "execution_count": 58,
   "metadata": {
    "ExecuteTime": {
     "end_time": "2022-05-14T16:51:31.634671Z",
     "start_time": "2022-05-14T16:51:31.621710Z"
    },
    "id": "_7nq9EE_NXbD"
   },
   "outputs": [
    {
     "data": {
      "text/plain": [
       "0            go\n",
       "1    typescript\n",
       "2            go\n",
       "3           NaN\n",
       "4        python\n",
       "5    javascript\n",
       "6        python\n",
       "7        python\n",
       "8        python\n",
       "9           NaN\n",
       "Name: language, dtype: object"
      ]
     },
     "execution_count": 58,
     "metadata": {},
     "output_type": "execute_result"
    }
   ],
   "source": [
    "linguagem_serie"
   ]
  },
  {
   "cell_type": "code",
   "execution_count": 59,
   "metadata": {
    "ExecuteTime": {
     "end_time": "2022-05-14T16:51:31.666561Z",
     "start_time": "2022-05-14T16:51:31.637654Z"
    },
    "id": "k5lf6ReZNbjK"
   },
   "outputs": [
    {
     "name": "stderr",
     "output_type": "stream",
     "text": [
      "C:\\Users\\felip\\AppData\\Local\\Temp\\ipykernel_15492\\451805436.py:1: FutureWarning: The series.append method is deprecated and will be removed from pandas in a future version. Use pandas.concat instead.\n",
      "  linguagem_serie = linguagem_serie.append(pd.Series('java'), ignore_index=True)\n"
     ]
    }
   ],
   "source": [
    "linguagem_serie = linguagem_serie.append(pd.Series('java'), ignore_index=True)"
   ]
  },
  {
   "cell_type": "code",
   "execution_count": 60,
   "metadata": {
    "ExecuteTime": {
     "end_time": "2022-05-14T16:51:31.681912Z",
     "start_time": "2022-05-14T16:51:31.670547Z"
    },
    "id": "PbLmkBtBNnus"
   },
   "outputs": [
    {
     "data": {
      "text/plain": [
       "0             go\n",
       "1     typescript\n",
       "2             go\n",
       "3            NaN\n",
       "4         python\n",
       "5     javascript\n",
       "6         python\n",
       "7         python\n",
       "8         python\n",
       "9            NaN\n",
       "10          java\n",
       "dtype: object"
      ]
     },
     "execution_count": 60,
     "metadata": {},
     "output_type": "execute_result"
    }
   ],
   "source": [
    "linguagem_serie"
   ]
  },
  {
   "cell_type": "markdown",
   "metadata": {
    "id": "bUB9ylHuN2rG"
   },
   "source": [
    "#### 3.1.2 Deleção "
   ]
  },
  {
   "cell_type": "markdown",
   "metadata": {
    "id": "tMakhpZBOlOS"
   },
   "source": [
    "*   **Exemplo**: Remoção de elementos com filtro funcional:"
   ]
  },
  {
   "cell_type": "code",
   "execution_count": 61,
   "metadata": {
    "ExecuteTime": {
     "end_time": "2022-05-14T16:51:31.697860Z",
     "start_time": "2022-05-14T16:51:31.683836Z"
    },
    "id": "AQJkyhOHOMtA"
   },
   "outputs": [],
   "source": [
    "linguagem_serie = linguagem_serie[lambda linguagem: linguagem != 'python']"
   ]
  },
  {
   "cell_type": "markdown",
   "metadata": {
    "id": "4YEeM0bHQPLY"
   },
   "source": [
    "#### 3.1.3 Atualização "
   ]
  },
  {
   "cell_type": "markdown",
   "metadata": {
    "id": "GM9HuwszQeBA"
   },
   "source": [
    "*   **Exemplo**: Atualização de elementos com indexação simples:"
   ]
  },
  {
   "cell_type": "code",
   "execution_count": 62,
   "metadata": {
    "ExecuteTime": {
     "end_time": "2022-05-14T16:51:31.713462Z",
     "start_time": "2022-05-14T16:51:31.700776Z"
    },
    "id": "UKOqx-xMQcz7"
   },
   "outputs": [],
   "source": [
    "linguagem_serie.loc[0] = 'Go'"
   ]
  },
  {
   "cell_type": "code",
   "execution_count": 63,
   "metadata": {
    "ExecuteTime": {
     "end_time": "2022-05-14T16:51:31.728405Z",
     "start_time": "2022-05-14T16:51:31.716374Z"
    },
    "id": "_G82hlrnQlAj"
   },
   "outputs": [
    {
     "data": {
      "text/plain": [
       "0             Go\n",
       "1     typescript\n",
       "2             go\n",
       "3            NaN\n",
       "5     javascript\n",
       "9            NaN\n",
       "10          java\n",
       "dtype: object"
      ]
     },
     "execution_count": 63,
     "metadata": {},
     "output_type": "execute_result"
    }
   ],
   "source": [
    "linguagem_serie"
   ]
  },
  {
   "cell_type": "markdown",
   "metadata": {
    "id": "_wwufN-BQoaL"
   },
   "source": [
    "*   **Exemplo**: Atualização de elementos com fatiamento ou *slicing*:"
   ]
  },
  {
   "cell_type": "code",
   "execution_count": 64,
   "metadata": {
    "ExecuteTime": {
     "end_time": "2022-05-14T16:51:31.744573Z",
     "start_time": "2022-05-14T16:51:31.731917Z"
    },
    "id": "VyY2zhOoQoaN"
   },
   "outputs": [],
   "source": [
    "linguagem_serie.loc[0:2] = pd.Series(['Go', 'Typescript', 'Go'])"
   ]
  },
  {
   "cell_type": "code",
   "execution_count": 65,
   "metadata": {
    "ExecuteTime": {
     "end_time": "2022-05-14T16:51:31.759708Z",
     "start_time": "2022-05-14T16:51:31.750010Z"
    },
    "id": "xtsTMdm1QoaO"
   },
   "outputs": [
    {
     "data": {
      "text/plain": [
       "0             Go\n",
       "1     Typescript\n",
       "2             Go\n",
       "3            NaN\n",
       "5     javascript\n",
       "9            NaN\n",
       "10          java\n",
       "dtype: object"
      ]
     },
     "execution_count": 65,
     "metadata": {},
     "output_type": "execute_result"
    }
   ],
   "source": [
    "linguagem_serie"
   ]
  },
  {
   "cell_type": "markdown",
   "metadata": {
    "id": "inQ16Lp-QPLZ"
   },
   "source": [
    "*   **Exemplo**: Atualização de elementos com filtro funcional:"
   ]
  },
  {
   "cell_type": "code",
   "execution_count": 66,
   "metadata": {
    "ExecuteTime": {
     "end_time": "2022-05-14T16:51:31.775684Z",
     "start_time": "2022-05-14T16:51:31.762726Z"
    },
    "id": "VVOTdQzaQPLa"
   },
   "outputs": [],
   "source": [
    "linguagem_serie[lambda linguagem: linguagem == 'python'] = 'Python'"
   ]
  },
  {
   "cell_type": "code",
   "execution_count": 67,
   "metadata": {
    "ExecuteTime": {
     "end_time": "2022-05-14T16:51:31.791631Z",
     "start_time": "2022-05-14T16:51:31.779669Z"
    },
    "id": "aOWzgPkVQXS8"
   },
   "outputs": [
    {
     "data": {
      "text/plain": [
       "0             Go\n",
       "1     Typescript\n",
       "2             Go\n",
       "3            NaN\n",
       "5     javascript\n",
       "9            NaN\n",
       "10          java\n",
       "dtype: object"
      ]
     },
     "execution_count": 67,
     "metadata": {},
     "output_type": "execute_result"
    }
   ],
   "source": [
    "linguagem_serie"
   ]
  },
  {
   "cell_type": "markdown",
   "metadata": {
    "id": "j611vH5T17VR"
   },
   "source": [
    "### **3.2. DataFrame** "
   ]
  },
  {
   "cell_type": "markdown",
   "metadata": {
    "id": "fNrHY7J417Ve"
   },
   "source": [
    "#### 3.1.1 Inserção "
   ]
  },
  {
   "cell_type": "markdown",
   "metadata": {
    "id": "_oYYwO3N17Ve"
   },
   "source": [
    "*   **Exemplo**: Adição de linhas com o método `append`:"
   ]
  },
  {
   "cell_type": "code",
   "execution_count": 68,
   "metadata": {
    "ExecuteTime": {
     "end_time": "2022-05-14T16:51:31.807576Z",
     "start_time": "2022-05-14T16:51:31.796613Z"
    },
    "id": "zuQqbatS3WSi"
   },
   "outputs": [],
   "source": [
    "projeto = dict(ranking=[11], project=['signoz'], language=['typescript'], stars=[2651], stars_today=[491], forks=[115])"
   ]
  },
  {
   "cell_type": "code",
   "execution_count": 69,
   "metadata": {
    "ExecuteTime": {
     "end_time": "2022-05-14T16:51:31.855053Z",
     "start_time": "2022-05-14T16:51:31.818539Z"
    },
    "id": "pVbfeSbBq8Th"
   },
   "outputs": [
    {
     "name": "stderr",
     "output_type": "stream",
     "text": [
      "C:\\Users\\felip\\AppData\\Local\\Temp\\ipykernel_15492\\2460481859.py:1: FutureWarning: The frame.append method is deprecated and will be removed from pandas in a future version. Use pandas.concat instead.\n",
      "  github_df.append(pd.DataFrame(projeto), ignore_index=True)\n"
     ]
    },
    {
     "data": {
      "text/html": [
       "<div>\n",
       "<style scoped>\n",
       "    .dataframe tbody tr th:only-of-type {\n",
       "        vertical-align: middle;\n",
       "    }\n",
       "\n",
       "    .dataframe tbody tr th {\n",
       "        vertical-align: top;\n",
       "    }\n",
       "\n",
       "    .dataframe thead th {\n",
       "        text-align: right;\n",
       "    }\n",
       "</style>\n",
       "<table border=\"1\" class=\"dataframe\">\n",
       "  <thead>\n",
       "    <tr style=\"text-align: right;\">\n",
       "      <th></th>\n",
       "      <th>ranking</th>\n",
       "      <th>project</th>\n",
       "      <th>language</th>\n",
       "      <th>stars</th>\n",
       "      <th>stars_today</th>\n",
       "      <th>forks</th>\n",
       "    </tr>\n",
       "  </thead>\n",
       "  <tbody>\n",
       "    <tr>\n",
       "      <th>0</th>\n",
       "      <td>1</td>\n",
       "      <td>plow</td>\n",
       "      <td>go</td>\n",
       "      <td>1304</td>\n",
       "      <td>574</td>\n",
       "      <td>38</td>\n",
       "    </tr>\n",
       "    <tr>\n",
       "      <th>1</th>\n",
       "      <td>2</td>\n",
       "      <td>n8n</td>\n",
       "      <td>typescript</td>\n",
       "      <td>15668</td>\n",
       "      <td>280</td>\n",
       "      <td>1370</td>\n",
       "    </tr>\n",
       "    <tr>\n",
       "      <th>2</th>\n",
       "      <td>3</td>\n",
       "      <td>slides</td>\n",
       "      <td>go</td>\n",
       "      <td>3218</td>\n",
       "      <td>265</td>\n",
       "      <td>80</td>\n",
       "    </tr>\n",
       "    <tr>\n",
       "      <th>3</th>\n",
       "      <td>4</td>\n",
       "      <td>defi-developer-road-map</td>\n",
       "      <td>NaN</td>\n",
       "      <td>636</td>\n",
       "      <td>247</td>\n",
       "      <td>49</td>\n",
       "    </tr>\n",
       "    <tr>\n",
       "      <th>4</th>\n",
       "      <td>5</td>\n",
       "      <td>pytorch-image-models</td>\n",
       "      <td>python</td>\n",
       "      <td>11065</td>\n",
       "      <td>101</td>\n",
       "      <td>1646</td>\n",
       "    </tr>\n",
       "    <tr>\n",
       "      <th>5</th>\n",
       "      <td>6</td>\n",
       "      <td>javascript-algorithms</td>\n",
       "      <td>javascript</td>\n",
       "      <td>110768</td>\n",
       "      <td>248</td>\n",
       "      <td>18331</td>\n",
       "    </tr>\n",
       "    <tr>\n",
       "      <th>6</th>\n",
       "      <td>7</td>\n",
       "      <td>paddleclas</td>\n",
       "      <td>python</td>\n",
       "      <td>1429</td>\n",
       "      <td>283</td>\n",
       "      <td>323</td>\n",
       "    </tr>\n",
       "    <tr>\n",
       "      <th>7</th>\n",
       "      <td>8</td>\n",
       "      <td>reddit_sentiment_trader</td>\n",
       "      <td>python</td>\n",
       "      <td>369</td>\n",
       "      <td>71</td>\n",
       "      <td>60</td>\n",
       "    </tr>\n",
       "    <tr>\n",
       "      <th>8</th>\n",
       "      <td>9</td>\n",
       "      <td>augly</td>\n",
       "      <td>python</td>\n",
       "      <td>2849</td>\n",
       "      <td>393</td>\n",
       "      <td>99</td>\n",
       "    </tr>\n",
       "    <tr>\n",
       "      <th>9</th>\n",
       "      <td>10</td>\n",
       "      <td>self-taught-guide-to-cloud-computing</td>\n",
       "      <td>NaN</td>\n",
       "      <td>863</td>\n",
       "      <td>179</td>\n",
       "      <td>84</td>\n",
       "    </tr>\n",
       "    <tr>\n",
       "      <th>10</th>\n",
       "      <td>11</td>\n",
       "      <td>signoz</td>\n",
       "      <td>typescript</td>\n",
       "      <td>2651</td>\n",
       "      <td>491</td>\n",
       "      <td>115</td>\n",
       "    </tr>\n",
       "  </tbody>\n",
       "</table>\n",
       "</div>"
      ],
      "text/plain": [
       "    ranking                               project    language   stars  \\\n",
       "0         1                                  plow          go    1304   \n",
       "1         2                                   n8n  typescript   15668   \n",
       "2         3                                slides          go    3218   \n",
       "3         4               defi-developer-road-map         NaN     636   \n",
       "4         5                  pytorch-image-models      python   11065   \n",
       "5         6                 javascript-algorithms  javascript  110768   \n",
       "6         7                            paddleclas      python    1429   \n",
       "7         8               reddit_sentiment_trader      python     369   \n",
       "8         9                                 augly      python    2849   \n",
       "9        10  self-taught-guide-to-cloud-computing         NaN     863   \n",
       "10       11                                signoz  typescript    2651   \n",
       "\n",
       "    stars_today  forks  \n",
       "0           574     38  \n",
       "1           280   1370  \n",
       "2           265     80  \n",
       "3           247     49  \n",
       "4           101   1646  \n",
       "5           248  18331  \n",
       "6           283    323  \n",
       "7            71     60  \n",
       "8           393     99  \n",
       "9           179     84  \n",
       "10          491    115  "
      ]
     },
     "execution_count": 69,
     "metadata": {},
     "output_type": "execute_result"
    }
   ],
   "source": [
    "github_df.append(pd.DataFrame(projeto), ignore_index=True)"
   ]
  },
  {
   "cell_type": "code",
   "execution_count": 70,
   "metadata": {
    "ExecuteTime": {
     "end_time": "2022-05-14T16:51:31.870576Z",
     "start_time": "2022-05-14T16:51:31.857347Z"
    },
    "id": "GWgVFyeBq94L"
   },
   "outputs": [
    {
     "data": {
      "text/html": [
       "<div>\n",
       "<style scoped>\n",
       "    .dataframe tbody tr th:only-of-type {\n",
       "        vertical-align: middle;\n",
       "    }\n",
       "\n",
       "    .dataframe tbody tr th {\n",
       "        vertical-align: top;\n",
       "    }\n",
       "\n",
       "    .dataframe thead th {\n",
       "        text-align: right;\n",
       "    }\n",
       "</style>\n",
       "<table border=\"1\" class=\"dataframe\">\n",
       "  <thead>\n",
       "    <tr style=\"text-align: right;\">\n",
       "      <th></th>\n",
       "      <th>ranking</th>\n",
       "      <th>project</th>\n",
       "      <th>language</th>\n",
       "      <th>stars</th>\n",
       "      <th>stars_today</th>\n",
       "      <th>forks</th>\n",
       "    </tr>\n",
       "  </thead>\n",
       "  <tbody>\n",
       "    <tr>\n",
       "      <th>0</th>\n",
       "      <td>1</td>\n",
       "      <td>plow</td>\n",
       "      <td>go</td>\n",
       "      <td>1304</td>\n",
       "      <td>574</td>\n",
       "      <td>38</td>\n",
       "    </tr>\n",
       "    <tr>\n",
       "      <th>1</th>\n",
       "      <td>2</td>\n",
       "      <td>n8n</td>\n",
       "      <td>typescript</td>\n",
       "      <td>15668</td>\n",
       "      <td>280</td>\n",
       "      <td>1370</td>\n",
       "    </tr>\n",
       "    <tr>\n",
       "      <th>2</th>\n",
       "      <td>3</td>\n",
       "      <td>slides</td>\n",
       "      <td>go</td>\n",
       "      <td>3218</td>\n",
       "      <td>265</td>\n",
       "      <td>80</td>\n",
       "    </tr>\n",
       "    <tr>\n",
       "      <th>3</th>\n",
       "      <td>4</td>\n",
       "      <td>defi-developer-road-map</td>\n",
       "      <td>NaN</td>\n",
       "      <td>636</td>\n",
       "      <td>247</td>\n",
       "      <td>49</td>\n",
       "    </tr>\n",
       "    <tr>\n",
       "      <th>4</th>\n",
       "      <td>5</td>\n",
       "      <td>pytorch-image-models</td>\n",
       "      <td>python</td>\n",
       "      <td>11065</td>\n",
       "      <td>101</td>\n",
       "      <td>1646</td>\n",
       "    </tr>\n",
       "    <tr>\n",
       "      <th>5</th>\n",
       "      <td>6</td>\n",
       "      <td>javascript-algorithms</td>\n",
       "      <td>javascript</td>\n",
       "      <td>110768</td>\n",
       "      <td>248</td>\n",
       "      <td>18331</td>\n",
       "    </tr>\n",
       "    <tr>\n",
       "      <th>6</th>\n",
       "      <td>7</td>\n",
       "      <td>paddleclas</td>\n",
       "      <td>python</td>\n",
       "      <td>1429</td>\n",
       "      <td>283</td>\n",
       "      <td>323</td>\n",
       "    </tr>\n",
       "    <tr>\n",
       "      <th>7</th>\n",
       "      <td>8</td>\n",
       "      <td>reddit_sentiment_trader</td>\n",
       "      <td>python</td>\n",
       "      <td>369</td>\n",
       "      <td>71</td>\n",
       "      <td>60</td>\n",
       "    </tr>\n",
       "    <tr>\n",
       "      <th>8</th>\n",
       "      <td>9</td>\n",
       "      <td>augly</td>\n",
       "      <td>python</td>\n",
       "      <td>2849</td>\n",
       "      <td>393</td>\n",
       "      <td>99</td>\n",
       "    </tr>\n",
       "    <tr>\n",
       "      <th>9</th>\n",
       "      <td>10</td>\n",
       "      <td>self-taught-guide-to-cloud-computing</td>\n",
       "      <td>NaN</td>\n",
       "      <td>863</td>\n",
       "      <td>179</td>\n",
       "      <td>84</td>\n",
       "    </tr>\n",
       "  </tbody>\n",
       "</table>\n",
       "</div>"
      ],
      "text/plain": [
       "   ranking                               project    language   stars  \\\n",
       "0        1                                  plow          go    1304   \n",
       "1        2                                   n8n  typescript   15668   \n",
       "2        3                                slides          go    3218   \n",
       "3        4               defi-developer-road-map         NaN     636   \n",
       "4        5                  pytorch-image-models      python   11065   \n",
       "5        6                 javascript-algorithms  javascript  110768   \n",
       "6        7                            paddleclas      python    1429   \n",
       "7        8               reddit_sentiment_trader      python     369   \n",
       "8        9                                 augly      python    2849   \n",
       "9       10  self-taught-guide-to-cloud-computing         NaN     863   \n",
       "\n",
       "   stars_today  forks  \n",
       "0          574     38  \n",
       "1          280   1370  \n",
       "2          265     80  \n",
       "3          247     49  \n",
       "4          101   1646  \n",
       "5          248  18331  \n",
       "6          283    323  \n",
       "7           71     60  \n",
       "8          393     99  \n",
       "9          179     84  "
      ]
     },
     "execution_count": 70,
     "metadata": {},
     "output_type": "execute_result"
    }
   ],
   "source": [
    "github_df"
   ]
  },
  {
   "cell_type": "code",
   "execution_count": 71,
   "metadata": {
    "ExecuteTime": {
     "end_time": "2022-05-14T16:51:31.900935Z",
     "start_time": "2022-05-14T16:51:31.872540Z"
    },
    "id": "0qwcKClP17Vf"
   },
   "outputs": [
    {
     "name": "stderr",
     "output_type": "stream",
     "text": [
      "C:\\Users\\felip\\AppData\\Local\\Temp\\ipykernel_15492\\4200653637.py:1: FutureWarning: The frame.append method is deprecated and will be removed from pandas in a future version. Use pandas.concat instead.\n",
      "  github_df = github_df.append(pd.DataFrame(projeto), ignore_index=True)\n"
     ]
    }
   ],
   "source": [
    "github_df = github_df.append(pd.DataFrame(projeto), ignore_index=True)"
   ]
  },
  {
   "cell_type": "code",
   "execution_count": 72,
   "metadata": {
    "ExecuteTime": {
     "end_time": "2022-05-14T16:51:31.916376Z",
     "start_time": "2022-05-14T16:51:31.903932Z"
    },
    "id": "J_24ezqS17Vf"
   },
   "outputs": [
    {
     "data": {
      "text/html": [
       "<div>\n",
       "<style scoped>\n",
       "    .dataframe tbody tr th:only-of-type {\n",
       "        vertical-align: middle;\n",
       "    }\n",
       "\n",
       "    .dataframe tbody tr th {\n",
       "        vertical-align: top;\n",
       "    }\n",
       "\n",
       "    .dataframe thead th {\n",
       "        text-align: right;\n",
       "    }\n",
       "</style>\n",
       "<table border=\"1\" class=\"dataframe\">\n",
       "  <thead>\n",
       "    <tr style=\"text-align: right;\">\n",
       "      <th></th>\n",
       "      <th>ranking</th>\n",
       "      <th>project</th>\n",
       "      <th>language</th>\n",
       "      <th>stars</th>\n",
       "      <th>stars_today</th>\n",
       "      <th>forks</th>\n",
       "    </tr>\n",
       "  </thead>\n",
       "  <tbody>\n",
       "    <tr>\n",
       "      <th>0</th>\n",
       "      <td>1</td>\n",
       "      <td>plow</td>\n",
       "      <td>go</td>\n",
       "      <td>1304</td>\n",
       "      <td>574</td>\n",
       "      <td>38</td>\n",
       "    </tr>\n",
       "    <tr>\n",
       "      <th>1</th>\n",
       "      <td>2</td>\n",
       "      <td>n8n</td>\n",
       "      <td>typescript</td>\n",
       "      <td>15668</td>\n",
       "      <td>280</td>\n",
       "      <td>1370</td>\n",
       "    </tr>\n",
       "    <tr>\n",
       "      <th>2</th>\n",
       "      <td>3</td>\n",
       "      <td>slides</td>\n",
       "      <td>go</td>\n",
       "      <td>3218</td>\n",
       "      <td>265</td>\n",
       "      <td>80</td>\n",
       "    </tr>\n",
       "    <tr>\n",
       "      <th>3</th>\n",
       "      <td>4</td>\n",
       "      <td>defi-developer-road-map</td>\n",
       "      <td>NaN</td>\n",
       "      <td>636</td>\n",
       "      <td>247</td>\n",
       "      <td>49</td>\n",
       "    </tr>\n",
       "    <tr>\n",
       "      <th>4</th>\n",
       "      <td>5</td>\n",
       "      <td>pytorch-image-models</td>\n",
       "      <td>python</td>\n",
       "      <td>11065</td>\n",
       "      <td>101</td>\n",
       "      <td>1646</td>\n",
       "    </tr>\n",
       "    <tr>\n",
       "      <th>5</th>\n",
       "      <td>6</td>\n",
       "      <td>javascript-algorithms</td>\n",
       "      <td>javascript</td>\n",
       "      <td>110768</td>\n",
       "      <td>248</td>\n",
       "      <td>18331</td>\n",
       "    </tr>\n",
       "    <tr>\n",
       "      <th>6</th>\n",
       "      <td>7</td>\n",
       "      <td>paddleclas</td>\n",
       "      <td>python</td>\n",
       "      <td>1429</td>\n",
       "      <td>283</td>\n",
       "      <td>323</td>\n",
       "    </tr>\n",
       "    <tr>\n",
       "      <th>7</th>\n",
       "      <td>8</td>\n",
       "      <td>reddit_sentiment_trader</td>\n",
       "      <td>python</td>\n",
       "      <td>369</td>\n",
       "      <td>71</td>\n",
       "      <td>60</td>\n",
       "    </tr>\n",
       "    <tr>\n",
       "      <th>8</th>\n",
       "      <td>9</td>\n",
       "      <td>augly</td>\n",
       "      <td>python</td>\n",
       "      <td>2849</td>\n",
       "      <td>393</td>\n",
       "      <td>99</td>\n",
       "    </tr>\n",
       "    <tr>\n",
       "      <th>9</th>\n",
       "      <td>10</td>\n",
       "      <td>self-taught-guide-to-cloud-computing</td>\n",
       "      <td>NaN</td>\n",
       "      <td>863</td>\n",
       "      <td>179</td>\n",
       "      <td>84</td>\n",
       "    </tr>\n",
       "    <tr>\n",
       "      <th>10</th>\n",
       "      <td>11</td>\n",
       "      <td>signoz</td>\n",
       "      <td>typescript</td>\n",
       "      <td>2651</td>\n",
       "      <td>491</td>\n",
       "      <td>115</td>\n",
       "    </tr>\n",
       "  </tbody>\n",
       "</table>\n",
       "</div>"
      ],
      "text/plain": [
       "    ranking                               project    language   stars  \\\n",
       "0         1                                  plow          go    1304   \n",
       "1         2                                   n8n  typescript   15668   \n",
       "2         3                                slides          go    3218   \n",
       "3         4               defi-developer-road-map         NaN     636   \n",
       "4         5                  pytorch-image-models      python   11065   \n",
       "5         6                 javascript-algorithms  javascript  110768   \n",
       "6         7                            paddleclas      python    1429   \n",
       "7         8               reddit_sentiment_trader      python     369   \n",
       "8         9                                 augly      python    2849   \n",
       "9        10  self-taught-guide-to-cloud-computing         NaN     863   \n",
       "10       11                                signoz  typescript    2651   \n",
       "\n",
       "    stars_today  forks  \n",
       "0           574     38  \n",
       "1           280   1370  \n",
       "2           265     80  \n",
       "3           247     49  \n",
       "4           101   1646  \n",
       "5           248  18331  \n",
       "6           283    323  \n",
       "7            71     60  \n",
       "8           393     99  \n",
       "9           179     84  \n",
       "10          491    115  "
      ]
     },
     "execution_count": 72,
     "metadata": {},
     "output_type": "execute_result"
    }
   ],
   "source": [
    "github_df"
   ]
  },
  {
   "cell_type": "markdown",
   "metadata": {
    "id": "WaYRDfOa17Vg"
   },
   "source": [
    "#### 3.1.2 Deleção "
   ]
  },
  {
   "cell_type": "markdown",
   "metadata": {
    "id": "lsHwn5YW17Vg"
   },
   "source": [
    "*   **Exemplo**: Remoção de linhas com o método `query`:"
   ]
  },
  {
   "cell_type": "code",
   "execution_count": 73,
   "metadata": {
    "ExecuteTime": {
     "end_time": "2022-05-14T16:51:31.947642Z",
     "start_time": "2022-05-14T16:51:31.917376Z"
    },
    "id": "_5KzgV2r17Vg"
   },
   "outputs": [
    {
     "data": {
      "text/html": [
       "<div>\n",
       "<style scoped>\n",
       "    .dataframe tbody tr th:only-of-type {\n",
       "        vertical-align: middle;\n",
       "    }\n",
       "\n",
       "    .dataframe tbody tr th {\n",
       "        vertical-align: top;\n",
       "    }\n",
       "\n",
       "    .dataframe thead th {\n",
       "        text-align: right;\n",
       "    }\n",
       "</style>\n",
       "<table border=\"1\" class=\"dataframe\">\n",
       "  <thead>\n",
       "    <tr style=\"text-align: right;\">\n",
       "      <th></th>\n",
       "      <th>ranking</th>\n",
       "      <th>project</th>\n",
       "      <th>language</th>\n",
       "      <th>stars</th>\n",
       "      <th>stars_today</th>\n",
       "      <th>forks</th>\n",
       "    </tr>\n",
       "  </thead>\n",
       "  <tbody>\n",
       "    <tr>\n",
       "      <th>0</th>\n",
       "      <td>1</td>\n",
       "      <td>plow</td>\n",
       "      <td>go</td>\n",
       "      <td>1304</td>\n",
       "      <td>574</td>\n",
       "      <td>38</td>\n",
       "    </tr>\n",
       "    <tr>\n",
       "      <th>1</th>\n",
       "      <td>2</td>\n",
       "      <td>n8n</td>\n",
       "      <td>typescript</td>\n",
       "      <td>15668</td>\n",
       "      <td>280</td>\n",
       "      <td>1370</td>\n",
       "    </tr>\n",
       "    <tr>\n",
       "      <th>2</th>\n",
       "      <td>3</td>\n",
       "      <td>slides</td>\n",
       "      <td>go</td>\n",
       "      <td>3218</td>\n",
       "      <td>265</td>\n",
       "      <td>80</td>\n",
       "    </tr>\n",
       "    <tr>\n",
       "      <th>3</th>\n",
       "      <td>4</td>\n",
       "      <td>defi-developer-road-map</td>\n",
       "      <td>NaN</td>\n",
       "      <td>636</td>\n",
       "      <td>247</td>\n",
       "      <td>49</td>\n",
       "    </tr>\n",
       "    <tr>\n",
       "      <th>4</th>\n",
       "      <td>5</td>\n",
       "      <td>pytorch-image-models</td>\n",
       "      <td>python</td>\n",
       "      <td>11065</td>\n",
       "      <td>101</td>\n",
       "      <td>1646</td>\n",
       "    </tr>\n",
       "    <tr>\n",
       "      <th>5</th>\n",
       "      <td>6</td>\n",
       "      <td>javascript-algorithms</td>\n",
       "      <td>javascript</td>\n",
       "      <td>110768</td>\n",
       "      <td>248</td>\n",
       "      <td>18331</td>\n",
       "    </tr>\n",
       "    <tr>\n",
       "      <th>6</th>\n",
       "      <td>7</td>\n",
       "      <td>paddleclas</td>\n",
       "      <td>python</td>\n",
       "      <td>1429</td>\n",
       "      <td>283</td>\n",
       "      <td>323</td>\n",
       "    </tr>\n",
       "    <tr>\n",
       "      <th>7</th>\n",
       "      <td>8</td>\n",
       "      <td>reddit_sentiment_trader</td>\n",
       "      <td>python</td>\n",
       "      <td>369</td>\n",
       "      <td>71</td>\n",
       "      <td>60</td>\n",
       "    </tr>\n",
       "    <tr>\n",
       "      <th>8</th>\n",
       "      <td>9</td>\n",
       "      <td>augly</td>\n",
       "      <td>python</td>\n",
       "      <td>2849</td>\n",
       "      <td>393</td>\n",
       "      <td>99</td>\n",
       "    </tr>\n",
       "    <tr>\n",
       "      <th>9</th>\n",
       "      <td>10</td>\n",
       "      <td>self-taught-guide-to-cloud-computing</td>\n",
       "      <td>NaN</td>\n",
       "      <td>863</td>\n",
       "      <td>179</td>\n",
       "      <td>84</td>\n",
       "    </tr>\n",
       "    <tr>\n",
       "      <th>10</th>\n",
       "      <td>11</td>\n",
       "      <td>signoz</td>\n",
       "      <td>typescript</td>\n",
       "      <td>2651</td>\n",
       "      <td>491</td>\n",
       "      <td>115</td>\n",
       "    </tr>\n",
       "  </tbody>\n",
       "</table>\n",
       "</div>"
      ],
      "text/plain": [
       "    ranking                               project    language   stars  \\\n",
       "0         1                                  plow          go    1304   \n",
       "1         2                                   n8n  typescript   15668   \n",
       "2         3                                slides          go    3218   \n",
       "3         4               defi-developer-road-map         NaN     636   \n",
       "4         5                  pytorch-image-models      python   11065   \n",
       "5         6                 javascript-algorithms  javascript  110768   \n",
       "6         7                            paddleclas      python    1429   \n",
       "7         8               reddit_sentiment_trader      python     369   \n",
       "8         9                                 augly      python    2849   \n",
       "9        10  self-taught-guide-to-cloud-computing         NaN     863   \n",
       "10       11                                signoz  typescript    2651   \n",
       "\n",
       "    stars_today  forks  \n",
       "0           574     38  \n",
       "1           280   1370  \n",
       "2           265     80  \n",
       "3           247     49  \n",
       "4           101   1646  \n",
       "5           248  18331  \n",
       "6           283    323  \n",
       "7            71     60  \n",
       "8           393     99  \n",
       "9           179     84  \n",
       "10          491    115  "
      ]
     },
     "execution_count": 73,
     "metadata": {},
     "output_type": "execute_result"
    }
   ],
   "source": [
    "github_df.query('language != \"Python\"')"
   ]
  },
  {
   "cell_type": "markdown",
   "metadata": {
    "id": "jVVopMlp17Vh"
   },
   "source": [
    "#### 3.1.3 Atualização "
   ]
  },
  {
   "cell_type": "markdown",
   "metadata": {
    "id": "aWD3-Vzr17Vh"
   },
   "source": [
    "*   **Exemplo**: Atualização de **um** elemento com o método `loc`:"
   ]
  },
  {
   "cell_type": "code",
   "execution_count": 74,
   "metadata": {
    "ExecuteTime": {
     "end_time": "2022-05-14T16:51:31.962799Z",
     "start_time": "2022-05-14T16:51:31.949843Z"
    },
    "id": "uBkSfRDXqDO7"
   },
   "outputs": [],
   "source": [
    "github_df.loc[0, 'language'] = 'go'"
   ]
  },
  {
   "cell_type": "code",
   "execution_count": 75,
   "metadata": {
    "ExecuteTime": {
     "end_time": "2022-05-14T16:51:31.992668Z",
     "start_time": "2022-05-14T16:51:31.965392Z"
    },
    "id": "AZ_meqgS17Vi"
   },
   "outputs": [
    {
     "data": {
      "text/html": [
       "<div>\n",
       "<style scoped>\n",
       "    .dataframe tbody tr th:only-of-type {\n",
       "        vertical-align: middle;\n",
       "    }\n",
       "\n",
       "    .dataframe tbody tr th {\n",
       "        vertical-align: top;\n",
       "    }\n",
       "\n",
       "    .dataframe thead th {\n",
       "        text-align: right;\n",
       "    }\n",
       "</style>\n",
       "<table border=\"1\" class=\"dataframe\">\n",
       "  <thead>\n",
       "    <tr style=\"text-align: right;\">\n",
       "      <th></th>\n",
       "      <th>ranking</th>\n",
       "      <th>project</th>\n",
       "      <th>language</th>\n",
       "      <th>stars</th>\n",
       "      <th>stars_today</th>\n",
       "      <th>forks</th>\n",
       "    </tr>\n",
       "  </thead>\n",
       "  <tbody>\n",
       "    <tr>\n",
       "      <th>0</th>\n",
       "      <td>1</td>\n",
       "      <td>plow</td>\n",
       "      <td>go</td>\n",
       "      <td>1304</td>\n",
       "      <td>574</td>\n",
       "      <td>38</td>\n",
       "    </tr>\n",
       "    <tr>\n",
       "      <th>1</th>\n",
       "      <td>2</td>\n",
       "      <td>n8n</td>\n",
       "      <td>typescript</td>\n",
       "      <td>15668</td>\n",
       "      <td>280</td>\n",
       "      <td>1370</td>\n",
       "    </tr>\n",
       "    <tr>\n",
       "      <th>2</th>\n",
       "      <td>3</td>\n",
       "      <td>slides</td>\n",
       "      <td>go</td>\n",
       "      <td>3218</td>\n",
       "      <td>265</td>\n",
       "      <td>80</td>\n",
       "    </tr>\n",
       "    <tr>\n",
       "      <th>3</th>\n",
       "      <td>4</td>\n",
       "      <td>defi-developer-road-map</td>\n",
       "      <td>NaN</td>\n",
       "      <td>636</td>\n",
       "      <td>247</td>\n",
       "      <td>49</td>\n",
       "    </tr>\n",
       "    <tr>\n",
       "      <th>4</th>\n",
       "      <td>5</td>\n",
       "      <td>pytorch-image-models</td>\n",
       "      <td>python</td>\n",
       "      <td>11065</td>\n",
       "      <td>101</td>\n",
       "      <td>1646</td>\n",
       "    </tr>\n",
       "    <tr>\n",
       "      <th>5</th>\n",
       "      <td>6</td>\n",
       "      <td>javascript-algorithms</td>\n",
       "      <td>javascript</td>\n",
       "      <td>110768</td>\n",
       "      <td>248</td>\n",
       "      <td>18331</td>\n",
       "    </tr>\n",
       "    <tr>\n",
       "      <th>6</th>\n",
       "      <td>7</td>\n",
       "      <td>paddleclas</td>\n",
       "      <td>python</td>\n",
       "      <td>1429</td>\n",
       "      <td>283</td>\n",
       "      <td>323</td>\n",
       "    </tr>\n",
       "    <tr>\n",
       "      <th>7</th>\n",
       "      <td>8</td>\n",
       "      <td>reddit_sentiment_trader</td>\n",
       "      <td>python</td>\n",
       "      <td>369</td>\n",
       "      <td>71</td>\n",
       "      <td>60</td>\n",
       "    </tr>\n",
       "    <tr>\n",
       "      <th>8</th>\n",
       "      <td>9</td>\n",
       "      <td>augly</td>\n",
       "      <td>python</td>\n",
       "      <td>2849</td>\n",
       "      <td>393</td>\n",
       "      <td>99</td>\n",
       "    </tr>\n",
       "    <tr>\n",
       "      <th>9</th>\n",
       "      <td>10</td>\n",
       "      <td>self-taught-guide-to-cloud-computing</td>\n",
       "      <td>NaN</td>\n",
       "      <td>863</td>\n",
       "      <td>179</td>\n",
       "      <td>84</td>\n",
       "    </tr>\n",
       "    <tr>\n",
       "      <th>10</th>\n",
       "      <td>11</td>\n",
       "      <td>signoz</td>\n",
       "      <td>typescript</td>\n",
       "      <td>2651</td>\n",
       "      <td>491</td>\n",
       "      <td>115</td>\n",
       "    </tr>\n",
       "  </tbody>\n",
       "</table>\n",
       "</div>"
      ],
      "text/plain": [
       "    ranking                               project    language   stars  \\\n",
       "0         1                                  plow          go    1304   \n",
       "1         2                                   n8n  typescript   15668   \n",
       "2         3                                slides          go    3218   \n",
       "3         4               defi-developer-road-map         NaN     636   \n",
       "4         5                  pytorch-image-models      python   11065   \n",
       "5         6                 javascript-algorithms  javascript  110768   \n",
       "6         7                            paddleclas      python    1429   \n",
       "7         8               reddit_sentiment_trader      python     369   \n",
       "8         9                                 augly      python    2849   \n",
       "9        10  self-taught-guide-to-cloud-computing         NaN     863   \n",
       "10       11                                signoz  typescript    2651   \n",
       "\n",
       "    stars_today  forks  \n",
       "0           574     38  \n",
       "1           280   1370  \n",
       "2           265     80  \n",
       "3           247     49  \n",
       "4           101   1646  \n",
       "5           248  18331  \n",
       "6           283    323  \n",
       "7            71     60  \n",
       "8           393     99  \n",
       "9           179     84  \n",
       "10          491    115  "
      ]
     },
     "execution_count": 75,
     "metadata": {},
     "output_type": "execute_result"
    }
   ],
   "source": [
    "github_df"
   ]
  },
  {
   "cell_type": "markdown",
   "metadata": {
    "id": "8nPYCMeM17Vi"
   },
   "source": [
    "*   **Exemplo**: Atualização de **diversos** elementos com o método `apply`:"
   ]
  },
  {
   "cell_type": "code",
   "execution_count": 76,
   "metadata": {
    "ExecuteTime": {
     "end_time": "2022-05-14T16:51:32.007608Z",
     "start_time": "2022-05-14T16:51:31.997642Z"
    },
    "id": "38d2dB0317Vi"
   },
   "outputs": [],
   "source": [
    "github_df['language'] = github_df['language'].apply(lambda linguagem: 'python' if linguagem == 'Python' else linguagem)"
   ]
  },
  {
   "cell_type": "code",
   "execution_count": 77,
   "metadata": {
    "ExecuteTime": {
     "end_time": "2022-05-14T16:51:32.022901Z",
     "start_time": "2022-05-14T16:51:32.011596Z"
    },
    "id": "fqy4o5lM17Vj"
   },
   "outputs": [
    {
     "data": {
      "text/html": [
       "<div>\n",
       "<style scoped>\n",
       "    .dataframe tbody tr th:only-of-type {\n",
       "        vertical-align: middle;\n",
       "    }\n",
       "\n",
       "    .dataframe tbody tr th {\n",
       "        vertical-align: top;\n",
       "    }\n",
       "\n",
       "    .dataframe thead th {\n",
       "        text-align: right;\n",
       "    }\n",
       "</style>\n",
       "<table border=\"1\" class=\"dataframe\">\n",
       "  <thead>\n",
       "    <tr style=\"text-align: right;\">\n",
       "      <th></th>\n",
       "      <th>ranking</th>\n",
       "      <th>project</th>\n",
       "      <th>language</th>\n",
       "      <th>stars</th>\n",
       "      <th>stars_today</th>\n",
       "      <th>forks</th>\n",
       "    </tr>\n",
       "  </thead>\n",
       "  <tbody>\n",
       "    <tr>\n",
       "      <th>0</th>\n",
       "      <td>1</td>\n",
       "      <td>plow</td>\n",
       "      <td>go</td>\n",
       "      <td>1304</td>\n",
       "      <td>574</td>\n",
       "      <td>38</td>\n",
       "    </tr>\n",
       "    <tr>\n",
       "      <th>1</th>\n",
       "      <td>2</td>\n",
       "      <td>n8n</td>\n",
       "      <td>typescript</td>\n",
       "      <td>15668</td>\n",
       "      <td>280</td>\n",
       "      <td>1370</td>\n",
       "    </tr>\n",
       "    <tr>\n",
       "      <th>2</th>\n",
       "      <td>3</td>\n",
       "      <td>slides</td>\n",
       "      <td>go</td>\n",
       "      <td>3218</td>\n",
       "      <td>265</td>\n",
       "      <td>80</td>\n",
       "    </tr>\n",
       "    <tr>\n",
       "      <th>3</th>\n",
       "      <td>4</td>\n",
       "      <td>defi-developer-road-map</td>\n",
       "      <td>NaN</td>\n",
       "      <td>636</td>\n",
       "      <td>247</td>\n",
       "      <td>49</td>\n",
       "    </tr>\n",
       "    <tr>\n",
       "      <th>4</th>\n",
       "      <td>5</td>\n",
       "      <td>pytorch-image-models</td>\n",
       "      <td>python</td>\n",
       "      <td>11065</td>\n",
       "      <td>101</td>\n",
       "      <td>1646</td>\n",
       "    </tr>\n",
       "    <tr>\n",
       "      <th>5</th>\n",
       "      <td>6</td>\n",
       "      <td>javascript-algorithms</td>\n",
       "      <td>javascript</td>\n",
       "      <td>110768</td>\n",
       "      <td>248</td>\n",
       "      <td>18331</td>\n",
       "    </tr>\n",
       "    <tr>\n",
       "      <th>6</th>\n",
       "      <td>7</td>\n",
       "      <td>paddleclas</td>\n",
       "      <td>python</td>\n",
       "      <td>1429</td>\n",
       "      <td>283</td>\n",
       "      <td>323</td>\n",
       "    </tr>\n",
       "    <tr>\n",
       "      <th>7</th>\n",
       "      <td>8</td>\n",
       "      <td>reddit_sentiment_trader</td>\n",
       "      <td>python</td>\n",
       "      <td>369</td>\n",
       "      <td>71</td>\n",
       "      <td>60</td>\n",
       "    </tr>\n",
       "    <tr>\n",
       "      <th>8</th>\n",
       "      <td>9</td>\n",
       "      <td>augly</td>\n",
       "      <td>python</td>\n",
       "      <td>2849</td>\n",
       "      <td>393</td>\n",
       "      <td>99</td>\n",
       "    </tr>\n",
       "    <tr>\n",
       "      <th>9</th>\n",
       "      <td>10</td>\n",
       "      <td>self-taught-guide-to-cloud-computing</td>\n",
       "      <td>NaN</td>\n",
       "      <td>863</td>\n",
       "      <td>179</td>\n",
       "      <td>84</td>\n",
       "    </tr>\n",
       "    <tr>\n",
       "      <th>10</th>\n",
       "      <td>11</td>\n",
       "      <td>signoz</td>\n",
       "      <td>typescript</td>\n",
       "      <td>2651</td>\n",
       "      <td>491</td>\n",
       "      <td>115</td>\n",
       "    </tr>\n",
       "  </tbody>\n",
       "</table>\n",
       "</div>"
      ],
      "text/plain": [
       "    ranking                               project    language   stars  \\\n",
       "0         1                                  plow          go    1304   \n",
       "1         2                                   n8n  typescript   15668   \n",
       "2         3                                slides          go    3218   \n",
       "3         4               defi-developer-road-map         NaN     636   \n",
       "4         5                  pytorch-image-models      python   11065   \n",
       "5         6                 javascript-algorithms  javascript  110768   \n",
       "6         7                            paddleclas      python    1429   \n",
       "7         8               reddit_sentiment_trader      python     369   \n",
       "8         9                                 augly      python    2849   \n",
       "9        10  self-taught-guide-to-cloud-computing         NaN     863   \n",
       "10       11                                signoz  typescript    2651   \n",
       "\n",
       "    stars_today  forks  \n",
       "0           574     38  \n",
       "1           280   1370  \n",
       "2           265     80  \n",
       "3           247     49  \n",
       "4           101   1646  \n",
       "5           248  18331  \n",
       "6           283    323  \n",
       "7            71     60  \n",
       "8           393     99  \n",
       "9           179     84  \n",
       "10          491    115  "
      ]
     },
     "execution_count": 77,
     "metadata": {},
     "output_type": "execute_result"
    }
   ],
   "source": [
    "github_df"
   ]
  }
 ],
 "metadata": {
  "colab": {
   "authorship_tag": "ABX9TyPFMpSLAwIAUfv5E6FsPlA6",
   "collapsed_sections": [],
   "name": "module_12_class.ipynb",
   "provenance": [],
   "toc_visible": true
  },
  "kernelspec": {
   "display_name": "Python 3 (ipykernel)",
   "language": "python",
   "name": "python3"
  },
  "language_info": {
   "codemirror_mode": {
    "name": "ipython",
    "version": 3
   },
   "file_extension": ".py",
   "mimetype": "text/x-python",
   "name": "python",
   "nbconvert_exporter": "python",
   "pygments_lexer": "ipython3",
   "version": "3.9.12"
  }
 },
 "nbformat": 4,
 "nbformat_minor": 1
}
